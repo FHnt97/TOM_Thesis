{
  "cells": [
    {
      "cell_type": "markdown",
      "metadata": {
        "id": "view-in-github",
        "colab_type": "text"
      },
      "source": [
        "<a href=\"https://colab.research.google.com/github/FHnt97/TOM_Thesis/blob/main/WLK_MMH_Debiasing_Classification_Algorithms.ipynb\" target=\"_parent\"><img src=\"https://colab.research.google.com/assets/colab-badge.svg\" alt=\"Open In Colab\"/></a>"
      ]
    },
    {
      "cell_type": "markdown",
      "metadata": {
        "id": "k47uXogQN7DK"
      },
      "source": [
        "# Fairness in Occupational Fatigue Detection\n",
        "    "
      ]
    },
    {
      "cell_type": "markdown",
      "source": [
        "# Content\n",
        "\n",
        "---"
      ],
      "metadata": {
        "id": "-iJiVuckU0TU"
      }
    },
    {
      "cell_type": "markdown",
      "metadata": {
        "id": "wUpGt6kungQT"
      },
      "source": [
        "\n",
        "- **Dataset**\n",
        "    - MMH & WLK datasets (merged)\n",
        "    - **Sensitive attribute**: age (in buckets of 10 years) & task\n",
        "    - The dataset has an unqeual sample size for both age and task groups. \n",
        "\n",
        "- **Domain**\n",
        "    - Operations management - fatigue detection \n",
        "\n",
        "- **ML task**\n",
        "    - SVM (rbf)\n",
        "    - RFC \n",
        "    - LinearClassifier\n",
        "\n",
        "- **Fairness tasks**\n",
        "    - Assessment of unfairness \n",
        "    - Mitigation of unfairness with a focus on equal **FALSE NEGATIVE RATE** and **SELECTION RATE**\n",
        "\n",
        "\n",
        "- **Model performance metrics**:\n",
        "    - Confusion matrix\n",
        "    - Recall, accuracy & precision\n",
        "    - ROC curve\n",
        "\n",
        "- **Model fairness metrics**:\n",
        "    - Equalized odds /  False negatives and False negative rate\n",
        "    - Selection Rate\n",
        "\n",
        "- **Mitigation algorithms**:\n",
        "\n",
        "*the objective is to reduce false negatives / make them equal (avoid burn out of employees)*\n",
        "\n",
        "    - Reweighting (aif360)\n",
        "    - Exponential gradient (fairlearn - postprocessing)\n",
        "    - ThresholdOptimizer (fairlearn - postprocessing)\n",
        "\n",
        "> NOTE: all models are trained unawarene of the sensitive attribue -- sensitive attributes are not inlcuded in training data: \n",
        "\n",
        "```\n",
        "    C=c(x, A) = c(X)\n",
        "```\n",
        "\n",
        "\n",
        "\n",
        "> HOWEVER: in Operations management, and especially in the measure of fatigue, physiological data is used for each participant, this can act as a proxy to the sensitive attribute. \n",
        "\n",
        "\n",
        "\n",
        "> NOTE: a FN means that someone who's stressed was not identifies and therefore recieved no support -- if stress/ fatigue is NOT detected when present, it can lead to dangerous situations for employees/ burnouts in the long term \n",
        "\n",
        "\n",
        "\n",
        "\n",
        "\n",
        "```\n",
        "# Nomeclature: \n",
        "\n",
        "X ∈ Rᵈ: quantified features of the applicant\n",
        "\n",
        "A ∈ {0, 1}: binary sensitive attribute gnder\n",
        "\n",
        "C :=c(X,A) ∈ {0,1}: binary predictor (stressed vs. ok), which makes decision based on a score R:=r(x, a) ∈ [0,1]\n",
        "\n",
        "Y ∈ {0, 1}: target variable\n",
        "\n",
        "```\n",
        "\n",
        "    \n"
      ]
    },
    {
      "cell_type": "markdown",
      "source": [
        "\n",
        "For ths final representation of the model a **MODEL CARD** will be presented. \n"
      ],
      "metadata": {
        "id": "u_N5BN1WRgCv"
      }
    },
    {
      "cell_type": "markdown",
      "source": [
        "# Base code\n",
        "------\n",
        "\n",
        "Using the work by [Maman et al. (2020)](https://zahrame.github.io/FatigueManagement.github.io/) as a base, we apply a fairness unaware model, namely **SVM (circular kernel), RF and a a generic lgm model (logistic regression).** \n",
        "\n",
        "\n",
        "> Note - decision trees are non-parametric supervised learning models for classigfication \n",
        "\n",
        "\n",
        "Lasso/ best subset selection methods were applied for feature selection, following the combinations with the highest accuracy in the [report](https://www.sciencedirect.com/science/article/pii/S0957417420302293) by Maman et al. (2020).\n",
        "Cross validation scores were taken to ensure the performance of the generic model for all participants.  "
      ],
      "metadata": {
        "id": "uDZdIJtAUx70"
      }
    },
    {
      "cell_type": "markdown",
      "source": [
        "### Libraries"
      ],
      "metadata": {
        "id": "VLxCfPjUVX7A"
      }
    },
    {
      "cell_type": "code",
      "execution_count": 1,
      "metadata": {
        "id": "vPdszu9IF3a4"
      },
      "outputs": [],
      "source": [
        "# importing general libraries\n",
        "import pandas as pd\n",
        "import numpy as np\n",
        "import matplotlib.pyplot as plt\n",
        "import seaborn as sns\n",
        "import sys\n",
        "from IPython import display\n",
        "from datetime import date"
      ]
    },
    {
      "cell_type": "code",
      "source": [
        "# !pip install model-card-toolkit\n",
        "!pip install --upgrade fairlearn==0.7.0\n",
        "!pip install fairml\n",
        "!pip install aif360"
      ],
      "metadata": {
        "id": "E7Q3FVI6nC9L"
      },
      "execution_count": null,
      "outputs": []
    },
    {
      "cell_type": "markdown",
      "metadata": {
        "id": "9wWNnWsNm9g4"
      },
      "source": [
        "### Data load and wrangling"
      ]
    },
    {
      "cell_type": "code",
      "execution_count": 3,
      "metadata": {
        "colab": {
          "base_uri": "https://localhost:8080/"
        },
        "id": "GfGiVocLTLJH",
        "outputId": "23b33372-cc73-47a6-cb1f-bfaaf7e97c66"
      },
      "outputs": [
        {
          "output_type": "stream",
          "name": "stdout",
          "text": [
            "Drive already mounted at /content/drive; to attempt to forcibly remount, call drive.mount(\"/content/drive\", force_remount=True).\n"
          ]
        }
      ],
      "source": [
        "# connect to drive\n",
        "from google.colab import drive\n",
        "drive.mount('/content/drive')"
      ]
    },
    {
      "cell_type": "code",
      "execution_count": 4,
      "metadata": {
        "id": "VSOXk2MLWi6Y"
      },
      "outputs": [],
      "source": [
        "# open csv datasets\n",
        "# if using collab use -->\n",
        "pathMMH = '/content/drive/MyDrive/00 - thesis/Code/Datasets/Fatigue-modeling-master/MMH_15p.csv'\n",
        "pathWLK = '/content/drive/MyDrive/00 - thesis/Code/Datasets/Fatigue-modeling-master/WLK_13p.csv'\n",
        "\n",
        "# if using the GitHub repo use -->\n",
        "# pathMMH = './Datasets/Fatigue-modeling-master/MMH_15p.csv'\n",
        "# pathWLK = './Datasets/Fatigue-modeling-master/WLK_13p.csv'\n",
        "\n",
        "df_MMH = pd.read_csv(pathMMH, sep=',')\n",
        "df_WLK = pd.read_csv(pathWLK, sep=',')"
      ]
    },
    {
      "cell_type": "code",
      "source": [
        "# make column names the same for both dfs\n",
        "df_MMH['fatiguestate'] = df_MMH['fatiguestate1']\n",
        "df_WLK['fatiguestate'] = df_WLK['Fatigue state']\n",
        "df_WLK['subject'] = df_WLK['subject'].apply(lambda x: x+'00')\n",
        "\n",
        "df_MMH.rename(columns = {'age':'Age', 'HRR-Mean': 'HRR.Mean', 'HRR-CV':'HRR.CV'}, inplace = True)\n",
        "df_MMH.columns = df_MMH.columns.str.replace('coefficient.of.variation', 'CV')\n",
        "\n",
        "df_MMH = df_MMH.drop(['fatiguestate1'], 1)\n",
        "df_WLK = df_WLK.drop(['Fatigue state'], 1)"
      ],
      "metadata": {
        "colab": {
          "base_uri": "https://localhost:8080/"
        },
        "id": "ZhItIWDC1oY0",
        "outputId": "8802e9f9-18ee-4d15-d3a8-6bfd0242b3da"
      },
      "execution_count": 5,
      "outputs": [
        {
          "output_type": "stream",
          "name": "stderr",
          "text": [
            "/usr/local/lib/python3.7/dist-packages/ipykernel_launcher.py:7: FutureWarning: The default value of regex will change from True to False in a future version.\n",
            "  import sys\n",
            "/usr/local/lib/python3.7/dist-packages/ipykernel_launcher.py:9: FutureWarning: In a future version of pandas all arguments of DataFrame.drop except for the argument 'labels' will be keyword-only\n",
            "  if __name__ == '__main__':\n",
            "/usr/local/lib/python3.7/dist-packages/ipykernel_launcher.py:10: FutureWarning: In a future version of pandas all arguments of DataFrame.drop except for the argument 'labels' will be keyword-only\n",
            "  # Remove the CWD from sys.path while we load stuff.\n"
          ]
        }
      ]
    },
    {
      "cell_type": "code",
      "source": [
        "# merge datasets\n",
        "df = pd.concat([df_MMH, df_WLK])"
      ],
      "metadata": {
        "id": "RPlZG32S02j5"
      },
      "execution_count": 6,
      "outputs": []
    },
    {
      "cell_type": "code",
      "source": [
        "df = df.dropna(axis='columns')"
      ],
      "metadata": {
        "id": "RAaDZSL12317"
      },
      "execution_count": 7,
      "outputs": []
    },
    {
      "cell_type": "code",
      "execution_count": 8,
      "metadata": {
        "colab": {
          "base_uri": "https://localhost:8080/"
        },
        "id": "fRfQRkZIn_ZG",
        "outputId": "08417b8a-20e8-403a-b836-1173404231ac"
      },
      "outputs": [
        {
          "output_type": "stream",
          "name": "stderr",
          "text": [
            "/usr/local/lib/python3.7/dist-packages/ipykernel_launcher.py:3: FutureWarning: In a future version of pandas all arguments of DataFrame.drop except for the argument 'labels' will be keyword-only\n",
            "  This is separate from the ipykernel package so we can avoid doing imports until\n"
          ]
        }
      ],
      "source": [
        "# delete:\n",
        "## fatiguestate (already in fatiguestate1); Unnamed (no critical information); gender (only available in one dataset)\n",
        "df = df.drop(['Unnamed: 0'],1)"
      ]
    },
    {
      "cell_type": "code",
      "source": [
        "df.task.unique()"
      ],
      "metadata": {
        "colab": {
          "base_uri": "https://localhost:8080/"
        },
        "id": "U4KB3YfR1gBo",
        "outputId": "d4391719-68d1-4f33-ddbc-c4b023b96404"
      },
      "execution_count": 9,
      "outputs": [
        {
          "output_type": "execute_result",
          "data": {
            "text/plain": [
              "array(['MMH', 'WLK'], dtype=object)"
            ]
          },
          "metadata": {},
          "execution_count": 9
        }
      ]
    },
    {
      "cell_type": "code",
      "execution_count": 10,
      "metadata": {
        "id": "wiV9scuJmelF"
      },
      "outputs": [],
      "source": [
        "# convert subject & task to numerical values \n",
        "df['subject'] = df['subject'].str.replace('P','')\n",
        "df['task'] = df['task'].str.replace('MMH', '1')\n",
        "df['task'] = df['task'].str.replace('WLK', '2')"
      ]
    },
    {
      "cell_type": "code",
      "execution_count": 11,
      "metadata": {
        "id": "R3UnJP0yvQ78",
        "colab": {
          "base_uri": "https://localhost:8080/",
          "height": 334
        },
        "outputId": "011f9440-a683-404d-8f8f-bf6b005fc6d4"
      },
      "outputs": [
        {
          "output_type": "execute_result",
          "data": {
            "text/plain": [
              "task\n",
              "1    AxesSubplot(0.125,0.125;0.775x0.755)\n",
              "2    AxesSubplot(0.125,0.125;0.775x0.755)\n",
              "Name: Age, dtype: object"
            ]
          },
          "metadata": {},
          "execution_count": 11
        },
        {
          "output_type": "display_data",
          "data": {
            "text/plain": [
              "<Figure size 432x288 with 1 Axes>"
            ],
            "image/png": "[encoded data removed]"
          },
          "metadata": {
            "needs_background": "light"
          }
        }
      ],
      "source": [
        "# check gender & age representation \n",
        "df.groupby('task').Age.plot(kind='kde')"
      ]
    },
    {
      "cell_type": "code",
      "execution_count": 12,
      "metadata": {
        "id": "O2wKJTlanhAH"
      },
      "outputs": [],
      "source": [
        "# bin age into groups to noramlize\n",
        "def custom_round(x, base):\n",
        "    return base * round(float(x)/10)\n",
        "\n",
        "df['Age'] = df.Age.apply(lambda x: custom_round(x, 10))"
      ]
    },
    {
      "cell_type": "code",
      "execution_count": 13,
      "metadata": {
        "colab": {
          "base_uri": "https://localhost:8080/",
          "height": 53
        },
        "id": "RPHQDIBHeTfu",
        "outputId": "1558a48f-01ba-4446-db14-b187e8d65d07"
      },
      "outputs": [
        {
          "output_type": "execute_result",
          "data": {
            "text/plain": [
              "'https://stackoverflow.com/questions/26414913/normalize-columns-of-pandas-data-frame'"
            ],
            "application/vnd.google.colaboratory.intrinsic+json": {
              "type": "string"
            }
          },
          "metadata": {},
          "execution_count": 13
        }
      ],
      "source": [
        "# for this dataset features are NOT normalised, as preprocessing of data has already peen carried out by the owners of the dataset. How this is done is described in detail in their code & paper cited above. \n",
        "# in case of wanting to normalise, I would suggest normalising only mean values - variation has already been pre-calculated, and so is the HHR values (% of total possible HR)\n",
        "# you can use (pandas or sklearn library 'preprocessing.MinMaxScaler'): \n",
        "# normalized_df=(df-df.min())/(df.max()-df.min())\n",
        "# normalized_df=(df-df.mean())/df.std()\n",
        "\n",
        "\n",
        "'''https://stackoverflow.com/questions/26414913/normalize-columns-of-pandas-data-frame'''"
      ]
    },
    {
      "cell_type": "markdown",
      "metadata": {
        "id": "oCarilhlnGei"
      },
      "source": [
        "### Exploratory analysis "
      ]
    },
    {
      "cell_type": "code",
      "source": [
        "# there are 18 entries per subject\n",
        "# get distributions \n",
        "df[\"Age\"].value_counts().plot(kind='bar', rot=45)"
      ],
      "metadata": {
        "colab": {
          "base_uri": "https://localhost:8080/",
          "height": 288
        },
        "id": "3vP4xF_ercaa",
        "outputId": "14f36917-1e9d-440b-c1fa-6ba7071c3b35"
      },
      "execution_count": 46,
      "outputs": [
        {
          "output_type": "execute_result",
          "data": {
            "text/plain": [
              "<matplotlib.axes._subplots.AxesSubplot at 0x7f143cae2890>"
            ]
          },
          "metadata": {},
          "execution_count": 46
        },
        {
          "output_type": "display_data",
          "data": {
            "text/plain": [
              "<Figure size 432x288 with 1 Axes>"
            ],
            "image/png": "[encoded data removed]"
          },
          "metadata": {
            "needs_background": "light"
          }
        }
      ]
    },
    {
      "cell_type": "code",
      "execution_count": 47,
      "metadata": {
        "id": "XyhGUjGcnFY5",
        "colab": {
          "base_uri": "https://localhost:8080/"
        },
        "outputId": "cbfe3120-fa66-434f-cfa1-d7d714ebd86b"
      },
      "outputs": [
        {
          "output_type": "stream",
          "name": "stderr",
          "text": [
            "/usr/local/lib/python3.7/dist-packages/ipykernel_launcher.py:2: FutureWarning: In a future version of pandas all arguments of DataFrame.drop except for the argument 'labels' will be keyword-only\n",
            "  \n"
          ]
        }
      ],
      "source": [
        "# drop subject as it is not relevant for analysis\n",
        "df_1 = df.drop(['subject'],1)"
      ]
    },
    {
      "cell_type": "code",
      "execution_count": 48,
      "metadata": {
        "id": "GbKhxFNDoeQG",
        "colab": {
          "base_uri": "https://localhost:8080/",
          "height": 593
        },
        "outputId": "9bff621a-23af-420a-8000-22bf792d00bc"
      },
      "outputs": [
        {
          "output_type": "stream",
          "name": "stderr",
          "text": [
            "/usr/local/lib/python3.7/dist-packages/seaborn/_decorators.py:43: FutureWarning: Pass the following variable as a keyword arg: x. From version 0.12, the only valid positional argument will be `data`, and passing other arguments without an explicit keyword will result in an error or misinterpretation.\n",
            "  FutureWarning\n",
            "/usr/local/lib/python3.7/dist-packages/seaborn/_decorators.py:43: FutureWarning: Pass the following variable as a keyword arg: x. From version 0.12, the only valid positional argument will be `data`, and passing other arguments without an explicit keyword will result in an error or misinterpretation.\n",
            "  FutureWarning\n",
            "/usr/local/lib/python3.7/dist-packages/seaborn/_decorators.py:43: FutureWarning: Pass the following variable as a keyword arg: x. From version 0.12, the only valid positional argument will be `data`, and passing other arguments without an explicit keyword will result in an error or misinterpretation.\n",
            "  FutureWarning\n"
          ]
        },
        {
          "output_type": "display_data",
          "data": {
            "text/plain": [
              "<Figure size 792x576 with 3 Axes>"
            ],
            "image/png": "[encoded data removed]"
          },
          "metadata": {
            "needs_background": "light"
          }
        }
      ],
      "source": [
        "# check sample distributions\n",
        "fig, ax = plt.subplots(1,3)\n",
        "fig.set_size_inches(11, 8)\n",
        "sns.countplot(df_1['Age'], ax=ax[0], hue=df_1.task)\n",
        "sns.countplot(df_1['task'], ax=ax[1])\n",
        "sns.countplot(df_1['fatiguestate'], ax=ax[2], hue=df_1.task)\n",
        "fig.show()"
      ]
    },
    {
      "cell_type": "markdown",
      "source": [
        "Task and fatigue state is well distributes in sample; age is not (1 participant has about 18 entries, there are only 2 participants in their 30s)"
      ],
      "metadata": {
        "id": "gSctVd9LPRUi"
      }
    },
    {
      "cell_type": "markdown",
      "metadata": {
        "id": "ntmFzgIE5VDP"
      },
      "source": [
        "Pairplots analysis not appropiate with the high number of attributes therefore deleted.\n"
      ]
    },
    {
      "cell_type": "code",
      "source": [
        "# define df with only attriutes that are needed & significant according to correlation analysis below\n",
        "df.columns\n",
        "cols = ['subject', 'task', 'Age', 'fatiguestate',  \n",
        "        'HRR.Mean', 'HRR.CV',\n",
        "        'Wrist.jerk.Mean', \n",
        "        'Ankle.jerk.Mean', 'Ankle.ACC.Mean', 'Ankle.xposture.Mean',\n",
        "        'number of steps', 'average step time', 'average step distance',\n",
        "        'time bent', \n",
        "        'mean hip osicllation', 'mean foot osicllation', \n",
        "        'leg rotational velocity sag plane', 'leg rotational position sag plane', \n",
        "        'Wrist.jerk.CV', 'Wrist.ACC.CV',\n",
        "        'Hip.jerk.CV', 'Hip.ACC.CV', 'Hip.yposture.CV']\n",
        "\n",
        "cols_rfc = ['subject', 'task', 'Age', 'fatiguestate', \n",
        "            'HRR.Mean', 'HRR.CV', \n",
        "            'Wrist.jerk.Mean', 'Ankle.xposture.Mean',\n",
        "            'average step time', \n",
        "            'leg rotational velocity sag plane',\n",
        "            'leg rotational position sag plane',\n",
        "            'Wrist.jerk.CV', 'Wrist.ACC.CV', \n",
        "            'Hip.ACC.CV']\n",
        "\n",
        "# for cross validation, we get better refults if we don't implement the rfc attributes only \n",
        "\n",
        "df = df[cols]"
      ],
      "metadata": {
        "id": "u9nzAW9-pfLk"
      },
      "execution_count": 49,
      "outputs": []
    },
    {
      "cell_type": "code",
      "source": [
        "# correlation analysis \n",
        "df_corr = pd.concat([df.drop('fatiguestate', axis=1), pd.get_dummies(df['fatiguestate'])], axis=1)\n",
        "corr = df_corr.corr()\n",
        "plt.figure(figsize=(16,10))\n",
        "sns.heatmap(corr,  cmap=\"YlGnBu\")"
      ],
      "metadata": {
        "colab": {
          "base_uri": "https://localhost:8080/",
          "height": 491
        },
        "id": "qVCBJVkZWx33",
        "outputId": "f49e3aa5-51e7-4718-8716-86f9e2676ece"
      },
      "execution_count": 19,
      "outputs": [
        {
          "output_type": "execute_result",
          "data": {
            "text/plain": [
              "<matplotlib.axes._subplots.AxesSubplot at 0x7f14426da7d0>"
            ]
          },
          "metadata": {},
          "execution_count": 19
        },
        {
          "output_type": "display_data",
          "data": {
            "text/plain": [
              "<Figure size 1152x720 with 2 Axes>"
            ],
            "image/png": "[encoded data removed]"
          },
          "metadata": {
            "needs_background": "light"
          }
        }
      ]
    },
    {
      "cell_type": "code",
      "source": [
        "# all features with a corr. under |0.05| are removed\n",
        "feats = df.columns[1:]\n",
        "\n",
        "df_corr = pd.concat([df[feats].drop('fatiguestate', axis=1), pd.get_dummies(df[feats]['fatiguestate'])], axis=1)\n",
        "corr = df_corr.corr()\n",
        "plt.figure(figsize=(10,8))\n",
        "sns.heatmap(corr[[0,1]], annot=True, cmap=\"YlGnBu\")"
      ],
      "metadata": {
        "colab": {
          "base_uri": "https://localhost:8080/",
          "height": 448
        },
        "id": "CgPkH8owXTrU",
        "outputId": "4890d3cc-326d-4c0d-8f05-e6c2b4cc2bdd"
      },
      "execution_count": 20,
      "outputs": [
        {
          "output_type": "execute_result",
          "data": {
            "text/plain": [
              "<matplotlib.axes._subplots.AxesSubplot at 0x7f1440511c90>"
            ]
          },
          "metadata": {},
          "execution_count": 20
        },
        {
          "output_type": "display_data",
          "data": {
            "text/plain": [
              "<Figure size 720x576 with 2 Axes>"
            ],
            "image/png": "[encoded data removed]"
          },
          "metadata": {
            "needs_background": "light"
          }
        }
      ]
    },
    {
      "cell_type": "markdown",
      "metadata": {
        "id": "Qm0kRPE6IQ3U"
      },
      "source": [
        "## Stress Model\n",
        "\n",
        "---\n"
      ]
    },
    {
      "cell_type": "markdown",
      "source": [
        "### Model set-up: libraries & helper functions"
      ],
      "metadata": {
        "id": "Tg5z9IXlxOiA"
      }
    },
    {
      "cell_type": "code",
      "execution_count": 21,
      "metadata": {
        "id": "IOt0wv0I2fxk"
      },
      "outputs": [],
      "source": [
        "# libraries for model selection \n",
        "from sklearn.model_selection import train_test_split\n",
        "\n",
        "from sklearn.model_selection import GridSearchCV\n",
        "from sklearn.model_selection import cross_val_score\n",
        "from sklearn.model_selection import GroupKFold\n",
        "from sklearn.model_selection import StratifiedShuffleSplit\n",
        "\n",
        "# models\n",
        "from sklearn.ensemble import RandomForestClassifier\n",
        "from sklearn.linear_model import LogisticRegression\n",
        "from sklearn.svm import SVC\n",
        "\n",
        "\n",
        "# libraries for feature selection\n",
        "from sklearn.feature_selection import SelectFromModel\n",
        "from sklearn.pipeline import Pipeline\n",
        "from sklearn.linear_model import Lasso\n",
        "from sklearn.preprocessing import StandardScaler\n",
        "from sklearn.utils import Bunch\n",
        "\n",
        "# libraries for metrics of models\n",
        "import sklearn.metrics as skm\n",
        "from sklearn.metrics import (\n",
        "    accuracy_score,\n",
        "    roc_curve, \n",
        "    auc,\n",
        "    plot_confusion_matrix,\n",
        "    classification_report,\n",
        "    balanced_accuracy_score,  \n",
        "    PrecisionRecallDisplay,\n",
        "    balanced_accuracy_score,\n",
        "    roc_auc_score,\n",
        "    recall_score,\n",
        "    confusion_matrix, ConfusionMatrixDisplay,\n",
        "    plot_roc_curve)\n",
        "\n",
        "from sklearn import set_config\n",
        "\n",
        "set_config(display=\"diagram\")"
      ]
    },
    {
      "cell_type": "markdown",
      "source": [
        "### Model set-up: test/train split "
      ],
      "metadata": {
        "id": "Ir5-ry5VxVdh"
      }
    },
    {
      "cell_type": "code",
      "execution_count": 22,
      "metadata": {
        "id": "kKRAgeAzpmMp"
      },
      "outputs": [],
      "source": [
        "# set test & train data & defining age as sensitive attribute\n",
        "X = df.drop(columns=['task', 'Age', 'fatiguestate'])\n",
        "y = df['fatiguestate']\n",
        "\n",
        "A = df[['Age', 'task']]\n",
        "task_str = A['task'].map({ 1:\"MMK\", 2:\"WLK\"})"
      ]
    },
    {
      "cell_type": "code",
      "execution_count": 23,
      "metadata": {
        "id": "ITQ86O3LeL7d"
      },
      "outputs": [],
      "source": [
        "# for fairnes measures (inlc. A for group classification, drop age to make it unaware to other senstive attributes (fairnes through unawarenes)) - AGE \n",
        "X_train, X_test, y_train, y_test, A_train, A_test, task_str_train, task_str_test = train_test_split(\n",
        "    X, \n",
        "    y, \n",
        "    A, \n",
        "    task_str,\n",
        "    test_size = 0.4, # increse number for more fairness \n",
        "    random_state=42)\n"
      ]
    },
    {
      "cell_type": "markdown",
      "metadata": {
        "id": "ll-yVqLPprKr"
      },
      "source": [
        "### Model set-up: defining classifiers"
      ]
    },
    {
      "cell_type": "code",
      "execution_count": 24,
      "metadata": {
        "id": "zyJx0HniBRDJ"
      },
      "outputs": [],
      "source": [
        "from numpy import random \n",
        "# set up model:\n",
        "classifiers = [RandomForestClassifier(n_estimators = 100, random_state = random.seed(123)),\n",
        "               LogisticRegression(random_state = 42),\n",
        "               SVC(kernel='rbf', C = 1000, gamma = 0.01, probability = True)]"
      ]
    },
    {
      "cell_type": "markdown",
      "source": [
        "#### RF feature selection - best subset"
      ],
      "metadata": {
        "id": "M5xAFGzqQT5x"
      }
    },
    {
      "cell_type": "code",
      "source": [
        "# feature selection Random Forest\n",
        "## 1. Best subset selection\n",
        "sel = SelectFromModel(RandomForestClassifier(n_estimators = 100))\n",
        "sel.fit(X_train, y_train)\n",
        "\n",
        "sel.get_support()\n",
        "\n",
        "selected_feat= X_train.columns[(sel.get_support())]\n",
        "print(len(selected_feat)) # --> provides 10 - in line with previous paper\n",
        "print(selected_feat)\n"
      ],
      "metadata": {
        "colab": {
          "base_uri": "https://localhost:8080/"
        },
        "id": "ATVVxhn3P8yn",
        "outputId": "65fe8f6d-5104-44a0-9c76-3eea5f563b49"
      },
      "execution_count": 25,
      "outputs": [
        {
          "output_type": "stream",
          "name": "stdout",
          "text": [
            "8\n",
            "Index(['HRR.Mean', 'HRR.CV', 'Wrist.jerk.Mean', 'average step time',\n",
            "       'leg rotational velocity sag plane',\n",
            "       'leg rotational position sag plane', 'Wrist.jerk.CV', 'Hip.ACC.CV'],\n",
            "      dtype='object')\n"
          ]
        }
      ]
    },
    {
      "cell_type": "code",
      "source": [
        "rfc = RandomForestClassifier(n_estimators=100, random_state=42)\n",
        "\n",
        "rfc.fit(X_train, y_train)\n",
        "\n",
        "features = list(X)\n",
        "\n",
        "pd.Series(rfc.feature_importances_, index=features).plot(kind='barh')\n",
        "\n",
        "# if needed adapt the list of columns used for the generic model"
      ],
      "metadata": {
        "colab": {
          "base_uri": "https://localhost:8080/",
          "height": 282
        },
        "id": "R7Q910r1QM-j",
        "outputId": "5495cec7-7a86-477c-831b-1c595df3e3d6"
      },
      "execution_count": 50,
      "outputs": [
        {
          "output_type": "execute_result",
          "data": {
            "text/plain": [
              "<matplotlib.axes._subplots.AxesSubplot at 0x7f143d0e4b10>"
            ]
          },
          "metadata": {},
          "execution_count": 50
        },
        {
          "output_type": "display_data",
          "data": {
            "text/plain": [
              "<Figure size 432x288 with 1 Axes>"
            ],
            "image/png": "[encoded data removed]"
          },
          "metadata": {
            "needs_background": "light"
          }
        }
      ]
    },
    {
      "cell_type": "markdown",
      "source": [
        "#### log reg feature selection - LASSO"
      ],
      "metadata": {
        "id": "evypBHEzQXOf"
      }
    },
    {
      "cell_type": "code",
      "source": [
        "# feature selection using LASSO - based on https://towardsdatascience.com/feature-selection-in-machine-learning-using-lasso-regression-7809c7c2771a#:~:text=How%20can%20we%20use%20it,its%20coefficient%20equal%20to%200.\n",
        "pipeline = Pipeline([('scaler',StandardScaler()),\n",
        "                     ('model',Lasso())\n",
        "                     ])\n",
        "\n",
        "search = GridSearchCV(pipeline,\n",
        "                      {'model__alpha':np.arange(0.1,10,0.1)},\n",
        "                      cv = 5, scoring=\"neg_mean_squared_error\",verbose=3\n",
        "                      )\n",
        "\n",
        "# run code below to re-fit -- blended out for computational easy of code\n",
        "'''search.fit(X_train,y_train)\n",
        "search.best_params_\n",
        "coefficients = search.best_estimator_.named_steps['model'].coef_'''\n",
        "\n",
        "# 'model__alpha': 0.2"
      ],
      "metadata": {
        "id": "30Lk2PQIQhg3"
      },
      "execution_count": 27,
      "outputs": []
    },
    {
      "cell_type": "code",
      "source": [
        "'''importance = np.abs(coefficients)\n",
        "np.array(features)[importance > 0]'''"
      ],
      "metadata": {
        "id": "wD9NdLxZTR1x"
      },
      "execution_count": 28,
      "outputs": []
    },
    {
      "cell_type": "markdown",
      "source": [
        "#### SVM param. selection"
      ],
      "metadata": {
        "id": "hDRBvHmZQcc6"
      }
    },
    {
      "cell_type": "code",
      "source": [
        "# run code below to re-fit -- blended out for computational easy of code\n",
        "'''C_range = np.logspace(-2, 10, 13)\n",
        "gamma_range = np.logspace(-9, 3, 13)\n",
        "param_grid = dict(gamma=gamma_range, C=C_range)\n",
        "cv = StratifiedShuffleSplit(n_splits=5, test_size=0.2, random_state=42)\n",
        "grid = GridSearchCV(SVC(), param_grid=param_grid, cv=cv)\n",
        "grid.fit(X, y)\n",
        "\n",
        "print(\"The best parameters are %s with a score of %0.2f\" \n",
        "      % (grid.best_params_, grid.best_score_))\n",
        "'''\n",
        "\n",
        "# The best parameters are {'C': 1000.0, 'gamma': 1e-05} with a score of 0.86"
      ],
      "metadata": {
        "id": "ClaD2MdUQiCa",
        "colab": {
          "base_uri": "https://localhost:8080/",
          "height": 105
        },
        "outputId": "41747b9a-f816-4fd7-9293-15bbd9eb2fae"
      },
      "execution_count": 29,
      "outputs": [
        {
          "output_type": "execute_result",
          "data": {
            "text/plain": [
              "'C_range = np.logspace(-2, 10, 13)\\ngamma_range = np.logspace(-9, 3, 13)\\nparam_grid = dict(gamma=gamma_range, C=C_range)\\ncv = StratifiedShuffleSplit(n_splits=5, test_size=0.2, random_state=42)\\ngrid = GridSearchCV(SVC(), param_grid=param_grid, cv=cv)\\ngrid.fit(X, y)\\n\\nprint(\"The best parameters are %s with a score of %0.2f\" \\n      % (grid.best_params_, grid.best_score_))\\n'"
            ],
            "application/vnd.google.colaboratory.intrinsic+json": {
              "type": "string"
            }
          },
          "metadata": {},
          "execution_count": 29
        }
      ]
    },
    {
      "cell_type": "markdown",
      "source": [
        "## Model evaluation\n",
        "-----"
      ],
      "metadata": {
        "id": "F7Uh8cAyQcFE"
      }
    },
    {
      "cell_type": "markdown",
      "source": [
        "### Model evaluation - confusion matrix test & train"
      ],
      "metadata": {
        "id": "e7c6sUh3xFeQ"
      }
    },
    {
      "cell_type": "code",
      "source": [
        "# test set\n",
        "fig, axes = plt.subplots(nrows=2, ncols=2, figsize=(8, 8))\n",
        "\n",
        "for cls, ax in zip(classifiers, axes.flatten()):\n",
        "    cls.fit(X_train, y_train)\n",
        "    plot_confusion_matrix(cls, \n",
        "                          X_test, \n",
        "                          y_test, \n",
        "                          ax=ax, \n",
        "                          cmap='YlGnBu')\n",
        "    ax.title.set_text(type(cls).__name__)\n",
        "plt.tight_layout()\n",
        "plt.show()"
      ],
      "metadata": {
        "id": "LVlaODtC6MW_",
        "colab": {
          "base_uri": "https://localhost:8080/",
          "height": 848
        },
        "outputId": "91d87e4b-47a7-4a30-916f-07321cea59de"
      },
      "execution_count": 30,
      "outputs": [
        {
          "output_type": "stream",
          "name": "stderr",
          "text": [
            "/usr/local/lib/python3.7/dist-packages/sklearn/utils/deprecation.py:87: FutureWarning: Function plot_confusion_matrix is deprecated; Function `plot_confusion_matrix` is deprecated in 1.0 and will be removed in 1.2. Use one of the class methods: ConfusionMatrixDisplay.from_predictions or ConfusionMatrixDisplay.from_estimator.\n",
            "  warnings.warn(msg, category=FutureWarning)\n",
            "/usr/local/lib/python3.7/dist-packages/sklearn/linear_model/_logistic.py:818: ConvergenceWarning: lbfgs failed to converge (status=1):\n",
            "STOP: TOTAL NO. of ITERATIONS REACHED LIMIT.\n",
            "\n",
            "Increase the number of iterations (max_iter) or scale the data as shown in:\n",
            "    https://scikit-learn.org/stable/modules/preprocessing.html\n",
            "Please also refer to the documentation for alternative solver options:\n",
            "    https://scikit-learn.org/stable/modules/linear_model.html#logistic-regression\n",
            "  extra_warning_msg=_LOGISTIC_SOLVER_CONVERGENCE_MSG,\n",
            "/usr/local/lib/python3.7/dist-packages/sklearn/utils/deprecation.py:87: FutureWarning: Function plot_confusion_matrix is deprecated; Function `plot_confusion_matrix` is deprecated in 1.0 and will be removed in 1.2. Use one of the class methods: ConfusionMatrixDisplay.from_predictions or ConfusionMatrixDisplay.from_estimator.\n",
            "  warnings.warn(msg, category=FutureWarning)\n",
            "/usr/local/lib/python3.7/dist-packages/sklearn/utils/deprecation.py:87: FutureWarning: Function plot_confusion_matrix is deprecated; Function `plot_confusion_matrix` is deprecated in 1.0 and will be removed in 1.2. Use one of the class methods: ConfusionMatrixDisplay.from_predictions or ConfusionMatrixDisplay.from_estimator.\n",
            "  warnings.warn(msg, category=FutureWarning)\n"
          ]
        },
        {
          "output_type": "display_data",
          "data": {
            "text/plain": [
              "<Figure size 576x576 with 7 Axes>"
            ],
            "image/png": "[encoded data removed]"
          },
          "metadata": {
            "needs_background": "light"
          }
        }
      ]
    },
    {
      "cell_type": "code",
      "source": [
        "# double check with train set\n",
        "fig, axes = plt.subplots(nrows=2, ncols=2, figsize=(8, 8))\n",
        "\n",
        "for cls, ax in zip(classifiers, axes.flatten()):\n",
        "    cls.fit(X_train, y_train)\n",
        "    plot_confusion_matrix(cls, \n",
        "                          X_train, \n",
        "                          y_train, \n",
        "                          ax=ax, \n",
        "                          cmap='YlGnBu')\n",
        "    ax.title.set_text(type(cls).__name__)\n",
        "plt.tight_layout()\n",
        "plt.show()"
      ],
      "metadata": {
        "id": "AGwwhVgJ6tgH",
        "colab": {
          "base_uri": "https://localhost:8080/",
          "height": 848
        },
        "outputId": "38fd3491-ac53-4341-dc7f-a293bb0c837f"
      },
      "execution_count": 31,
      "outputs": [
        {
          "output_type": "stream",
          "name": "stderr",
          "text": [
            "/usr/local/lib/python3.7/dist-packages/sklearn/utils/deprecation.py:87: FutureWarning: Function plot_confusion_matrix is deprecated; Function `plot_confusion_matrix` is deprecated in 1.0 and will be removed in 1.2. Use one of the class methods: ConfusionMatrixDisplay.from_predictions or ConfusionMatrixDisplay.from_estimator.\n",
            "  warnings.warn(msg, category=FutureWarning)\n",
            "/usr/local/lib/python3.7/dist-packages/sklearn/linear_model/_logistic.py:818: ConvergenceWarning: lbfgs failed to converge (status=1):\n",
            "STOP: TOTAL NO. of ITERATIONS REACHED LIMIT.\n",
            "\n",
            "Increase the number of iterations (max_iter) or scale the data as shown in:\n",
            "    https://scikit-learn.org/stable/modules/preprocessing.html\n",
            "Please also refer to the documentation for alternative solver options:\n",
            "    https://scikit-learn.org/stable/modules/linear_model.html#logistic-regression\n",
            "  extra_warning_msg=_LOGISTIC_SOLVER_CONVERGENCE_MSG,\n",
            "/usr/local/lib/python3.7/dist-packages/sklearn/utils/deprecation.py:87: FutureWarning: Function plot_confusion_matrix is deprecated; Function `plot_confusion_matrix` is deprecated in 1.0 and will be removed in 1.2. Use one of the class methods: ConfusionMatrixDisplay.from_predictions or ConfusionMatrixDisplay.from_estimator.\n",
            "  warnings.warn(msg, category=FutureWarning)\n",
            "/usr/local/lib/python3.7/dist-packages/sklearn/utils/deprecation.py:87: FutureWarning: Function plot_confusion_matrix is deprecated; Function `plot_confusion_matrix` is deprecated in 1.0 and will be removed in 1.2. Use one of the class methods: ConfusionMatrixDisplay.from_predictions or ConfusionMatrixDisplay.from_estimator.\n",
            "  warnings.warn(msg, category=FutureWarning)\n"
          ]
        },
        {
          "output_type": "display_data",
          "data": {
            "text/plain": [
              "<Figure size 576x576 with 7 Axes>"
            ],
            "image/png": "[encoded data removed]"
          },
          "metadata": {
            "needs_background": "light"
          }
        }
      ]
    },
    {
      "cell_type": "markdown",
      "source": [
        "### Model evaluation - cross validation scores"
      ],
      "metadata": {
        "id": "5JttfxDoxAX3"
      }
    },
    {
      "cell_type": "code",
      "execution_count": 32,
      "metadata": {
        "id": "jVIZ9WUepzOS",
        "colab": {
          "base_uri": "https://localhost:8080/"
        },
        "outputId": "4bfd1ace-a0ee-4ea2-8f9b-c3f02a3145bc"
      },
      "outputs": [
        {
          "output_type": "stream",
          "name": "stdout",
          "text": [
            "RandomForestClassifier()  \n",
            " CV: 0.6135294117647059 \n",
            "\n"
          ]
        },
        {
          "output_type": "stream",
          "name": "stderr",
          "text": [
            "/usr/local/lib/python3.7/dist-packages/sklearn/linear_model/_logistic.py:818: ConvergenceWarning: lbfgs failed to converge (status=1):\n",
            "STOP: TOTAL NO. of ITERATIONS REACHED LIMIT.\n",
            "\n",
            "Increase the number of iterations (max_iter) or scale the data as shown in:\n",
            "    https://scikit-learn.org/stable/modules/preprocessing.html\n",
            "Please also refer to the documentation for alternative solver options:\n",
            "    https://scikit-learn.org/stable/modules/linear_model.html#logistic-regression\n",
            "  extra_warning_msg=_LOGISTIC_SOLVER_CONVERGENCE_MSG,\n",
            "/usr/local/lib/python3.7/dist-packages/sklearn/linear_model/_logistic.py:818: ConvergenceWarning: lbfgs failed to converge (status=1):\n",
            "STOP: TOTAL NO. of ITERATIONS REACHED LIMIT.\n",
            "\n",
            "Increase the number of iterations (max_iter) or scale the data as shown in:\n",
            "    https://scikit-learn.org/stable/modules/preprocessing.html\n",
            "Please also refer to the documentation for alternative solver options:\n",
            "    https://scikit-learn.org/stable/modules/linear_model.html#logistic-regression\n",
            "  extra_warning_msg=_LOGISTIC_SOLVER_CONVERGENCE_MSG,\n",
            "/usr/local/lib/python3.7/dist-packages/sklearn/linear_model/_logistic.py:818: ConvergenceWarning: lbfgs failed to converge (status=1):\n",
            "STOP: TOTAL NO. of ITERATIONS REACHED LIMIT.\n",
            "\n",
            "Increase the number of iterations (max_iter) or scale the data as shown in:\n",
            "    https://scikit-learn.org/stable/modules/preprocessing.html\n",
            "Please also refer to the documentation for alternative solver options:\n",
            "    https://scikit-learn.org/stable/modules/linear_model.html#logistic-regression\n",
            "  extra_warning_msg=_LOGISTIC_SOLVER_CONVERGENCE_MSG,\n",
            "/usr/local/lib/python3.7/dist-packages/sklearn/linear_model/_logistic.py:818: ConvergenceWarning: lbfgs failed to converge (status=1):\n",
            "STOP: TOTAL NO. of ITERATIONS REACHED LIMIT.\n",
            "\n",
            "Increase the number of iterations (max_iter) or scale the data as shown in:\n",
            "    https://scikit-learn.org/stable/modules/preprocessing.html\n",
            "Please also refer to the documentation for alternative solver options:\n",
            "    https://scikit-learn.org/stable/modules/linear_model.html#logistic-regression\n",
            "  extra_warning_msg=_LOGISTIC_SOLVER_CONVERGENCE_MSG,\n",
            "/usr/local/lib/python3.7/dist-packages/sklearn/linear_model/_logistic.py:818: ConvergenceWarning: lbfgs failed to converge (status=1):\n",
            "STOP: TOTAL NO. of ITERATIONS REACHED LIMIT.\n",
            "\n",
            "Increase the number of iterations (max_iter) or scale the data as shown in:\n",
            "    https://scikit-learn.org/stable/modules/preprocessing.html\n",
            "Please also refer to the documentation for alternative solver options:\n",
            "    https://scikit-learn.org/stable/modules/linear_model.html#logistic-regression\n",
            "  extra_warning_msg=_LOGISTIC_SOLVER_CONVERGENCE_MSG,\n"
          ]
        },
        {
          "output_type": "stream",
          "name": "stdout",
          "text": [
            "LogisticRegression(random_state=42)  \n",
            " CV: 0.6194117647058823 \n",
            "\n",
            "SVC(C=1000, gamma=0.01, probability=True)  \n",
            " CV: 0.5298039215686274 \n",
            "\n"
          ]
        }
      ],
      "source": [
        "# train model, get accuracies and CV\n",
        "groups = X_test['subject']\n",
        "gkf = GroupKFold(n_splits=4)\n",
        "\n",
        "for model in classifiers:\n",
        "  model.fit(X_train, y_train)\n",
        "  y_pred = model.predict(X_test)\n",
        "  scores = cross_val_score(model, X_test, y_test, cv=gkf, groups=groups, scoring='accuracy')\n",
        "  print (f'{model}  {chr(10)} CV: {scores.mean()} {chr(10)}')"
      ]
    },
    {
      "cell_type": "markdown",
      "source": [
        "### Model evaluation - classification report (precision, recall, f1, support, accuracy)\n",
        "> Note: Accuracy, recall & precision are not called for when usign Decision Tree models."
      ],
      "metadata": {
        "id": "4UGDE8RSw6K_"
      }
    },
    {
      "cell_type": "code",
      "source": [
        "for model in classifiers:\n",
        "  model.fit(X_train, y_train)\n",
        "  y_pred = model.predict(X_test)\n",
        "  print(f'{model}: {chr(10)} {classification_report(y_test, y_pred)}')"
      ],
      "metadata": {
        "id": "6C4yNdlw60hP",
        "colab": {
          "base_uri": "https://localhost:8080/"
        },
        "outputId": "45734561-1eda-4279-b373-f76e6f57cd91"
      },
      "execution_count": 33,
      "outputs": [
        {
          "output_type": "stream",
          "name": "stdout",
          "text": [
            "RandomForestClassifier(): \n",
            "               precision    recall  f1-score   support\n",
            "\n",
            "           0       0.87      0.88      0.87        96\n",
            "           1       0.89      0.88      0.88       106\n",
            "\n",
            "    accuracy                           0.88       202\n",
            "   macro avg       0.88      0.88      0.88       202\n",
            "weighted avg       0.88      0.88      0.88       202\n",
            "\n",
            "LogisticRegression(random_state=42): \n",
            "               precision    recall  f1-score   support\n",
            "\n",
            "           0       0.65      0.75      0.70        96\n",
            "           1       0.74      0.64      0.69       106\n",
            "\n",
            "    accuracy                           0.69       202\n",
            "   macro avg       0.70      0.70      0.69       202\n",
            "weighted avg       0.70      0.69      0.69       202\n",
            "\n",
            "SVC(C=1000, gamma=0.01, probability=True): \n",
            "               precision    recall  f1-score   support\n",
            "\n",
            "           0       0.56      0.96      0.71        96\n",
            "           1       0.90      0.33      0.48       106\n",
            "\n",
            "    accuracy                           0.63       202\n",
            "   macro avg       0.73      0.64      0.60       202\n",
            "weighted avg       0.74      0.63      0.59       202\n",
            "\n"
          ]
        },
        {
          "output_type": "stream",
          "name": "stderr",
          "text": [
            "/usr/local/lib/python3.7/dist-packages/sklearn/linear_model/_logistic.py:818: ConvergenceWarning: lbfgs failed to converge (status=1):\n",
            "STOP: TOTAL NO. of ITERATIONS REACHED LIMIT.\n",
            "\n",
            "Increase the number of iterations (max_iter) or scale the data as shown in:\n",
            "    https://scikit-learn.org/stable/modules/preprocessing.html\n",
            "Please also refer to the documentation for alternative solver options:\n",
            "    https://scikit-learn.org/stable/modules/linear_model.html#logistic-regression\n",
            "  extra_warning_msg=_LOGISTIC_SOLVER_CONVERGENCE_MSG,\n"
          ]
        }
      ]
    },
    {
      "cell_type": "markdown",
      "source": [
        "### Model evaluation - precision/ recall"
      ],
      "metadata": {
        "id": "7qdM9s_Vw2x_"
      }
    },
    {
      "cell_type": "code",
      "source": [
        "for model in classifiers:\n",
        "  model.fit(X_train, y_train)\n",
        "  y_pred = model.predict(X_test)\n",
        "  display = PrecisionRecallDisplay.from_estimator(model, X_test, y_test, name=\"rfc\")\n",
        "  _ = display.ax_.set_title(f'Precision-Recall curve: {model}')"
      ],
      "metadata": {
        "id": "KZgnhiVjnfpX",
        "colab": {
          "base_uri": "https://localhost:8080/",
          "height": 1000
        },
        "outputId": "25ae98d0-ba15-43b2-a4eb-fb7e0a954281"
      },
      "execution_count": 34,
      "outputs": [
        {
          "output_type": "stream",
          "name": "stderr",
          "text": [
            "/usr/local/lib/python3.7/dist-packages/sklearn/linear_model/_logistic.py:818: ConvergenceWarning: lbfgs failed to converge (status=1):\n",
            "STOP: TOTAL NO. of ITERATIONS REACHED LIMIT.\n",
            "\n",
            "Increase the number of iterations (max_iter) or scale the data as shown in:\n",
            "    https://scikit-learn.org/stable/modules/preprocessing.html\n",
            "Please also refer to the documentation for alternative solver options:\n",
            "    https://scikit-learn.org/stable/modules/linear_model.html#logistic-regression\n",
            "  extra_warning_msg=_LOGISTIC_SOLVER_CONVERGENCE_MSG,\n"
          ]
        },
        {
          "output_type": "display_data",
          "data": {
            "text/plain": [
              "<Figure size 432x288 with 1 Axes>"
            ],
            "image/png": "[encoded data removed]"
          },
          "metadata": {
            "needs_background": "light"
          }
        },
        {
          "output_type": "display_data",
          "data": {
            "text/plain": [
              "<Figure size 432x288 with 1 Axes>"
            ],
            "image/png": "[encoded data removed]"
          },
          "metadata": {
            "needs_background": "light"
          }
        },
        {
          "output_type": "display_data",
          "data": {
            "text/plain": [
              "<Figure size 432x288 with 1 Axes>"
            ],
            "image/png": "[encoded data removed]"
          },
          "metadata": {
            "needs_background": "light"
          }
        }
      ]
    },
    {
      "cell_type": "markdown",
      "source": [
        "### Model evaluation - ROC"
      ],
      "metadata": {
        "id": "opSvMxP4wxm4"
      }
    },
    {
      "cell_type": "code",
      "source": [
        "# scores on test set\n",
        "for model in classifiers:\n",
        "  model.fit(X_train, y_train)\n",
        "  y_pred = model.predict(X_test)\n",
        "\n",
        "  # scores on test set\n",
        "  y_pred = model.predict_proba(X_test)[:, 1]\n",
        "  fpr, tpr, _ = roc_curve(y_test,  y_pred)\n",
        "  ax = (\n",
        "      pd.DataFrame(tpr, index=fpr)\n",
        "      .plot(legend=False, title=('ROC Curve: %f' % auc(fpr, tpr)))\n",
        "  )\n",
        "  ax.plot([(0,0), (1,1)], 'r--')\n",
        "  ax.set_xlabel('FPR')\n",
        "  ax.set_ylabel('TPR')"
      ],
      "metadata": {
        "id": "AVLgQlDqf1W3",
        "colab": {
          "base_uri": "https://localhost:8080/",
          "height": 1000
        },
        "outputId": "cfa60b02-9f2b-4496-d634-837ecb57750a"
      },
      "execution_count": 35,
      "outputs": [
        {
          "output_type": "stream",
          "name": "stderr",
          "text": [
            "/usr/local/lib/python3.7/dist-packages/sklearn/linear_model/_logistic.py:818: ConvergenceWarning: lbfgs failed to converge (status=1):\n",
            "STOP: TOTAL NO. of ITERATIONS REACHED LIMIT.\n",
            "\n",
            "Increase the number of iterations (max_iter) or scale the data as shown in:\n",
            "    https://scikit-learn.org/stable/modules/preprocessing.html\n",
            "Please also refer to the documentation for alternative solver options:\n",
            "    https://scikit-learn.org/stable/modules/linear_model.html#logistic-regression\n",
            "  extra_warning_msg=_LOGISTIC_SOLVER_CONVERGENCE_MSG,\n"
          ]
        },
        {
          "output_type": "display_data",
          "data": {
            "text/plain": [
              "<Figure size 432x288 with 1 Axes>"
            ],
            "image/png": "[encoded data removed]"
          },
          "metadata": {
            "needs_background": "light"
          }
        },
        {
          "output_type": "display_data",
          "data": {
            "text/plain": [
              "<Figure size 432x288 with 1 Axes>"
            ],
            "image/png": "[encoded data removed]"
          },
          "metadata": {
            "needs_background": "light"
          }
        },
        {
          "output_type": "display_data",
          "data": {
            "text/plain": [
              "<Figure size 432x288 with 1 Axes>"
            ],
            "image/png": "[encoded data removed]"
          },
          "metadata": {
            "needs_background": "light"
          }
        }
      ]
    },
    {
      "cell_type": "markdown",
      "metadata": {
        "id": "AbDywt6eIVhd"
      },
      "source": [
        "## Fairness Measure\n",
        "\n",
        "---\n",
        "\n"
      ]
    },
    {
      "cell_type": "markdown",
      "source": [
        "We aim to check:\n",
        "- **Equalised odds** (we want to ensure that the number of false negatives is equally low; we need to reduce false positives which can be costly (variable is not subjective anyways))\n",
        "- **balance for negative class**\n",
        "- **dispartities between exact groups**\n",
        "\n",
        "\n",
        "We aim for group fairness - participants with similar characteristics should be treated similarily.\n",
        "\n",
        "\n",
        "CONSIDER:\n",
        "1. disaggregated evaluations - evaluating perfromance with respect to different subgroups (age/ task)\n",
        "\n",
        "\n",
        "\n",
        "---\n",
        "<br>\n",
        "\n",
        "For supervised classification --> output should be the same accross sensitive characterisitcs - bias if the decision changes after beig exposed to additioanl sensitve feature inputs \n",
        "<br>\n"
      ],
      "metadata": {
        "id": "Kau438ceyUgD"
      }
    },
    {
      "cell_type": "markdown",
      "metadata": {
        "id": "hkSjdO44m9D7"
      },
      "source": [
        "### Install libraries & helper functions"
      ]
    },
    {
      "cell_type": "code",
      "source": [
        "# libraries for fairness metrics\n",
        "from fairlearn.metrics import (\n",
        "    MetricFrame,\n",
        "    selection_rate, \n",
        "    demographic_parity_difference, \n",
        "    demographic_parity_ratio,\n",
        "    false_positive_rate, \n",
        "    false_negative_rate,\n",
        "    false_positive_rate_difference, \n",
        "    false_negative_rate_difference, \n",
        "    true_positive_rate, \n",
        "    true_negative_rate,\n",
        "    selection_rate,\n",
        "    count,\n",
        "    equalized_odds_difference)"
      ],
      "metadata": {
        "id": "HgZfhHRjpGuj"
      },
      "execution_count": 55,
      "outputs": []
    },
    {
      "cell_type": "code",
      "source": [
        "# Helper functions metrics\n",
        "def get_metrics_df(models_dict, y_true, group):\n",
        "    metrics_dict = {\n",
        "        \"Equalized_odds_difference\": (\n",
        "            lambda x: equalized_odds_difference(y_true, x, sensitive_features=group), True),\n",
        "        \"Demographic parity difference\": (\n",
        "            lambda x: demographic_parity_difference(y_true, x, sensitive_features=group), True),\n",
        "        \"Overall balanced error rate\": (\n",
        "            lambda x: 1-balanced_accuracy_score(y_true, x), True),\n",
        "        \"Balanced error rate difference\": (\n",
        "            lambda x: MetricFrame(metrics=balanced_accuracy_score, y_true=y_true, y_pred=x, sensitive_features=group).difference(method='between_groups'), True),\n",
        "        \" ------\": (lambda x: \"\", True),\n",
        "        \"False positive rate difference\": (\n",
        "            lambda x: false_positive_rate_difference(y_true, x, sensitive_features=group), True),\n",
        "        \"False negative rate difference\": (\n",
        "            lambda x: false_negative_rate_difference(y_true, x, sensitive_features=group), True),\n",
        "        \"Equalized odds difference\": (\n",
        "            lambda x: equalized_odds_difference(y_true, x, sensitive_features=group), True),\n",
        "        \"  ------\": (lambda x: \"\", True),\n",
        "        \"Overall AUC\": (\n",
        "            lambda x: roc_auc_score(y_true, x), False),\n",
        "        \"AUC difference\": (\n",
        "            lambda x: MetricFrame(metrics=roc_auc_score, y_true=y_true, y_pred=x, sensitive_features=group).difference(method='between_groups'), False),\n",
        "    }\n",
        "    df_dict = {}\n",
        "    for metric_name, (metric_func, use_preds) in metrics_dict.items():\n",
        "        df_dict[metric_name] = [metric_func(preds) if use_preds else metric_func(scores) \n",
        "                                for model_name, (preds, scores) in models_dict.items()]\n",
        "    return pd.DataFrame.from_dict(df_dict, orient=\"index\", columns=models_dict.keys())\n",
        "\n",
        "def metric_frame (feature):\n",
        "    mf = MetricFrame({\n",
        "        'FPR': false_positive_rate,\n",
        "        'FNR': false_negative_rate,\n",
        "        'TPR': true_positive_rate,\n",
        "        'TNR': true_negative_rate},\n",
        "        y_test, test_preds, sensitive_features = feature)\n",
        "    return mf.by_group\n",
        "  \n",
        "def summary_as_df(name, summary):\n",
        "    a = summary.by_group\n",
        "    a['overall'] = summary.overall\n",
        "    return pd.DataFrame({name: a})\n",
        "  \n"
      ],
      "metadata": {
        "id": "M7X3bMfyJXsl"
      },
      "execution_count": 37,
      "outputs": []
    },
    {
      "cell_type": "markdown",
      "metadata": {
        "id": "luklqpM1luCQ"
      },
      "source": [
        "### Fairness evaluation - confusion matrix by group\n"
      ]
    },
    {
      "cell_type": "code",
      "execution_count": 38,
      "metadata": {
        "id": "r_yUWHewc1wo",
        "colab": {
          "base_uri": "https://localhost:8080/"
        },
        "outputId": "acd51e75-6bc8-4878-a877-967d56123046"
      },
      "outputs": [
        {
          "output_type": "stream",
          "name": "stderr",
          "text": [
            "/usr/local/lib/python3.7/dist-packages/fairlearn/metrics/_metric_frame.py:67: FutureWarning: You have provided 'metrics', 'y_true', 'y_pred' as positional arguments. Please pass them as keyword arguments. From version 0.10.0 passing them as positional arguments will result in an error.\n",
            "  FutureWarning)\n",
            "/usr/local/lib/python3.7/dist-packages/fairlearn/metrics/_metric_frame.py:67: FutureWarning: You have provided 'metrics', 'y_true', 'y_pred' as positional arguments. Please pass them as keyword arguments. From version 0.10.0 passing them as positional arguments will result in an error.\n",
            "  FutureWarning)\n"
          ]
        },
        {
          "output_type": "stream",
          "name": "stdout",
          "text": [
            "Age:\n",
            "RandomForestClassifier(): \n",
            "           FPR       FNR       TPR       TNR\n",
            "Age                                        \n",
            "20   0.147059       0.0       1.0  0.852941\n",
            "30   0.307692       0.0       1.0  0.692308\n",
            "40        0.2  0.105263  0.894737       0.8\n",
            "60   0.103448  0.138889  0.861111  0.896552 \n",
            "\n",
            "Task:\n",
            "RandomForestClassifier(): \n",
            "            FPR       FNR       TPR       TNR\n",
            "task                                        \n",
            "1     0.232143  0.033898  0.966102  0.767857\n",
            "2        0.075  0.106383  0.893617     0.925 \n",
            "\n"
          ]
        },
        {
          "output_type": "stream",
          "name": "stderr",
          "text": [
            "/usr/local/lib/python3.7/dist-packages/sklearn/linear_model/_logistic.py:818: ConvergenceWarning: lbfgs failed to converge (status=1):\n",
            "STOP: TOTAL NO. of ITERATIONS REACHED LIMIT.\n",
            "\n",
            "Increase the number of iterations (max_iter) or scale the data as shown in:\n",
            "    https://scikit-learn.org/stable/modules/preprocessing.html\n",
            "Please also refer to the documentation for alternative solver options:\n",
            "    https://scikit-learn.org/stable/modules/linear_model.html#logistic-regression\n",
            "  extra_warning_msg=_LOGISTIC_SOLVER_CONVERGENCE_MSG,\n",
            "/usr/local/lib/python3.7/dist-packages/fairlearn/metrics/_metric_frame.py:67: FutureWarning: You have provided 'metrics', 'y_true', 'y_pred' as positional arguments. Please pass them as keyword arguments. From version 0.10.0 passing them as positional arguments will result in an error.\n",
            "  FutureWarning)\n",
            "/usr/local/lib/python3.7/dist-packages/fairlearn/metrics/_metric_frame.py:67: FutureWarning: You have provided 'metrics', 'y_true', 'y_pred' as positional arguments. Please pass them as keyword arguments. From version 0.10.0 passing them as positional arguments will result in an error.\n",
            "  FutureWarning)\n"
          ]
        },
        {
          "output_type": "stream",
          "name": "stdout",
          "text": [
            "Age:\n",
            "LogisticRegression(random_state=42): \n",
            "           FPR       FNR       TPR       TNR\n",
            "Age                                        \n",
            "20   0.176471  0.459459  0.540541  0.823529\n",
            "30   0.461538  0.071429  0.928571  0.538462\n",
            "40       0.45  0.263158  0.736842      0.55\n",
            "60   0.241379  0.388889  0.611111  0.758621 \n",
            "\n",
            "Task:\n",
            "LogisticRegression(random_state=42): \n",
            "            FPR       FNR       TPR       TNR\n",
            "task                                        \n",
            "1     0.339286   0.40678   0.59322  0.660714\n",
            "2        0.225  0.276596  0.723404     0.775 \n",
            "\n",
            "Age:\n",
            "SVC(C=1000, gamma=0.01, probability=True): \n",
            "           FPR       FNR       TPR       TNR\n",
            "Age                                        \n",
            "20   0.529412  0.135135  0.864865  0.470588\n",
            "30   0.769231  0.071429  0.928571  0.230769\n",
            "40       0.45  0.105263  0.894737      0.55\n",
            "60   0.517241  0.083333  0.916667  0.482759 \n",
            "\n",
            "Task:\n",
            "SVC(C=1000, gamma=0.01, probability=True): \n",
            "            FPR       FNR       TPR       TNR\n",
            "task                                        \n",
            "1     0.464286  0.135593  0.864407  0.535714\n",
            "2         0.65   0.06383   0.93617      0.35 \n",
            "\n"
          ]
        },
        {
          "output_type": "stream",
          "name": "stderr",
          "text": [
            "/usr/local/lib/python3.7/dist-packages/fairlearn/metrics/_metric_frame.py:67: FutureWarning: You have provided 'metrics', 'y_true', 'y_pred' as positional arguments. Please pass them as keyword arguments. From version 0.10.0 passing them as positional arguments will result in an error.\n",
            "  FutureWarning)\n",
            "/usr/local/lib/python3.7/dist-packages/fairlearn/metrics/_metric_frame.py:67: FutureWarning: You have provided 'metrics', 'y_true', 'y_pred' as positional arguments. Please pass them as keyword arguments. From version 0.10.0 passing them as positional arguments will result in an error.\n",
            "  FutureWarning)\n"
          ]
        }
      ],
      "source": [
        "# define sensitive attributes\n",
        "task = A_test['task']\n",
        "age =  A_test['Age']\n",
        "\n",
        "\n",
        "for model in classifiers:\n",
        "  model.fit(X_train, y_train)\n",
        "  y_pred = model.predict(X_test)\n",
        "\n",
        "  # scores on test set\n",
        "  y_pred = model.predict_proba(X_test)[:, 1]\n",
        "\n",
        "  # predictions (0 or 1) on test set\n",
        "  test_preds = (y_pred >= np.mean(y_train)) * 1\n",
        "\n",
        "  print(f'Age:{chr(10)}{model}: {chr(10)} {metric_frame (age)} {chr(10)}')\n",
        "  print(f'Task:{chr(10)}{model}: {chr(10)} {metric_frame (task)} {chr(10)}')\n",
        "\n"
      ]
    },
    {
      "cell_type": "markdown",
      "source": [
        "### Fairness evaluation - fairness metrics by group (equalized odds, demographic parity difference & ratio, false negative rate difference)"
      ],
      "metadata": {
        "id": "2e4yEBybwKyc"
      }
    },
    {
      "cell_type": "code",
      "execution_count": 39,
      "metadata": {
        "id": "17eQQs7UhThR",
        "colab": {
          "base_uri": "https://localhost:8080/"
        },
        "outputId": "f4912245-8072-4009-a302-33b67f4931a5"
      },
      "outputs": [
        {
          "output_type": "stream",
          "name": "stdout",
          "text": [
            "Age:\n",
            "RandomForestClassifier(): \n",
            "                                Unmitigated\n",
            "Equalized_odds_difference         0.334615\n",
            "Demographic parity difference     0.216524\n",
            "Demographic parity ratio          0.692308\n",
            "------                                    \n",
            "Overall balanced error rate       0.121069\n",
            "Balanced error rate difference    0.140992\n",
            " ------                                   \n",
            "False positive rate difference    0.334615\n",
            "False negative rate difference    0.166667\n",
            "Equalized odds difference         0.334615\n",
            "  ------                                  \n",
            "Overall AUC                       0.943691\n",
            "AUC difference                    0.044766 \n",
            "\n"
          ]
        },
        {
          "output_type": "stream",
          "name": "stderr",
          "text": [
            "/usr/local/lib/python3.7/dist-packages/sklearn/linear_model/_logistic.py:818: ConvergenceWarning: lbfgs failed to converge (status=1):\n",
            "STOP: TOTAL NO. of ITERATIONS REACHED LIMIT.\n",
            "\n",
            "Increase the number of iterations (max_iter) or scale the data as shown in:\n",
            "    https://scikit-learn.org/stable/modules/preprocessing.html\n",
            "Please also refer to the documentation for alternative solver options:\n",
            "    https://scikit-learn.org/stable/modules/linear_model.html#logistic-regression\n",
            "  extra_warning_msg=_LOGISTIC_SOLVER_CONVERGENCE_MSG,\n"
          ]
        },
        {
          "output_type": "stream",
          "name": "stdout",
          "text": [
            "Age:\n",
            "LogisticRegression(random_state=42): \n",
            "                                Unmitigated\n",
            "Equalized_odds_difference         0.388031\n",
            "Demographic parity difference     0.337507\n",
            "Demographic parity ratio          0.520385\n",
            "------                                    \n",
            "Overall balanced error rate       0.320362\n",
            "Balanced error rate difference    0.090095\n",
            " ------                                   \n",
            "False positive rate difference    0.285068\n",
            "False negative rate difference    0.388031\n",
            "Equalized odds difference         0.388031\n",
            "  ------                                  \n",
            "Overall AUC                       0.767296\n",
            "AUC difference                    0.074639 \n",
            "\n",
            "Age:\n",
            "SVC(C=1000, gamma=0.01, probability=True): \n",
            "                                Unmitigated\n",
            "Equalized_odds_difference         0.319231\n",
            "Demographic parity difference     0.185185\n",
            "Demographic parity ratio          0.782609\n",
            "------                                    \n",
            "Overall balanced error rate        0.32272\n",
            "Balanced error rate difference    0.142698\n",
            " ------                                   \n",
            "False positive rate difference    0.319231\n",
            "False negative rate difference    0.063707\n",
            "Equalized odds difference         0.319231\n",
            "  ------                                  \n",
            "Overall AUC                       0.848516\n",
            "AUC difference                    0.039327 \n",
            "\n"
          ]
        }
      ],
      "source": [
        "# Metrics \n",
        "for model in classifiers:\n",
        "  model.fit(X_train, y_train)\n",
        "  y_pred = model.predict(X_test)\n",
        "\n",
        "  # scores on test set\n",
        "  y_pred = model.predict_proba(X_test)[:, 1]\n",
        "\n",
        "  # predictions (0 or 1) on test set\n",
        "  test_preds = (y_pred >= np.mean(y_train)) * 1\n",
        "\n",
        "  models_dict = {\"Unmitigated\": (test_preds, y_pred)}\n",
        "\n",
        "  print(f'Age:{chr(10)}{model}: {chr(10)} {get_metrics_df(models_dict, y_test, age)} {chr(10)}')\n"
      ]
    },
    {
      "cell_type": "code",
      "source": [
        "for model in classifiers:\n",
        "  model.fit(X_train, y_train)\n",
        "  y_pred = model.predict(X_test)\n",
        "\n",
        "  # scores on test set\n",
        "  y_pred = model.predict_proba(X_test)[:, 1]\n",
        "\n",
        "  # predictions (0 or 1) on test set\n",
        "  test_preds = (y_pred >= np.mean(y_train)) * 1\n",
        "\n",
        "  models_dict = {\"Unmitigated\": (test_preds, y_pred)}\n",
        "\n",
        "  print(f'Task:{chr(10)}{model}: {chr(10)} {get_metrics_df(models_dict, y_test, task)} {chr(10)}')"
      ],
      "metadata": {
        "id": "_GRT_N1FWO3e",
        "colab": {
          "base_uri": "https://localhost:8080/"
        },
        "outputId": "a76847fc-6de0-4ed9-cfbe-0dd75d5ef3aa"
      },
      "execution_count": 40,
      "outputs": [
        {
          "output_type": "stream",
          "name": "stdout",
          "text": [
            "Task:\n",
            "RandomForestClassifier(): \n",
            "                                Unmitigated\n",
            "Equalized_odds_difference         0.103571\n",
            "Demographic parity difference     0.036482\n",
            "Demographic parity ratio          0.935455\n",
            "------                                    \n",
            "Overall balanced error rate       0.105444\n",
            "Balanced error rate difference    0.043131\n",
            " ------                                   \n",
            "False positive rate difference    0.103571\n",
            "False negative rate difference     0.01731\n",
            "Equalized odds difference         0.103571\n",
            "  ------                                  \n",
            "Overall AUC                       0.967718\n",
            "AUC difference                    0.012535 \n",
            "\n",
            "Task:\n",
            "LogisticRegression(random_state=42): \n",
            "                                Unmitigated\n",
            "Equalized_odds_difference         0.130184\n",
            "Demographic parity difference     0.024688\n",
            "Demographic parity ratio          0.950051\n",
            "------                                    \n",
            "Overall balanced error rate       0.320362\n",
            "Balanced error rate difference    0.122235\n",
            " ------                                   \n",
            "False positive rate difference    0.114286\n",
            "False negative rate difference    0.130184\n",
            "Equalized odds difference         0.130184\n",
            "  ------                                  \n",
            "Overall AUC                       0.767296\n",
            "AUC difference                    0.138375 \n",
            "\n"
          ]
        },
        {
          "output_type": "stream",
          "name": "stderr",
          "text": [
            "/usr/local/lib/python3.7/dist-packages/sklearn/linear_model/_logistic.py:818: ConvergenceWarning: lbfgs failed to converge (status=1):\n",
            "STOP: TOTAL NO. of ITERATIONS REACHED LIMIT.\n",
            "\n",
            "Increase the number of iterations (max_iter) or scale the data as shown in:\n",
            "    https://scikit-learn.org/stable/modules/preprocessing.html\n",
            "Please also refer to the documentation for alternative solver options:\n",
            "    https://scikit-learn.org/stable/modules/linear_model.html#logistic-regression\n",
            "  extra_warning_msg=_LOGISTIC_SOLVER_CONVERGENCE_MSG,\n"
          ]
        },
        {
          "output_type": "stream",
          "name": "stdout",
          "text": [
            "Task:\n",
            "SVC(C=1000, gamma=0.01, probability=True): \n",
            "                                Unmitigated\n",
            "Equalized_odds_difference         0.217857\n",
            "Demographic parity difference     0.149325\n",
            "Demographic parity ratio          0.819565\n",
            "------                                    \n",
            "Overall balanced error rate       0.338345\n",
            "Balanced error rate difference    0.073047\n",
            " ------                                   \n",
            "False positive rate difference    0.217857\n",
            "False negative rate difference    0.071763\n",
            "Equalized odds difference         0.217857\n",
            "  ------                                  \n",
            "Overall AUC                       0.848418\n",
            "AUC difference                    0.054474 \n",
            "\n"
          ]
        }
      ]
    },
    {
      "cell_type": "markdown",
      "source": [
        "##### helper function for visualisation\n"
      ],
      "metadata": {
        "id": "5DzayjL86Y4p"
      }
    },
    {
      "cell_type": "code",
      "source": [
        "# demographic disparity\n",
        "# https://github.com/fairlearn/fairlearn/blob/main/notebooks/Mitigating%20Disparities%20in%20Ranking%20from%20Binary%20Data.ipynb\n",
        "\n",
        "from IPython.display import display, HTML\n",
        "import matplotlib.pyplot as plt\n",
        "from scipy.stats import cumfreq\n",
        "\n",
        "def compare_cdfs(data, A, num_bins=100):\n",
        "    cdfs = {}\n",
        "    assert len(np.unique(A)) == 4 ### change to 4/2 depending on the sensitive attribute (Age vs. task)\n",
        "    \n",
        "    limits = ( min(data), max(data) )\n",
        "    s = 0.5 * (limits[1] - limits[0]) / (num_bins - 1)\n",
        "    limits = ( limits[0]-s, limits[1] + s)\n",
        "    \n",
        "    for a in np.unique(A):\n",
        "        subset = data[A==a]\n",
        "        \n",
        "        cdfs[a] = cumfreq(subset, numbins=num_bins, defaultreallimits=limits)\n",
        "        \n",
        "    lower_limits = [v.lowerlimit for _, v in cdfs.items()]\n",
        "    bin_sizes = [v.binsize for _,v in cdfs.items()]\n",
        "    actual_num_bins = [v.cumcount.size for _,v in cdfs.items()]\n",
        "    \n",
        "    assert len(np.unique(lower_limits)) == 1\n",
        "    assert len(np.unique(bin_sizes)) == 1\n",
        "    assert np.all([num_bins==v.cumcount.size for _,v in cdfs.items()])\n",
        "    \n",
        "    xs = lower_limits[0] + np.linspace(0, bin_sizes[0]*num_bins, num_bins)\n",
        "    \n",
        "    disparities = np.zeros(num_bins)\n",
        "    for i in range(num_bins):\n",
        "        cdf_values = np.clip([v.cumcount[i]/len(data[A==k]) for k,v in cdfs.items()],0,1)\n",
        "        disparities[i] = max(cdf_values)-min(cdf_values)  \n",
        "    \n",
        "    return xs, cdfs, disparities\n",
        "    \n",
        "    \n",
        "def plot_and_compare_cdfs(data, A, num_bins=100, loc='best'):\n",
        "    xs, cdfs, disparities = compare_cdfs(data, A, num_bins)\n",
        "    \n",
        "    for k, v in cdfs.items():\n",
        "        plt.plot(xs, v.cumcount/len(data[A==k]), label=k)\n",
        "    \n",
        "    assert disparities.argmax().size == 1\n",
        "    d_idx = disparities.argmax()\n",
        "    \n",
        "    xs_line = [xs[d_idx],xs[d_idx]]\n",
        "    counts = [v.cumcount[d_idx]/len(data[A==k]) for k, v in cdfs.items()]\n",
        "    ys_line = [min(counts), max(counts)]\n",
        "    \n",
        "    plt.plot(xs_line, ys_line, 'o--')\n",
        "    disparity_label = \"max disparity = {0:.3f}\\nat {1:0.3f}\".format(disparities[d_idx], xs[d_idx])\n",
        "    plt.text(xs[d_idx], 1, disparity_label, ha=\"right\", va=\"top\")\n",
        "    \n",
        "    plt.ylabel(\"cumulative frequency\")\n",
        "    plt.legend(loc=loc)\n",
        "    plt.show()"
      ],
      "metadata": {
        "id": "bGJWGYvj6dp5"
      },
      "execution_count": 53,
      "outputs": []
    },
    {
      "cell_type": "markdown",
      "metadata": {
        "id": "r58R2nMm4yAr"
      },
      "source": [
        "#### Visualisation - performance metric by groups (age)\n",
        "\n",
        "\n",
        "---\n",
        "\n"
      ]
    },
    {
      "cell_type": "code",
      "source": [
        "%matplotlib inline\n",
        "\n",
        "for model in classifiers:\n",
        "  model.fit(X_train, y_train)\n",
        "  y_pred = model.predict(X_test)\n",
        "\n",
        "  # scores on test set\n",
        "  y_pred = model.predict_proba(X_test)[:, 1]\n",
        "\n",
        "  # predictions (0 or 1) on test set\n",
        "  test_preds = (y_pred >= np.mean(y_train)) * 1\n",
        "\n",
        "\n",
        "  display(HTML('<span id=\"disparity_unmitigated\">'))\n",
        "  plot_and_compare_cdfs(y_pred, task)\n",
        "  display(HTML('</span>'))"
      ],
      "metadata": {
        "id": "qmGXqTbzl0eV",
        "colab": {
          "base_uri": "https://localhost:8080/",
          "height": 920
        },
        "outputId": "a608df5a-2350-4b8f-f255-28e3832ee894"
      },
      "execution_count": 43,
      "outputs": [
        {
          "output_type": "display_data",
          "data": {
            "text/plain": [
              "<IPython.core.display.HTML object>"
            ],
            "text/html": [
              "<span id=\"disparity_unmitigated\">"
            ]
          },
          "metadata": {}
        },
        {
          "output_type": "display_data",
          "data": {
            "text/plain": [
              "<Figure size 432x288 with 1 Axes>"
            ],
            "image/png": "[encoded data removed]"
          },
          "metadata": {
            "needs_background": "light"
          }
        },
        {
          "output_type": "display_data",
          "data": {
            "text/plain": [
              "<IPython.core.display.HTML object>"
            ],
            "text/html": [
              "</span>"
            ]
          },
          "metadata": {}
        },
        {
          "output_type": "stream",
          "name": "stderr",
          "text": [
            "/usr/local/lib/python3.7/dist-packages/sklearn/linear_model/_logistic.py:818: ConvergenceWarning: lbfgs failed to converge (status=1):\n",
            "STOP: TOTAL NO. of ITERATIONS REACHED LIMIT.\n",
            "\n",
            "Increase the number of iterations (max_iter) or scale the data as shown in:\n",
            "    https://scikit-learn.org/stable/modules/preprocessing.html\n",
            "Please also refer to the documentation for alternative solver options:\n",
            "    https://scikit-learn.org/stable/modules/linear_model.html#logistic-regression\n",
            "  extra_warning_msg=_LOGISTIC_SOLVER_CONVERGENCE_MSG,\n"
          ]
        },
        {
          "output_type": "display_data",
          "data": {
            "text/plain": [
              "<IPython.core.display.HTML object>"
            ],
            "text/html": [
              "<span id=\"disparity_unmitigated\">"
            ]
          },
          "metadata": {}
        },
        {
          "output_type": "display_data",
          "data": {
            "text/plain": [
              "<Figure size 432x288 with 1 Axes>"
            ],
            "image/png": "[encoded data removed]"
          },
          "metadata": {
            "needs_background": "light"
          }
        },
        {
          "output_type": "display_data",
          "data": {
            "text/plain": [
              "<IPython.core.display.HTML object>"
            ],
            "text/html": [
              "</span>"
            ]
          },
          "metadata": {}
        },
        {
          "output_type": "display_data",
          "data": {
            "text/plain": [
              "<IPython.core.display.HTML object>"
            ],
            "text/html": [
              "<span id=\"disparity_unmitigated\">"
            ]
          },
          "metadata": {}
        },
        {
          "output_type": "display_data",
          "data": {
            "text/plain": [
              "<Figure size 432x288 with 1 Axes>"
            ],
            "image/png": "[encoded data removed]"
          },
          "metadata": {
            "needs_background": "light"
          }
        },
        {
          "output_type": "display_data",
          "data": {
            "text/plain": [
              "<IPython.core.display.HTML object>"
            ],
            "text/html": [
              "</span>"
            ]
          },
          "metadata": {}
        }
      ]
    },
    {
      "cell_type": "code",
      "source": [
        "%matplotlib inline\n",
        "\n",
        "for model in classifiers:\n",
        "  model.fit(X_train, y_train)\n",
        "  y_pred = model.predict(X_test)\n",
        "\n",
        "  # scores on test set\n",
        "  y_pred = model.predict_proba(X_test)[:, 1]\n",
        "\n",
        "  # predictions (0 or 1) on test set\n",
        "  test_preds = (y_pred >= np.mean(y_train)) * 1\n",
        "\n",
        "\n",
        "  display(HTML('<span id=\"disparity_unmitigated\">'))\n",
        "  plot_and_compare_cdfs(y_pred, age)\n",
        "  display(HTML('</span>'))"
      ],
      "metadata": {
        "id": "9-wzh2zLEaS9",
        "colab": {
          "base_uri": "https://localhost:8080/",
          "height": 920
        },
        "outputId": "69cbc9ff-352e-45b9-abaf-3d689e17bbf1"
      },
      "execution_count": 52,
      "outputs": [
        {
          "output_type": "display_data",
          "data": {
            "text/plain": [
              "<IPython.core.display.HTML object>"
            ],
            "text/html": [
              "<span id=\"disparity_unmitigated\">"
            ]
          },
          "metadata": {}
        },
        {
          "output_type": "display_data",
          "data": {
            "text/plain": [
              "<Figure size 432x288 with 1 Axes>"
            ],
            "image/png": "[encoded data removed]"
          },
          "metadata": {
            "needs_background": "light"
          }
        },
        {
          "output_type": "display_data",
          "data": {
            "text/plain": [
              "<IPython.core.display.HTML object>"
            ],
            "text/html": [
              "</span>"
            ]
          },
          "metadata": {}
        },
        {
          "output_type": "stream",
          "name": "stderr",
          "text": [
            "/usr/local/lib/python3.7/dist-packages/sklearn/linear_model/_logistic.py:818: ConvergenceWarning: lbfgs failed to converge (status=1):\n",
            "STOP: TOTAL NO. of ITERATIONS REACHED LIMIT.\n",
            "\n",
            "Increase the number of iterations (max_iter) or scale the data as shown in:\n",
            "    https://scikit-learn.org/stable/modules/preprocessing.html\n",
            "Please also refer to the documentation for alternative solver options:\n",
            "    https://scikit-learn.org/stable/modules/linear_model.html#logistic-regression\n",
            "  extra_warning_msg=_LOGISTIC_SOLVER_CONVERGENCE_MSG,\n"
          ]
        },
        {
          "output_type": "display_data",
          "data": {
            "text/plain": [
              "<IPython.core.display.HTML object>"
            ],
            "text/html": [
              "<span id=\"disparity_unmitigated\">"
            ]
          },
          "metadata": {}
        },
        {
          "output_type": "display_data",
          "data": {
            "text/plain": [
              "<Figure size 432x288 with 1 Axes>"
            ],
            "image/png": "[encoded data removed]"
          },
          "metadata": {
            "needs_background": "light"
          }
        },
        {
          "output_type": "display_data",
          "data": {
            "text/plain": [
              "<IPython.core.display.HTML object>"
            ],
            "text/html": [
              "</span>"
            ]
          },
          "metadata": {}
        },
        {
          "output_type": "display_data",
          "data": {
            "text/plain": [
              "<IPython.core.display.HTML object>"
            ],
            "text/html": [
              "<span id=\"disparity_unmitigated\">"
            ]
          },
          "metadata": {}
        },
        {
          "output_type": "display_data",
          "data": {
            "text/plain": [
              "<Figure size 432x288 with 1 Axes>"
            ],
            "image/png": "[encoded data removed]"
          },
          "metadata": {
            "needs_background": "light"
          }
        },
        {
          "output_type": "display_data",
          "data": {
            "text/plain": [
              "<IPython.core.display.HTML object>"
            ],
            "text/html": [
              "</span>"
            ]
          },
          "metadata": {}
        }
      ]
    },
    {
      "cell_type": "markdown",
      "metadata": {
        "id": "sf3-XjExIYIF"
      },
      "source": [
        "# Debiasing the model\n",
        "\n",
        "---\n"
      ]
    },
    {
      "cell_type": "markdown",
      "source": [
        "In this part we aim to mitigate bias (removing the problematic signal) through the addition of inclusion (add singal for deasired features for a re-weighted singal to improved fairness)\n",
        "\n",
        "The dataset is not balanced for any of the groups present (different sample numbers) \n",
        "\n",
        "\n",
        "#### Reminder to types of fairness and how to approach them\n",
        "\n",
        "- Demographic parity applies different classifciaiton thresholds per group while keeping the same fraction of +ives\n",
        "- Equal opp. uses different classifciaiton thresholds per group while keeping the same true positive rate\n",
        "- Equalized odds uses different classifciaiton thresholds per group while keeping the same true positive&false rate\n",
        "\n",
        "\n",
        "**We aim for equalized odds (EO) and ERP (error rate parity) cross groups.**\n",
        "\n",
        "\n",
        "#### De-biasing methods overview:\n",
        "\n",
        " - pre-processing: reweighing, disparate impact remover\n",
        "\n",
        " - in-process: adversarial debiasing, prejudice remover\n",
        "\n",
        "- post process-process: through reductions: Exponential gradient (for disparity mitigation), Gridsearch,  ThresholdOptimizer, equalized odds/ calibrated offd/ reject option classification\n",
        "\n",
        "\n",
        "> NOTE: fairlearn only supports binary classificaiton \n",
        "\n",
        "\n",
        "\n",
        "STEPS:\n",
        "1. Pre-processing \n",
        "    - reweigh sample \n",
        "    - balance perfromance metric (already the case equal number of stressed/ non stressed people\n",
        "\n",
        "2. in process \n",
        "    - adversarial debiasing\n",
        "\n",
        "3. post process \n",
        "    - threshold optimizer, equalizedodds\n",
        "\n",
        "\n",
        "\n",
        "\n"
      ],
      "metadata": {
        "id": "B-yF_BL-yDXl"
      }
    },
    {
      "cell_type": "markdown",
      "source": [
        "#### import libraries and helper functions"
      ],
      "metadata": {
        "id": "746t1XpOqESj"
      }
    },
    {
      "cell_type": "code",
      "source": [
        "import aif360\n",
        "\n",
        "from aif360.datasets import StandardDataset\n",
        "from sklearn.pipeline import make_pipeline \n",
        "\n",
        "# Fairness metrics\n",
        "from aif360.metrics import BinaryLabelDatasetMetric\n",
        "from aif360.metrics import DatasetMetric\n",
        "\n",
        "from aif360.metrics import ClassificationMetric\n",
        "\n",
        "# Explainers\n",
        "from aif360.explainers import MetricTextExplainer\n",
        "\n",
        "# Scalers\n",
        "from sklearn.preprocessing import StandardScaler\n",
        "\n",
        "# Bias mitigation techniques\n",
        "from aif360.algorithms.preprocessing import Reweighing\n",
        "from aif360.algorithms.inprocessing import AdversarialDebiasing\n",
        "from aif360.algorithms.inprocessing import PrejudiceRemover\n",
        "\n",
        "# Additional fairlearn libraries\n",
        "from fairlearn.postprocessing import ThresholdOptimizer, plot_threshold_optimizer\n",
        "from fairlearn.postprocessing._interpolated_thresholder import InterpolatedThresholder\n",
        "from fairlearn.postprocessing._threshold_operation import ThresholdOperation\n",
        "\n",
        "from fairlearn.reductions import (ExponentiatedGradient, \n",
        "                                  EqualizedOdds, \n",
        "                                  TruePositiveRateParity,\n",
        "                                  GridSearch)\n",
        "\n",
        "from IPython.display import Markdown, display\n",
        "import matplotlib.pyplot as plt"
      ],
      "metadata": {
        "id": "x1RrNf1e0raQ"
      },
      "execution_count": 56,
      "outputs": []
    },
    {
      "cell_type": "markdown",
      "source": [
        "#### 1. Reweigh samples for age (AIF360)\n",
        "\n",
        "Based on:\n",
        "1. [Correcting Unfair Binary Classification\n",
        "Models](http://arno.uvt.nl/show.cgi?fid=157880)\n",
        "\n",
        "2. [AIF360 example](https://nbviewer.org/github/IBM/AIF360/blob/master/examples/tutorial_credit_scoring.ipynb)\n"
      ],
      "metadata": {
        "id": "QClTGz2ADunB"
      }
    },
    {
      "cell_type": "code",
      "source": [
        "# set dataset in aif360 format\n",
        "ds_aif = aif360.datasets.StandardDataset (df, \n",
        "                                         label_name=\"fatiguestate\",\n",
        "                                         favorable_classes = [1], \n",
        "                                         protected_attribute_names=['Age', 'task'], \n",
        "                                         privileged_classes= [lambda x: x >= 31],\n",
        "                                         features_to_drop=['subject'])"
      ],
      "metadata": {
        "id": "TClA0mBrZIzg"
      },
      "execution_count": 57,
      "outputs": []
    },
    {
      "cell_type": "code",
      "source": [
        "# test, train split\n",
        "ds_train, ds_test = ds_aif.split([0.7], shuffle=True)"
      ],
      "metadata": {
        "id": "2a0RE3X1t4sM"
      },
      "execution_count": 60,
      "outputs": []
    },
    {
      "cell_type": "code",
      "source": [
        "# pre-processing - reweighing \n",
        "# define priviledged & unpriviledged groups\n",
        "unpriv = [{'Age': 0}]\n",
        "priv = [{'Age': 1}]\n",
        "\n",
        "# reweigh\n",
        "RW = Reweighing (unprivileged_groups = unpriv, \n",
        "                 privileged_groups = priv)\n",
        "\n",
        "RW_train = RW.fit_transform(ds_train)"
      ],
      "metadata": {
        "id": "mZ4j_QdOhAl4"
      },
      "execution_count": 61,
      "outputs": []
    },
    {
      "cell_type": "code",
      "source": [
        "# check for metric before and after transforming \n",
        "# OG dataset\n",
        "metric_train = BinaryLabelDatasetMetric(ds_train,\n",
        "                                        unprivileged_groups = unpriv,\n",
        "                                        privileged_groups = priv)\n",
        "\n",
        "explainer_train = MetricTextExplainer(metric_train)\n",
        "\n",
        "# transformed dataset\n",
        "metric_transf_train = BinaryLabelDatasetMetric(RW_train,\n",
        "                                               unprivileged_groups=unpriv,\n",
        "                                               privileged_groups=priv)\n",
        "\n",
        "explainer_transf_train = MetricTextExplainer(metric_transf_train)\n",
        "\n",
        "display(Markdown(\"#### Original training dataset\"))\n",
        "print(\"Difference in mean outcomes between unprivileged and privileged groups = %f\" % metric_train.mean_difference())\n",
        "display(Markdown(\"#### Transformed training dataset\"))\n",
        "print(\"Difference in mean outcomes between unprivileged and privileged groups = %f\" % metric_transf_train.mean_difference())\n",
        "\n",
        "\n",
        "display(Markdown(\"#### Disparate impact\"))\n",
        "print(f'Before reweighing {explainer_train.disparate_impact()}')\n",
        "print(f'After reweighing {explainer_transf_train.disparate_impact()}')"
      ],
      "metadata": {
        "colab": {
          "base_uri": "https://localhost:8080/",
          "height": 226
        },
        "id": "cuAXatUVvHKF",
        "outputId": "5d7b24f0-9c54-4462-e549-e44ec93274cd"
      },
      "execution_count": 63,
      "outputs": [
        {
          "output_type": "display_data",
          "data": {
            "text/plain": [
              "<IPython.core.display.Markdown object>"
            ],
            "text/markdown": "#### Original training dataset"
          },
          "metadata": {}
        },
        {
          "output_type": "stream",
          "name": "stdout",
          "text": [
            "Difference in mean outcomes between unprivileged and privileged groups = 0.022774\n"
          ]
        },
        {
          "output_type": "display_data",
          "data": {
            "text/plain": [
              "<IPython.core.display.Markdown object>"
            ],
            "text/markdown": "#### Transformed training dataset"
          },
          "metadata": {}
        },
        {
          "output_type": "stream",
          "name": "stdout",
          "text": [
            "Difference in mean outcomes between unprivileged and privileged groups = 0.000000\n"
          ]
        },
        {
          "output_type": "display_data",
          "data": {
            "text/plain": [
              "<IPython.core.display.Markdown object>"
            ],
            "text/markdown": "#### Disparate impact"
          },
          "metadata": {}
        },
        {
          "output_type": "stream",
          "name": "stdout",
          "text": [
            "Before reweighing Disparate impact (probability of favorable outcome for unprivileged instances / probability of favorable outcome for privileged instances): 1.046659597030753\n",
            "After reweighing Disparate impact (probability of favorable outcome for unprivileged instances / probability of favorable outcome for privileged instances): 1.0000000000000002\n"
          ]
        }
      ]
    },
    {
      "cell_type": "code",
      "source": [
        "# refit rfc model & get metrics\n",
        "X_train = RW_train.features\n",
        "y_train = RW_train.labels.ravel()\n",
        "w_train = RW_train.instance_weights\n",
        "\n",
        "X_test = ds_test.features\n",
        "y_test = ds_test.labels.ravel()"
      ],
      "metadata": {
        "id": "r02kb1_j1DFN"
      },
      "execution_count": 64,
      "outputs": []
    },
    {
      "cell_type": "markdown",
      "source": [
        "##### Evaluations"
      ],
      "metadata": {
        "id": "r_JCdbNYOX06"
      }
    },
    {
      "cell_type": "code",
      "source": [
        "# confusion matrix\n",
        "\n",
        "fig, axes = plt.subplots(nrows=2, ncols=2, figsize=(8, 8))\n",
        "\n",
        "for cls, ax in zip(classifiers, axes.flatten()):\n",
        "    # train models with reweighted data\n",
        "    dataset = RW_train\n",
        "    cls.fit(dataset.features, dataset.labels.ravel(), sample_weight = dataset.instance_weights)\n",
        "    \n",
        "    # plot\n",
        "    plot_confusion_matrix(cls, \n",
        "                          X_test, \n",
        "                          y_test, \n",
        "                          ax=ax, \n",
        "                          cmap='YlGnBu')\n",
        "    ax.title.set_text(type(cls).__name__)\n",
        "\n",
        "plt.tight_layout()\n",
        "plt.show()"
      ],
      "metadata": {
        "colab": {
          "base_uri": "https://localhost:8080/",
          "height": 779
        },
        "id": "hoQDEH_uMMTe",
        "outputId": "0af1ab83-3139-4ece-d0a4-9b02ffe0d5fd"
      },
      "execution_count": 66,
      "outputs": [
        {
          "output_type": "stream",
          "name": "stderr",
          "text": [
            "Function plot_confusion_matrix is deprecated; Function `plot_confusion_matrix` is deprecated in 1.0 and will be removed in 1.2. Use one of the class methods: ConfusionMatrixDisplay.from_predictions or ConfusionMatrixDisplay.from_estimator.\n",
            "lbfgs failed to converge (status=1):\n",
            "STOP: TOTAL NO. of ITERATIONS REACHED LIMIT.\n",
            "\n",
            "Increase the number of iterations (max_iter) or scale the data as shown in:\n",
            "    https://scikit-learn.org/stable/modules/preprocessing.html\n",
            "Please also refer to the documentation for alternative solver options:\n",
            "    https://scikit-learn.org/stable/modules/linear_model.html#logistic-regression\n",
            "Function plot_confusion_matrix is deprecated; Function `plot_confusion_matrix` is deprecated in 1.0 and will be removed in 1.2. Use one of the class methods: ConfusionMatrixDisplay.from_predictions or ConfusionMatrixDisplay.from_estimator.\n",
            "Function plot_confusion_matrix is deprecated; Function `plot_confusion_matrix` is deprecated in 1.0 and will be removed in 1.2. Use one of the class methods: ConfusionMatrixDisplay.from_predictions or ConfusionMatrixDisplay.from_estimator.\n"
          ]
        },
        {
          "output_type": "display_data",
          "data": {
            "text/plain": [
              "<Figure size 576x576 with 7 Axes>"
            ],
            "image/png": "[encoded data removed]"
          },
          "metadata": {
            "needs_background": "light"
          }
        }
      ]
    },
    {
      "cell_type": "code",
      "source": [
        "# double check with train set\n",
        "fig, axes = plt.subplots(nrows=2, ncols=2, figsize=(8, 8))\n",
        "\n",
        "for cls, ax in zip(classifiers, axes.flatten()):\n",
        "    dataset = RW_train\n",
        "    cls.fit(dataset.features, dataset.labels.ravel(), sample_weight = dataset.instance_weights)\n",
        "    plot_confusion_matrix(cls, \n",
        "                          X_train, \n",
        "                          y_train, \n",
        "                          ax=ax, \n",
        "                          cmap='YlGnBu')\n",
        "    ax.title.set_text(type(cls).__name__)\n",
        "plt.tight_layout()\n",
        "plt.show()"
      ],
      "metadata": {
        "colab": {
          "base_uri": "https://localhost:8080/",
          "height": 779
        },
        "id": "TlGpTZSgM44Q",
        "outputId": "e49d50e2-79ef-40f8-d90c-fe5109d3b1ce"
      },
      "execution_count": 67,
      "outputs": [
        {
          "output_type": "stream",
          "name": "stderr",
          "text": [
            "Function plot_confusion_matrix is deprecated; Function `plot_confusion_matrix` is deprecated in 1.0 and will be removed in 1.2. Use one of the class methods: ConfusionMatrixDisplay.from_predictions or ConfusionMatrixDisplay.from_estimator.\n",
            "lbfgs failed to converge (status=1):\n",
            "STOP: TOTAL NO. of ITERATIONS REACHED LIMIT.\n",
            "\n",
            "Increase the number of iterations (max_iter) or scale the data as shown in:\n",
            "    https://scikit-learn.org/stable/modules/preprocessing.html\n",
            "Please also refer to the documentation for alternative solver options:\n",
            "    https://scikit-learn.org/stable/modules/linear_model.html#logistic-regression\n",
            "Function plot_confusion_matrix is deprecated; Function `plot_confusion_matrix` is deprecated in 1.0 and will be removed in 1.2. Use one of the class methods: ConfusionMatrixDisplay.from_predictions or ConfusionMatrixDisplay.from_estimator.\n",
            "Function plot_confusion_matrix is deprecated; Function `plot_confusion_matrix` is deprecated in 1.0 and will be removed in 1.2. Use one of the class methods: ConfusionMatrixDisplay.from_predictions or ConfusionMatrixDisplay.from_estimator.\n"
          ]
        },
        {
          "output_type": "display_data",
          "data": {
            "text/plain": [
              "<Figure size 576x576 with 7 Axes>"
            ],
            "image/png": "[encoded data removed]"
          },
          "metadata": {
            "needs_background": "light"
          }
        }
      ]
    },
    {
      "cell_type": "code",
      "source": [
        "# get classification reports\n",
        "for cls in classifiers:\n",
        "  dataset = RW_train\n",
        "  cls.fit(dataset.features, dataset.labels.ravel(), sample_weight = dataset.instance_weights)\n",
        "  y_pred = cls.predict(X_test)\n",
        "  \n",
        "  print(f'{cls}: {chr(10)} {classification_report(y_test, y_pred)}')"
      ],
      "metadata": {
        "id": "qcXJggyrNSxR",
        "colab": {
          "base_uri": "https://localhost:8080/"
        },
        "outputId": "5fd7b68d-e7d2-470c-aa56-7a7ec9ecbf21"
      },
      "execution_count": 68,
      "outputs": [
        {
          "output_type": "stream",
          "name": "stdout",
          "text": [
            "RandomForestClassifier(): \n",
            "               precision    recall  f1-score   support\n",
            "\n",
            "         0.0       0.91      0.89      0.90        76\n",
            "         1.0       0.89      0.91      0.90        75\n",
            "\n",
            "    accuracy                           0.90       151\n",
            "   macro avg       0.90      0.90      0.90       151\n",
            "weighted avg       0.90      0.90      0.90       151\n",
            "\n",
            "LogisticRegression(random_state=42): \n",
            "               precision    recall  f1-score   support\n",
            "\n",
            "         0.0       0.71      0.70      0.70        76\n",
            "         1.0       0.70      0.71      0.70        75\n",
            "\n",
            "    accuracy                           0.70       151\n",
            "   macro avg       0.70      0.70      0.70       151\n",
            "weighted avg       0.70      0.70      0.70       151\n",
            "\n",
            "SVC(C=1000, gamma=0.01, probability=True): \n",
            "               precision    recall  f1-score   support\n",
            "\n",
            "         0.0       0.77      0.57      0.65        76\n",
            "         1.0       0.65      0.83      0.73        75\n",
            "\n",
            "    accuracy                           0.70       151\n",
            "   macro avg       0.71      0.70      0.69       151\n",
            "weighted avg       0.71      0.70      0.69       151\n",
            "\n"
          ]
        },
        {
          "output_type": "stream",
          "name": "stderr",
          "text": [
            "lbfgs failed to converge (status=1):\n",
            "STOP: TOTAL NO. of ITERATIONS REACHED LIMIT.\n",
            "\n",
            "Increase the number of iterations (max_iter) or scale the data as shown in:\n",
            "    https://scikit-learn.org/stable/modules/preprocessing.html\n",
            "Please also refer to the documentation for alternative solver options:\n",
            "    https://scikit-learn.org/stable/modules/linear_model.html#logistic-regression\n"
          ]
        }
      ]
    },
    {
      "cell_type": "markdown",
      "source": [
        "##### Fairness evaluations"
      ],
      "metadata": {
        "id": "d-6CDSP_Ob2M"
      }
    },
    {
      "cell_type": "code",
      "source": [
        "# define test \n",
        "ds_test_pred = ds_test.copy(deepcopy=True)"
      ],
      "metadata": {
        "id": "1kOnsSj5E77j"
      },
      "execution_count": 69,
      "outputs": []
    },
    {
      "cell_type": "code",
      "source": [
        "for cls in classifiers:\n",
        "\n",
        "  cls.fit(RW_train.features, RW_train.labels.ravel(), sample_weight = dataset.instance_weights)\n",
        "  y_pred = cls.predict(X_test)\n",
        "  \n",
        "  # scores on test set\n",
        "  ds_test_pred.scores = cls.predict_proba(X_test)[:1]\n",
        "\n",
        "  # predictions (0 or 1) on test set\n",
        "  y_train_pred = cls.predict(X_train)\n",
        "  test_preds = (y_pred >= np.mean(y_train)) * 1\n",
        "\n",
        "  models_dict = {\"Unmitigated\": (test_preds, y_pred)}\n",
        "\n",
        "  print(f'Age:{chr(10)}{cls}: {chr(10)} {get_metrics_df(models_dict, y_test, age)} {chr(10)}')\n",
        "  \n",
        "  print(f'Age:{chr(10)}{cls}: {chr(10)} {metric_frame (age)} {chr(10)}')"
      ],
      "metadata": {
        "id": "wS_RSJNEjnzU",
        "colab": {
          "base_uri": "https://localhost:8080/"
        },
        "outputId": "f215ba53-ccf4-4fd7-f4d3-26f0c8ec300f"
      },
      "execution_count": 80,
      "outputs": [
        {
          "output_type": "stream",
          "name": "stderr",
          "text": [
            "X has feature names, but RandomForestClassifier was fitted without feature names\n",
            "X has feature names, but RandomForestClassifier was fitted without feature names\n",
            "X has feature names, but RandomForestClassifier was fitted without feature names\n"
          ]
        },
        {
          "output_type": "stream",
          "name": "stdout",
          "text": [
            "Age:\n",
            "RandomForestClassifier(): \n",
            "                                Unmitigated\n",
            "Equalized_odds_difference         0.083333\n",
            "Demographic parity difference     0.051282\n",
            "Demographic parity ratio          0.904762\n",
            "------                                    \n",
            "Overall balanced error rate       0.034493\n",
            "Balanced error rate difference    0.076149\n",
            " ------                                   \n",
            "False positive rate difference    0.068966\n",
            "False negative rate difference    0.083333\n",
            "Equalized odds difference         0.083333\n",
            "  ------                                  \n",
            "Overall AUC                       0.965507\n",
            "AUC difference                    0.076149 \n",
            "\n",
            "Age:\n",
            "RandomForestClassifier(): \n",
            "           FPR       FNR       TPR       TNR\n",
            "Age                                        \n",
            "20   0.029412  0.027027  0.972973  0.970588\n",
            "30        0.0       0.0       1.0       1.0\n",
            "40        0.0       0.0       1.0       1.0\n",
            "60   0.068966  0.083333  0.916667  0.931034 \n",
            "\n"
          ]
        },
        {
          "output_type": "stream",
          "name": "stderr",
          "text": [
            "You have provided 'metrics', 'y_true', 'y_pred' as positional arguments. Please pass them as keyword arguments. From version 0.10.0 passing them as positional arguments will result in an error.\n",
            "lbfgs failed to converge (status=1):\n",
            "STOP: TOTAL NO. of ITERATIONS REACHED LIMIT.\n",
            "\n",
            "Increase the number of iterations (max_iter) or scale the data as shown in:\n",
            "    https://scikit-learn.org/stable/modules/preprocessing.html\n",
            "Please also refer to the documentation for alternative solver options:\n",
            "    https://scikit-learn.org/stable/modules/linear_model.html#logistic-regression\n",
            "X has feature names, but LogisticRegression was fitted without feature names\n",
            "X has feature names, but LogisticRegression was fitted without feature names\n",
            "X has feature names, but LogisticRegression was fitted without feature names\n"
          ]
        },
        {
          "output_type": "stream",
          "name": "stdout",
          "text": [
            "Age:\n",
            "LogisticRegression(random_state=42): \n",
            "                                Unmitigated\n",
            "Equalized_odds_difference          0.25355\n",
            "Demographic parity difference     0.158059\n",
            "Demographic parity ratio          0.796781\n",
            "------                                    \n",
            "Overall balanced error rate       0.390232\n",
            "Balanced error rate difference    0.217838\n",
            " ------                                   \n",
            "False positive rate difference     0.25355\n",
            "False negative rate difference        0.25\n",
            "Equalized odds difference          0.25355\n",
            "  ------                                  \n",
            "Overall AUC                       0.609768\n",
            "AUC difference                    0.217838 \n",
            "\n",
            "Age:\n",
            "LogisticRegression(random_state=42): \n",
            "           FPR       FNR       TPR       TNR\n",
            "Age                                        \n",
            "20   0.470588  0.243243  0.756757  0.529412\n",
            "30   0.538462       0.0       1.0  0.461538\n",
            "40       0.55  0.210526  0.789474      0.45\n",
            "60   0.724138      0.25      0.75  0.275862 \n",
            "\n"
          ]
        },
        {
          "output_type": "stream",
          "name": "stderr",
          "text": [
            "You have provided 'metrics', 'y_true', 'y_pred' as positional arguments. Please pass them as keyword arguments. From version 0.10.0 passing them as positional arguments will result in an error.\n",
            "X has feature names, but SVC was fitted without feature names\n",
            "X has feature names, but SVC was fitted without feature names\n",
            "X has feature names, but SVC was fitted without feature names\n"
          ]
        },
        {
          "output_type": "stream",
          "name": "stdout",
          "text": [
            "Age:\n",
            "SVC(C=1000, gamma=0.01, probability=True): \n",
            "                                Unmitigated\n",
            "Equalized_odds_difference         0.236074\n",
            "Demographic parity difference     0.189744\n",
            "Demographic parity ratio          0.771605\n",
            "------                                    \n",
            "Overall balanced error rate       0.268868\n",
            "Balanced error rate difference    0.082323\n",
            " ------                                   \n",
            "False positive rate difference    0.236074\n",
            "False negative rate difference    0.157895\n",
            "Equalized odds difference         0.236074\n",
            "  ------                                  \n",
            "Overall AUC                       0.731132\n",
            "AUC difference                    0.082323 \n",
            "\n",
            "Age:\n",
            "SVC(C=1000, gamma=0.01, probability=True): \n",
            "           FPR       FNR       TPR       TNR\n",
            "Age                                        \n",
            "20   0.470588       0.0       1.0  0.529412\n",
            "30   0.384615  0.071429  0.928571  0.615385\n",
            "40       0.45  0.157895  0.842105      0.55\n",
            "60    0.62069       0.0       1.0   0.37931 \n",
            "\n"
          ]
        },
        {
          "output_type": "stream",
          "name": "stderr",
          "text": [
            "You have provided 'metrics', 'y_true', 'y_pred' as positional arguments. Please pass them as keyword arguments. From version 0.10.0 passing them as positional arguments will result in an error.\n"
          ]
        }
      ]
    },
    {
      "cell_type": "markdown",
      "source": [
        "#### 2. Adverserial debiasing (AIF360)\n",
        "Not used for report - needs to be further analyzed for the correct use/integration "
      ],
      "metadata": {
        "id": "4JU4oe4oz-c-"
      }
    },
    {
      "cell_type": "code",
      "source": [
        "metric_orig_train = BinaryLabelDatasetMetric(ds_train, \n",
        "                                            unprivileged_groups = unpriv,\n",
        "                                            privileged_groups = priv)\n",
        "display(Markdown(\"#### Original training dataset\"))\n",
        "print(\"Train set: Difference in mean outcomes between unprivileged and privileged groups = %f\" % metric_orig_train.mean_difference())\n",
        "metric_orig_test = BinaryLabelDatasetMetric(ds_test, \n",
        "                                            unprivileged_groups = unpriv,\n",
        "                                            privileged_groups = priv)\n",
        "print(\"Test set: Difference in mean outcomes between unprivileged and privileged groups = %f\" % metric_orig_test.mean_difference())"
      ],
      "metadata": {
        "colab": {
          "base_uri": "https://localhost:8080/",
          "height": 112
        },
        "id": "2zAX-HgoQO6-",
        "outputId": "6a71bade-60af-4475-8b1b-582c1b574a05"
      },
      "execution_count": 71,
      "outputs": [
        {
          "output_type": "display_data",
          "data": {
            "text/plain": [
              "<IPython.core.display.Markdown object>"
            ],
            "text/markdown": "#### Original training dataset"
          },
          "metadata": {}
        },
        {
          "output_type": "stream",
          "name": "stdout",
          "text": [
            "Train set: Difference in mean outcomes between unprivileged and privileged groups = 0.022774\n",
            "Test set: Difference in mean outcomes between unprivileged and privileged groups = -0.061123\n"
          ]
        }
      ]
    },
    {
      "cell_type": "code",
      "source": [
        "# Load post-processing algorithm that equalizes the odds\n",
        "# Learn parameters with debias set to False\n",
        "import tensorflow.compat.v1 as tf\n",
        "\n",
        "tf.disable_eager_execution()\n",
        "\n",
        "sess = tf.Session()\n",
        "sess.close()\n",
        "\n",
        "tf.reset_default_graph()\n",
        "sess = tf.Session()\n",
        "\n",
        "debiased_model = AdversarialDebiasing(privileged_groups = priv,\n",
        "                                                   unprivileged_groups = unpriv,\n",
        "                                                   scope_name = 'plain_classifier',\n",
        "                                                   debias = True,\n",
        "                                                   sess=sess)\n",
        "\n",
        "debiased_model.fit(ds_train)"
      ],
      "metadata": {
        "id": "MlYnPMw-RGvY"
      },
      "execution_count": null,
      "outputs": []
    },
    {
      "cell_type": "code",
      "source": [
        "# Apply the plain model to test data\n",
        "ds_debiasing_train = debiased_model.predict(ds_train)\n",
        "ds_debiasing_test = debiased_model.predict(ds_test)"
      ],
      "metadata": {
        "id": "Qy7dq_zjSyth"
      },
      "execution_count": 73,
      "outputs": []
    },
    {
      "cell_type": "code",
      "source": [
        "# Metrics for the dataset from model with debiasing\n",
        "display(Markdown(\"#### Model - with debiasing - dataset metrics\"))\n",
        "metric_dataset_debiasing_train = BinaryLabelDatasetMetric(ds_debiasing_train, \n",
        "                                                          privileged_groups = priv,\n",
        "                                                          unprivileged_groups = unpriv,)\n",
        "\n",
        "print(\"Train set: Difference in mean outcomes between unprivileged and privileged groups = %f\" % metric_dataset_debiasing_train.mean_difference())\n",
        "\n",
        "metric_dataset_debiasing_test = BinaryLabelDatasetMetric(ds_debiasing_test, \n",
        "                                                         privileged_groups = priv,\n",
        "                                                         unprivileged_groups = unpriv,)\n",
        "\n",
        "print(\"Test set: Difference in mean outcomes between unprivileged and privileged groups = %f\" % metric_dataset_debiasing_test.mean_difference())\n",
        "\n"
      ],
      "metadata": {
        "colab": {
          "base_uri": "https://localhost:8080/",
          "height": 112
        },
        "id": "i9yxtyU3Uzur",
        "outputId": "4ae4b131-099b-4798-c73a-ac11c8b57ff2"
      },
      "execution_count": 74,
      "outputs": [
        {
          "output_type": "display_data",
          "data": {
            "text/plain": [
              "<IPython.core.display.Markdown object>"
            ],
            "text/markdown": "#### Model - with debiasing - dataset metrics"
          },
          "metadata": {}
        },
        {
          "output_type": "stream",
          "name": "stdout",
          "text": [
            "Train set: Difference in mean outcomes between unprivileged and privileged groups = -0.097050\n",
            "Test set: Difference in mean outcomes between unprivileged and privileged groups = 0.055082\n"
          ]
        }
      ]
    },
    {
      "cell_type": "markdown",
      "source": [
        "https://nbviewer.org/github/Trusted-AI/AIF360/blob/master/examples/tutorial_medical_expenditure.ipynb#3.-Training-models-on-original-2015-Panel-19-data"
      ],
      "metadata": {
        "id": "XjmNWjB7laWz"
      }
    },
    {
      "cell_type": "markdown",
      "source": [
        "##### model evaluation\n"
      ],
      "metadata": {
        "id": "weKTkXl2Vy98"
      }
    },
    {
      "cell_type": "code",
      "source": [
        ""
      ],
      "metadata": {
        "id": "6vjc4ggCViZj"
      },
      "execution_count": null,
      "outputs": []
    },
    {
      "cell_type": "code",
      "source": [
        ""
      ],
      "metadata": {
        "id": "KHCyYOoLctcP"
      },
      "execution_count": null,
      "outputs": []
    },
    {
      "cell_type": "markdown",
      "source": [
        "#### Fair learn - post processign methods\n",
        "\n"
      ],
      "metadata": {
        "id": "NPQBrt0BBtH9"
      }
    },
    {
      "cell_type": "code",
      "source": [
        "# set test & train data & defining age as sensitive attribute\n",
        "X = df.drop(columns=['Age', 'fatiguestate'])\n",
        "y = df['fatiguestate']\n",
        "\n",
        "A = df[['Age']]\n",
        "\n",
        "# for fairnes measures (inlc. A for group classification, drop age to make it unaware to other senstive attributes (fairnes through unawarenes)) - AGE \n",
        "X_train, X_test, y_train, y_test, A_train, A_test, A_str_train, A_str_test = train_test_split(\n",
        "    X, \n",
        "    y, \n",
        "    A, \n",
        "    task_str,\n",
        "    test_size = 0.4, # increse number for more fairness \n",
        "    random_state=42)\n"
      ],
      "metadata": {
        "id": "xszIwx4z4BCN"
      },
      "execution_count": 75,
      "outputs": []
    },
    {
      "cell_type": "code",
      "source": [
        "# define metrics that want to be influenced\n",
        "metrics_dict = {\"false_negative_rate\": false_negative_rate,         \n",
        "                \"selection_rate\": selection_rate,\n",
        "                \"balanced_accuracy\": balanced_accuracy_score\n",
        "                ,}"
      ],
      "metadata": {
        "id": "UhkgUbY-5SJn"
      },
      "execution_count": 76,
      "outputs": []
    },
    {
      "cell_type": "code",
      "source": [
        "# train unmitigated pipeline & get results to compare with results later\n",
        "for cls in classifiers:\n",
        "  unmitigated_pipeline = Pipeline(steps=[(\"model\", cls)])\n",
        "\n",
        "  unmitigated_pipeline.fit(X_train, y_train)\n",
        "\n",
        "  Y_pred = unmitigated_pipeline.predict(X_test)\n",
        "\n",
        "  mf1 = MetricFrame(metrics=false_negative_rate,\n",
        "                    y_true=y_test,\n",
        "                    y_pred=Y_pred,\n",
        "                    sensitive_features=A_test)\n",
        "\n",
        "# The disaggregated metrics are stored in a pandas Series mf1.by_group:\n",
        "\n",
        "  print(f\"{cls}:\\n {mf1.by_group}\\n\"\n",
        "        f\"difference: {mf1.difference():.3}\\n\"\n",
        "        f\"ratio: {mf1.ratio():.3}\\n\"\n",
        "        f\"max across groups: {mf1.group_max():.3}\\n\"\n",
        "         f\"balanced_accuracy_score: {balanced_accuracy_score(y_test, Y_pred)}\\n\\n\")"
      ],
      "metadata": {
        "id": "v-KZK5x6Do7m",
        "colab": {
          "base_uri": "https://localhost:8080/"
        },
        "outputId": "80bd7e41-4832-4f9a-c028-2d45d0b09efc"
      },
      "execution_count": 78,
      "outputs": [
        {
          "output_type": "stream",
          "name": "stdout",
          "text": [
            "RandomForestClassifier():\n",
            " Age\n",
            "20    0.054054\n",
            "30         0.0\n",
            "40    0.105263\n",
            "60    0.166667\n",
            "Name: false_negative_rate, dtype: object\n",
            "difference: 0.167\n",
            "ratio: 0.0\n",
            "max across groups: 0.167\n",
            "balanced_accuracy_score: 0.8747051886792453\n",
            "\n",
            "\n",
            "LogisticRegression(random_state=42):\n",
            " Age\n",
            "20    0.486486\n",
            "30    0.071429\n",
            "40    0.263158\n",
            "60    0.388889\n",
            "Name: false_negative_rate, dtype: object\n",
            "difference: 0.415\n",
            "ratio: 0.147\n",
            "max across groups: 0.486\n",
            "balanced_accuracy_score: 0.7009630503144654\n",
            "\n",
            "\n",
            "SVC(C=1000, gamma=0.01, probability=True):\n",
            " Age\n",
            "20    0.594595\n",
            "30         0.5\n",
            "40    0.684211\n",
            "60    0.805556\n",
            "Name: false_negative_rate, dtype: object\n",
            "difference: 0.306\n",
            "ratio: 0.621\n",
            "max across groups: 0.806\n",
            "balanced_accuracy_score: 0.6442610062893082\n",
            "\n",
            "\n"
          ]
        },
        {
          "output_type": "stream",
          "name": "stderr",
          "text": [
            "lbfgs failed to converge (status=1):\n",
            "STOP: TOTAL NO. of ITERATIONS REACHED LIMIT.\n",
            "\n",
            "Increase the number of iterations (max_iter) or scale the data as shown in:\n",
            "    https://scikit-learn.org/stable/modules/preprocessing.html\n",
            "Please also refer to the documentation for alternative solver options:\n",
            "    https://scikit-learn.org/stable/modules/linear_model.html#logistic-regression\n"
          ]
        }
      ]
    },
    {
      "cell_type": "markdown",
      "source": [
        "#### 3. ExponentiatedGradient - reduction (fair learn)"
      ],
      "metadata": {
        "id": "2gTxoeNgn1Jx"
      }
    },
    {
      "cell_type": "code",
      "source": [
        "# train exponentialgradient for each classifier\n",
        "# get metrics resuts\n",
        "for cls in classifiers:\n",
        "  expgrad_est = ExponentiatedGradient(estimator=cls,\n",
        "                                    constraints=TruePositiveRateParity(difference_bound=0.07)) # for FNR 1-TPR\n",
        "  \n",
        "  expgrad_est.fit(X_train, y_train, sensitive_features=A_train)\n",
        "  \n",
        "  Y_pred_reductions = expgrad_est.predict(X_test, random_state=42)\n",
        "  \n",
        "  metricframe_reductions = MetricFrame(metrics=metrics_dict,\n",
        "                                       y_true=y_test,\n",
        "                                       y_pred=Y_pred_reductions,\n",
        "                                       sensitive_features=A_test)\n",
        "  metricframe_reductions.by_group\n",
        "\n",
        "  # Evaluate the difference between the largest and smallest value of each metric\n",
        "  print(f'{cls}:\\n',\n",
        "        f'{metricframe_reductions.difference()} \\n\\n')\n"
      ],
      "metadata": {
        "id": "IiK-YEdgyDCm",
        "colab": {
          "base_uri": "https://localhost:8080/"
        },
        "outputId": "2f03f040-110e-4b77-f91b-79e08200e20a"
      },
      "execution_count": 79,
      "outputs": [
        {
          "output_type": "stream",
          "name": "stderr",
          "text": [
            "Using the level keyword in DataFrame and Series aggregations is deprecated and will be removed in a future version. Use groupby instead. df.sum(level=1) should use df.groupby(level=1).sum().\n",
            "Using the level keyword in DataFrame and Series aggregations is deprecated and will be removed in a future version. Use groupby instead. df.sum(level=1) should use df.groupby(level=1).sum().\n",
            "Using the level keyword in DataFrame and Series aggregations is deprecated and will be removed in a future version. Use groupby instead. df.sum(level=1) should use df.groupby(level=1).sum().\n",
            "Using the level keyword in DataFrame and Series aggregations is deprecated and will be removed in a future version. Use groupby instead. df.sum(level=1) should use df.groupby(level=1).sum().\n",
            "Using the level keyword in DataFrame and Series aggregations is deprecated and will be removed in a future version. Use groupby instead. df.sum(level=1) should use df.groupby(level=1).sum().\n",
            "Using the level keyword in DataFrame and Series aggregations is deprecated and will be removed in a future version. Use groupby instead. df.sum(level=1) should use df.groupby(level=1).sum().\n",
            "Using the level keyword in DataFrame and Series aggregations is deprecated and will be removed in a future version. Use groupby instead. df.sum(level=1) should use df.groupby(level=1).sum().\n",
            "Using the level keyword in DataFrame and Series aggregations is deprecated and will be removed in a future version. Use groupby instead. df.sum(level=1) should use df.groupby(level=1).sum().\n",
            "Using the level keyword in DataFrame and Series aggregations is deprecated and will be removed in a future version. Use groupby instead. df.sum(level=1) should use df.groupby(level=1).sum().\n",
            "Using the level keyword in DataFrame and Series aggregations is deprecated and will be removed in a future version. Use groupby instead. df.sum(level=1) should use df.groupby(level=1).sum().\n",
            "Using the level keyword in DataFrame and Series aggregations is deprecated and will be removed in a future version. Use groupby instead. df.sum(level=1) should use df.groupby(level=1).sum().\n",
            "Using the level keyword in DataFrame and Series aggregations is deprecated and will be removed in a future version. Use groupby instead. df.sum(level=1) should use df.groupby(level=1).sum().\n",
            "Using the level keyword in DataFrame and Series aggregations is deprecated and will be removed in a future version. Use groupby instead. df.sum(level=1) should use df.groupby(level=1).sum().\n",
            "Using the level keyword in DataFrame and Series aggregations is deprecated and will be removed in a future version. Use groupby instead. df.sum(level=1) should use df.groupby(level=1).sum().\n",
            "Using the level keyword in DataFrame and Series aggregations is deprecated and will be removed in a future version. Use groupby instead. df.sum(level=1) should use df.groupby(level=1).sum().\n",
            "Using the level keyword in DataFrame and Series aggregations is deprecated and will be removed in a future version. Use groupby instead. df.sum(level=1) should use df.groupby(level=1).sum().\n",
            "Using the level keyword in DataFrame and Series aggregations is deprecated and will be removed in a future version. Use groupby instead. df.sum(level=1) should use df.groupby(level=1).sum().\n",
            "Using the level keyword in DataFrame and Series aggregations is deprecated and will be removed in a future version. Use groupby instead. df.sum(level=1) should use df.groupby(level=1).sum().\n",
            "Using the level keyword in DataFrame and Series aggregations is deprecated and will be removed in a future version. Use groupby instead. df.sum(level=1) should use df.groupby(level=1).sum().\n",
            "Using the level keyword in DataFrame and Series aggregations is deprecated and will be removed in a future version. Use groupby instead. df.sum(level=1) should use df.groupby(level=1).sum().\n",
            "Using the level keyword in DataFrame and Series aggregations is deprecated and will be removed in a future version. Use groupby instead. df.sum(level=1) should use df.groupby(level=1).sum().\n",
            "Using the level keyword in DataFrame and Series aggregations is deprecated and will be removed in a future version. Use groupby instead. df.sum(level=1) should use df.groupby(level=1).sum().\n",
            "Using the level keyword in DataFrame and Series aggregations is deprecated and will be removed in a future version. Use groupby instead. df.sum(level=1) should use df.groupby(level=1).sum().\n",
            "Using the level keyword in DataFrame and Series aggregations is deprecated and will be removed in a future version. Use groupby instead. df.sum(level=1) should use df.groupby(level=1).sum().\n",
            "Using the level keyword in DataFrame and Series aggregations is deprecated and will be removed in a future version. Use groupby instead. df.sum(level=1) should use df.groupby(level=1).sum().\n",
            "Using the level keyword in DataFrame and Series aggregations is deprecated and will be removed in a future version. Use groupby instead. df.sum(level=1) should use df.groupby(level=1).sum().\n",
            "Using the level keyword in DataFrame and Series aggregations is deprecated and will be removed in a future version. Use groupby instead. df.sum(level=1) should use df.groupby(level=1).sum().\n",
            "Using the level keyword in DataFrame and Series aggregations is deprecated and will be removed in a future version. Use groupby instead. df.sum(level=1) should use df.groupby(level=1).sum().\n",
            "Using the level keyword in DataFrame and Series aggregations is deprecated and will be removed in a future version. Use groupby instead. df.sum(level=1) should use df.groupby(level=1).sum().\n",
            "Using the level keyword in DataFrame and Series aggregations is deprecated and will be removed in a future version. Use groupby instead. df.sum(level=1) should use df.groupby(level=1).sum().\n",
            "Using the level keyword in DataFrame and Series aggregations is deprecated and will be removed in a future version. Use groupby instead. df.sum(level=1) should use df.groupby(level=1).sum().\n",
            "Using the level keyword in DataFrame and Series aggregations is deprecated and will be removed in a future version. Use groupby instead. df.sum(level=1) should use df.groupby(level=1).sum().\n",
            "Using the level keyword in DataFrame and Series aggregations is deprecated and will be removed in a future version. Use groupby instead. df.sum(level=1) should use df.groupby(level=1).sum().\n",
            "Using the level keyword in DataFrame and Series aggregations is deprecated and will be removed in a future version. Use groupby instead. df.sum(level=1) should use df.groupby(level=1).sum().\n",
            "Using the level keyword in DataFrame and Series aggregations is deprecated and will be removed in a future version. Use groupby instead. df.sum(level=1) should use df.groupby(level=1).sum().\n",
            "Using the level keyword in DataFrame and Series aggregations is deprecated and will be removed in a future version. Use groupby instead. df.sum(level=1) should use df.groupby(level=1).sum().\n",
            "Using the level keyword in DataFrame and Series aggregations is deprecated and will be removed in a future version. Use groupby instead. df.sum(level=1) should use df.groupby(level=1).sum().\n",
            "Using the level keyword in DataFrame and Series aggregations is deprecated and will be removed in a future version. Use groupby instead. df.sum(level=1) should use df.groupby(level=1).sum().\n",
            "Using the level keyword in DataFrame and Series aggregations is deprecated and will be removed in a future version. Use groupby instead. df.sum(level=1) should use df.groupby(level=1).sum().\n",
            "Using the level keyword in DataFrame and Series aggregations is deprecated and will be removed in a future version. Use groupby instead. df.sum(level=1) should use df.groupby(level=1).sum().\n",
            "Using the level keyword in DataFrame and Series aggregations is deprecated and will be removed in a future version. Use groupby instead. df.sum(level=1) should use df.groupby(level=1).sum().\n",
            "Using the level keyword in DataFrame and Series aggregations is deprecated and will be removed in a future version. Use groupby instead. df.sum(level=1) should use df.groupby(level=1).sum().\n",
            "Using the level keyword in DataFrame and Series aggregations is deprecated and will be removed in a future version. Use groupby instead. df.sum(level=1) should use df.groupby(level=1).sum().\n",
            "Using the level keyword in DataFrame and Series aggregations is deprecated and will be removed in a future version. Use groupby instead. df.sum(level=1) should use df.groupby(level=1).sum().\n",
            "Using the level keyword in DataFrame and Series aggregations is deprecated and will be removed in a future version. Use groupby instead. df.sum(level=1) should use df.groupby(level=1).sum().\n",
            "Using the level keyword in DataFrame and Series aggregations is deprecated and will be removed in a future version. Use groupby instead. df.sum(level=1) should use df.groupby(level=1).sum().\n",
            "Using the level keyword in DataFrame and Series aggregations is deprecated and will be removed in a future version. Use groupby instead. df.sum(level=1) should use df.groupby(level=1).sum().\n",
            "Using the level keyword in DataFrame and Series aggregations is deprecated and will be removed in a future version. Use groupby instead. df.sum(level=1) should use df.groupby(level=1).sum().\n",
            "Using the level keyword in DataFrame and Series aggregations is deprecated and will be removed in a future version. Use groupby instead. df.sum(level=1) should use df.groupby(level=1).sum().\n",
            "Using the level keyword in DataFrame and Series aggregations is deprecated and will be removed in a future version. Use groupby instead. df.sum(level=1) should use df.groupby(level=1).sum().\n",
            "Using the level keyword in DataFrame and Series aggregations is deprecated and will be removed in a future version. Use groupby instead. df.sum(level=1) should use df.groupby(level=1).sum().\n",
            "Using the level keyword in DataFrame and Series aggregations is deprecated and will be removed in a future version. Use groupby instead. df.sum(level=1) should use df.groupby(level=1).sum().\n",
            "Using the level keyword in DataFrame and Series aggregations is deprecated and will be removed in a future version. Use groupby instead. df.sum(level=1) should use df.groupby(level=1).sum().\n",
            "Using the level keyword in DataFrame and Series aggregations is deprecated and will be removed in a future version. Use groupby instead. df.sum(level=1) should use df.groupby(level=1).sum().\n",
            "Using the level keyword in DataFrame and Series aggregations is deprecated and will be removed in a future version. Use groupby instead. df.sum(level=1) should use df.groupby(level=1).sum().\n",
            "Using the level keyword in DataFrame and Series aggregations is deprecated and will be removed in a future version. Use groupby instead. df.sum(level=1) should use df.groupby(level=1).sum().\n",
            "Using the level keyword in DataFrame and Series aggregations is deprecated and will be removed in a future version. Use groupby instead. df.sum(level=1) should use df.groupby(level=1).sum().\n",
            "Using the level keyword in DataFrame and Series aggregations is deprecated and will be removed in a future version. Use groupby instead. df.sum(level=1) should use df.groupby(level=1).sum().\n",
            "Using the level keyword in DataFrame and Series aggregations is deprecated and will be removed in a future version. Use groupby instead. df.sum(level=1) should use df.groupby(level=1).sum().\n",
            "Using the level keyword in DataFrame and Series aggregations is deprecated and will be removed in a future version. Use groupby instead. df.sum(level=1) should use df.groupby(level=1).sum().\n",
            "Using the level keyword in DataFrame and Series aggregations is deprecated and will be removed in a future version. Use groupby instead. df.sum(level=1) should use df.groupby(level=1).sum().\n",
            "Using the level keyword in DataFrame and Series aggregations is deprecated and will be removed in a future version. Use groupby instead. df.sum(level=1) should use df.groupby(level=1).sum().\n",
            "Using the level keyword in DataFrame and Series aggregations is deprecated and will be removed in a future version. Use groupby instead. df.sum(level=1) should use df.groupby(level=1).sum().\n",
            "Using the level keyword in DataFrame and Series aggregations is deprecated and will be removed in a future version. Use groupby instead. df.sum(level=1) should use df.groupby(level=1).sum().\n",
            "Using the level keyword in DataFrame and Series aggregations is deprecated and will be removed in a future version. Use groupby instead. df.sum(level=1) should use df.groupby(level=1).sum().\n",
            "Using the level keyword in DataFrame and Series aggregations is deprecated and will be removed in a future version. Use groupby instead. df.sum(level=1) should use df.groupby(level=1).sum().\n",
            "Using the level keyword in DataFrame and Series aggregations is deprecated and will be removed in a future version. Use groupby instead. df.sum(level=1) should use df.groupby(level=1).sum().\n",
            "Using the level keyword in DataFrame and Series aggregations is deprecated and will be removed in a future version. Use groupby instead. df.sum(level=1) should use df.groupby(level=1).sum().\n",
            "Using the level keyword in DataFrame and Series aggregations is deprecated and will be removed in a future version. Use groupby instead. df.sum(level=1) should use df.groupby(level=1).sum().\n",
            "Using the level keyword in DataFrame and Series aggregations is deprecated and will be removed in a future version. Use groupby instead. df.sum(level=1) should use df.groupby(level=1).sum().\n",
            "Using the level keyword in DataFrame and Series aggregations is deprecated and will be removed in a future version. Use groupby instead. df.sum(level=1) should use df.groupby(level=1).sum().\n",
            "Using the level keyword in DataFrame and Series aggregations is deprecated and will be removed in a future version. Use groupby instead. df.sum(level=1) should use df.groupby(level=1).sum().\n",
            "Using the level keyword in DataFrame and Series aggregations is deprecated and will be removed in a future version. Use groupby instead. df.sum(level=1) should use df.groupby(level=1).sum().\n",
            "Using the level keyword in DataFrame and Series aggregations is deprecated and will be removed in a future version. Use groupby instead. df.sum(level=1) should use df.groupby(level=1).sum().\n",
            "Using the level keyword in DataFrame and Series aggregations is deprecated and will be removed in a future version. Use groupby instead. df.sum(level=1) should use df.groupby(level=1).sum().\n",
            "Using the level keyword in DataFrame and Series aggregations is deprecated and will be removed in a future version. Use groupby instead. df.sum(level=1) should use df.groupby(level=1).sum().\n",
            "Using the level keyword in DataFrame and Series aggregations is deprecated and will be removed in a future version. Use groupby instead. df.sum(level=1) should use df.groupby(level=1).sum().\n",
            "Using the level keyword in DataFrame and Series aggregations is deprecated and will be removed in a future version. Use groupby instead. df.sum(level=1) should use df.groupby(level=1).sum().\n",
            "Using the level keyword in DataFrame and Series aggregations is deprecated and will be removed in a future version. Use groupby instead. df.sum(level=1) should use df.groupby(level=1).sum().\n",
            "Using the level keyword in DataFrame and Series aggregations is deprecated and will be removed in a future version. Use groupby instead. df.sum(level=1) should use df.groupby(level=1).sum().\n",
            "Using the level keyword in DataFrame and Series aggregations is deprecated and will be removed in a future version. Use groupby instead. df.sum(level=1) should use df.groupby(level=1).sum().\n",
            "Using the level keyword in DataFrame and Series aggregations is deprecated and will be removed in a future version. Use groupby instead. df.sum(level=1) should use df.groupby(level=1).sum().\n",
            "Using the level keyword in DataFrame and Series aggregations is deprecated and will be removed in a future version. Use groupby instead. df.sum(level=1) should use df.groupby(level=1).sum().\n",
            "Using the level keyword in DataFrame and Series aggregations is deprecated and will be removed in a future version. Use groupby instead. df.sum(level=1) should use df.groupby(level=1).sum().\n",
            "Using the level keyword in DataFrame and Series aggregations is deprecated and will be removed in a future version. Use groupby instead. df.sum(level=1) should use df.groupby(level=1).sum().\n",
            "Using the level keyword in DataFrame and Series aggregations is deprecated and will be removed in a future version. Use groupby instead. df.sum(level=1) should use df.groupby(level=1).sum().\n",
            "Using the level keyword in DataFrame and Series aggregations is deprecated and will be removed in a future version. Use groupby instead. df.sum(level=1) should use df.groupby(level=1).sum().\n",
            "Using the level keyword in DataFrame and Series aggregations is deprecated and will be removed in a future version. Use groupby instead. df.sum(level=1) should use df.groupby(level=1).sum().\n",
            "Using the level keyword in DataFrame and Series aggregations is deprecated and will be removed in a future version. Use groupby instead. df.sum(level=1) should use df.groupby(level=1).sum().\n",
            "Using the level keyword in DataFrame and Series aggregations is deprecated and will be removed in a future version. Use groupby instead. df.sum(level=1) should use df.groupby(level=1).sum().\n",
            "Using the level keyword in DataFrame and Series aggregations is deprecated and will be removed in a future version. Use groupby instead. df.sum(level=1) should use df.groupby(level=1).sum().\n",
            "Using the level keyword in DataFrame and Series aggregations is deprecated and will be removed in a future version. Use groupby instead. df.sum(level=1) should use df.groupby(level=1).sum().\n",
            "Using the level keyword in DataFrame and Series aggregations is deprecated and will be removed in a future version. Use groupby instead. df.sum(level=1) should use df.groupby(level=1).sum().\n",
            "Using the level keyword in DataFrame and Series aggregations is deprecated and will be removed in a future version. Use groupby instead. df.sum(level=1) should use df.groupby(level=1).sum().\n",
            "Using the level keyword in DataFrame and Series aggregations is deprecated and will be removed in a future version. Use groupby instead. df.sum(level=1) should use df.groupby(level=1).sum().\n",
            "Using the level keyword in DataFrame and Series aggregations is deprecated and will be removed in a future version. Use groupby instead. df.sum(level=1) should use df.groupby(level=1).sum().\n",
            "Using the level keyword in DataFrame and Series aggregations is deprecated and will be removed in a future version. Use groupby instead. df.sum(level=1) should use df.groupby(level=1).sum().\n",
            "Using the level keyword in DataFrame and Series aggregations is deprecated and will be removed in a future version. Use groupby instead. df.sum(level=1) should use df.groupby(level=1).sum().\n",
            "Using the level keyword in DataFrame and Series aggregations is deprecated and will be removed in a future version. Use groupby instead. df.sum(level=1) should use df.groupby(level=1).sum().\n",
            "Using the level keyword in DataFrame and Series aggregations is deprecated and will be removed in a future version. Use groupby instead. df.sum(level=1) should use df.groupby(level=1).sum().\n",
            "Using the level keyword in DataFrame and Series aggregations is deprecated and will be removed in a future version. Use groupby instead. df.sum(level=1) should use df.groupby(level=1).sum().\n",
            "Using the level keyword in DataFrame and Series aggregations is deprecated and will be removed in a future version. Use groupby instead. df.sum(level=1) should use df.groupby(level=1).sum().\n",
            "Using the level keyword in DataFrame and Series aggregations is deprecated and will be removed in a future version. Use groupby instead. df.sum(level=1) should use df.groupby(level=1).sum().\n",
            "Using the level keyword in DataFrame and Series aggregations is deprecated and will be removed in a future version. Use groupby instead. df.sum(level=1) should use df.groupby(level=1).sum().\n",
            "Using the level keyword in DataFrame and Series aggregations is deprecated and will be removed in a future version. Use groupby instead. df.sum(level=1) should use df.groupby(level=1).sum().\n",
            "Using the level keyword in DataFrame and Series aggregations is deprecated and will be removed in a future version. Use groupby instead. df.sum(level=1) should use df.groupby(level=1).sum().\n",
            "Using the level keyword in DataFrame and Series aggregations is deprecated and will be removed in a future version. Use groupby instead. df.sum(level=1) should use df.groupby(level=1).sum().\n",
            "Using the level keyword in DataFrame and Series aggregations is deprecated and will be removed in a future version. Use groupby instead. df.sum(level=1) should use df.groupby(level=1).sum().\n",
            "Using the level keyword in DataFrame and Series aggregations is deprecated and will be removed in a future version. Use groupby instead. df.sum(level=1) should use df.groupby(level=1).sum().\n",
            "Using the level keyword in DataFrame and Series aggregations is deprecated and will be removed in a future version. Use groupby instead. df.sum(level=1) should use df.groupby(level=1).sum().\n",
            "Using the level keyword in DataFrame and Series aggregations is deprecated and will be removed in a future version. Use groupby instead. df.sum(level=1) should use df.groupby(level=1).sum().\n",
            "Using the level keyword in DataFrame and Series aggregations is deprecated and will be removed in a future version. Use groupby instead. df.sum(level=1) should use df.groupby(level=1).sum().\n",
            "Using the level keyword in DataFrame and Series aggregations is deprecated and will be removed in a future version. Use groupby instead. df.sum(level=1) should use df.groupby(level=1).sum().\n",
            "Using the level keyword in DataFrame and Series aggregations is deprecated and will be removed in a future version. Use groupby instead. df.sum(level=1) should use df.groupby(level=1).sum().\n",
            "Using the level keyword in DataFrame and Series aggregations is deprecated and will be removed in a future version. Use groupby instead. df.sum(level=1) should use df.groupby(level=1).sum().\n",
            "Using the level keyword in DataFrame and Series aggregations is deprecated and will be removed in a future version. Use groupby instead. df.sum(level=1) should use df.groupby(level=1).sum().\n",
            "Using the level keyword in DataFrame and Series aggregations is deprecated and will be removed in a future version. Use groupby instead. df.sum(level=1) should use df.groupby(level=1).sum().\n",
            "Using the level keyword in DataFrame and Series aggregations is deprecated and will be removed in a future version. Use groupby instead. df.sum(level=1) should use df.groupby(level=1).sum().\n",
            "Using the level keyword in DataFrame and Series aggregations is deprecated and will be removed in a future version. Use groupby instead. df.sum(level=1) should use df.groupby(level=1).sum().\n",
            "Using the level keyword in DataFrame and Series aggregations is deprecated and will be removed in a future version. Use groupby instead. df.sum(level=1) should use df.groupby(level=1).sum().\n",
            "Using the level keyword in DataFrame and Series aggregations is deprecated and will be removed in a future version. Use groupby instead. df.sum(level=1) should use df.groupby(level=1).sum().\n",
            "Using the level keyword in DataFrame and Series aggregations is deprecated and will be removed in a future version. Use groupby instead. df.sum(level=1) should use df.groupby(level=1).sum().\n",
            "Using the level keyword in DataFrame and Series aggregations is deprecated and will be removed in a future version. Use groupby instead. df.sum(level=1) should use df.groupby(level=1).sum().\n",
            "Using the level keyword in DataFrame and Series aggregations is deprecated and will be removed in a future version. Use groupby instead. df.sum(level=1) should use df.groupby(level=1).sum().\n",
            "Using the level keyword in DataFrame and Series aggregations is deprecated and will be removed in a future version. Use groupby instead. df.sum(level=1) should use df.groupby(level=1).sum().\n",
            "Using the level keyword in DataFrame and Series aggregations is deprecated and will be removed in a future version. Use groupby instead. df.sum(level=1) should use df.groupby(level=1).sum().\n",
            "Using the level keyword in DataFrame and Series aggregations is deprecated and will be removed in a future version. Use groupby instead. df.sum(level=1) should use df.groupby(level=1).sum().\n",
            "Using the level keyword in DataFrame and Series aggregations is deprecated and will be removed in a future version. Use groupby instead. df.sum(level=1) should use df.groupby(level=1).sum().\n",
            "Using the level keyword in DataFrame and Series aggregations is deprecated and will be removed in a future version. Use groupby instead. df.sum(level=1) should use df.groupby(level=1).sum().\n",
            "Using the level keyword in DataFrame and Series aggregations is deprecated and will be removed in a future version. Use groupby instead. df.sum(level=1) should use df.groupby(level=1).sum().\n",
            "Using the level keyword in DataFrame and Series aggregations is deprecated and will be removed in a future version. Use groupby instead. df.sum(level=1) should use df.groupby(level=1).sum().\n",
            "Using the level keyword in DataFrame and Series aggregations is deprecated and will be removed in a future version. Use groupby instead. df.sum(level=1) should use df.groupby(level=1).sum().\n",
            "Using the level keyword in DataFrame and Series aggregations is deprecated and will be removed in a future version. Use groupby instead. df.sum(level=1) should use df.groupby(level=1).sum().\n",
            "Using the level keyword in DataFrame and Series aggregations is deprecated and will be removed in a future version. Use groupby instead. df.sum(level=1) should use df.groupby(level=1).sum().\n",
            "Using the level keyword in DataFrame and Series aggregations is deprecated and will be removed in a future version. Use groupby instead. df.sum(level=1) should use df.groupby(level=1).sum().\n",
            "Using the level keyword in DataFrame and Series aggregations is deprecated and will be removed in a future version. Use groupby instead. df.sum(level=1) should use df.groupby(level=1).sum().\n",
            "Using the level keyword in DataFrame and Series aggregations is deprecated and will be removed in a future version. Use groupby instead. df.sum(level=1) should use df.groupby(level=1).sum().\n",
            "Using the level keyword in DataFrame and Series aggregations is deprecated and will be removed in a future version. Use groupby instead. df.sum(level=1) should use df.groupby(level=1).sum().\n",
            "Using the level keyword in DataFrame and Series aggregations is deprecated and will be removed in a future version. Use groupby instead. df.sum(level=1) should use df.groupby(level=1).sum().\n",
            "Using the level keyword in DataFrame and Series aggregations is deprecated and will be removed in a future version. Use groupby instead. df.sum(level=1) should use df.groupby(level=1).sum().\n",
            "Using the level keyword in DataFrame and Series aggregations is deprecated and will be removed in a future version. Use groupby instead. df.sum(level=1) should use df.groupby(level=1).sum().\n",
            "Using the level keyword in DataFrame and Series aggregations is deprecated and will be removed in a future version. Use groupby instead. df.sum(level=1) should use df.groupby(level=1).sum().\n",
            "Using the level keyword in DataFrame and Series aggregations is deprecated and will be removed in a future version. Use groupby instead. df.sum(level=1) should use df.groupby(level=1).sum().\n",
            "Using the level keyword in DataFrame and Series aggregations is deprecated and will be removed in a future version. Use groupby instead. df.sum(level=1) should use df.groupby(level=1).sum().\n",
            "Using the level keyword in DataFrame and Series aggregations is deprecated and will be removed in a future version. Use groupby instead. df.sum(level=1) should use df.groupby(level=1).sum().\n",
            "Using the level keyword in DataFrame and Series aggregations is deprecated and will be removed in a future version. Use groupby instead. df.sum(level=1) should use df.groupby(level=1).sum().\n",
            "Using the level keyword in DataFrame and Series aggregations is deprecated and will be removed in a future version. Use groupby instead. df.sum(level=1) should use df.groupby(level=1).sum().\n",
            "Using the level keyword in DataFrame and Series aggregations is deprecated and will be removed in a future version. Use groupby instead. df.sum(level=1) should use df.groupby(level=1).sum().\n",
            "Using the level keyword in DataFrame and Series aggregations is deprecated and will be removed in a future version. Use groupby instead. df.sum(level=1) should use df.groupby(level=1).sum().\n",
            "Using the level keyword in DataFrame and Series aggregations is deprecated and will be removed in a future version. Use groupby instead. df.sum(level=1) should use df.groupby(level=1).sum().\n",
            "Using the level keyword in DataFrame and Series aggregations is deprecated and will be removed in a future version. Use groupby instead. df.sum(level=1) should use df.groupby(level=1).sum().\n",
            "Using the level keyword in DataFrame and Series aggregations is deprecated and will be removed in a future version. Use groupby instead. df.sum(level=1) should use df.groupby(level=1).sum().\n",
            "Using the level keyword in DataFrame and Series aggregations is deprecated and will be removed in a future version. Use groupby instead. df.sum(level=1) should use df.groupby(level=1).sum().\n",
            "Using the level keyword in DataFrame and Series aggregations is deprecated and will be removed in a future version. Use groupby instead. df.sum(level=1) should use df.groupby(level=1).sum().\n",
            "Using the level keyword in DataFrame and Series aggregations is deprecated and will be removed in a future version. Use groupby instead. df.sum(level=1) should use df.groupby(level=1).sum().\n",
            "Using the level keyword in DataFrame and Series aggregations is deprecated and will be removed in a future version. Use groupby instead. df.sum(level=1) should use df.groupby(level=1).sum().\n",
            "Using the level keyword in DataFrame and Series aggregations is deprecated and will be removed in a future version. Use groupby instead. df.sum(level=1) should use df.groupby(level=1).sum().\n",
            "Using the level keyword in DataFrame and Series aggregations is deprecated and will be removed in a future version. Use groupby instead. df.sum(level=1) should use df.groupby(level=1).sum().\n",
            "Using the level keyword in DataFrame and Series aggregations is deprecated and will be removed in a future version. Use groupby instead. df.sum(level=1) should use df.groupby(level=1).sum().\n",
            "Using the level keyword in DataFrame and Series aggregations is deprecated and will be removed in a future version. Use groupby instead. df.sum(level=1) should use df.groupby(level=1).sum().\n",
            "Using the level keyword in DataFrame and Series aggregations is deprecated and will be removed in a future version. Use groupby instead. df.sum(level=1) should use df.groupby(level=1).sum().\n",
            "Using the level keyword in DataFrame and Series aggregations is deprecated and will be removed in a future version. Use groupby instead. df.sum(level=1) should use df.groupby(level=1).sum().\n",
            "Using the level keyword in DataFrame and Series aggregations is deprecated and will be removed in a future version. Use groupby instead. df.sum(level=1) should use df.groupby(level=1).sum().\n",
            "Using the level keyword in DataFrame and Series aggregations is deprecated and will be removed in a future version. Use groupby instead. df.sum(level=1) should use df.groupby(level=1).sum().\n",
            "Using the level keyword in DataFrame and Series aggregations is deprecated and will be removed in a future version. Use groupby instead. df.sum(level=1) should use df.groupby(level=1).sum().\n",
            "Using the level keyword in DataFrame and Series aggregations is deprecated and will be removed in a future version. Use groupby instead. df.sum(level=1) should use df.groupby(level=1).sum().\n",
            "Using the level keyword in DataFrame and Series aggregations is deprecated and will be removed in a future version. Use groupby instead. df.sum(level=1) should use df.groupby(level=1).sum().\n",
            "Using the level keyword in DataFrame and Series aggregations is deprecated and will be removed in a future version. Use groupby instead. df.sum(level=1) should use df.groupby(level=1).sum().\n",
            "Using the level keyword in DataFrame and Series aggregations is deprecated and will be removed in a future version. Use groupby instead. df.sum(level=1) should use df.groupby(level=1).sum().\n",
            "Using the level keyword in DataFrame and Series aggregations is deprecated and will be removed in a future version. Use groupby instead. df.sum(level=1) should use df.groupby(level=1).sum().\n",
            "Using the level keyword in DataFrame and Series aggregations is deprecated and will be removed in a future version. Use groupby instead. df.sum(level=1) should use df.groupby(level=1).sum().\n",
            "Using the level keyword in DataFrame and Series aggregations is deprecated and will be removed in a future version. Use groupby instead. df.sum(level=1) should use df.groupby(level=1).sum().\n",
            "Using the level keyword in DataFrame and Series aggregations is deprecated and will be removed in a future version. Use groupby instead. df.sum(level=1) should use df.groupby(level=1).sum().\n",
            "Using the level keyword in DataFrame and Series aggregations is deprecated and will be removed in a future version. Use groupby instead. df.sum(level=1) should use df.groupby(level=1).sum().\n",
            "Using the level keyword in DataFrame and Series aggregations is deprecated and will be removed in a future version. Use groupby instead. df.sum(level=1) should use df.groupby(level=1).sum().\n",
            "Using the level keyword in DataFrame and Series aggregations is deprecated and will be removed in a future version. Use groupby instead. df.sum(level=1) should use df.groupby(level=1).sum().\n",
            "Using the level keyword in DataFrame and Series aggregations is deprecated and will be removed in a future version. Use groupby instead. df.sum(level=1) should use df.groupby(level=1).sum().\n",
            "Using the level keyword in DataFrame and Series aggregations is deprecated and will be removed in a future version. Use groupby instead. df.sum(level=1) should use df.groupby(level=1).sum().\n",
            "Using the level keyword in DataFrame and Series aggregations is deprecated and will be removed in a future version. Use groupby instead. df.sum(level=1) should use df.groupby(level=1).sum().\n",
            "Using the level keyword in DataFrame and Series aggregations is deprecated and will be removed in a future version. Use groupby instead. df.sum(level=1) should use df.groupby(level=1).sum().\n",
            "Using the level keyword in DataFrame and Series aggregations is deprecated and will be removed in a future version. Use groupby instead. df.sum(level=1) should use df.groupby(level=1).sum().\n",
            "Using the level keyword in DataFrame and Series aggregations is deprecated and will be removed in a future version. Use groupby instead. df.sum(level=1) should use df.groupby(level=1).sum().\n",
            "Using the level keyword in DataFrame and Series aggregations is deprecated and will be removed in a future version. Use groupby instead. df.sum(level=1) should use df.groupby(level=1).sum().\n",
            "Using the level keyword in DataFrame and Series aggregations is deprecated and will be removed in a future version. Use groupby instead. df.sum(level=1) should use df.groupby(level=1).sum().\n",
            "Using the level keyword in DataFrame and Series aggregations is deprecated and will be removed in a future version. Use groupby instead. df.sum(level=1) should use df.groupby(level=1).sum().\n",
            "Using the level keyword in DataFrame and Series aggregations is deprecated and will be removed in a future version. Use groupby instead. df.sum(level=1) should use df.groupby(level=1).sum().\n",
            "Using the level keyword in DataFrame and Series aggregations is deprecated and will be removed in a future version. Use groupby instead. df.sum(level=1) should use df.groupby(level=1).sum().\n",
            "Using the level keyword in DataFrame and Series aggregations is deprecated and will be removed in a future version. Use groupby instead. df.sum(level=1) should use df.groupby(level=1).sum().\n",
            "Using the level keyword in DataFrame and Series aggregations is deprecated and will be removed in a future version. Use groupby instead. df.sum(level=1) should use df.groupby(level=1).sum().\n",
            "Using the level keyword in DataFrame and Series aggregations is deprecated and will be removed in a future version. Use groupby instead. df.sum(level=1) should use df.groupby(level=1).sum().\n",
            "Using the level keyword in DataFrame and Series aggregations is deprecated and will be removed in a future version. Use groupby instead. df.sum(level=1) should use df.groupby(level=1).sum().\n",
            "Using the level keyword in DataFrame and Series aggregations is deprecated and will be removed in a future version. Use groupby instead. df.sum(level=1) should use df.groupby(level=1).sum().\n",
            "Using the level keyword in DataFrame and Series aggregations is deprecated and will be removed in a future version. Use groupby instead. df.sum(level=1) should use df.groupby(level=1).sum().\n",
            "Using the level keyword in DataFrame and Series aggregations is deprecated and will be removed in a future version. Use groupby instead. df.sum(level=1) should use df.groupby(level=1).sum().\n",
            "Using the level keyword in DataFrame and Series aggregations is deprecated and will be removed in a future version. Use groupby instead. df.sum(level=1) should use df.groupby(level=1).sum().\n",
            "Using the level keyword in DataFrame and Series aggregations is deprecated and will be removed in a future version. Use groupby instead. df.sum(level=1) should use df.groupby(level=1).sum().\n",
            "Using the level keyword in DataFrame and Series aggregations is deprecated and will be removed in a future version. Use groupby instead. df.sum(level=1) should use df.groupby(level=1).sum().\n",
            "Using the level keyword in DataFrame and Series aggregations is deprecated and will be removed in a future version. Use groupby instead. df.sum(level=1) should use df.groupby(level=1).sum().\n",
            "Using the level keyword in DataFrame and Series aggregations is deprecated and will be removed in a future version. Use groupby instead. df.sum(level=1) should use df.groupby(level=1).sum().\n",
            "Using the level keyword in DataFrame and Series aggregations is deprecated and will be removed in a future version. Use groupby instead. df.sum(level=1) should use df.groupby(level=1).sum().\n",
            "Using the level keyword in DataFrame and Series aggregations is deprecated and will be removed in a future version. Use groupby instead. df.sum(level=1) should use df.groupby(level=1).sum().\n",
            "Using the level keyword in DataFrame and Series aggregations is deprecated and will be removed in a future version. Use groupby instead. df.sum(level=1) should use df.groupby(level=1).sum().\n",
            "Using the level keyword in DataFrame and Series aggregations is deprecated and will be removed in a future version. Use groupby instead. df.sum(level=1) should use df.groupby(level=1).sum().\n",
            "Using the level keyword in DataFrame and Series aggregations is deprecated and will be removed in a future version. Use groupby instead. df.sum(level=1) should use df.groupby(level=1).sum().\n",
            "Using the level keyword in DataFrame and Series aggregations is deprecated and will be removed in a future version. Use groupby instead. df.sum(level=1) should use df.groupby(level=1).sum().\n",
            "Using the level keyword in DataFrame and Series aggregations is deprecated and will be removed in a future version. Use groupby instead. df.sum(level=1) should use df.groupby(level=1).sum().\n",
            "Using the level keyword in DataFrame and Series aggregations is deprecated and will be removed in a future version. Use groupby instead. df.sum(level=1) should use df.groupby(level=1).sum().\n",
            "Using the level keyword in DataFrame and Series aggregations is deprecated and will be removed in a future version. Use groupby instead. df.sum(level=1) should use df.groupby(level=1).sum().\n",
            "Using the level keyword in DataFrame and Series aggregations is deprecated and will be removed in a future version. Use groupby instead. df.sum(level=1) should use df.groupby(level=1).sum().\n",
            "Using the level keyword in DataFrame and Series aggregations is deprecated and will be removed in a future version. Use groupby instead. df.sum(level=1) should use df.groupby(level=1).sum().\n",
            "Using the level keyword in DataFrame and Series aggregations is deprecated and will be removed in a future version. Use groupby instead. df.sum(level=1) should use df.groupby(level=1).sum().\n",
            "Using the level keyword in DataFrame and Series aggregations is deprecated and will be removed in a future version. Use groupby instead. df.sum(level=1) should use df.groupby(level=1).sum().\n",
            "Using the level keyword in DataFrame and Series aggregations is deprecated and will be removed in a future version. Use groupby instead. df.sum(level=1) should use df.groupby(level=1).sum().\n",
            "Using the level keyword in DataFrame and Series aggregations is deprecated and will be removed in a future version. Use groupby instead. df.sum(level=1) should use df.groupby(level=1).sum().\n",
            "Using the level keyword in DataFrame and Series aggregations is deprecated and will be removed in a future version. Use groupby instead. df.sum(level=1) should use df.groupby(level=1).sum().\n",
            "Using the level keyword in DataFrame and Series aggregations is deprecated and will be removed in a future version. Use groupby instead. df.sum(level=1) should use df.groupby(level=1).sum().\n",
            "Using the level keyword in DataFrame and Series aggregations is deprecated and will be removed in a future version. Use groupby instead. df.sum(level=1) should use df.groupby(level=1).sum().\n",
            "Using the level keyword in DataFrame and Series aggregations is deprecated and will be removed in a future version. Use groupby instead. df.sum(level=1) should use df.groupby(level=1).sum().\n",
            "Using the level keyword in DataFrame and Series aggregations is deprecated and will be removed in a future version. Use groupby instead. df.sum(level=1) should use df.groupby(level=1).sum().\n",
            "Using the level keyword in DataFrame and Series aggregations is deprecated and will be removed in a future version. Use groupby instead. df.sum(level=1) should use df.groupby(level=1).sum().\n",
            "Using the level keyword in DataFrame and Series aggregations is deprecated and will be removed in a future version. Use groupby instead. df.sum(level=1) should use df.groupby(level=1).sum().\n",
            "Using the level keyword in DataFrame and Series aggregations is deprecated and will be removed in a future version. Use groupby instead. df.sum(level=1) should use df.groupby(level=1).sum().\n",
            "Using the level keyword in DataFrame and Series aggregations is deprecated and will be removed in a future version. Use groupby instead. df.sum(level=1) should use df.groupby(level=1).sum().\n",
            "Using the level keyword in DataFrame and Series aggregations is deprecated and will be removed in a future version. Use groupby instead. df.sum(level=1) should use df.groupby(level=1).sum().\n",
            "Using the level keyword in DataFrame and Series aggregations is deprecated and will be removed in a future version. Use groupby instead. df.sum(level=1) should use df.groupby(level=1).sum().\n",
            "Using the level keyword in DataFrame and Series aggregations is deprecated and will be removed in a future version. Use groupby instead. df.sum(level=1) should use df.groupby(level=1).sum().\n",
            "Using the level keyword in DataFrame and Series aggregations is deprecated and will be removed in a future version. Use groupby instead. df.sum(level=1) should use df.groupby(level=1).sum().\n",
            "Using the level keyword in DataFrame and Series aggregations is deprecated and will be removed in a future version. Use groupby instead. df.sum(level=1) should use df.groupby(level=1).sum().\n",
            "Using the level keyword in DataFrame and Series aggregations is deprecated and will be removed in a future version. Use groupby instead. df.sum(level=1) should use df.groupby(level=1).sum().\n",
            "Using the level keyword in DataFrame and Series aggregations is deprecated and will be removed in a future version. Use groupby instead. df.sum(level=1) should use df.groupby(level=1).sum().\n",
            "Using the level keyword in DataFrame and Series aggregations is deprecated and will be removed in a future version. Use groupby instead. df.sum(level=1) should use df.groupby(level=1).sum().\n",
            "Using the level keyword in DataFrame and Series aggregations is deprecated and will be removed in a future version. Use groupby instead. df.sum(level=1) should use df.groupby(level=1).sum().\n",
            "Using the level keyword in DataFrame and Series aggregations is deprecated and will be removed in a future version. Use groupby instead. df.sum(level=1) should use df.groupby(level=1).sum().\n",
            "Using the level keyword in DataFrame and Series aggregations is deprecated and will be removed in a future version. Use groupby instead. df.sum(level=1) should use df.groupby(level=1).sum().\n",
            "Using the level keyword in DataFrame and Series aggregations is deprecated and will be removed in a future version. Use groupby instead. df.sum(level=1) should use df.groupby(level=1).sum().\n",
            "Using the level keyword in DataFrame and Series aggregations is deprecated and will be removed in a future version. Use groupby instead. df.sum(level=1) should use df.groupby(level=1).sum().\n",
            "Using the level keyword in DataFrame and Series aggregations is deprecated and will be removed in a future version. Use groupby instead. df.sum(level=1) should use df.groupby(level=1).sum().\n",
            "Using the level keyword in DataFrame and Series aggregations is deprecated and will be removed in a future version. Use groupby instead. df.sum(level=1) should use df.groupby(level=1).sum().\n",
            "Using the level keyword in DataFrame and Series aggregations is deprecated and will be removed in a future version. Use groupby instead. df.sum(level=1) should use df.groupby(level=1).sum().\n",
            "Using the level keyword in DataFrame and Series aggregations is deprecated and will be removed in a future version. Use groupby instead. df.sum(level=1) should use df.groupby(level=1).sum().\n",
            "Using the level keyword in DataFrame and Series aggregations is deprecated and will be removed in a future version. Use groupby instead. df.sum(level=1) should use df.groupby(level=1).sum().\n",
            "Using the level keyword in DataFrame and Series aggregations is deprecated and will be removed in a future version. Use groupby instead. df.sum(level=1) should use df.groupby(level=1).sum().\n",
            "Using the level keyword in DataFrame and Series aggregations is deprecated and will be removed in a future version. Use groupby instead. df.sum(level=1) should use df.groupby(level=1).sum().\n",
            "Using the level keyword in DataFrame and Series aggregations is deprecated and will be removed in a future version. Use groupby instead. df.sum(level=1) should use df.groupby(level=1).sum().\n",
            "Using the level keyword in DataFrame and Series aggregations is deprecated and will be removed in a future version. Use groupby instead. df.sum(level=1) should use df.groupby(level=1).sum().\n",
            "Using the level keyword in DataFrame and Series aggregations is deprecated and will be removed in a future version. Use groupby instead. df.sum(level=1) should use df.groupby(level=1).sum().\n",
            "Using the level keyword in DataFrame and Series aggregations is deprecated and will be removed in a future version. Use groupby instead. df.sum(level=1) should use df.groupby(level=1).sum().\n",
            "Using the level keyword in DataFrame and Series aggregations is deprecated and will be removed in a future version. Use groupby instead. df.sum(level=1) should use df.groupby(level=1).sum().\n",
            "Using the level keyword in DataFrame and Series aggregations is deprecated and will be removed in a future version. Use groupby instead. df.sum(level=1) should use df.groupby(level=1).sum().\n",
            "Using the level keyword in DataFrame and Series aggregations is deprecated and will be removed in a future version. Use groupby instead. df.sum(level=1) should use df.groupby(level=1).sum().\n",
            "Using the level keyword in DataFrame and Series aggregations is deprecated and will be removed in a future version. Use groupby instead. df.sum(level=1) should use df.groupby(level=1).sum().\n",
            "Using the level keyword in DataFrame and Series aggregations is deprecated and will be removed in a future version. Use groupby instead. df.sum(level=1) should use df.groupby(level=1).sum().\n",
            "Using the level keyword in DataFrame and Series aggregations is deprecated and will be removed in a future version. Use groupby instead. df.sum(level=1) should use df.groupby(level=1).sum().\n",
            "Using the level keyword in DataFrame and Series aggregations is deprecated and will be removed in a future version. Use groupby instead. df.sum(level=1) should use df.groupby(level=1).sum().\n"
          ]
        },
        {
          "output_type": "stream",
          "name": "stdout",
          "text": [
            "RandomForestClassifier():\n",
            " false_negative_rate    0.194444\n",
            "selection_rate         0.168091\n",
            "balanced_accuracy      0.163245\n",
            "dtype: object \n",
            "\n",
            "\n"
          ]
        },
        {
          "output_type": "stream",
          "name": "stderr",
          "text": [
            "Using the level keyword in DataFrame and Series aggregations is deprecated and will be removed in a future version. Use groupby instead. df.sum(level=1) should use df.groupby(level=1).sum().\n",
            "lbfgs failed to converge (status=1):\n",
            "STOP: TOTAL NO. of ITERATIONS REACHED LIMIT.\n",
            "\n",
            "Increase the number of iterations (max_iter) or scale the data as shown in:\n",
            "    https://scikit-learn.org/stable/modules/preprocessing.html\n",
            "Please also refer to the documentation for alternative solver options:\n",
            "    https://scikit-learn.org/stable/modules/linear_model.html#logistic-regression\n",
            "Using the level keyword in DataFrame and Series aggregations is deprecated and will be removed in a future version. Use groupby instead. df.sum(level=1) should use df.groupby(level=1).sum().\n",
            "lbfgs failed to converge (status=1):\n",
            "STOP: TOTAL NO. of ITERATIONS REACHED LIMIT.\n",
            "\n",
            "Increase the number of iterations (max_iter) or scale the data as shown in:\n",
            "    https://scikit-learn.org/stable/modules/preprocessing.html\n",
            "Please also refer to the documentation for alternative solver options:\n",
            "    https://scikit-learn.org/stable/modules/linear_model.html#logistic-regression\n",
            "Using the level keyword in DataFrame and Series aggregations is deprecated and will be removed in a future version. Use groupby instead. df.sum(level=1) should use df.groupby(level=1).sum().\n",
            "lbfgs failed to converge (status=1):\n",
            "STOP: TOTAL NO. of ITERATIONS REACHED LIMIT.\n",
            "\n",
            "Increase the number of iterations (max_iter) or scale the data as shown in:\n",
            "    https://scikit-learn.org/stable/modules/preprocessing.html\n",
            "Please also refer to the documentation for alternative solver options:\n",
            "    https://scikit-learn.org/stable/modules/linear_model.html#logistic-regression\n",
            "Using the level keyword in DataFrame and Series aggregations is deprecated and will be removed in a future version. Use groupby instead. df.sum(level=1) should use df.groupby(level=1).sum().\n",
            "lbfgs failed to converge (status=1):\n",
            "STOP: TOTAL NO. of ITERATIONS REACHED LIMIT.\n",
            "\n",
            "Increase the number of iterations (max_iter) or scale the data as shown in:\n",
            "    https://scikit-learn.org/stable/modules/preprocessing.html\n",
            "Please also refer to the documentation for alternative solver options:\n",
            "    https://scikit-learn.org/stable/modules/linear_model.html#logistic-regression\n",
            "Using the level keyword in DataFrame and Series aggregations is deprecated and will be removed in a future version. Use groupby instead. df.sum(level=1) should use df.groupby(level=1).sum().\n",
            "lbfgs failed to converge (status=1):\n",
            "STOP: TOTAL NO. of ITERATIONS REACHED LIMIT.\n",
            "\n",
            "Increase the number of iterations (max_iter) or scale the data as shown in:\n",
            "    https://scikit-learn.org/stable/modules/preprocessing.html\n",
            "Please also refer to the documentation for alternative solver options:\n",
            "    https://scikit-learn.org/stable/modules/linear_model.html#logistic-regression\n",
            "Using the level keyword in DataFrame and Series aggregations is deprecated and will be removed in a future version. Use groupby instead. df.sum(level=1) should use df.groupby(level=1).sum().\n",
            "lbfgs failed to converge (status=1):\n",
            "STOP: TOTAL NO. of ITERATIONS REACHED LIMIT.\n",
            "\n",
            "Increase the number of iterations (max_iter) or scale the data as shown in:\n",
            "    https://scikit-learn.org/stable/modules/preprocessing.html\n",
            "Please also refer to the documentation for alternative solver options:\n",
            "    https://scikit-learn.org/stable/modules/linear_model.html#logistic-regression\n",
            "Using the level keyword in DataFrame and Series aggregations is deprecated and will be removed in a future version. Use groupby instead. df.sum(level=1) should use df.groupby(level=1).sum().\n",
            "lbfgs failed to converge (status=1):\n",
            "STOP: TOTAL NO. of ITERATIONS REACHED LIMIT.\n",
            "\n",
            "Increase the number of iterations (max_iter) or scale the data as shown in:\n",
            "    https://scikit-learn.org/stable/modules/preprocessing.html\n",
            "Please also refer to the documentation for alternative solver options:\n",
            "    https://scikit-learn.org/stable/modules/linear_model.html#logistic-regression\n",
            "Using the level keyword in DataFrame and Series aggregations is deprecated and will be removed in a future version. Use groupby instead. df.sum(level=1) should use df.groupby(level=1).sum().\n",
            "lbfgs failed to converge (status=1):\n",
            "STOP: TOTAL NO. of ITERATIONS REACHED LIMIT.\n",
            "\n",
            "Increase the number of iterations (max_iter) or scale the data as shown in:\n",
            "    https://scikit-learn.org/stable/modules/preprocessing.html\n",
            "Please also refer to the documentation for alternative solver options:\n",
            "    https://scikit-learn.org/stable/modules/linear_model.html#logistic-regression\n",
            "Using the level keyword in DataFrame and Series aggregations is deprecated and will be removed in a future version. Use groupby instead. df.sum(level=1) should use df.groupby(level=1).sum().\n",
            "lbfgs failed to converge (status=1):\n",
            "STOP: TOTAL NO. of ITERATIONS REACHED LIMIT.\n",
            "\n",
            "Increase the number of iterations (max_iter) or scale the data as shown in:\n",
            "    https://scikit-learn.org/stable/modules/preprocessing.html\n",
            "Please also refer to the documentation for alternative solver options:\n",
            "    https://scikit-learn.org/stable/modules/linear_model.html#logistic-regression\n",
            "Using the level keyword in DataFrame and Series aggregations is deprecated and will be removed in a future version. Use groupby instead. df.sum(level=1) should use df.groupby(level=1).sum().\n",
            "lbfgs failed to converge (status=1):\n",
            "STOP: TOTAL NO. of ITERATIONS REACHED LIMIT.\n",
            "\n",
            "Increase the number of iterations (max_iter) or scale the data as shown in:\n",
            "    https://scikit-learn.org/stable/modules/preprocessing.html\n",
            "Please also refer to the documentation for alternative solver options:\n",
            "    https://scikit-learn.org/stable/modules/linear_model.html#logistic-regression\n",
            "Using the level keyword in DataFrame and Series aggregations is deprecated and will be removed in a future version. Use groupby instead. df.sum(level=1) should use df.groupby(level=1).sum().\n",
            "lbfgs failed to converge (status=1):\n",
            "STOP: TOTAL NO. of ITERATIONS REACHED LIMIT.\n",
            "\n",
            "Increase the number of iterations (max_iter) or scale the data as shown in:\n",
            "    https://scikit-learn.org/stable/modules/preprocessing.html\n",
            "Please also refer to the documentation for alternative solver options:\n",
            "    https://scikit-learn.org/stable/modules/linear_model.html#logistic-regression\n",
            "Using the level keyword in DataFrame and Series aggregations is deprecated and will be removed in a future version. Use groupby instead. df.sum(level=1) should use df.groupby(level=1).sum().\n",
            "lbfgs failed to converge (status=1):\n",
            "STOP: TOTAL NO. of ITERATIONS REACHED LIMIT.\n",
            "\n",
            "Increase the number of iterations (max_iter) or scale the data as shown in:\n",
            "    https://scikit-learn.org/stable/modules/preprocessing.html\n",
            "Please also refer to the documentation for alternative solver options:\n",
            "    https://scikit-learn.org/stable/modules/linear_model.html#logistic-regression\n",
            "Using the level keyword in DataFrame and Series aggregations is deprecated and will be removed in a future version. Use groupby instead. df.sum(level=1) should use df.groupby(level=1).sum().\n",
            "lbfgs failed to converge (status=1):\n",
            "STOP: TOTAL NO. of ITERATIONS REACHED LIMIT.\n",
            "\n",
            "Increase the number of iterations (max_iter) or scale the data as shown in:\n",
            "    https://scikit-learn.org/stable/modules/preprocessing.html\n",
            "Please also refer to the documentation for alternative solver options:\n",
            "    https://scikit-learn.org/stable/modules/linear_model.html#logistic-regression\n",
            "Using the level keyword in DataFrame and Series aggregations is deprecated and will be removed in a future version. Use groupby instead. df.sum(level=1) should use df.groupby(level=1).sum().\n",
            "lbfgs failed to converge (status=1):\n",
            "STOP: TOTAL NO. of ITERATIONS REACHED LIMIT.\n",
            "\n",
            "Increase the number of iterations (max_iter) or scale the data as shown in:\n",
            "    https://scikit-learn.org/stable/modules/preprocessing.html\n",
            "Please also refer to the documentation for alternative solver options:\n",
            "    https://scikit-learn.org/stable/modules/linear_model.html#logistic-regression\n",
            "Using the level keyword in DataFrame and Series aggregations is deprecated and will be removed in a future version. Use groupby instead. df.sum(level=1) should use df.groupby(level=1).sum().\n",
            "lbfgs failed to converge (status=1):\n",
            "STOP: TOTAL NO. of ITERATIONS REACHED LIMIT.\n",
            "\n",
            "Increase the number of iterations (max_iter) or scale the data as shown in:\n",
            "    https://scikit-learn.org/stable/modules/preprocessing.html\n",
            "Please also refer to the documentation for alternative solver options:\n",
            "    https://scikit-learn.org/stable/modules/linear_model.html#logistic-regression\n",
            "Using the level keyword in DataFrame and Series aggregations is deprecated and will be removed in a future version. Use groupby instead. df.sum(level=1) should use df.groupby(level=1).sum().\n",
            "lbfgs failed to converge (status=1):\n",
            "STOP: TOTAL NO. of ITERATIONS REACHED LIMIT.\n",
            "\n",
            "Increase the number of iterations (max_iter) or scale the data as shown in:\n",
            "    https://scikit-learn.org/stable/modules/preprocessing.html\n",
            "Please also refer to the documentation for alternative solver options:\n",
            "    https://scikit-learn.org/stable/modules/linear_model.html#logistic-regression\n",
            "Using the level keyword in DataFrame and Series aggregations is deprecated and will be removed in a future version. Use groupby instead. df.sum(level=1) should use df.groupby(level=1).sum().\n",
            "lbfgs failed to converge (status=1):\n",
            "STOP: TOTAL NO. of ITERATIONS REACHED LIMIT.\n",
            "\n",
            "Increase the number of iterations (max_iter) or scale the data as shown in:\n",
            "    https://scikit-learn.org/stable/modules/preprocessing.html\n",
            "Please also refer to the documentation for alternative solver options:\n",
            "    https://scikit-learn.org/stable/modules/linear_model.html#logistic-regression\n",
            "Using the level keyword in DataFrame and Series aggregations is deprecated and will be removed in a future version. Use groupby instead. df.sum(level=1) should use df.groupby(level=1).sum().\n",
            "lbfgs failed to converge (status=1):\n",
            "STOP: TOTAL NO. of ITERATIONS REACHED LIMIT.\n",
            "\n",
            "Increase the number of iterations (max_iter) or scale the data as shown in:\n",
            "    https://scikit-learn.org/stable/modules/preprocessing.html\n",
            "Please also refer to the documentation for alternative solver options:\n",
            "    https://scikit-learn.org/stable/modules/linear_model.html#logistic-regression\n",
            "Using the level keyword in DataFrame and Series aggregations is deprecated and will be removed in a future version. Use groupby instead. df.sum(level=1) should use df.groupby(level=1).sum().\n",
            "lbfgs failed to converge (status=1):\n",
            "STOP: TOTAL NO. of ITERATIONS REACHED LIMIT.\n",
            "\n",
            "Increase the number of iterations (max_iter) or scale the data as shown in:\n",
            "    https://scikit-learn.org/stable/modules/preprocessing.html\n",
            "Please also refer to the documentation for alternative solver options:\n",
            "    https://scikit-learn.org/stable/modules/linear_model.html#logistic-regression\n",
            "Using the level keyword in DataFrame and Series aggregations is deprecated and will be removed in a future version. Use groupby instead. df.sum(level=1) should use df.groupby(level=1).sum().\n",
            "lbfgs failed to converge (status=1):\n",
            "STOP: TOTAL NO. of ITERATIONS REACHED LIMIT.\n",
            "\n",
            "Increase the number of iterations (max_iter) or scale the data as shown in:\n",
            "    https://scikit-learn.org/stable/modules/preprocessing.html\n",
            "Please also refer to the documentation for alternative solver options:\n",
            "    https://scikit-learn.org/stable/modules/linear_model.html#logistic-regression\n",
            "Using the level keyword in DataFrame and Series aggregations is deprecated and will be removed in a future version. Use groupby instead. df.sum(level=1) should use df.groupby(level=1).sum().\n",
            "lbfgs failed to converge (status=1):\n",
            "STOP: TOTAL NO. of ITERATIONS REACHED LIMIT.\n",
            "\n",
            "Increase the number of iterations (max_iter) or scale the data as shown in:\n",
            "    https://scikit-learn.org/stable/modules/preprocessing.html\n",
            "Please also refer to the documentation for alternative solver options:\n",
            "    https://scikit-learn.org/stable/modules/linear_model.html#logistic-regression\n",
            "Using the level keyword in DataFrame and Series aggregations is deprecated and will be removed in a future version. Use groupby instead. df.sum(level=1) should use df.groupby(level=1).sum().\n",
            "lbfgs failed to converge (status=1):\n",
            "STOP: TOTAL NO. of ITERATIONS REACHED LIMIT.\n",
            "\n",
            "Increase the number of iterations (max_iter) or scale the data as shown in:\n",
            "    https://scikit-learn.org/stable/modules/preprocessing.html\n",
            "Please also refer to the documentation for alternative solver options:\n",
            "    https://scikit-learn.org/stable/modules/linear_model.html#logistic-regression\n",
            "Using the level keyword in DataFrame and Series aggregations is deprecated and will be removed in a future version. Use groupby instead. df.sum(level=1) should use df.groupby(level=1).sum().\n",
            "lbfgs failed to converge (status=1):\n",
            "STOP: TOTAL NO. of ITERATIONS REACHED LIMIT.\n",
            "\n",
            "Increase the number of iterations (max_iter) or scale the data as shown in:\n",
            "    https://scikit-learn.org/stable/modules/preprocessing.html\n",
            "Please also refer to the documentation for alternative solver options:\n",
            "    https://scikit-learn.org/stable/modules/linear_model.html#logistic-regression\n"
          ]
        },
        {
          "output_type": "stream",
          "name": "stdout",
          "text": [
            "LogisticRegression(random_state=42):\n",
            " false_negative_rate    0.169275\n",
            "selection_rate         0.124152\n",
            "balanced_accuracy       0.06526\n",
            "dtype: object \n",
            "\n",
            "\n"
          ]
        },
        {
          "output_type": "stream",
          "name": "stderr",
          "text": [
            "Using the level keyword in DataFrame and Series aggregations is deprecated and will be removed in a future version. Use groupby instead. df.sum(level=1) should use df.groupby(level=1).sum().\n",
            "Using the level keyword in DataFrame and Series aggregations is deprecated and will be removed in a future version. Use groupby instead. df.sum(level=1) should use df.groupby(level=1).sum().\n",
            "Using the level keyword in DataFrame and Series aggregations is deprecated and will be removed in a future version. Use groupby instead. df.sum(level=1) should use df.groupby(level=1).sum().\n",
            "Using the level keyword in DataFrame and Series aggregations is deprecated and will be removed in a future version. Use groupby instead. df.sum(level=1) should use df.groupby(level=1).sum().\n",
            "Using the level keyword in DataFrame and Series aggregations is deprecated and will be removed in a future version. Use groupby instead. df.sum(level=1) should use df.groupby(level=1).sum().\n",
            "Using the level keyword in DataFrame and Series aggregations is deprecated and will be removed in a future version. Use groupby instead. df.sum(level=1) should use df.groupby(level=1).sum().\n",
            "Using the level keyword in DataFrame and Series aggregations is deprecated and will be removed in a future version. Use groupby instead. df.sum(level=1) should use df.groupby(level=1).sum().\n",
            "Using the level keyword in DataFrame and Series aggregations is deprecated and will be removed in a future version. Use groupby instead. df.sum(level=1) should use df.groupby(level=1).sum().\n",
            "Using the level keyword in DataFrame and Series aggregations is deprecated and will be removed in a future version. Use groupby instead. df.sum(level=1) should use df.groupby(level=1).sum().\n",
            "Using the level keyword in DataFrame and Series aggregations is deprecated and will be removed in a future version. Use groupby instead. df.sum(level=1) should use df.groupby(level=1).sum().\n",
            "Using the level keyword in DataFrame and Series aggregations is deprecated and will be removed in a future version. Use groupby instead. df.sum(level=1) should use df.groupby(level=1).sum().\n",
            "Using the level keyword in DataFrame and Series aggregations is deprecated and will be removed in a future version. Use groupby instead. df.sum(level=1) should use df.groupby(level=1).sum().\n",
            "Using the level keyword in DataFrame and Series aggregations is deprecated and will be removed in a future version. Use groupby instead. df.sum(level=1) should use df.groupby(level=1).sum().\n",
            "Using the level keyword in DataFrame and Series aggregations is deprecated and will be removed in a future version. Use groupby instead. df.sum(level=1) should use df.groupby(level=1).sum().\n",
            "Using the level keyword in DataFrame and Series aggregations is deprecated and will be removed in a future version. Use groupby instead. df.sum(level=1) should use df.groupby(level=1).sum().\n",
            "Using the level keyword in DataFrame and Series aggregations is deprecated and will be removed in a future version. Use groupby instead. df.sum(level=1) should use df.groupby(level=1).sum().\n",
            "Using the level keyword in DataFrame and Series aggregations is deprecated and will be removed in a future version. Use groupby instead. df.sum(level=1) should use df.groupby(level=1).sum().\n",
            "Using the level keyword in DataFrame and Series aggregations is deprecated and will be removed in a future version. Use groupby instead. df.sum(level=1) should use df.groupby(level=1).sum().\n",
            "Using the level keyword in DataFrame and Series aggregations is deprecated and will be removed in a future version. Use groupby instead. df.sum(level=1) should use df.groupby(level=1).sum().\n",
            "Using the level keyword in DataFrame and Series aggregations is deprecated and will be removed in a future version. Use groupby instead. df.sum(level=1) should use df.groupby(level=1).sum().\n",
            "Using the level keyword in DataFrame and Series aggregations is deprecated and will be removed in a future version. Use groupby instead. df.sum(level=1) should use df.groupby(level=1).sum().\n",
            "Using the level keyword in DataFrame and Series aggregations is deprecated and will be removed in a future version. Use groupby instead. df.sum(level=1) should use df.groupby(level=1).sum().\n",
            "Using the level keyword in DataFrame and Series aggregations is deprecated and will be removed in a future version. Use groupby instead. df.sum(level=1) should use df.groupby(level=1).sum().\n",
            "Using the level keyword in DataFrame and Series aggregations is deprecated and will be removed in a future version. Use groupby instead. df.sum(level=1) should use df.groupby(level=1).sum().\n",
            "Using the level keyword in DataFrame and Series aggregations is deprecated and will be removed in a future version. Use groupby instead. df.sum(level=1) should use df.groupby(level=1).sum().\n",
            "Using the level keyword in DataFrame and Series aggregations is deprecated and will be removed in a future version. Use groupby instead. df.sum(level=1) should use df.groupby(level=1).sum().\n",
            "Using the level keyword in DataFrame and Series aggregations is deprecated and will be removed in a future version. Use groupby instead. df.sum(level=1) should use df.groupby(level=1).sum().\n",
            "Using the level keyword in DataFrame and Series aggregations is deprecated and will be removed in a future version. Use groupby instead. df.sum(level=1) should use df.groupby(level=1).sum().\n",
            "Using the level keyword in DataFrame and Series aggregations is deprecated and will be removed in a future version. Use groupby instead. df.sum(level=1) should use df.groupby(level=1).sum().\n",
            "Using the level keyword in DataFrame and Series aggregations is deprecated and will be removed in a future version. Use groupby instead. df.sum(level=1) should use df.groupby(level=1).sum().\n",
            "Using the level keyword in DataFrame and Series aggregations is deprecated and will be removed in a future version. Use groupby instead. df.sum(level=1) should use df.groupby(level=1).sum().\n",
            "Using the level keyword in DataFrame and Series aggregations is deprecated and will be removed in a future version. Use groupby instead. df.sum(level=1) should use df.groupby(level=1).sum().\n",
            "Using the level keyword in DataFrame and Series aggregations is deprecated and will be removed in a future version. Use groupby instead. df.sum(level=1) should use df.groupby(level=1).sum().\n",
            "Using the level keyword in DataFrame and Series aggregations is deprecated and will be removed in a future version. Use groupby instead. df.sum(level=1) should use df.groupby(level=1).sum().\n",
            "Using the level keyword in DataFrame and Series aggregations is deprecated and will be removed in a future version. Use groupby instead. df.sum(level=1) should use df.groupby(level=1).sum().\n",
            "Using the level keyword in DataFrame and Series aggregations is deprecated and will be removed in a future version. Use groupby instead. df.sum(level=1) should use df.groupby(level=1).sum().\n",
            "Using the level keyword in DataFrame and Series aggregations is deprecated and will be removed in a future version. Use groupby instead. df.sum(level=1) should use df.groupby(level=1).sum().\n",
            "Using the level keyword in DataFrame and Series aggregations is deprecated and will be removed in a future version. Use groupby instead. df.sum(level=1) should use df.groupby(level=1).sum().\n",
            "Using the level keyword in DataFrame and Series aggregations is deprecated and will be removed in a future version. Use groupby instead. df.sum(level=1) should use df.groupby(level=1).sum().\n",
            "Using the level keyword in DataFrame and Series aggregations is deprecated and will be removed in a future version. Use groupby instead. df.sum(level=1) should use df.groupby(level=1).sum().\n",
            "Using the level keyword in DataFrame and Series aggregations is deprecated and will be removed in a future version. Use groupby instead. df.sum(level=1) should use df.groupby(level=1).sum().\n",
            "Using the level keyword in DataFrame and Series aggregations is deprecated and will be removed in a future version. Use groupby instead. df.sum(level=1) should use df.groupby(level=1).sum().\n",
            "Using the level keyword in DataFrame and Series aggregations is deprecated and will be removed in a future version. Use groupby instead. df.sum(level=1) should use df.groupby(level=1).sum().\n",
            "Using the level keyword in DataFrame and Series aggregations is deprecated and will be removed in a future version. Use groupby instead. df.sum(level=1) should use df.groupby(level=1).sum().\n",
            "Using the level keyword in DataFrame and Series aggregations is deprecated and will be removed in a future version. Use groupby instead. df.sum(level=1) should use df.groupby(level=1).sum().\n",
            "Using the level keyword in DataFrame and Series aggregations is deprecated and will be removed in a future version. Use groupby instead. df.sum(level=1) should use df.groupby(level=1).sum().\n",
            "Using the level keyword in DataFrame and Series aggregations is deprecated and will be removed in a future version. Use groupby instead. df.sum(level=1) should use df.groupby(level=1).sum().\n",
            "Using the level keyword in DataFrame and Series aggregations is deprecated and will be removed in a future version. Use groupby instead. df.sum(level=1) should use df.groupby(level=1).sum().\n",
            "Using the level keyword in DataFrame and Series aggregations is deprecated and will be removed in a future version. Use groupby instead. df.sum(level=1) should use df.groupby(level=1).sum().\n",
            "Using the level keyword in DataFrame and Series aggregations is deprecated and will be removed in a future version. Use groupby instead. df.sum(level=1) should use df.groupby(level=1).sum().\n",
            "Using the level keyword in DataFrame and Series aggregations is deprecated and will be removed in a future version. Use groupby instead. df.sum(level=1) should use df.groupby(level=1).sum().\n",
            "Using the level keyword in DataFrame and Series aggregations is deprecated and will be removed in a future version. Use groupby instead. df.sum(level=1) should use df.groupby(level=1).sum().\n",
            "Using the level keyword in DataFrame and Series aggregations is deprecated and will be removed in a future version. Use groupby instead. df.sum(level=1) should use df.groupby(level=1).sum().\n",
            "Using the level keyword in DataFrame and Series aggregations is deprecated and will be removed in a future version. Use groupby instead. df.sum(level=1) should use df.groupby(level=1).sum().\n",
            "Using the level keyword in DataFrame and Series aggregations is deprecated and will be removed in a future version. Use groupby instead. df.sum(level=1) should use df.groupby(level=1).sum().\n",
            "Using the level keyword in DataFrame and Series aggregations is deprecated and will be removed in a future version. Use groupby instead. df.sum(level=1) should use df.groupby(level=1).sum().\n",
            "Using the level keyword in DataFrame and Series aggregations is deprecated and will be removed in a future version. Use groupby instead. df.sum(level=1) should use df.groupby(level=1).sum().\n",
            "Using the level keyword in DataFrame and Series aggregations is deprecated and will be removed in a future version. Use groupby instead. df.sum(level=1) should use df.groupby(level=1).sum().\n",
            "Using the level keyword in DataFrame and Series aggregations is deprecated and will be removed in a future version. Use groupby instead. df.sum(level=1) should use df.groupby(level=1).sum().\n",
            "Using the level keyword in DataFrame and Series aggregations is deprecated and will be removed in a future version. Use groupby instead. df.sum(level=1) should use df.groupby(level=1).sum().\n",
            "Using the level keyword in DataFrame and Series aggregations is deprecated and will be removed in a future version. Use groupby instead. df.sum(level=1) should use df.groupby(level=1).sum().\n",
            "Using the level keyword in DataFrame and Series aggregations is deprecated and will be removed in a future version. Use groupby instead. df.sum(level=1) should use df.groupby(level=1).sum().\n",
            "Using the level keyword in DataFrame and Series aggregations is deprecated and will be removed in a future version. Use groupby instead. df.sum(level=1) should use df.groupby(level=1).sum().\n",
            "Using the level keyword in DataFrame and Series aggregations is deprecated and will be removed in a future version. Use groupby instead. df.sum(level=1) should use df.groupby(level=1).sum().\n",
            "Using the level keyword in DataFrame and Series aggregations is deprecated and will be removed in a future version. Use groupby instead. df.sum(level=1) should use df.groupby(level=1).sum().\n",
            "Using the level keyword in DataFrame and Series aggregations is deprecated and will be removed in a future version. Use groupby instead. df.sum(level=1) should use df.groupby(level=1).sum().\n",
            "Using the level keyword in DataFrame and Series aggregations is deprecated and will be removed in a future version. Use groupby instead. df.sum(level=1) should use df.groupby(level=1).sum().\n",
            "Using the level keyword in DataFrame and Series aggregations is deprecated and will be removed in a future version. Use groupby instead. df.sum(level=1) should use df.groupby(level=1).sum().\n",
            "Using the level keyword in DataFrame and Series aggregations is deprecated and will be removed in a future version. Use groupby instead. df.sum(level=1) should use df.groupby(level=1).sum().\n",
            "Using the level keyword in DataFrame and Series aggregations is deprecated and will be removed in a future version. Use groupby instead. df.sum(level=1) should use df.groupby(level=1).sum().\n",
            "Using the level keyword in DataFrame and Series aggregations is deprecated and will be removed in a future version. Use groupby instead. df.sum(level=1) should use df.groupby(level=1).sum().\n",
            "Using the level keyword in DataFrame and Series aggregations is deprecated and will be removed in a future version. Use groupby instead. df.sum(level=1) should use df.groupby(level=1).sum().\n",
            "Using the level keyword in DataFrame and Series aggregations is deprecated and will be removed in a future version. Use groupby instead. df.sum(level=1) should use df.groupby(level=1).sum().\n",
            "Using the level keyword in DataFrame and Series aggregations is deprecated and will be removed in a future version. Use groupby instead. df.sum(level=1) should use df.groupby(level=1).sum().\n",
            "Using the level keyword in DataFrame and Series aggregations is deprecated and will be removed in a future version. Use groupby instead. df.sum(level=1) should use df.groupby(level=1).sum().\n",
            "Using the level keyword in DataFrame and Series aggregations is deprecated and will be removed in a future version. Use groupby instead. df.sum(level=1) should use df.groupby(level=1).sum().\n",
            "Using the level keyword in DataFrame and Series aggregations is deprecated and will be removed in a future version. Use groupby instead. df.sum(level=1) should use df.groupby(level=1).sum().\n",
            "Using the level keyword in DataFrame and Series aggregations is deprecated and will be removed in a future version. Use groupby instead. df.sum(level=1) should use df.groupby(level=1).sum().\n",
            "Using the level keyword in DataFrame and Series aggregations is deprecated and will be removed in a future version. Use groupby instead. df.sum(level=1) should use df.groupby(level=1).sum().\n",
            "Using the level keyword in DataFrame and Series aggregations is deprecated and will be removed in a future version. Use groupby instead. df.sum(level=1) should use df.groupby(level=1).sum().\n",
            "Using the level keyword in DataFrame and Series aggregations is deprecated and will be removed in a future version. Use groupby instead. df.sum(level=1) should use df.groupby(level=1).sum().\n",
            "Using the level keyword in DataFrame and Series aggregations is deprecated and will be removed in a future version. Use groupby instead. df.sum(level=1) should use df.groupby(level=1).sum().\n",
            "Using the level keyword in DataFrame and Series aggregations is deprecated and will be removed in a future version. Use groupby instead. df.sum(level=1) should use df.groupby(level=1).sum().\n",
            "Using the level keyword in DataFrame and Series aggregations is deprecated and will be removed in a future version. Use groupby instead. df.sum(level=1) should use df.groupby(level=1).sum().\n",
            "Using the level keyword in DataFrame and Series aggregations is deprecated and will be removed in a future version. Use groupby instead. df.sum(level=1) should use df.groupby(level=1).sum().\n",
            "Using the level keyword in DataFrame and Series aggregations is deprecated and will be removed in a future version. Use groupby instead. df.sum(level=1) should use df.groupby(level=1).sum().\n",
            "Using the level keyword in DataFrame and Series aggregations is deprecated and will be removed in a future version. Use groupby instead. df.sum(level=1) should use df.groupby(level=1).sum().\n",
            "Using the level keyword in DataFrame and Series aggregations is deprecated and will be removed in a future version. Use groupby instead. df.sum(level=1) should use df.groupby(level=1).sum().\n",
            "Using the level keyword in DataFrame and Series aggregations is deprecated and will be removed in a future version. Use groupby instead. df.sum(level=1) should use df.groupby(level=1).sum().\n",
            "Using the level keyword in DataFrame and Series aggregations is deprecated and will be removed in a future version. Use groupby instead. df.sum(level=1) should use df.groupby(level=1).sum().\n",
            "Using the level keyword in DataFrame and Series aggregations is deprecated and will be removed in a future version. Use groupby instead. df.sum(level=1) should use df.groupby(level=1).sum().\n",
            "Using the level keyword in DataFrame and Series aggregations is deprecated and will be removed in a future version. Use groupby instead. df.sum(level=1) should use df.groupby(level=1).sum().\n",
            "Using the level keyword in DataFrame and Series aggregations is deprecated and will be removed in a future version. Use groupby instead. df.sum(level=1) should use df.groupby(level=1).sum().\n",
            "Using the level keyword in DataFrame and Series aggregations is deprecated and will be removed in a future version. Use groupby instead. df.sum(level=1) should use df.groupby(level=1).sum().\n",
            "Using the level keyword in DataFrame and Series aggregations is deprecated and will be removed in a future version. Use groupby instead. df.sum(level=1) should use df.groupby(level=1).sum().\n",
            "Using the level keyword in DataFrame and Series aggregations is deprecated and will be removed in a future version. Use groupby instead. df.sum(level=1) should use df.groupby(level=1).sum().\n",
            "Using the level keyword in DataFrame and Series aggregations is deprecated and will be removed in a future version. Use groupby instead. df.sum(level=1) should use df.groupby(level=1).sum().\n",
            "Using the level keyword in DataFrame and Series aggregations is deprecated and will be removed in a future version. Use groupby instead. df.sum(level=1) should use df.groupby(level=1).sum().\n",
            "Using the level keyword in DataFrame and Series aggregations is deprecated and will be removed in a future version. Use groupby instead. df.sum(level=1) should use df.groupby(level=1).sum().\n",
            "Using the level keyword in DataFrame and Series aggregations is deprecated and will be removed in a future version. Use groupby instead. df.sum(level=1) should use df.groupby(level=1).sum().\n",
            "Using the level keyword in DataFrame and Series aggregations is deprecated and will be removed in a future version. Use groupby instead. df.sum(level=1) should use df.groupby(level=1).sum().\n",
            "Using the level keyword in DataFrame and Series aggregations is deprecated and will be removed in a future version. Use groupby instead. df.sum(level=1) should use df.groupby(level=1).sum().\n",
            "Using the level keyword in DataFrame and Series aggregations is deprecated and will be removed in a future version. Use groupby instead. df.sum(level=1) should use df.groupby(level=1).sum().\n",
            "Using the level keyword in DataFrame and Series aggregations is deprecated and will be removed in a future version. Use groupby instead. df.sum(level=1) should use df.groupby(level=1).sum().\n",
            "Using the level keyword in DataFrame and Series aggregations is deprecated and will be removed in a future version. Use groupby instead. df.sum(level=1) should use df.groupby(level=1).sum().\n",
            "Using the level keyword in DataFrame and Series aggregations is deprecated and will be removed in a future version. Use groupby instead. df.sum(level=1) should use df.groupby(level=1).sum().\n",
            "Using the level keyword in DataFrame and Series aggregations is deprecated and will be removed in a future version. Use groupby instead. df.sum(level=1) should use df.groupby(level=1).sum().\n",
            "Using the level keyword in DataFrame and Series aggregations is deprecated and will be removed in a future version. Use groupby instead. df.sum(level=1) should use df.groupby(level=1).sum().\n",
            "Using the level keyword in DataFrame and Series aggregations is deprecated and will be removed in a future version. Use groupby instead. df.sum(level=1) should use df.groupby(level=1).sum().\n",
            "Using the level keyword in DataFrame and Series aggregations is deprecated and will be removed in a future version. Use groupby instead. df.sum(level=1) should use df.groupby(level=1).sum().\n",
            "Using the level keyword in DataFrame and Series aggregations is deprecated and will be removed in a future version. Use groupby instead. df.sum(level=1) should use df.groupby(level=1).sum().\n",
            "Using the level keyword in DataFrame and Series aggregations is deprecated and will be removed in a future version. Use groupby instead. df.sum(level=1) should use df.groupby(level=1).sum().\n",
            "Using the level keyword in DataFrame and Series aggregations is deprecated and will be removed in a future version. Use groupby instead. df.sum(level=1) should use df.groupby(level=1).sum().\n",
            "Using the level keyword in DataFrame and Series aggregations is deprecated and will be removed in a future version. Use groupby instead. df.sum(level=1) should use df.groupby(level=1).sum().\n",
            "Using the level keyword in DataFrame and Series aggregations is deprecated and will be removed in a future version. Use groupby instead. df.sum(level=1) should use df.groupby(level=1).sum().\n",
            "Using the level keyword in DataFrame and Series aggregations is deprecated and will be removed in a future version. Use groupby instead. df.sum(level=1) should use df.groupby(level=1).sum().\n",
            "Using the level keyword in DataFrame and Series aggregations is deprecated and will be removed in a future version. Use groupby instead. df.sum(level=1) should use df.groupby(level=1).sum().\n",
            "Using the level keyword in DataFrame and Series aggregations is deprecated and will be removed in a future version. Use groupby instead. df.sum(level=1) should use df.groupby(level=1).sum().\n",
            "Using the level keyword in DataFrame and Series aggregations is deprecated and will be removed in a future version. Use groupby instead. df.sum(level=1) should use df.groupby(level=1).sum().\n",
            "Using the level keyword in DataFrame and Series aggregations is deprecated and will be removed in a future version. Use groupby instead. df.sum(level=1) should use df.groupby(level=1).sum().\n",
            "Using the level keyword in DataFrame and Series aggregations is deprecated and will be removed in a future version. Use groupby instead. df.sum(level=1) should use df.groupby(level=1).sum().\n",
            "Using the level keyword in DataFrame and Series aggregations is deprecated and will be removed in a future version. Use groupby instead. df.sum(level=1) should use df.groupby(level=1).sum().\n",
            "Using the level keyword in DataFrame and Series aggregations is deprecated and will be removed in a future version. Use groupby instead. df.sum(level=1) should use df.groupby(level=1).sum().\n",
            "Using the level keyword in DataFrame and Series aggregations is deprecated and will be removed in a future version. Use groupby instead. df.sum(level=1) should use df.groupby(level=1).sum().\n",
            "Using the level keyword in DataFrame and Series aggregations is deprecated and will be removed in a future version. Use groupby instead. df.sum(level=1) should use df.groupby(level=1).sum().\n",
            "Using the level keyword in DataFrame and Series aggregations is deprecated and will be removed in a future version. Use groupby instead. df.sum(level=1) should use df.groupby(level=1).sum().\n",
            "Using the level keyword in DataFrame and Series aggregations is deprecated and will be removed in a future version. Use groupby instead. df.sum(level=1) should use df.groupby(level=1).sum().\n",
            "Using the level keyword in DataFrame and Series aggregations is deprecated and will be removed in a future version. Use groupby instead. df.sum(level=1) should use df.groupby(level=1).sum().\n",
            "Using the level keyword in DataFrame and Series aggregations is deprecated and will be removed in a future version. Use groupby instead. df.sum(level=1) should use df.groupby(level=1).sum().\n",
            "Using the level keyword in DataFrame and Series aggregations is deprecated and will be removed in a future version. Use groupby instead. df.sum(level=1) should use df.groupby(level=1).sum().\n",
            "Using the level keyword in DataFrame and Series aggregations is deprecated and will be removed in a future version. Use groupby instead. df.sum(level=1) should use df.groupby(level=1).sum().\n",
            "Using the level keyword in DataFrame and Series aggregations is deprecated and will be removed in a future version. Use groupby instead. df.sum(level=1) should use df.groupby(level=1).sum().\n",
            "Using the level keyword in DataFrame and Series aggregations is deprecated and will be removed in a future version. Use groupby instead. df.sum(level=1) should use df.groupby(level=1).sum().\n",
            "Using the level keyword in DataFrame and Series aggregations is deprecated and will be removed in a future version. Use groupby instead. df.sum(level=1) should use df.groupby(level=1).sum().\n",
            "Using the level keyword in DataFrame and Series aggregations is deprecated and will be removed in a future version. Use groupby instead. df.sum(level=1) should use df.groupby(level=1).sum().\n",
            "Using the level keyword in DataFrame and Series aggregations is deprecated and will be removed in a future version. Use groupby instead. df.sum(level=1) should use df.groupby(level=1).sum().\n",
            "Using the level keyword in DataFrame and Series aggregations is deprecated and will be removed in a future version. Use groupby instead. df.sum(level=1) should use df.groupby(level=1).sum().\n",
            "Using the level keyword in DataFrame and Series aggregations is deprecated and will be removed in a future version. Use groupby instead. df.sum(level=1) should use df.groupby(level=1).sum().\n",
            "Using the level keyword in DataFrame and Series aggregations is deprecated and will be removed in a future version. Use groupby instead. df.sum(level=1) should use df.groupby(level=1).sum().\n",
            "Using the level keyword in DataFrame and Series aggregations is deprecated and will be removed in a future version. Use groupby instead. df.sum(level=1) should use df.groupby(level=1).sum().\n",
            "Using the level keyword in DataFrame and Series aggregations is deprecated and will be removed in a future version. Use groupby instead. df.sum(level=1) should use df.groupby(level=1).sum().\n",
            "Using the level keyword in DataFrame and Series aggregations is deprecated and will be removed in a future version. Use groupby instead. df.sum(level=1) should use df.groupby(level=1).sum().\n",
            "Using the level keyword in DataFrame and Series aggregations is deprecated and will be removed in a future version. Use groupby instead. df.sum(level=1) should use df.groupby(level=1).sum().\n",
            "Using the level keyword in DataFrame and Series aggregations is deprecated and will be removed in a future version. Use groupby instead. df.sum(level=1) should use df.groupby(level=1).sum().\n",
            "Using the level keyword in DataFrame and Series aggregations is deprecated and will be removed in a future version. Use groupby instead. df.sum(level=1) should use df.groupby(level=1).sum().\n",
            "Using the level keyword in DataFrame and Series aggregations is deprecated and will be removed in a future version. Use groupby instead. df.sum(level=1) should use df.groupby(level=1).sum().\n",
            "Using the level keyword in DataFrame and Series aggregations is deprecated and will be removed in a future version. Use groupby instead. df.sum(level=1) should use df.groupby(level=1).sum().\n",
            "Using the level keyword in DataFrame and Series aggregations is deprecated and will be removed in a future version. Use groupby instead. df.sum(level=1) should use df.groupby(level=1).sum().\n",
            "Using the level keyword in DataFrame and Series aggregations is deprecated and will be removed in a future version. Use groupby instead. df.sum(level=1) should use df.groupby(level=1).sum().\n",
            "Using the level keyword in DataFrame and Series aggregations is deprecated and will be removed in a future version. Use groupby instead. df.sum(level=1) should use df.groupby(level=1).sum().\n",
            "Using the level keyword in DataFrame and Series aggregations is deprecated and will be removed in a future version. Use groupby instead. df.sum(level=1) should use df.groupby(level=1).sum().\n",
            "Using the level keyword in DataFrame and Series aggregations is deprecated and will be removed in a future version. Use groupby instead. df.sum(level=1) should use df.groupby(level=1).sum().\n",
            "Using the level keyword in DataFrame and Series aggregations is deprecated and will be removed in a future version. Use groupby instead. df.sum(level=1) should use df.groupby(level=1).sum().\n",
            "Using the level keyword in DataFrame and Series aggregations is deprecated and will be removed in a future version. Use groupby instead. df.sum(level=1) should use df.groupby(level=1).sum().\n",
            "Using the level keyword in DataFrame and Series aggregations is deprecated and will be removed in a future version. Use groupby instead. df.sum(level=1) should use df.groupby(level=1).sum().\n",
            "Using the level keyword in DataFrame and Series aggregations is deprecated and will be removed in a future version. Use groupby instead. df.sum(level=1) should use df.groupby(level=1).sum().\n",
            "Using the level keyword in DataFrame and Series aggregations is deprecated and will be removed in a future version. Use groupby instead. df.sum(level=1) should use df.groupby(level=1).sum().\n",
            "Using the level keyword in DataFrame and Series aggregations is deprecated and will be removed in a future version. Use groupby instead. df.sum(level=1) should use df.groupby(level=1).sum().\n",
            "Using the level keyword in DataFrame and Series aggregations is deprecated and will be removed in a future version. Use groupby instead. df.sum(level=1) should use df.groupby(level=1).sum().\n",
            "Using the level keyword in DataFrame and Series aggregations is deprecated and will be removed in a future version. Use groupby instead. df.sum(level=1) should use df.groupby(level=1).sum().\n",
            "Using the level keyword in DataFrame and Series aggregations is deprecated and will be removed in a future version. Use groupby instead. df.sum(level=1) should use df.groupby(level=1).sum().\n",
            "Using the level keyword in DataFrame and Series aggregations is deprecated and will be removed in a future version. Use groupby instead. df.sum(level=1) should use df.groupby(level=1).sum().\n",
            "Using the level keyword in DataFrame and Series aggregations is deprecated and will be removed in a future version. Use groupby instead. df.sum(level=1) should use df.groupby(level=1).sum().\n",
            "Using the level keyword in DataFrame and Series aggregations is deprecated and will be removed in a future version. Use groupby instead. df.sum(level=1) should use df.groupby(level=1).sum().\n",
            "Using the level keyword in DataFrame and Series aggregations is deprecated and will be removed in a future version. Use groupby instead. df.sum(level=1) should use df.groupby(level=1).sum().\n",
            "Using the level keyword in DataFrame and Series aggregations is deprecated and will be removed in a future version. Use groupby instead. df.sum(level=1) should use df.groupby(level=1).sum().\n",
            "Using the level keyword in DataFrame and Series aggregations is deprecated and will be removed in a future version. Use groupby instead. df.sum(level=1) should use df.groupby(level=1).sum().\n",
            "Using the level keyword in DataFrame and Series aggregations is deprecated and will be removed in a future version. Use groupby instead. df.sum(level=1) should use df.groupby(level=1).sum().\n",
            "Using the level keyword in DataFrame and Series aggregations is deprecated and will be removed in a future version. Use groupby instead. df.sum(level=1) should use df.groupby(level=1).sum().\n",
            "Using the level keyword in DataFrame and Series aggregations is deprecated and will be removed in a future version. Use groupby instead. df.sum(level=1) should use df.groupby(level=1).sum().\n",
            "Using the level keyword in DataFrame and Series aggregations is deprecated and will be removed in a future version. Use groupby instead. df.sum(level=1) should use df.groupby(level=1).sum().\n",
            "Using the level keyword in DataFrame and Series aggregations is deprecated and will be removed in a future version. Use groupby instead. df.sum(level=1) should use df.groupby(level=1).sum().\n",
            "Using the level keyword in DataFrame and Series aggregations is deprecated and will be removed in a future version. Use groupby instead. df.sum(level=1) should use df.groupby(level=1).sum().\n",
            "Using the level keyword in DataFrame and Series aggregations is deprecated and will be removed in a future version. Use groupby instead. df.sum(level=1) should use df.groupby(level=1).sum().\n",
            "Using the level keyword in DataFrame and Series aggregations is deprecated and will be removed in a future version. Use groupby instead. df.sum(level=1) should use df.groupby(level=1).sum().\n",
            "Using the level keyword in DataFrame and Series aggregations is deprecated and will be removed in a future version. Use groupby instead. df.sum(level=1) should use df.groupby(level=1).sum().\n",
            "Using the level keyword in DataFrame and Series aggregations is deprecated and will be removed in a future version. Use groupby instead. df.sum(level=1) should use df.groupby(level=1).sum().\n",
            "Using the level keyword in DataFrame and Series aggregations is deprecated and will be removed in a future version. Use groupby instead. df.sum(level=1) should use df.groupby(level=1).sum().\n",
            "Using the level keyword in DataFrame and Series aggregations is deprecated and will be removed in a future version. Use groupby instead. df.sum(level=1) should use df.groupby(level=1).sum().\n",
            "Using the level keyword in DataFrame and Series aggregations is deprecated and will be removed in a future version. Use groupby instead. df.sum(level=1) should use df.groupby(level=1).sum().\n",
            "Using the level keyword in DataFrame and Series aggregations is deprecated and will be removed in a future version. Use groupby instead. df.sum(level=1) should use df.groupby(level=1).sum().\n",
            "Using the level keyword in DataFrame and Series aggregations is deprecated and will be removed in a future version. Use groupby instead. df.sum(level=1) should use df.groupby(level=1).sum().\n",
            "Using the level keyword in DataFrame and Series aggregations is deprecated and will be removed in a future version. Use groupby instead. df.sum(level=1) should use df.groupby(level=1).sum().\n",
            "Using the level keyword in DataFrame and Series aggregations is deprecated and will be removed in a future version. Use groupby instead. df.sum(level=1) should use df.groupby(level=1).sum().\n",
            "Using the level keyword in DataFrame and Series aggregations is deprecated and will be removed in a future version. Use groupby instead. df.sum(level=1) should use df.groupby(level=1).sum().\n",
            "Using the level keyword in DataFrame and Series aggregations is deprecated and will be removed in a future version. Use groupby instead. df.sum(level=1) should use df.groupby(level=1).sum().\n",
            "Using the level keyword in DataFrame and Series aggregations is deprecated and will be removed in a future version. Use groupby instead. df.sum(level=1) should use df.groupby(level=1).sum().\n",
            "Using the level keyword in DataFrame and Series aggregations is deprecated and will be removed in a future version. Use groupby instead. df.sum(level=1) should use df.groupby(level=1).sum().\n",
            "Using the level keyword in DataFrame and Series aggregations is deprecated and will be removed in a future version. Use groupby instead. df.sum(level=1) should use df.groupby(level=1).sum().\n",
            "Using the level keyword in DataFrame and Series aggregations is deprecated and will be removed in a future version. Use groupby instead. df.sum(level=1) should use df.groupby(level=1).sum().\n",
            "Using the level keyword in DataFrame and Series aggregations is deprecated and will be removed in a future version. Use groupby instead. df.sum(level=1) should use df.groupby(level=1).sum().\n",
            "Using the level keyword in DataFrame and Series aggregations is deprecated and will be removed in a future version. Use groupby instead. df.sum(level=1) should use df.groupby(level=1).sum().\n",
            "Using the level keyword in DataFrame and Series aggregations is deprecated and will be removed in a future version. Use groupby instead. df.sum(level=1) should use df.groupby(level=1).sum().\n",
            "Using the level keyword in DataFrame and Series aggregations is deprecated and will be removed in a future version. Use groupby instead. df.sum(level=1) should use df.groupby(level=1).sum().\n",
            "Using the level keyword in DataFrame and Series aggregations is deprecated and will be removed in a future version. Use groupby instead. df.sum(level=1) should use df.groupby(level=1).sum().\n",
            "Using the level keyword in DataFrame and Series aggregations is deprecated and will be removed in a future version. Use groupby instead. df.sum(level=1) should use df.groupby(level=1).sum().\n",
            "Using the level keyword in DataFrame and Series aggregations is deprecated and will be removed in a future version. Use groupby instead. df.sum(level=1) should use df.groupby(level=1).sum().\n",
            "Using the level keyword in DataFrame and Series aggregations is deprecated and will be removed in a future version. Use groupby instead. df.sum(level=1) should use df.groupby(level=1).sum().\n",
            "Using the level keyword in DataFrame and Series aggregations is deprecated and will be removed in a future version. Use groupby instead. df.sum(level=1) should use df.groupby(level=1).sum().\n",
            "Using the level keyword in DataFrame and Series aggregations is deprecated and will be removed in a future version. Use groupby instead. df.sum(level=1) should use df.groupby(level=1).sum().\n",
            "Using the level keyword in DataFrame and Series aggregations is deprecated and will be removed in a future version. Use groupby instead. df.sum(level=1) should use df.groupby(level=1).sum().\n",
            "Using the level keyword in DataFrame and Series aggregations is deprecated and will be removed in a future version. Use groupby instead. df.sum(level=1) should use df.groupby(level=1).sum().\n",
            "Using the level keyword in DataFrame and Series aggregations is deprecated and will be removed in a future version. Use groupby instead. df.sum(level=1) should use df.groupby(level=1).sum().\n",
            "Using the level keyword in DataFrame and Series aggregations is deprecated and will be removed in a future version. Use groupby instead. df.sum(level=1) should use df.groupby(level=1).sum().\n",
            "Using the level keyword in DataFrame and Series aggregations is deprecated and will be removed in a future version. Use groupby instead. df.sum(level=1) should use df.groupby(level=1).sum().\n",
            "Using the level keyword in DataFrame and Series aggregations is deprecated and will be removed in a future version. Use groupby instead. df.sum(level=1) should use df.groupby(level=1).sum().\n",
            "Using the level keyword in DataFrame and Series aggregations is deprecated and will be removed in a future version. Use groupby instead. df.sum(level=1) should use df.groupby(level=1).sum().\n",
            "Using the level keyword in DataFrame and Series aggregations is deprecated and will be removed in a future version. Use groupby instead. df.sum(level=1) should use df.groupby(level=1).sum().\n",
            "Using the level keyword in DataFrame and Series aggregations is deprecated and will be removed in a future version. Use groupby instead. df.sum(level=1) should use df.groupby(level=1).sum().\n",
            "Using the level keyword in DataFrame and Series aggregations is deprecated and will be removed in a future version. Use groupby instead. df.sum(level=1) should use df.groupby(level=1).sum().\n",
            "Using the level keyword in DataFrame and Series aggregations is deprecated and will be removed in a future version. Use groupby instead. df.sum(level=1) should use df.groupby(level=1).sum().\n",
            "Using the level keyword in DataFrame and Series aggregations is deprecated and will be removed in a future version. Use groupby instead. df.sum(level=1) should use df.groupby(level=1).sum().\n",
            "Using the level keyword in DataFrame and Series aggregations is deprecated and will be removed in a future version. Use groupby instead. df.sum(level=1) should use df.groupby(level=1).sum().\n",
            "Using the level keyword in DataFrame and Series aggregations is deprecated and will be removed in a future version. Use groupby instead. df.sum(level=1) should use df.groupby(level=1).sum().\n",
            "Using the level keyword in DataFrame and Series aggregations is deprecated and will be removed in a future version. Use groupby instead. df.sum(level=1) should use df.groupby(level=1).sum().\n",
            "Using the level keyword in DataFrame and Series aggregations is deprecated and will be removed in a future version. Use groupby instead. df.sum(level=1) should use df.groupby(level=1).sum().\n",
            "Using the level keyword in DataFrame and Series aggregations is deprecated and will be removed in a future version. Use groupby instead. df.sum(level=1) should use df.groupby(level=1).sum().\n",
            "Using the level keyword in DataFrame and Series aggregations is deprecated and will be removed in a future version. Use groupby instead. df.sum(level=1) should use df.groupby(level=1).sum().\n",
            "Using the level keyword in DataFrame and Series aggregations is deprecated and will be removed in a future version. Use groupby instead. df.sum(level=1) should use df.groupby(level=1).sum().\n",
            "Using the level keyword in DataFrame and Series aggregations is deprecated and will be removed in a future version. Use groupby instead. df.sum(level=1) should use df.groupby(level=1).sum().\n",
            "Using the level keyword in DataFrame and Series aggregations is deprecated and will be removed in a future version. Use groupby instead. df.sum(level=1) should use df.groupby(level=1).sum().\n",
            "Using the level keyword in DataFrame and Series aggregations is deprecated and will be removed in a future version. Use groupby instead. df.sum(level=1) should use df.groupby(level=1).sum().\n",
            "Using the level keyword in DataFrame and Series aggregations is deprecated and will be removed in a future version. Use groupby instead. df.sum(level=1) should use df.groupby(level=1).sum().\n",
            "Using the level keyword in DataFrame and Series aggregations is deprecated and will be removed in a future version. Use groupby instead. df.sum(level=1) should use df.groupby(level=1).sum().\n",
            "Using the level keyword in DataFrame and Series aggregations is deprecated and will be removed in a future version. Use groupby instead. df.sum(level=1) should use df.groupby(level=1).sum().\n",
            "Using the level keyword in DataFrame and Series aggregations is deprecated and will be removed in a future version. Use groupby instead. df.sum(level=1) should use df.groupby(level=1).sum().\n",
            "Using the level keyword in DataFrame and Series aggregations is deprecated and will be removed in a future version. Use groupby instead. df.sum(level=1) should use df.groupby(level=1).sum().\n",
            "Using the level keyword in DataFrame and Series aggregations is deprecated and will be removed in a future version. Use groupby instead. df.sum(level=1) should use df.groupby(level=1).sum().\n",
            "Using the level keyword in DataFrame and Series aggregations is deprecated and will be removed in a future version. Use groupby instead. df.sum(level=1) should use df.groupby(level=1).sum().\n",
            "Using the level keyword in DataFrame and Series aggregations is deprecated and will be removed in a future version. Use groupby instead. df.sum(level=1) should use df.groupby(level=1).sum().\n",
            "Using the level keyword in DataFrame and Series aggregations is deprecated and will be removed in a future version. Use groupby instead. df.sum(level=1) should use df.groupby(level=1).sum().\n",
            "Using the level keyword in DataFrame and Series aggregations is deprecated and will be removed in a future version. Use groupby instead. df.sum(level=1) should use df.groupby(level=1).sum().\n",
            "Using the level keyword in DataFrame and Series aggregations is deprecated and will be removed in a future version. Use groupby instead. df.sum(level=1) should use df.groupby(level=1).sum().\n",
            "Using the level keyword in DataFrame and Series aggregations is deprecated and will be removed in a future version. Use groupby instead. df.sum(level=1) should use df.groupby(level=1).sum().\n",
            "Using the level keyword in DataFrame and Series aggregations is deprecated and will be removed in a future version. Use groupby instead. df.sum(level=1) should use df.groupby(level=1).sum().\n",
            "Using the level keyword in DataFrame and Series aggregations is deprecated and will be removed in a future version. Use groupby instead. df.sum(level=1) should use df.groupby(level=1).sum().\n",
            "Using the level keyword in DataFrame and Series aggregations is deprecated and will be removed in a future version. Use groupby instead. df.sum(level=1) should use df.groupby(level=1).sum().\n",
            "Using the level keyword in DataFrame and Series aggregations is deprecated and will be removed in a future version. Use groupby instead. df.sum(level=1) should use df.groupby(level=1).sum().\n",
            "Using the level keyword in DataFrame and Series aggregations is deprecated and will be removed in a future version. Use groupby instead. df.sum(level=1) should use df.groupby(level=1).sum().\n",
            "Using the level keyword in DataFrame and Series aggregations is deprecated and will be removed in a future version. Use groupby instead. df.sum(level=1) should use df.groupby(level=1).sum().\n",
            "Using the level keyword in DataFrame and Series aggregations is deprecated and will be removed in a future version. Use groupby instead. df.sum(level=1) should use df.groupby(level=1).sum().\n",
            "Using the level keyword in DataFrame and Series aggregations is deprecated and will be removed in a future version. Use groupby instead. df.sum(level=1) should use df.groupby(level=1).sum().\n",
            "Using the level keyword in DataFrame and Series aggregations is deprecated and will be removed in a future version. Use groupby instead. df.sum(level=1) should use df.groupby(level=1).sum().\n",
            "Using the level keyword in DataFrame and Series aggregations is deprecated and will be removed in a future version. Use groupby instead. df.sum(level=1) should use df.groupby(level=1).sum().\n",
            "Using the level keyword in DataFrame and Series aggregations is deprecated and will be removed in a future version. Use groupby instead. df.sum(level=1) should use df.groupby(level=1).sum().\n",
            "Using the level keyword in DataFrame and Series aggregations is deprecated and will be removed in a future version. Use groupby instead. df.sum(level=1) should use df.groupby(level=1).sum().\n",
            "Using the level keyword in DataFrame and Series aggregations is deprecated and will be removed in a future version. Use groupby instead. df.sum(level=1) should use df.groupby(level=1).sum().\n",
            "Using the level keyword in DataFrame and Series aggregations is deprecated and will be removed in a future version. Use groupby instead. df.sum(level=1) should use df.groupby(level=1).sum().\n",
            "Using the level keyword in DataFrame and Series aggregations is deprecated and will be removed in a future version. Use groupby instead. df.sum(level=1) should use df.groupby(level=1).sum().\n",
            "Using the level keyword in DataFrame and Series aggregations is deprecated and will be removed in a future version. Use groupby instead. df.sum(level=1) should use df.groupby(level=1).sum().\n",
            "Using the level keyword in DataFrame and Series aggregations is deprecated and will be removed in a future version. Use groupby instead. df.sum(level=1) should use df.groupby(level=1).sum().\n",
            "Using the level keyword in DataFrame and Series aggregations is deprecated and will be removed in a future version. Use groupby instead. df.sum(level=1) should use df.groupby(level=1).sum().\n",
            "Using the level keyword in DataFrame and Series aggregations is deprecated and will be removed in a future version. Use groupby instead. df.sum(level=1) should use df.groupby(level=1).sum().\n"
          ]
        },
        {
          "output_type": "stream",
          "name": "stdout",
          "text": [
            "SVC(C=1000, gamma=0.01, probability=True):\n",
            " false_negative_rate    0.305556\n",
            "selection_rate         0.173219\n",
            "balanced_accuracy      0.131558\n",
            "dtype: object \n",
            "\n",
            "\n"
          ]
        },
        {
          "output_type": "stream",
          "name": "stderr",
          "text": [
            "Using the level keyword in DataFrame and Series aggregations is deprecated and will be removed in a future version. Use groupby instead. df.sum(level=1) should use df.groupby(level=1).sum().\n"
          ]
        }
      ]
    },
    {
      "cell_type": "markdown",
      "source": [
        "#### 4. Thresholdoptimizer (fair learn - post processing)"
      ],
      "metadata": {
        "id": "PSX6PquRyG-v"
      }
    },
    {
      "cell_type": "markdown",
      "source": [
        "ThresholdOptimizer takes in an exisiting (possibly pre-fit) machine learning model whose predictions act as a scoring function and identifies a separate thrceshold for each group in order to optimize some specified objective metric (such as balanced accuracy) subject to specified fairness constraints (such as false negative rate parity). Thus, the resulting classifier is just a suitably thresholded version of the underlying machinelearning model."
      ],
      "metadata": {
        "id": "0gDoOpHZBtvB"
      }
    },
    {
      "cell_type": "code",
      "source": [
        "# fit thesholdoptimizer for each classifier and return mitigated resutls\n",
        "for cls in classifiers:  \n",
        "  postprocess_est = ThresholdOptimizer(estimator=unmitigated_pipeline,\n",
        "                                       constraints=\"false_negative_rate_parity\",\n",
        "                                       objective=\"balanced_accuracy_score\",\n",
        "                                       prefit=True,\n",
        "                                       predict_method='predict_proba')\n",
        "  \n",
        "  postprocess_est.fit(X_train, y_train, sensitive_features=A_train)\n",
        "\n",
        "  Y_pred_postprocess = postprocess_est.predict(X_test, sensitive_features=A_test)\n",
        "\n",
        "  metricframe_postprocess = MetricFrame(metrics=metrics_dict,\n",
        "                                        y_true=y_test,\n",
        "                                        y_pred=Y_pred_postprocess,\n",
        "                                        sensitive_features=A_test)\n",
        "  \n",
        "  df_results = pd.concat([metricframe_postprocess.by_group],\n",
        "                          keys=['Unmitigated', 'ThresholdOptimizer'],\n",
        "                          axis=1)\n",
        "  \n",
        "  print (f'{cls} - Age:{chr(10)} {df_results}{chr(10)}')\n",
        "  "
      ],
      "metadata": {
        "colab": {
          "base_uri": "https://localhost:8080/"
        },
        "id": "eX1oFDap6y4O",
        "outputId": "90bd5930-5f07-41f9-b559-ecee5e7cd4dd"
      },
      "execution_count": 81,
      "outputs": [
        {
          "output_type": "stream",
          "name": "stderr",
          "text": [
            "X has feature names, but SVC was fitted without feature names\n",
            "X has feature names, but SVC was fitted without feature names\n",
            "X has feature names, but SVC was fitted without feature names\n"
          ]
        },
        {
          "output_type": "stream",
          "name": "stdout",
          "text": [
            "RandomForestClassifier() - Age:\n",
            "             Unmitigated                                 \n",
            "    false_negative_rate selection_rate balanced_accuracy\n",
            "Age                                                     \n",
            "20                  0.0       0.746479          0.764706\n",
            "30                  0.0       0.740741          0.769231\n",
            "40             0.105263       0.666667          0.722368\n",
            "60             0.027778       0.784615          0.710249\n",
            "\n"
          ]
        },
        {
          "output_type": "stream",
          "name": "stderr",
          "text": [
            "X has feature names, but SVC was fitted without feature names\n",
            "X has feature names, but SVC was fitted without feature names\n"
          ]
        },
        {
          "output_type": "stream",
          "name": "stdout",
          "text": [
            "LogisticRegression(random_state=42) - Age:\n",
            "             Unmitigated                                 \n",
            "    false_negative_rate selection_rate balanced_accuracy\n",
            "Age                                                     \n",
            "20                  0.0       0.746479          0.764706\n",
            "30             0.071429       0.703704          0.733516\n",
            "40             0.105263       0.666667          0.722368\n",
            "60                  0.0       0.830769          0.689655\n",
            "\n",
            "SVC(C=1000, gamma=0.01, probability=True) - Age:\n",
            "             Unmitigated                                 \n",
            "    false_negative_rate selection_rate balanced_accuracy\n",
            "Age                                                     \n",
            "20                  0.0       0.746479          0.764706\n",
            "30                  0.0       0.740741          0.769231\n",
            "40             0.105263       0.666667          0.722368\n",
            "60             0.111111       0.753846          0.651341\n",
            "\n"
          ]
        },
        {
          "output_type": "stream",
          "name": "stderr",
          "text": [
            "X has feature names, but SVC was fitted without feature names\n"
          ]
        }
      ]
    },
    {
      "cell_type": "markdown",
      "metadata": {
        "id": "mdATOrW-FG_n"
      },
      "source": [
        "# ML fairness - summary and future considerations (for report)\n",
        "\n",
        "\n",
        "---\n",
        "\n",
        "\n",
        "\n"
      ]
    },
    {
      "cell_type": "markdown",
      "source": [
        "Best practices:\n",
        "  - dataset documentation\n",
        "  -  model reporting and curation\n",
        "  - reproducibility and transparency\n",
        "\n",
        "\n",
        "\n",
        "The Model Card Toolkit (MCT) will be used to ensure the correct documentation, model reporting, and transaparency of the set-up model\n",
        "\n",
        "https://github.com/tensorflow/model-card-toolkit\n",
        "\n",
        "https://github.com/fairlearn/talks/blob/main/2021_scipy_tutorial/fairness-in-AI-systems-instructors.ipynb\n",
        "\n",
        "\n",
        "\n",
        "https://github.com/fairlearn/talks/blob/main/2022_pycon/pycon-2022-instructors.ipynb"
      ],
      "metadata": {
        "id": "1vOW3ikYyGE0"
      }
    },
    {
      "cell_type": "code",
      "source": [
        "# ! pip install model-card-toolkit"
      ],
      "metadata": {
        "id": "eKCNUSxx0Gyu"
      },
      "execution_count": null,
      "outputs": []
    },
    {
      "cell_type": "code",
      "source": [
        "try:\n",
        "    from model_card_toolkit import ModelCardToolkit\n",
        "    from model_card_toolkit.utils.graphics import figure_to_base64str\n",
        "    model_card_imported = True\n",
        "except Exception:\n",
        "    model_card_imported = False\n",
        "    def figure_to_base64str(*args):\n",
        "        return None"
      ],
      "metadata": {
        "id": "j8mTZuaBpppU"
      },
      "execution_count": null,
      "outputs": []
    },
    {
      "cell_type": "code",
      "source": [
        "# Initialize the Model Card Toolkit with a path to store generate assets\n",
        "model_card_output_path = ...\n",
        "mct = model_card_toolkit.ModelCardToolkit(model_card_output_path)\n",
        "\n",
        "# Initialize the model_card_toolkit.ModelCard, which can be freely populated\n",
        "model_card = mct.scaffold_assets()\n",
        "model_card.model_details.name = 'My Model'\n",
        "\n",
        "# Write the model card data to a proto file\n",
        "mct.update_model_card(model_card)\n",
        "\n",
        "# Return the model card document as an HTML page\n",
        "html = mct.export_format()"
      ],
      "metadata": {
        "id": "2nSfyL040XVI"
      },
      "execution_count": null,
      "outputs": []
    },
    {
      "cell_type": "code",
      "source": [
        "# for graphics: https://github.com/valeria-io/bias-in-credit-models/blob/master/model_analysis/model_fairness_interventions.ipynb\n",
        "go for negative rate "
      ],
      "metadata": {
        "id": "Yd2Pbh9JzcJ6"
      },
      "execution_count": null,
      "outputs": []
    },
    {
      "cell_type": "code",
      "source": [
        ""
      ],
      "metadata": {
        "id": "ArYnyOdR_pcn"
      },
      "execution_count": null,
      "outputs": []
    },
    {
      "cell_type": "markdown",
      "source": [
        "## archive of code snipplets\n"
      ],
      "metadata": {
        "id": "7c8qYSo6nmE9"
      }
    },
    {
      "cell_type": "code",
      "source": [
        "# proof scaling doesnt mke a difference\n",
        "\n",
        "from sklearn.preprocessing import StandardScaler, MaxAbsScaler\n",
        "\n",
        "min_max_scaler = MaxAbsScaler()\n",
        "ds_train.features = min_max_scaler.fit_transform(ds_train.features)\n",
        "ds_test.features = min_max_scaler.transform(ds_test.features)\n",
        "metric_scaled_train = BinaryLabelDatasetMetric(ds_train, \n",
        "                            unprivileged_groups = unpriv,\n",
        "                                            privileged_groups = priv)\n",
        "display(Markdown(\"#### Scaled dataset - Verify that the scaling does not affect the group label statistics\"))\n",
        "print(\"Train set: Difference in mean outcomes between unprivileged and privileged groups = %f\" % metric_scaled_train.mean_difference())\n",
        "metric_scaled_test = BinaryLabelDatasetMetric(ds_test, \n",
        "                            unprivileged_groups = unpriv,\n",
        "                                            privileged_groups = priv)\n",
        "print(\"Test set: Difference in mean outcomes between unprivileged and privileged groups = %f\" % metric_scaled_test.mean_difference())"
      ],
      "metadata": {
        "id": "QRbNGVK9Q18Y"
      },
      "execution_count": null,
      "outputs": []
    },
    {
      "cell_type": "markdown",
      "source": [
        "check : https://colab.research.google.com/github/fairlearn/talks/blob/main/2021_scipy_tutorial/fairness-in-AI-systems-student.ipynb#scrollTo=HrCelj5_hR6a\n",
        "\n",
        "\n",
        "'''https://fairlearn.org/v0.5.0/quickstart.html\n",
        "\n",
        "https://github.com/fairlearn/talks/blob/main/2021_scipy_tutorial/fairness-in-AI-systems-instructors.ipynb\n",
        "\n",
        "https://github.com/fairlearn/fairlearn/tree/main/notebooks'''\n",
        "\n",
        "\n",
        "\n",
        "\n",
        "https://www.ibm.com/docs/en/cloud-paks/cp-data/3.5.0?topic=functions-watson-machine-learning-overview\n",
        "\n",
        "\n",
        "https://proceedings.neurips.cc/paper/2020/file/03593ce517feac573fdaafa6dcedef61-Paper.pdf\n",
        "\n",
        "https://proceedings.neurips.cc/paper/2021/file/43c656628a4a479e108ed86f7a28a010-Paper.pdf\n",
        "\n",
        "\n",
        "https://arxiv.org/pdf/1810.01943.pdf\n",
        "\n",
        "\n"
      ],
      "metadata": {
        "id": "GTphtdfs_Zjl"
      }
    },
    {
      "cell_type": "code",
      "source": [
        ""
      ],
      "metadata": {
        "id": "Nm88rqoDHCTq"
      },
      "execution_count": null,
      "outputs": []
    }
  ],
  "metadata": {
    "colab": {
      "collapsed_sections": [
        "zM2IN5-5nw0b",
        "VLxCfPjUVX7A",
        "9wWNnWsNm9g4",
        "Ir5-ry5VxVdh",
        "ll-yVqLPprKr",
        "evypBHEzQXOf",
        "hDRBvHmZQcc6",
        "F7Uh8cAyQcFE",
        "e7c6sUh3xFeQ",
        "5JttfxDoxAX3",
        "4UGDE8RSw6K_",
        "AbDywt6eIVhd",
        "QClTGz2ADunB",
        "d-6CDSP_Ob2M",
        "4JU4oe4oz-c-"
      ],
      "name": "13.06.2022 WLK + MMH - Debiasing Classification Algorithms.ipynb",
      "provenance": [],
      "mount_file_id": "1Xo5TrZHHPByGzAI0Kww6NF6Y-m8mjBla",
      "authorship_tag": "ABX9TyNEx04qXR+tEGJLAK7mOfb/",
      "include_colab_link": true
    },
    "kernelspec": {
      "display_name": "Python 3",
      "name": "python3"
    },
    "language_info": {
      "name": "python"
    }
  },
  "nbformat": 4,
  "nbformat_minor": 0
}