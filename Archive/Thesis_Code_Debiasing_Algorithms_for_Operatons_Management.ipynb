{
  "nbformat": 4,
  "nbformat_minor": 0,
  "metadata": {
    "colab": {
      "name": "Thesis Code - Debiasing Algorithms for Operatons Management.ipynb",
      "provenance": [],
      "toc_visible": true,
      "mount_file_id": "1Xo5TrZHHPByGzAI0Kww6NF6Y-m8mjBla",
      "authorship_tag": "ABX9TyO183A6gWRYXWcDatDmqyeb",
      "include_colab_link": true
    },
    "kernelspec": {
      "name": "python3",
      "display_name": "Python 3"
    },
    "language_info": {
      "name": "python"
    }
  },
  "cells": [
    {
      "cell_type": "markdown",
      "metadata": {
        "id": "view-in-github",
        "colab_type": "text"
      },
      "source": [
        "<a href=\"https://colab.research.google.com/github/FHnt97/TOM_Thesis/blob/main/Thesis_Code_Debiasing_Algorithms_for_Operatons_Management.ipynb\" target=\"_parent\"><img src=\"https://colab.research.google.com/assets/colab-badge.svg\" alt=\"Open In Colab\"/></a>"
      ]
    },
    {
      "cell_type": "code",
      "execution_count": null,
      "metadata": {
        "id": "vPdszu9IF3a4"
      },
      "outputs": [],
      "source": [
        "import pandas as pd\n",
        "import numpy as np\n",
        "import pandas_profiling as pp\n",
        "import matplotlib.pyplot as plt\n",
        "import seaborn as sns\n",
        "from sklearn import preprocessing\n",
        "from sklearn.metrics import classification_report\n",
        "from sklearn.metrics import accuracy_score\n",
        "from sklearn.ensemble import RandomForestClassifier"
      ]
    },
    {
      "cell_type": "code",
      "source": [
        ""
      ],
      "metadata": {
        "id": "Y5nYMIJTGXCE"
      },
      "execution_count": null,
      "outputs": []
    },
    {
      "cell_type": "markdown",
      "source": [
        "# WESAD Exploratory Analysis"
      ],
      "metadata": {
        "id": "4N07tyd8IGzq"
      }
    },
    {
      "cell_type": "markdown",
      "source": [
        "# SWELL Exploratory Analysis\n"
      ],
      "metadata": {
        "id": "jZwup2byILZa"
      }
    },
    {
      "cell_type": "markdown",
      "source": [
        "# Stress Model"
      ],
      "metadata": {
        "id": "Qm0kRPE6IQ3U"
      }
    },
    {
      "cell_type": "markdown",
      "source": [
        "# Fairness Measure"
      ],
      "metadata": {
        "id": "AbDywt6eIVhd"
      }
    },
    {
      "cell_type": "markdown",
      "source": [
        "# Debiasing the model"
      ],
      "metadata": {
        "id": "sf3-XjExIYIF"
      }
    }
  ]
}