{
  "cells": [
    {
      "cell_type": "markdown",
      "metadata": {
        "id": "view-in-github",
        "colab_type": "text"
      },
      "source": [
        "<a href=\"https://colab.research.google.com/github/FHnt97/TOM_Thesis/blob/main/WLK_%2B_MMH_Debiasing_Classification_Algorithms_1_0_AGE.ipynb\" target=\"_parent\"><img src=\"https://colab.research.google.com/assets/colab-badge.svg\" alt=\"Open In Colab\"/></a>"
      ]
    },
    {
      "cell_type": "markdown",
      "metadata": {
        "id": "k47uXogQN7DK"
      },
      "source": [
        "# Fairness in Occupational Fatigue Detection\n",
        "    "
      ]
    },
    {
      "cell_type": "markdown",
      "source": [
        "# Content\n",
        "\n",
        "---\n",
        "\n",
        "Find an introduction to the aim and dataset in the README file."
      ],
      "metadata": {
        "id": "-iJiVuckU0TU"
      }
    },
    {
      "cell_type": "markdown",
      "metadata": {
        "id": "wUpGt6kungQT"
      },
      "source": [
        "\n",
        "\n",
        "- **Dataset**\n",
        "    - MMH & WLK datasets (merged)\n",
        "    - **Sensitive attribute**: age (in buckets of 10 years) \n",
        "    - The dataset has an unqeual sample size for both age and task groups. \n",
        "\n",
        "- **Domain**\n",
        "    - Operations management - fatigue detection \n",
        "\n",
        "- **ML task**\n",
        "    - SVM (rbf)\n",
        "    - RFC \n",
        "    - LinearClassifier - LogisticRegression\n",
        "\n",
        "- **Fairness tasks**\n",
        "    - Assessment of unfairness \n",
        "    - Mitigation of unfairness with a focus on equal **FALSE NEGATIVE RATE** and **EQAULIZED ODDS**\n",
        "\n",
        "\n",
        "- **Model performance metrics**:\n",
        "    - Confusion matrix\n",
        "    - Recall, accuracy & precision\n",
        "    - ROC curve\n",
        "\n",
        "- **Model fairness metrics**:\n",
        "    - Equalized odds /  False negatives and False negative rate\n",
        "    - Selection Rate\n",
        "\n",
        "- **Mitigation algorithms**:\n",
        "\n",
        "*The objective is to reduce false negatives / make them equal (avoid burnout of employees)*\n",
        "\n",
        "    - Reweighting (aif360)\n",
        "    - Exponential gradient (fairlearn - postprocessing)\n",
        "    - ThresholdOptimizer (fairlearn - postprocessing)\n",
        "\n",
        "\n",
        "\n",
        "```\n",
        "# Nomeclature: \n",
        "\n",
        "X ∈ Rᵈ: quantified features of the applicant\n",
        "\n",
        "A ∈ {0, 1}: binary sensitive attribute gnder\n",
        "\n",
        "C :=c(X,A) ∈ {0,1}: binary predictor (stressed vs. ok), which makes decision based on a score R:=r(x, a) ∈ [0,1]\n",
        "\n",
        "Y ∈ {0, 1}: target variable\n",
        "\n",
        "```\n",
        "\n",
        "    \n"
      ]
    },
    {
      "cell_type": "markdown",
      "source": [
        "# Base code\n",
        "------\n",
        "\n",
        "Using the work by [Maman et al. (2020)](https://zahrame.github.io/FatigueManagement.github.io/) as a base, we apply a fairness unaware model, namely **SVM (circular kernel), RF and a generic LGM model (logistic regression).** \n",
        "\n"
      ],
      "metadata": {
        "id": "uDZdIJtAUx70"
      }
    },
    {
      "cell_type": "markdown",
      "source": [
        "### Libraries & helper functions"
      ],
      "metadata": {
        "id": "VLxCfPjUVX7A"
      }
    },
    {
      "cell_type": "code",
      "execution_count": 1,
      "metadata": {
        "id": "vPdszu9IF3a4"
      },
      "outputs": [],
      "source": [
        "# importing general libraries\n",
        "import pandas as pd\n",
        "import numpy as np\n",
        "import matplotlib.pyplot as plt\n",
        "import seaborn as sns\n",
        "%matplotlib inline\n",
        "\n",
        "from IPython.display import Markdown, display"
      ]
    },
    {
      "cell_type": "code",
      "source": [
        "# Helper functions metrics\n",
        "def get_metrics_df(models_dict, y_true, group):\n",
        "    metrics_dict = {\n",
        "        \"Equalized_odds_difference\": (\n",
        "            lambda x: equalized_odds_difference(y_true, x, sensitive_features=group), True),\n",
        "        \"False negative rate difference\": (\n",
        "            lambda x: false_negative_rate_difference(y_true, x, sensitive_features=group), True),\n",
        "        \"Balanced error rate difference\": (\n",
        "            lambda x: MetricFrame(metrics=balanced_accuracy_score, y_true=y_true, y_pred=x, sensitive_features=group).difference(method='between_groups'), True),\n",
        "        \" ------\": (lambda x: \"\", True),\n",
        "        \"Demographic parity difference\": (\n",
        "            lambda x: demographic_parity_difference(y_true, x, sensitive_features=group), True),\n",
        "        \"  ------\": (lambda x: \"\", True),\n",
        "        \"Overall AUC\": (\n",
        "            lambda x: roc_auc_score(y_true, x), False),\n",
        "        \"AUC difference\": (\n",
        "            lambda x: MetricFrame(metrics=roc_auc_score, y_true=y_true, y_pred=x, sensitive_features=group).difference(method='between_groups'), False),\n",
        "    }\n",
        "    df_dict = {}\n",
        "    for metric_name, (metric_func, use_preds) in metrics_dict.items():\n",
        "        df_dict[metric_name] = [metric_func(preds) if use_preds else metric_func(scores) \n",
        "                                for model_name, (preds, scores) in models_dict.items()]\n",
        "    return pd.DataFrame.from_dict(df_dict, orient=\"index\", columns=models_dict.keys())\n",
        "\n",
        "def metric_frame (feature):\n",
        "    mf = MetricFrame({\n",
        "        'FPR': false_positive_rate,\n",
        "        'FNR': false_negative_rate,\n",
        "        'TPR': true_positive_rate,\n",
        "        'TNR': true_negative_rate, },\n",
        "        y_test, test_preds, sensitive_features = feature)\n",
        "    return mf.by_group\n",
        "\n",
        "\n",
        "def summary_as_df(name, summary):\n",
        "    a = summary.by_group\n",
        "    a['overall'] = summary.overall\n",
        "    return pd.DataFrame({name: a})"
      ],
      "metadata": {
        "id": "M7X3bMfyJXsl"
      },
      "execution_count": 35,
      "outputs": []
    },
    {
      "cell_type": "code",
      "source": [
        "# !pip install model-card-toolkit\n",
        "!pip install --upgrade fairlearn==0.7.0\n",
        "!pip install fairml\n",
        "!pip install aif360"
      ],
      "metadata": {
        "id": "E7Q3FVI6nC9L",
        "colab": {
          "base_uri": "https://localhost:8080/"
        },
        "outputId": "c9522538-32c8-41f3-82b5-faad1edb5d36"
      },
      "execution_count": 2,
      "outputs": [
        {
          "output_type": "stream",
          "name": "stdout",
          "text": [
            "Looking in indexes: https://pypi.org/simple, https://us-python.pkg.dev/colab-wheels/public/simple/\n",
            "Collecting fairlearn==0.7.0\n",
            "  Downloading fairlearn-0.7.0-py3-none-any.whl (177 kB)\n",
            "\u001b[K     |████████████████████████████████| 177 kB 18.3 MB/s \n",
            "\u001b[?25hRequirement already satisfied: scipy>=1.4.1 in /usr/local/lib/python3.7/dist-packages (from fairlearn==0.7.0) (1.4.1)\n",
            "Requirement already satisfied: numpy>=1.17.2 in /usr/local/lib/python3.7/dist-packages (from fairlearn==0.7.0) (1.21.6)\n",
            "Requirement already satisfied: scikit-learn>=0.22.1 in /usr/local/lib/python3.7/dist-packages (from fairlearn==0.7.0) (1.0.2)\n",
            "Requirement already satisfied: pandas>=0.25.1 in /usr/local/lib/python3.7/dist-packages (from fairlearn==0.7.0) (1.3.5)\n",
            "Requirement already satisfied: pytz>=2017.3 in /usr/local/lib/python3.7/dist-packages (from pandas>=0.25.1->fairlearn==0.7.0) (2022.1)\n",
            "Requirement already satisfied: python-dateutil>=2.7.3 in /usr/local/lib/python3.7/dist-packages (from pandas>=0.25.1->fairlearn==0.7.0) (2.8.2)\n",
            "Requirement already satisfied: six>=1.5 in /usr/local/lib/python3.7/dist-packages (from python-dateutil>=2.7.3->pandas>=0.25.1->fairlearn==0.7.0) (1.15.0)\n",
            "Requirement already satisfied: joblib>=0.11 in /usr/local/lib/python3.7/dist-packages (from scikit-learn>=0.22.1->fairlearn==0.7.0) (1.1.0)\n",
            "Requirement already satisfied: threadpoolctl>=2.0.0 in /usr/local/lib/python3.7/dist-packages (from scikit-learn>=0.22.1->fairlearn==0.7.0) (3.1.0)\n",
            "Installing collected packages: fairlearn\n",
            "Successfully installed fairlearn-0.7.0\n",
            "Looking in indexes: https://pypi.org/simple, https://us-python.pkg.dev/colab-wheels/public/simple/\n",
            "Collecting fairml\n",
            "  Downloading fairml-0.1.1.5rc8.tar.gz (9.8 kB)\n",
            "\u001b[33mWARNING: Discarding https://files.pythonhosted.org/packages/92/c7/99bd6a7e9398913a3b12acabc450b0890408d8f363600e59c0b952f94769/fairml-0.1.1.5rc8.tar.gz#sha256=5e55a49df4d298b641d0d71618dbc5293b46d13aeeca9828d4d52611c19ac367 (from https://pypi.org/simple/fairml/). Command errored out with exit status 1: python setup.py egg_info Check the logs for full command output.\u001b[0m\n",
            "  Downloading fairml-0.1.1.5rc7.tar.gz (9.8 kB)\n",
            "\u001b[33mWARNING: Discarding https://files.pythonhosted.org/packages/83/3b/5f4470d64025962bf5ebc3865a4599baeaaf3ef2452d4578ece419d6bf16/fairml-0.1.1.5rc7.tar.gz#sha256=0d292efd3d3ae2da1c19aaac5acc43db95f5368e5d26ed2d1a6228f319c35ac9 (from https://pypi.org/simple/fairml/). Command errored out with exit status 1: python setup.py egg_info Check the logs for full command output.\u001b[0m\n",
            "  Downloading fairml-0.1.1.5rc6.tar.gz (9.8 kB)\n",
            "\u001b[33mWARNING: Discarding https://files.pythonhosted.org/packages/47/a4/a3e6bd6d413134dd8f96ac68a0e8f3c97bb88d933bf0fa5abdba7061a17c/fairml-0.1.1.5rc6.tar.gz#sha256=a87c83aeeddc40f64d8f0e7866ff8f901507b76023ec69f3bb11b58f32b151c5 (from https://pypi.org/simple/fairml/). Command errored out with exit status 1: python setup.py egg_info Check the logs for full command output.\u001b[0m\n",
            "  Downloading fairml-0.1.1.5rc5.tar.gz (9.8 kB)\n",
            "\u001b[33mWARNING: Discarding https://files.pythonhosted.org/packages/a7/e5/31bcd49c40121e12d5aa12707da59535a81e72ef0e7cb871fc188e7c1283/fairml-0.1.1.5rc5.tar.gz#sha256=23266ddf5bfb829762045e928c03aeb9c03feb916f3c23395300fa935568542f (from https://pypi.org/simple/fairml/). Command errored out with exit status 1: python setup.py egg_info Check the logs for full command output.\u001b[0m\n",
            "  Downloading fairml-0.1.1.5rc4.tar.gz (9.8 kB)\n",
            "\u001b[33mWARNING: Discarding https://files.pythonhosted.org/packages/f4/5b/e634409081d9c5908d3710244fea0552ea040c44fe26c09c532b02e444a5/fairml-0.1.1.5rc4.tar.gz#sha256=1b9c9cff6b49f318c5070fc09ae9c3431a9e7af375e9e4354aa11d5d13b72677 (from https://pypi.org/simple/fairml/). Command errored out with exit status 1: python setup.py egg_info Check the logs for full command output.\u001b[0m\n",
            "  Downloading fairml-0.1.1.5rc3.tar.gz (10 kB)\n",
            "\u001b[33mWARNING: Discarding https://files.pythonhosted.org/packages/c0/35/d03692cd15a35039919b01ef39fef3d91190f1ea113a28b60f7ed15f9136/fairml-0.1.1.5rc3.tar.gz#sha256=5cacf0218e99806e510d0def78d50a6fab9a6e40dd1fc0847f07e8ac77aac801 (from https://pypi.org/simple/fairml/). Command errored out with exit status 1: python setup.py egg_info Check the logs for full command output.\u001b[0m\n",
            "  Downloading fairml-0.1.1.5rc2.tar.gz (9.7 kB)\n",
            "\u001b[33mWARNING: Discarding https://files.pythonhosted.org/packages/c8/57/101aa038e4242441416f6e371ecc29ada483607f42da4981073f77fd3cdc/fairml-0.1.1.5rc2.tar.gz#sha256=8c00519deb3a57d8a73f3bc14f52e62df076c604e1940f5ddee32390ee2d70d3 (from https://pypi.org/simple/fairml/). Command errored out with exit status 1: python setup.py egg_info Check the logs for full command output.\u001b[0m\n",
            "  Downloading fairml-0.1.1.5rc1.tar.gz (8.8 kB)\n",
            "Requirement already satisfied: numpy in /usr/local/lib/python3.7/dist-packages (from fairml) (1.21.6)\n",
            "Requirement already satisfied: scipy in /usr/local/lib/python3.7/dist-packages (from fairml) (1.4.1)\n",
            "Requirement already satisfied: scikit-learn>=0.18 in /usr/local/lib/python3.7/dist-packages (from fairml) (1.0.2)\n",
            "Requirement already satisfied: matplotlib>=1.5.3 in /usr/local/lib/python3.7/dist-packages (from fairml) (3.2.2)\n",
            "Requirement already satisfied: seaborn>=0.7.1 in /usr/local/lib/python3.7/dist-packages (from fairml) (0.11.2)\n",
            "Requirement already satisfied: pandas>=0.19.0 in /usr/local/lib/python3.7/dist-packages (from fairml) (1.3.5)\n",
            "Requirement already satisfied: kiwisolver>=1.0.1 in /usr/local/lib/python3.7/dist-packages (from matplotlib>=1.5.3->fairml) (1.4.3)\n",
            "Requirement already satisfied: pyparsing!=2.0.4,!=2.1.2,!=2.1.6,>=2.0.1 in /usr/local/lib/python3.7/dist-packages (from matplotlib>=1.5.3->fairml) (3.0.9)\n",
            "Requirement already satisfied: cycler>=0.10 in /usr/local/lib/python3.7/dist-packages (from matplotlib>=1.5.3->fairml) (0.11.0)\n",
            "Requirement already satisfied: python-dateutil>=2.1 in /usr/local/lib/python3.7/dist-packages (from matplotlib>=1.5.3->fairml) (2.8.2)\n",
            "Requirement already satisfied: typing-extensions in /usr/local/lib/python3.7/dist-packages (from kiwisolver>=1.0.1->matplotlib>=1.5.3->fairml) (4.1.1)\n",
            "Requirement already satisfied: pytz>=2017.3 in /usr/local/lib/python3.7/dist-packages (from pandas>=0.19.0->fairml) (2022.1)\n",
            "Requirement already satisfied: six>=1.5 in /usr/local/lib/python3.7/dist-packages (from python-dateutil>=2.1->matplotlib>=1.5.3->fairml) (1.15.0)\n",
            "Requirement already satisfied: threadpoolctl>=2.0.0 in /usr/local/lib/python3.7/dist-packages (from scikit-learn>=0.18->fairml) (3.1.0)\n",
            "Requirement already satisfied: joblib>=0.11 in /usr/local/lib/python3.7/dist-packages (from scikit-learn>=0.18->fairml) (1.1.0)\n",
            "Building wheels for collected packages: fairml\n",
            "  Building wheel for fairml (setup.py) ... \u001b[?25l\u001b[?25hdone\n",
            "  Created wheel for fairml: filename=fairml-0.1.1.5rc1-py3-none-any.whl size=8804 sha256=a71e10b989c1219b14addc4f42d3ab8df2563f700c500ac70687009f0cb81362\n",
            "  Stored in directory: /root/.cache/pip/wheels/6f/44/b7/07613082ee66d893ca0e252d2a5793cd371fcf5107c477234d\n",
            "Successfully built fairml\n",
            "Installing collected packages: fairml\n",
            "Successfully installed fairml-0.1.1.5rc1\n",
            "Looking in indexes: https://pypi.org/simple, https://us-python.pkg.dev/colab-wheels/public/simple/\n",
            "Collecting aif360\n",
            "  Downloading aif360-0.4.0-py3-none-any.whl (175 kB)\n",
            "\u001b[K     |████████████████████████████████| 175 kB 16.0 MB/s \n",
            "\u001b[?25hRequirement already satisfied: pandas>=0.24.0 in /usr/local/lib/python3.7/dist-packages (from aif360) (1.3.5)\n",
            "Collecting tempeh\n",
            "  Downloading tempeh-0.1.12-py3-none-any.whl (39 kB)\n",
            "Requirement already satisfied: matplotlib in /usr/local/lib/python3.7/dist-packages (from aif360) (3.2.2)\n",
            "Requirement already satisfied: scipy<1.6.0,>=1.2.0 in /usr/local/lib/python3.7/dist-packages (from aif360) (1.4.1)\n",
            "Requirement already satisfied: scikit-learn>=0.22.1 in /usr/local/lib/python3.7/dist-packages (from aif360) (1.0.2)\n",
            "Requirement already satisfied: numpy>=1.16 in /usr/local/lib/python3.7/dist-packages (from aif360) (1.21.6)\n",
            "Requirement already satisfied: pytz>=2017.3 in /usr/local/lib/python3.7/dist-packages (from pandas>=0.24.0->aif360) (2022.1)\n",
            "Requirement already satisfied: python-dateutil>=2.7.3 in /usr/local/lib/python3.7/dist-packages (from pandas>=0.24.0->aif360) (2.8.2)\n",
            "Requirement already satisfied: six>=1.5 in /usr/local/lib/python3.7/dist-packages (from python-dateutil>=2.7.3->pandas>=0.24.0->aif360) (1.15.0)\n",
            "Requirement already satisfied: threadpoolctl>=2.0.0 in /usr/local/lib/python3.7/dist-packages (from scikit-learn>=0.22.1->aif360) (3.1.0)\n",
            "Requirement already satisfied: joblib>=0.11 in /usr/local/lib/python3.7/dist-packages (from scikit-learn>=0.22.1->aif360) (1.1.0)\n",
            "Requirement already satisfied: pyparsing!=2.0.4,!=2.1.2,!=2.1.6,>=2.0.1 in /usr/local/lib/python3.7/dist-packages (from matplotlib->aif360) (3.0.9)\n",
            "Requirement already satisfied: cycler>=0.10 in /usr/local/lib/python3.7/dist-packages (from matplotlib->aif360) (0.11.0)\n",
            "Requirement already satisfied: kiwisolver>=1.0.1 in /usr/local/lib/python3.7/dist-packages (from matplotlib->aif360) (1.4.3)\n",
            "Requirement already satisfied: typing-extensions in /usr/local/lib/python3.7/dist-packages (from kiwisolver>=1.0.1->matplotlib->aif360) (4.1.1)\n",
            "Collecting shap\n",
            "  Downloading shap-0.41.0-cp37-cp37m-manylinux_2_12_x86_64.manylinux2010_x86_64.whl (569 kB)\n",
            "\u001b[K     |████████████████████████████████| 569 kB 36.0 MB/s \n",
            "\u001b[?25hRequirement already satisfied: requests in /usr/local/lib/python3.7/dist-packages (from tempeh->aif360) (2.23.0)\n",
            "Collecting memory-profiler\n",
            "  Downloading memory_profiler-0.60.0.tar.gz (38 kB)\n",
            "Requirement already satisfied: pytest in /usr/local/lib/python3.7/dist-packages (from tempeh->aif360) (3.6.4)\n",
            "Requirement already satisfied: psutil in /usr/local/lib/python3.7/dist-packages (from memory-profiler->tempeh->aif360) (5.4.8)\n",
            "Requirement already satisfied: more-itertools>=4.0.0 in /usr/local/lib/python3.7/dist-packages (from pytest->tempeh->aif360) (8.13.0)\n",
            "Requirement already satisfied: setuptools in /usr/local/lib/python3.7/dist-packages (from pytest->tempeh->aif360) (57.4.0)\n",
            "Requirement already satisfied: pluggy<0.8,>=0.5 in /usr/local/lib/python3.7/dist-packages (from pytest->tempeh->aif360) (0.7.1)\n",
            "Requirement already satisfied: attrs>=17.4.0 in /usr/local/lib/python3.7/dist-packages (from pytest->tempeh->aif360) (21.4.0)\n",
            "Requirement already satisfied: atomicwrites>=1.0 in /usr/local/lib/python3.7/dist-packages (from pytest->tempeh->aif360) (1.4.0)\n",
            "Requirement already satisfied: py>=1.5.0 in /usr/local/lib/python3.7/dist-packages (from pytest->tempeh->aif360) (1.11.0)\n",
            "Requirement already satisfied: urllib3!=1.25.0,!=1.25.1,<1.26,>=1.21.1 in /usr/local/lib/python3.7/dist-packages (from requests->tempeh->aif360) (1.24.3)\n",
            "Requirement already satisfied: certifi>=2017.4.17 in /usr/local/lib/python3.7/dist-packages (from requests->tempeh->aif360) (2022.6.15)\n",
            "Requirement already satisfied: chardet<4,>=3.0.2 in /usr/local/lib/python3.7/dist-packages (from requests->tempeh->aif360) (3.0.4)\n",
            "Requirement already satisfied: idna<3,>=2.5 in /usr/local/lib/python3.7/dist-packages (from requests->tempeh->aif360) (2.10)\n",
            "Requirement already satisfied: cloudpickle in /usr/local/lib/python3.7/dist-packages (from shap->tempeh->aif360) (1.3.0)\n",
            "Requirement already satisfied: numba in /usr/local/lib/python3.7/dist-packages (from shap->tempeh->aif360) (0.51.2)\n",
            "Collecting slicer==0.0.7\n",
            "  Downloading slicer-0.0.7-py3-none-any.whl (14 kB)\n",
            "Requirement already satisfied: tqdm>4.25.0 in /usr/local/lib/python3.7/dist-packages (from shap->tempeh->aif360) (4.64.0)\n",
            "Requirement already satisfied: packaging>20.9 in /usr/local/lib/python3.7/dist-packages (from shap->tempeh->aif360) (21.3)\n",
            "Requirement already satisfied: llvmlite<0.35,>=0.34.0.dev0 in /usr/local/lib/python3.7/dist-packages (from numba->shap->tempeh->aif360) (0.34.0)\n",
            "Building wheels for collected packages: memory-profiler\n",
            "  Building wheel for memory-profiler (setup.py) ... \u001b[?25l\u001b[?25hdone\n",
            "  Created wheel for memory-profiler: filename=memory_profiler-0.60.0-py3-none-any.whl size=31284 sha256=4f837b2267bbfb2241866da5c92782f0134f80832808e40cd0a73aba644d4ead\n",
            "  Stored in directory: /root/.cache/pip/wheels/67/2b/fb/326e30d638c538e69a5eb0aa47f4223d979f502bbdb403950f\n",
            "Successfully built memory-profiler\n",
            "Installing collected packages: slicer, shap, memory-profiler, tempeh, aif360\n",
            "Successfully installed aif360-0.4.0 memory-profiler-0.60.0 shap-0.41.0 slicer-0.0.7 tempeh-0.1.12\n"
          ]
        }
      ]
    },
    {
      "cell_type": "markdown",
      "metadata": {
        "id": "9wWNnWsNm9g4"
      },
      "source": [
        "### Data load and wrangling"
      ]
    },
    {
      "cell_type": "code",
      "execution_count": 3,
      "metadata": {
        "colab": {
          "base_uri": "https://localhost:8080/"
        },
        "id": "GfGiVocLTLJH",
        "outputId": "d252d18c-d1b8-4e0b-80bb-3a29ba60aaf8"
      },
      "outputs": [
        {
          "output_type": "stream",
          "name": "stdout",
          "text": [
            "Mounted at /content/drive\n"
          ]
        }
      ],
      "source": [
        "# connect to drive\n",
        "from google.colab import drive\n",
        "drive.mount('/content/drive')"
      ]
    },
    {
      "cell_type": "code",
      "execution_count": 4,
      "metadata": {
        "id": "VSOXk2MLWi6Y"
      },
      "outputs": [],
      "source": [
        "# open csv datasets\n",
        "# if using collab use -->\n",
        "pathMMH = '/content/drive/MyDrive/00 - thesis/Thesis - Fabia Höhne/Datasets/Fatigue-modeling-master/MMH_15p.csv'\n",
        "pathWLK = '/content/drive/MyDrive/00 - thesis/Thesis - Fabia Höhne/Datasets/Fatigue-modeling-master//WLK_13p.csv'\n",
        "\n",
        "# if using the GitHub repo use -->\n",
        "# pathMMH = './Datasets/Fatigue-modeling-master/MMH_15p.csv'\n",
        "# pathWLK = './Datasets/Fatigue-modeling-master/WLK_13p.csv'\n",
        "\n",
        "df_MMH = pd.read_csv(pathMMH, sep=',')\n",
        "df_WLK = pd.read_csv(pathWLK, sep=',')"
      ]
    },
    {
      "cell_type": "code",
      "source": [
        "# make column names the same for both dfs\n",
        "df_MMH['fatiguestate'] = df_MMH['fatiguestate1']\n",
        "df_WLK['fatiguestate'] = df_WLK['Fatigue state']\n",
        "df_WLK['subject'] = df_WLK['subject'].apply(lambda x: x+'00')\n",
        "\n",
        "df_MMH.rename(columns = {'age':'Age', 'HRR-Mean': 'HRR.Mean', 'HRR-CV':'HRR.CV'}, inplace = True)\n",
        "df_MMH.columns = df_MMH.columns.str.replace('coefficient.of.variation', 'CV')\n",
        "\n",
        "df_MMH = df_MMH.drop(['fatiguestate1'], 1)\n",
        "df_WLK = df_WLK.drop(['Fatigue state'], 1)"
      ],
      "metadata": {
        "colab": {
          "base_uri": "https://localhost:8080/"
        },
        "id": "ZhItIWDC1oY0",
        "outputId": "6ced2bfa-7a21-47c7-fe60-32d62ad0f4f8"
      },
      "execution_count": 5,
      "outputs": [
        {
          "output_type": "stream",
          "name": "stderr",
          "text": [
            "/usr/local/lib/python3.7/dist-packages/ipykernel_launcher.py:7: FutureWarning: The default value of regex will change from True to False in a future version.\n",
            "  import sys\n",
            "/usr/local/lib/python3.7/dist-packages/ipykernel_launcher.py:9: FutureWarning: In a future version of pandas all arguments of DataFrame.drop except for the argument 'labels' will be keyword-only\n",
            "  if __name__ == '__main__':\n",
            "/usr/local/lib/python3.7/dist-packages/ipykernel_launcher.py:10: FutureWarning: In a future version of pandas all arguments of DataFrame.drop except for the argument 'labels' will be keyword-only\n",
            "  # Remove the CWD from sys.path while we load stuff.\n"
          ]
        }
      ]
    },
    {
      "cell_type": "code",
      "source": [
        "# merge datasets\n",
        "df = pd.concat([df_MMH, df_WLK])"
      ],
      "metadata": {
        "id": "RPlZG32S02j5"
      },
      "execution_count": 6,
      "outputs": []
    },
    {
      "cell_type": "code",
      "source": [
        "df = df.dropna(axis='columns')"
      ],
      "metadata": {
        "id": "RAaDZSL12317"
      },
      "execution_count": 7,
      "outputs": []
    },
    {
      "cell_type": "code",
      "execution_count": 8,
      "metadata": {
        "colab": {
          "base_uri": "https://localhost:8080/"
        },
        "id": "fRfQRkZIn_ZG",
        "outputId": "6f29d978-d59e-4a75-d8ef-7d2791615bfb"
      },
      "outputs": [
        {
          "output_type": "stream",
          "name": "stderr",
          "text": [
            "/usr/local/lib/python3.7/dist-packages/ipykernel_launcher.py:3: FutureWarning: In a future version of pandas all arguments of DataFrame.drop except for the argument 'labels' will be keyword-only\n",
            "  This is separate from the ipykernel package so we can avoid doing imports until\n"
          ]
        }
      ],
      "source": [
        "# delete:\n",
        "## fatiguestate (already in fatiguestate1); Unnamed (no critical information); gender (only available in one dataset)\n",
        "df = df.drop(['Unnamed: 0'],1)"
      ]
    },
    {
      "cell_type": "code",
      "source": [
        "df.task.unique()"
      ],
      "metadata": {
        "colab": {
          "base_uri": "https://localhost:8080/"
        },
        "id": "U4KB3YfR1gBo",
        "outputId": "421addaa-2920-4e43-c02f-48327b51f192"
      },
      "execution_count": 9,
      "outputs": [
        {
          "output_type": "execute_result",
          "data": {
            "text/plain": [
              "array(['MMH', 'WLK'], dtype=object)"
            ]
          },
          "metadata": {},
          "execution_count": 9
        }
      ]
    },
    {
      "cell_type": "code",
      "execution_count": 10,
      "metadata": {
        "id": "R3UnJP0yvQ78",
        "colab": {
          "base_uri": "https://localhost:8080/",
          "height": 407
        },
        "outputId": "9bafe6de-ab2c-4ef0-997b-b3275a8c0e86"
      },
      "outputs": [
        {
          "output_type": "execute_result",
          "data": {
            "text/plain": [
              "<matplotlib.legend.Legend at 0x7f23ade8dd90>"
            ]
          },
          "metadata": {},
          "execution_count": 10
        },
        {
          "output_type": "display_data",
          "data": {
            "text/plain": [
              "<Figure size 792x432 with 1 Axes>"
            ],
            "image/png": "[encoded data removed]"
          },
          "metadata": {
            "needs_background": "light"
          }
        }
      ],
      "source": [
        "# check gender & age representation \n",
        "sns.set_palette(\"Set2\")\n",
        "\n",
        "fig, ax = plt.subplots(figsize=(11, 6))\n",
        "ax.set_title('Age distribution by task type')\n",
        "df.groupby('task').Age.plot(kind='kde')\n",
        "ax.legend()\n"
      ]
    },
    {
      "cell_type": "code",
      "source": [
        "df.Age.mean()"
      ],
      "metadata": {
        "colab": {
          "base_uri": "https://localhost:8080/"
        },
        "id": "o2Aazi1gw9e8",
        "outputId": "d5d698a5-5b42-4316-9849-205b8a384adf"
      },
      "execution_count": 11,
      "outputs": [
        {
          "output_type": "execute_result",
          "data": {
            "text/plain": [
              "39.27833001988071"
            ]
          },
          "metadata": {},
          "execution_count": 11
        }
      ]
    },
    {
      "cell_type": "code",
      "execution_count": 12,
      "metadata": {
        "id": "wiV9scuJmelF"
      },
      "outputs": [],
      "source": [
        "# convert subject to numerical values \n",
        "df['subject'] = df['subject'].str.replace('P','')"
      ]
    },
    {
      "cell_type": "code",
      "execution_count": 13,
      "metadata": {
        "id": "O2wKJTlanhAH"
      },
      "outputs": [],
      "source": [
        "# bin age into groups to noramlize\n",
        "def custom_round(x, base):\n",
        "    return base * round(float(x)/10)\n",
        "\n",
        "df['Age'] = df.Age.apply(lambda x: custom_round(x, 10))"
      ]
    },
    {
      "cell_type": "code",
      "execution_count": 14,
      "metadata": {
        "colab": {
          "base_uri": "https://localhost:8080/",
          "height": 36
        },
        "id": "RPHQDIBHeTfu",
        "outputId": "65146677-f713-4a17-93a2-ba0f3768ea9a"
      },
      "outputs": [
        {
          "output_type": "execute_result",
          "data": {
            "text/plain": [
              "'https://stackoverflow.com/questions/26414913/normalize-columns-of-pandas-data-frame'"
            ],
            "application/vnd.google.colaboratory.intrinsic+json": {
              "type": "string"
            }
          },
          "metadata": {},
          "execution_count": 14
        }
      ],
      "source": [
        "# for this dataset features are NOT normalised, as preprocessing of data has already peen carried out by the owners of the dataset. How this is done is described in detail in their code & paper cited above. \n",
        "# in case of wanting to normalise, I would suggest normalising only mean values - variation has already been pre-calculated, and so is the HHR values (% of total possible HR)\n",
        "# you can use (pandas or sklearn library 'preprocessing.MinMaxScaler'): \n",
        "# normalized_df=(df-df.min())/(df.max()-df.min())\n",
        "# normalized_df=(df-df.mean())/df.std()\n",
        "\n",
        "\n",
        "'''https://stackoverflow.com/questions/26414913/normalize-columns-of-pandas-data-frame'''"
      ]
    },
    {
      "cell_type": "markdown",
      "metadata": {
        "id": "oCarilhlnGei"
      },
      "source": [
        "### Exploratory analysis "
      ]
    },
    {
      "cell_type": "code",
      "source": [
        "# there are 18 entries per subject\n",
        "# get distributions \n",
        "sns.set_palette(\"Set2\")\n",
        "\n",
        "fig, ax = plt.subplots(figsize=(11, 6))\n",
        "ax.set_title('Number of entries by Age-group')\n",
        "df[\"Age\"].value_counts().plot(kind='bar', rot=45)"
      ],
      "metadata": {
        "colab": {
          "base_uri": "https://localhost:8080/",
          "height": 413
        },
        "id": "3vP4xF_ercaa",
        "outputId": "b9e99221-fd23-4636-9a50-2837058f8da1"
      },
      "execution_count": 15,
      "outputs": [
        {
          "output_type": "execute_result",
          "data": {
            "text/plain": [
              "<matplotlib.axes._subplots.AxesSubplot at 0x7f23adda7b10>"
            ]
          },
          "metadata": {},
          "execution_count": 15
        },
        {
          "output_type": "display_data",
          "data": {
            "text/plain": [
              "<Figure size 792x432 with 1 Axes>"
            ],
            "image/png": "[encoded data removed]"
          },
          "metadata": {
            "needs_background": "light"
          }
        }
      ]
    },
    {
      "cell_type": "code",
      "execution_count": 16,
      "metadata": {
        "id": "XyhGUjGcnFY5",
        "colab": {
          "base_uri": "https://localhost:8080/"
        },
        "outputId": "bc233325-8cff-4284-de65-7b8a03fce4ea"
      },
      "outputs": [
        {
          "output_type": "stream",
          "name": "stderr",
          "text": [
            "/usr/local/lib/python3.7/dist-packages/ipykernel_launcher.py:2: FutureWarning: In a future version of pandas all arguments of DataFrame.drop except for the argument 'labels' will be keyword-only\n",
            "  \n"
          ]
        }
      ],
      "source": [
        "# drop subject as it is not relevant for analysis\n",
        "df_1 = df.drop(['subject'],1)"
      ]
    },
    {
      "cell_type": "code",
      "execution_count": 17,
      "metadata": {
        "id": "GbKhxFNDoeQG",
        "colab": {
          "base_uri": "https://localhost:8080/",
          "height": 370
        },
        "outputId": "0758ceb7-6654-4844-901b-23af8ea232d1"
      },
      "outputs": [
        {
          "output_type": "stream",
          "name": "stderr",
          "text": [
            "/usr/local/lib/python3.7/dist-packages/seaborn/_decorators.py:43: FutureWarning: Pass the following variable as a keyword arg: x. From version 0.12, the only valid positional argument will be `data`, and passing other arguments without an explicit keyword will result in an error or misinterpretation.\n",
            "  FutureWarning\n",
            "/usr/local/lib/python3.7/dist-packages/seaborn/_decorators.py:43: FutureWarning: Pass the following variable as a keyword arg: x. From version 0.12, the only valid positional argument will be `data`, and passing other arguments without an explicit keyword will result in an error or misinterpretation.\n",
            "  FutureWarning\n",
            "/usr/local/lib/python3.7/dist-packages/seaborn/_decorators.py:43: FutureWarning: Pass the following variable as a keyword arg: x. From version 0.12, the only valid positional argument will be `data`, and passing other arguments without an explicit keyword will result in an error or misinterpretation.\n",
            "  FutureWarning\n"
          ]
        },
        {
          "output_type": "display_data",
          "data": {
            "text/plain": [
              "<Figure size 1080x288 with 3 Axes>"
            ],
            "image/png": "[encoded data removed]"
          },
          "metadata": {
            "needs_background": "light"
          }
        }
      ],
      "source": [
        "# check sample distributions\n",
        "fig, ax = plt.subplots(1,3)\n",
        "fig.set_size_inches(15, 4)\n",
        "sns.countplot(df_1['Age'], ax=ax[0], hue=df_1.task)\n",
        "sns.countplot(df_1['task'], ax=ax[1])\n",
        "sns.countplot(df_1['fatiguestate'], ax=ax[2], hue=df_1.task)\n",
        "fig.show()"
      ]
    },
    {
      "cell_type": "markdown",
      "source": [
        "Task and fatigue state is well distributes in sample; age is not (1 participant has about 18 entries, there are only 2 participants in their 30s)"
      ],
      "metadata": {
        "id": "gSctVd9LPRUi"
      }
    },
    {
      "cell_type": "markdown",
      "metadata": {
        "id": "ntmFzgIE5VDP"
      },
      "source": [
        "Pairplots analysis not appropiate with the high number of attributes therefore deleted.\n"
      ]
    },
    {
      "cell_type": "code",
      "source": [
        "# convert task to numerical values \n",
        "df['task'] = df['task'].str.replace('MMH', '1')\n",
        "df['task'] = df['task'].str.replace('WLK', '2')"
      ],
      "metadata": {
        "id": "ObIzt1MtRSUe"
      },
      "execution_count": 18,
      "outputs": []
    },
    {
      "cell_type": "code",
      "source": [
        "# define df with only attriutes that are needed & significant according to correlation analysis below\n",
        "df.columns\n",
        "cols = ['subject', 'task', 'Age', 'fatiguestate',  \n",
        "        'HRR.Mean', 'HRR.CV',\n",
        "        'Wrist.jerk.Mean', \n",
        "        'Ankle.jerk.Mean', 'Ankle.ACC.Mean', 'Ankle.xposture.Mean',\n",
        "        'number of steps', 'average step time', 'average step distance',\n",
        "        'time bent', \n",
        "        'mean hip osicllation', 'mean foot osicllation', \n",
        "        'leg rotational velocity sag plane', 'leg rotational position sag plane', \n",
        "        'Wrist.jerk.CV', 'Wrist.ACC.CV',\n",
        "        'Hip.jerk.CV', 'Hip.ACC.CV', 'Hip.yposture.CV']\n",
        "\n",
        "cols_rfc = ['subject', 'task', 'Age', 'fatiguestate', \n",
        "            'HRR.Mean', 'HRR.CV', \n",
        "            'Wrist.jerk.Mean', 'Ankle.xposture.Mean',\n",
        "            'average step time', \n",
        "            'leg rotational velocity sag plane',\n",
        "            'leg rotational position sag plane',\n",
        "            'Wrist.jerk.CV', 'Wrist.ACC.CV', \n",
        "            'Hip.ACC.CV']\n",
        "\n",
        "# for cross validation, we get better refults if we don't implement the rfc attributes only \n",
        "\n",
        "df = df[cols]"
      ],
      "metadata": {
        "id": "u9nzAW9-pfLk"
      },
      "execution_count": 19,
      "outputs": []
    },
    {
      "cell_type": "code",
      "source": [
        "# correlation analysis \n",
        "df_corr = pd.concat([df.drop('fatiguestate', axis=1), pd.get_dummies(df['fatiguestate'])], axis=1)\n",
        "corr = df_corr.corr()\n",
        "plt.figure(figsize=(16,10))\n",
        "sns.heatmap(corr,  cmap=\"vlag\")"
      ],
      "metadata": {
        "colab": {
          "base_uri": "https://localhost:8080/",
          "height": 594
        },
        "id": "qVCBJVkZWx33",
        "outputId": "c938ccba-07c3-41cc-acc0-34e522e8d51a"
      },
      "execution_count": null,
      "outputs": [
        {
          "output_type": "execute_result",
          "data": {
            "text/plain": [
              "<matplotlib.axes._subplots.AxesSubplot at 0x7f74375cedd0>"
            ]
          },
          "metadata": {},
          "execution_count": 27
        },
        {
          "output_type": "display_data",
          "data": {
            "text/plain": [
              "<Figure size 1152x720 with 2 Axes>"
            ],
            "image/png": "[encoded data removed]"
          },
          "metadata": {
            "needs_background": "light"
          }
        }
      ]
    },
    {
      "cell_type": "code",
      "source": [
        "# all features with a corr. under |0.05| are removed\n",
        "feats = df.columns[1:]\n",
        "\n",
        "df_corr = pd.concat([df[feats].drop('fatiguestate', axis=1), pd.get_dummies(df[feats]['fatiguestate'])], axis=1)\n",
        "corr = df_corr.corr()\n",
        "plt.figure(figsize=(10,8))\n",
        "sns.heatmap(corr[[0,1]], annot=True, cmap=\"vlag\")"
      ],
      "metadata": {
        "colab": {
          "base_uri": "https://localhost:8080/",
          "height": 504
        },
        "id": "CgPkH8owXTrU",
        "outputId": "5c1159cf-a753-4440-ac91-93730d52d37d"
      },
      "execution_count": 20,
      "outputs": [
        {
          "output_type": "execute_result",
          "data": {
            "text/plain": [
              "<matplotlib.axes._subplots.AxesSubplot at 0x7f23d0f50a50>"
            ]
          },
          "metadata": {},
          "execution_count": 20
        },
        {
          "output_type": "display_data",
          "data": {
            "text/plain": [
              "<Figure size 720x576 with 2 Axes>"
            ],
            "image/png": "[encoded data removed]"
          },
          "metadata": {
            "needs_background": "light"
          }
        }
      ]
    },
    {
      "cell_type": "markdown",
      "metadata": {
        "id": "Qm0kRPE6IQ3U"
      },
      "source": [
        "## Stress Model\n",
        "\n",
        "---\n"
      ]
    },
    {
      "cell_type": "markdown",
      "source": [
        "### Model set-up: libraries & helper functions"
      ],
      "metadata": {
        "id": "Tg5z9IXlxOiA"
      }
    },
    {
      "cell_type": "code",
      "execution_count": 22,
      "metadata": {
        "id": "IOt0wv0I2fxk"
      },
      "outputs": [],
      "source": [
        "# libraries for data processing  \n",
        "from sklearn.model_selection import train_test_split\n",
        "from sklearn import preprocessing\n",
        "\n",
        "\n",
        "# libraries for\n",
        "from sklearn.ensemble import RandomForestClassifier\n",
        "from sklearn.linear_model import LogisticRegression\n",
        "from sklearn.svm import SVC\n",
        "\n",
        "# libraries for feature selection\n",
        "from sklearn.feature_selection import SelectFromModel\n",
        "from sklearn.pipeline import Pipeline\n",
        "from sklearn.linear_model import Lasso\n",
        "from sklearn.preprocessing import StandardScaler\n",
        "from sklearn.utils import Bunch\n",
        "\n",
        "from sklearn.model_selection import GridSearchCV\n",
        "from sklearn.model_selection import StratifiedShuffleSplit\n",
        "\n",
        "# libraries for metrics of models\n",
        "from sklearn.metrics import (\n",
        "    accuracy_score, confusion_matrix,\n",
        "    roc_curve, auc, roc_auc_score,\n",
        "    plot_confusion_matrix,\n",
        "    classification_report,\n",
        "    balanced_accuracy_score,\n",
        "    PrecisionRecallDisplay)\n",
        "from sklearn.model_selection import cross_val_score\n",
        "from sklearn.model_selection import GroupKFold\n"
      ]
    },
    {
      "cell_type": "markdown",
      "source": [
        "### Model set-up: test/train split "
      ],
      "metadata": {
        "id": "Ir5-ry5VxVdh"
      }
    },
    {
      "cell_type": "code",
      "execution_count": 89,
      "metadata": {
        "id": "kKRAgeAzpmMp"
      },
      "outputs": [],
      "source": [
        "# set test & train data & defining age as sensitive attribute\n",
        "# fairness through unawareness if achieved by additionally dropping task and age\n",
        "# X = df.drop(columns=['task', 'Age', 'fatiguestate'])\n",
        "X = df.drop(columns=['fatiguestate'])\n",
        "\n",
        "y = df['fatiguestate']\n",
        "\n",
        "A = df[['Age', 'task']]\n",
        "task_str = A['task'].map({ 1:\"MMK\", 2:\"WLK\"})"
      ]
    },
    {
      "cell_type": "code",
      "execution_count": 90,
      "metadata": {
        "id": "ITQ86O3LeL7d"
      },
      "outputs": [],
      "source": [
        "# for fairnes measures (inlc. A for group classification, drop age to make it unaware to other senstive attributes (fairnes through unawarenes)) - AGE \n",
        "X_train, X_test, y_train, y_test, A_train, A_test, task_str_train, task_str_test = train_test_split(\n",
        "    X, \n",
        "    y, \n",
        "    A, \n",
        "    task_str,\n",
        "    test_size = 0.4, # increse number for more fairness \n",
        "    random_state=42)\n"
      ]
    },
    {
      "cell_type": "markdown",
      "metadata": {
        "id": "ll-yVqLPprKr"
      },
      "source": [
        "### Model set-up: defining classifiers"
      ]
    },
    {
      "cell_type": "code",
      "execution_count": 25,
      "metadata": {
        "id": "zyJx0HniBRDJ"
      },
      "outputs": [],
      "source": [
        "from numpy import random \n",
        "# set up model:\n",
        "classifiers = [RandomForestClassifier(n_estimators = 100, random_state = random.seed(123)),\n",
        "               LogisticRegression(random_state = 42, solver = 'newton-cg', C=1000000),\n",
        "               SVC(kernel='rbf', C = 64, gamma = 0.01, class_weight='balanced', probability = True)]"
      ]
    },
    {
      "cell_type": "markdown",
      "source": [
        "#### RF feature selection - best subset"
      ],
      "metadata": {
        "id": "M5xAFGzqQT5x"
      }
    },
    {
      "cell_type": "code",
      "source": [
        "# feature selection Random Forest\n",
        "## 1. Best subset selection\n",
        "sel = SelectFromModel(RandomForestClassifier(n_estimators = 100))\n",
        "sel.fit(X_train, y_train)\n",
        "\n",
        "sel.get_support()\n",
        "\n",
        "selected_feat= X_train.columns[(sel.get_support())]\n",
        "print(len(selected_feat)) # --> provides 10 - in line with previous paper\n",
        "print(selected_feat)\n"
      ],
      "metadata": {
        "colab": {
          "base_uri": "https://localhost:8080/"
        },
        "id": "ATVVxhn3P8yn",
        "outputId": "5daa5713-01b8-47ef-aecb-33d530ca8d03"
      },
      "execution_count": 26,
      "outputs": [
        {
          "output_type": "stream",
          "name": "stdout",
          "text": [
            "10\n",
            "Index(['HRR.Mean', 'HRR.CV', 'Wrist.jerk.Mean', 'Ankle.xposture.Mean',\n",
            "       'average step time', 'leg rotational velocity sag plane',\n",
            "       'leg rotational position sag plane', 'Wrist.jerk.CV', 'Wrist.ACC.CV',\n",
            "       'Hip.ACC.CV'],\n",
            "      dtype='object')\n"
          ]
        }
      ]
    },
    {
      "cell_type": "code",
      "source": [
        "rfc = RandomForestClassifier(n_estimators=100, random_state=42)\n",
        "\n",
        "rfc.fit(X_train, y_train)\n",
        "\n",
        "features = list(X)\n",
        "\n",
        "pd.Series(rfc.feature_importances_, index=features).plot(kind='barh')\n",
        "\n",
        "# if needed adapt the list of columns used for the generic model"
      ],
      "metadata": {
        "colab": {
          "base_uri": "https://localhost:8080/",
          "height": 282
        },
        "id": "R7Q910r1QM-j",
        "outputId": "ce36f235-cbfb-4b72-abdc-3d22a5c39b02"
      },
      "execution_count": 27,
      "outputs": [
        {
          "output_type": "execute_result",
          "data": {
            "text/plain": [
              "<matplotlib.axes._subplots.AxesSubplot at 0x7f23a94d2e50>"
            ]
          },
          "metadata": {},
          "execution_count": 27
        },
        {
          "output_type": "display_data",
          "data": {
            "text/plain": [
              "<Figure size 432x288 with 1 Axes>"
            ],
            "image/png": "[encoded data removed]"
          },
          "metadata": {
            "needs_background": "light"
          }
        }
      ]
    },
    {
      "cell_type": "markdown",
      "source": [
        "#### log reg feature selection - LASSO"
      ],
      "metadata": {
        "id": "evypBHEzQXOf"
      }
    },
    {
      "cell_type": "code",
      "source": [
        "# feature selection using LASSO - based on https://towardsdatascience.com/feature-selection-in-machine-learning-using-lasso-regression-7809c7c2771a#:~:text=How%20can%20we%20use%20it,its%20coefficient%20equal%20to%200.\n",
        "pipeline = Pipeline([('scaler',StandardScaler()),\n",
        "                     ('model',Lasso())\n",
        "                     ])\n",
        "\n",
        "search = GridSearchCV(pipeline,\n",
        "                      {'model__alpha':np.arange(0.1,10,0.1)},\n",
        "                      cv = 5, scoring=\"neg_mean_squared_error\",verbose=3\n",
        "                      )\n",
        "\n",
        "# run code below to re-fit -- blended out for computational easy of code\n",
        "'''search.fit(X_train,y_train)\n",
        "search.best_params_\n",
        "coefficients = search.best_estimator_.named_steps['model'].coef_'''\n",
        "\n",
        "# 'model__alpha': 0.2"
      ],
      "metadata": {
        "id": "30Lk2PQIQhg3",
        "colab": {
          "base_uri": "https://localhost:8080/",
          "height": 53
        },
        "outputId": "16b14498-0522-4736-d4e4-7f09532d6efa"
      },
      "execution_count": 28,
      "outputs": [
        {
          "output_type": "execute_result",
          "data": {
            "text/plain": [
              "\"search.fit(X_train,y_train)\\nsearch.best_params_\\ncoefficients = search.best_estimator_.named_steps['model'].coef_\""
            ],
            "application/vnd.google.colaboratory.intrinsic+json": {
              "type": "string"
            }
          },
          "metadata": {},
          "execution_count": 28
        }
      ]
    },
    {
      "cell_type": "code",
      "source": [
        "'''importance = np.abs(coefficients)\n",
        "np.array(features)[importance > 0]'''"
      ],
      "metadata": {
        "id": "wD9NdLxZTR1x",
        "colab": {
          "base_uri": "https://localhost:8080/",
          "height": 36
        },
        "outputId": "3263214c-f456-4206-a160-8d1a750903e5"
      },
      "execution_count": 29,
      "outputs": [
        {
          "output_type": "execute_result",
          "data": {
            "text/plain": [
              "'importance = np.abs(coefficients)\\nnp.array(features)[importance > 0]'"
            ],
            "application/vnd.google.colaboratory.intrinsic+json": {
              "type": "string"
            }
          },
          "metadata": {},
          "execution_count": 29
        }
      ]
    },
    {
      "cell_type": "markdown",
      "source": [
        "#### SVM param. selection"
      ],
      "metadata": {
        "id": "hDRBvHmZQcc6"
      }
    },
    {
      "cell_type": "code",
      "source": [
        "# run code below to re-fit -- blended out for computational easy of code\n",
        "'''C_range = np.logspace(-2, 10, 13)\n",
        "gamma_range = np.logspace(-9, 3, 13)\n",
        "param_grid = dict(gamma=gamma_range, C=C_range)\n",
        "cv = StratifiedShuffleSplit(n_splits=5, test_size=0.2, random_state=42)\n",
        "grid = GridSearchCV(SVC(), param_grid=param_grid, cv=cv)\n",
        "grid.fit(X, y)\n",
        "\n",
        "print(\"The best parameters are %s with a score of %0.2f\" \n",
        "      % (grid.best_params_, grid.best_score_))\n",
        "'''\n",
        "\n",
        "# The best parameters are {'C': 1000.0, 'gamma': 1e-05} with a score of 0.86"
      ],
      "metadata": {
        "id": "ClaD2MdUQiCa"
      },
      "execution_count": null,
      "outputs": []
    },
    {
      "cell_type": "markdown",
      "source": [
        "## Model evaluation\n",
        "-----"
      ],
      "metadata": {
        "id": "F7Uh8cAyQcFE"
      }
    },
    {
      "cell_type": "markdown",
      "source": [
        "Classification models are evaluated with:\n",
        "\n",
        "- Accuracy scores (number of correct predictions divided by the total number of predictions)\n",
        "- Confusion Matrices (visual representation of ground truth vs. model prediction)\n",
        "- Precision (Type-I error) & recall (Type-II error) \n",
        "- F1 scores (precision/ recall balance score0\n",
        "- AU-ROC curves - Area under Receiver operating characteristics curve - high ROCs represent a high probability of a random positive sample being positive \n",
        "\n",
        "All metrics aim towards 1\n",
        "\n",
        "\n",
        "Note that:\n",
        "- H0: participant is stressed\n",
        "- Type-I error is a false positive, i.e. a true H0 is rejected\n",
        "- Type-II error is a false negative, i.e. a false H0 is accepted\n",
        "\n",
        "\n",
        "As we aim to decrease Type-II errors, therefore aim for a higher recall value in the precision-recall tradeoff. \n",
        "Imbalanced classes can cause low recall (**sample-bias**) or untuned model parameters. \n"
      ],
      "metadata": {
        "id": "aX90j9HX-cGL"
      }
    },
    {
      "cell_type": "markdown",
      "source": [
        "### Model evaluation - confusion matrix test & train"
      ],
      "metadata": {
        "id": "e7c6sUh3xFeQ"
      }
    },
    {
      "cell_type": "code",
      "source": [
        "# test set\n",
        "fig, axes = plt.subplots(nrows=2, ncols=2, figsize=(8, 8))\n",
        "\n",
        "for cls, ax in zip(classifiers, axes.flatten()):\n",
        "    cls.fit(X_train, y_train)\n",
        "    plot_confusion_matrix(cls, \n",
        "                          X_test, \n",
        "                          y_test, \n",
        "                          ax=ax, \n",
        "                          cmap='YlGnBu')\n",
        "    ax.title.set_text(type(cls).__name__)\n",
        "plt.tight_layout()\n",
        "plt.show()"
      ],
      "metadata": {
        "id": "LVlaODtC6MW_",
        "colab": {
          "base_uri": "https://localhost:8080/",
          "height": 709
        },
        "outputId": "ddf7e58c-f045-436f-bd51-a52e97d5886d"
      },
      "execution_count": 30,
      "outputs": [
        {
          "output_type": "stream",
          "name": "stderr",
          "text": [
            "/usr/local/lib/python3.7/dist-packages/sklearn/utils/deprecation.py:87: FutureWarning: Function plot_confusion_matrix is deprecated; Function `plot_confusion_matrix` is deprecated in 1.0 and will be removed in 1.2. Use one of the class methods: ConfusionMatrixDisplay.from_predictions or ConfusionMatrixDisplay.from_estimator.\n",
            "  warnings.warn(msg, category=FutureWarning)\n",
            "/usr/local/lib/python3.7/dist-packages/sklearn/utils/deprecation.py:87: FutureWarning: Function plot_confusion_matrix is deprecated; Function `plot_confusion_matrix` is deprecated in 1.0 and will be removed in 1.2. Use one of the class methods: ConfusionMatrixDisplay.from_predictions or ConfusionMatrixDisplay.from_estimator.\n",
            "  warnings.warn(msg, category=FutureWarning)\n",
            "/usr/local/lib/python3.7/dist-packages/sklearn/utils/deprecation.py:87: FutureWarning: Function plot_confusion_matrix is deprecated; Function `plot_confusion_matrix` is deprecated in 1.0 and will be removed in 1.2. Use one of the class methods: ConfusionMatrixDisplay.from_predictions or ConfusionMatrixDisplay.from_estimator.\n",
            "  warnings.warn(msg, category=FutureWarning)\n"
          ]
        },
        {
          "output_type": "display_data",
          "data": {
            "text/plain": [
              "<Figure size 576x576 with 7 Axes>"
            ],
            "image/png": "[encoded data removed]"
          },
          "metadata": {
            "needs_background": "light"
          }
        }
      ]
    },
    {
      "cell_type": "code",
      "source": [
        "# double check with train set\n",
        "fig, axes = plt.subplots(nrows=2, ncols=2, figsize=(8, 8))\n",
        "\n",
        "for cls, ax in zip(classifiers, axes.flatten()):\n",
        "    cls.fit(X_train, \n",
        "    y_train)\n",
        "    plot_confusion_matrix(cls, \n",
        "                          X_train, \n",
        "                          y_train, \n",
        "                          ax=ax, \n",
        "                          cmap='YlGnBu')\n",
        "    ax.title.set_text(type(cls).__name__)\n",
        "plt.tight_layout()\n",
        "plt.show()"
      ],
      "metadata": {
        "id": "AGwwhVgJ6tgH"
      },
      "execution_count": null,
      "outputs": []
    },
    {
      "cell_type": "markdown",
      "source": [
        "### Model evaluation - cross validation scores"
      ],
      "metadata": {
        "id": "5JttfxDoxAX3"
      }
    },
    {
      "cell_type": "code",
      "execution_count": null,
      "metadata": {
        "id": "jVIZ9WUepzOS",
        "colab": {
          "base_uri": "https://localhost:8080/"
        },
        "outputId": "5143dd08-af5e-4ef4-8864-9acf4d8edc8a"
      },
      "outputs": [
        {
          "output_type": "stream",
          "name": "stdout",
          "text": [
            "RandomForestClassifier()  \n",
            " CV: 0.6288235294117648 \n",
            "\n",
            "LogisticRegression(C=1000000, random_state=42, solver='newton-cg')  \n",
            " CV: 0.6340196078431373 \n",
            "\n",
            "SVC(C=64, class_weight='balanced', gamma=0.01, probability=True)  \n",
            " CV: 0.5298039215686274 \n",
            "\n"
          ]
        }
      ],
      "source": [
        "# train model, get accuracies and CV\n",
        "groups = X_test['subject']\n",
        "gkf = GroupKFold(n_splits=4)\n",
        "\n",
        "for model in classifiers:\n",
        "  model.fit(X_train, y_train)\n",
        "  y_pred = model.predict(X_test)\n",
        "  scores = cross_val_score(model, X_test, y_test, cv=gkf, groups=groups, scoring='accuracy')\n",
        "  print (f'{model}  {chr(10)} CV: {scores.mean()} {chr(10)}')"
      ]
    },
    {
      "cell_type": "markdown",
      "source": [
        "### Model evaluation - classification report (precision, recall, f1, support, accuracy)\n",
        "> Note: Accuracy, recall & precision are not called for when usign Decision Tree models."
      ],
      "metadata": {
        "id": "4UGDE8RSw6K_"
      }
    },
    {
      "cell_type": "code",
      "source": [
        "for model in classifiers:\n",
        "  model.fit(X_train, y_train)\n",
        "  y_pred = model.predict(X_test)\n",
        "  print(f'{model}: {chr(10)} {classification_report(y_test, y_pred)}')"
      ],
      "metadata": {
        "id": "6C4yNdlw60hP",
        "colab": {
          "base_uri": "https://localhost:8080/"
        },
        "outputId": "f2fc4cf2-9cb1-4d93-eac3-0c0dbbcba676"
      },
      "execution_count": 32,
      "outputs": [
        {
          "output_type": "stream",
          "name": "stdout",
          "text": [
            "RandomForestClassifier(): \n",
            "               precision    recall  f1-score   support\n",
            "\n",
            "           0       0.90      0.84      0.87        96\n",
            "           1       0.87      0.92      0.89       106\n",
            "\n",
            "    accuracy                           0.88       202\n",
            "   macro avg       0.88      0.88      0.88       202\n",
            "weighted avg       0.88      0.88      0.88       202\n",
            "\n",
            "LogisticRegression(C=1000000, random_state=42, solver='newton-cg'): \n",
            "               precision    recall  f1-score   support\n",
            "\n",
            "           0       0.69      0.75      0.72        96\n",
            "           1       0.76      0.70      0.73       106\n",
            "\n",
            "    accuracy                           0.72       202\n",
            "   macro avg       0.72      0.72      0.72       202\n",
            "weighted avg       0.73      0.72      0.72       202\n",
            "\n",
            "SVC(C=64, class_weight='balanced', gamma=0.01, probability=True): \n",
            "               precision    recall  f1-score   support\n",
            "\n",
            "           0       0.56      0.97      0.71        96\n",
            "           1       0.92      0.32      0.48       106\n",
            "\n",
            "    accuracy                           0.63       202\n",
            "   macro avg       0.74      0.64      0.59       202\n",
            "weighted avg       0.75      0.63      0.59       202\n",
            "\n"
          ]
        }
      ]
    },
    {
      "cell_type": "markdown",
      "source": [
        "### Model evaluation - precision/ recall"
      ],
      "metadata": {
        "id": "7qdM9s_Vw2x_"
      }
    },
    {
      "cell_type": "code",
      "source": [
        "for model in classifiers:\n",
        "  model.fit(X_train, y_train)\n",
        "  y_pred = model.predict(X_test)\n",
        "  display = PrecisionRecallDisplay.from_estimator(model, X_test, y_test, name=\"rfc\")\n",
        "  _ = display.ax_.set_title(f'Precision-Recall curve: {model}')"
      ],
      "metadata": {
        "id": "KZgnhiVjnfpX",
        "colab": {
          "base_uri": "https://localhost:8080/",
          "height": 851
        },
        "outputId": "1bac69d8-3512-4004-b993-00ea41b07c32"
      },
      "execution_count": 33,
      "outputs": [
        {
          "output_type": "display_data",
          "data": {
            "text/plain": [
              "<Figure size 432x288 with 1 Axes>"
            ],
            "image/png": "[encoded data removed]"
          },
          "metadata": {
            "needs_background": "light"
          }
        },
        {
          "output_type": "display_data",
          "data": {
            "text/plain": [
              "<Figure size 432x288 with 1 Axes>"
            ],
            "image/png": "[encoded data removed]"
          },
          "metadata": {
            "needs_background": "light"
          }
        },
        {
          "output_type": "display_data",
          "data": {
            "text/plain": [
              "<Figure size 432x288 with 1 Axes>"
            ],
            "image/png": "[encoded data removed]"
          },
          "metadata": {
            "needs_background": "light"
          }
        }
      ]
    },
    {
      "cell_type": "markdown",
      "source": [
        "### Model evaluation - ROC"
      ],
      "metadata": {
        "id": "opSvMxP4wxm4"
      }
    },
    {
      "cell_type": "code",
      "source": [
        "# scores on test set\n",
        "for model in classifiers:\n",
        "  model.fit(X_train, y_train)\n",
        "  y_pred = model.predict(X_test)\n",
        "\n",
        "  # scores on test set\n",
        "  y_pred = model.predict_proba(X_test)[:, 1]\n",
        "  fpr, tpr, _ = roc_curve(y_test,  y_pred)\n",
        "  ax = (\n",
        "      pd.DataFrame(tpr, index=fpr)\n",
        "      .plot(legend=False, title=('ROC Curve: %f' % auc(fpr, tpr)))\n",
        "  )\n",
        "  ax.plot([(0,0), (1,1)], 'r--')\n",
        "  ax.set_xlabel('FPR')\n",
        "  ax.set_ylabel('TPR')"
      ],
      "metadata": {
        "id": "AVLgQlDqf1W3",
        "colab": {
          "base_uri": "https://localhost:8080/",
          "height": 851
        },
        "outputId": "ac80e637-f820-4b83-b9aa-109bb7e981df"
      },
      "execution_count": 34,
      "outputs": [
        {
          "output_type": "display_data",
          "data": {
            "text/plain": [
              "<Figure size 432x288 with 1 Axes>"
            ],
            "image/png": "[encoded data removed]"
          },
          "metadata": {
            "needs_background": "light"
          }
        },
        {
          "output_type": "display_data",
          "data": {
            "text/plain": [
              "<Figure size 432x288 with 1 Axes>"
            ],
            "image/png": "[encoded data removed]"
          },
          "metadata": {
            "needs_background": "light"
          }
        },
        {
          "output_type": "display_data",
          "data": {
            "text/plain": [
              "<Figure size 432x288 with 1 Axes>"
            ],
            "image/png": "[encoded data removed]"
          },
          "metadata": {
            "needs_background": "light"
          }
        }
      ]
    },
    {
      "cell_type": "markdown",
      "metadata": {
        "id": "AbDywt6eIVhd"
      },
      "source": [
        "## Fairness Measure\n",
        "\n",
        "---\n",
        "\n"
      ]
    },
    {
      "cell_type": "markdown",
      "source": [
        "We aim to check:\n",
        "- **Equalised odds** (we want to ensure that the number of false negatives is equally low; we need to reduce false positives which can be costly (variable is not subjective anyways))\n",
        "- **balance for negative class**\n",
        "- **dispartities between exact groups**\n",
        "\n",
        "\n",
        "We aim for group fairness - participants with similar characteristics should be treated similarily.\n",
        "\n",
        "\n",
        "CONSIDER:\n",
        "1. disaggregated evaluations - evaluating perfromance with respect to different subgroups (age/ task)\n",
        "\n",
        "\n",
        "\n",
        "---\n",
        "<br>\n",
        "\n",
        "For supervised classification --> output should be the same accross sensitive characterisitcs - bias if the decision changes after beig exposed to additioanl sensitve feature inputs \n",
        "<br>\n"
      ],
      "metadata": {
        "id": "Kau438ceyUgD"
      }
    },
    {
      "cell_type": "markdown",
      "metadata": {
        "id": "hkSjdO44m9D7"
      },
      "source": [
        "### Install libraries & helper functions"
      ]
    },
    {
      "cell_type": "markdown",
      "metadata": {
        "id": "luklqpM1luCQ"
      },
      "source": [
        "### Fairness evaluation - confusion matrix by group\n"
      ]
    },
    {
      "cell_type": "code",
      "execution_count": 91,
      "metadata": {
        "id": "r_yUWHewc1wo",
        "colab": {
          "base_uri": "https://localhost:8080/"
        },
        "outputId": "7578bd25-fc66-4b24-c955-90f06dda11f2"
      },
      "outputs": [
        {
          "output_type": "stream",
          "name": "stderr",
          "text": [
            "You have provided 'metrics', 'y_true', 'y_pred' as positional arguments. Please pass them as keyword arguments. From version 0.10.0 passing them as positional arguments will result in an error.\n",
            "You have provided 'metrics', 'y_true', 'y_pred' as positional arguments. Please pass them as keyword arguments. From version 0.10.0 passing them as positional arguments will result in an error.\n",
            "You have provided 'metrics', 'y_true', 'y_pred' as positional arguments. Please pass them as keyword arguments. From version 0.10.0 passing them as positional arguments will result in an error.\n"
          ]
        },
        {
          "output_type": "stream",
          "name": "stdout",
          "text": [
            "Age:\n",
            "RandomForestClassifier(): \n",
            "           FPR       FNR       TPR       TNR\n",
            "Age                                        \n",
            "20   0.205882  0.027027  0.972973  0.794118\n",
            "30   0.307692       0.0       1.0  0.692308\n",
            "40       0.05  0.052632  0.947368      0.95\n",
            "60   0.103448  0.111111  0.888889  0.896552 \n",
            "\n",
            "Age:\n",
            "LogisticRegression(C=1000000, random_state=42, solver='newton-cg'): \n",
            "           FPR       FNR       TPR       TNR\n",
            "Age                                        \n",
            "20   0.176471  0.351351  0.648649  0.823529\n",
            "30   0.384615  0.357143  0.642857  0.615385\n",
            "40        0.6  0.157895  0.842105       0.4\n",
            "60   0.206897  0.305556  0.694444  0.793103 \n",
            "\n",
            "Age:\n",
            "SVC(C=64, class_weight='balanced', gamma=0.01, probability=True): \n",
            "           FPR       FNR       TPR       TNR\n",
            "Age                                        \n",
            "20   0.647059  0.135135  0.864865  0.352941\n",
            "30   0.846154  0.142857  0.857143  0.153846\n",
            "40        0.5  0.052632  0.947368       0.5\n",
            "60   0.517241  0.083333  0.916667  0.482759 \n",
            "\n"
          ]
        }
      ],
      "source": [
        "# define sensitive attributes\n",
        "#task = A_test['task']\n",
        "age =  A_test['Age']\n",
        "\n",
        "\n",
        "for model in classifiers:\n",
        "  model.fit(X_train, y_train)\n",
        "  y_pred = model.predict(X_test)\n",
        "\n",
        "  # scores on test set\n",
        "  y_pred = model.predict_proba(X_test)[:, 1]\n",
        "\n",
        "  # predictions (0 or 1) on test set\n",
        "  test_preds = (y_pred >= np.mean(y_train)) * 1\n",
        "\n",
        "  print(f'Age:{chr(10)}{model}: {chr(10)} {metric_frame (age)} {chr(10)}')\n",
        "\n",
        "\n"
      ]
    },
    {
      "cell_type": "markdown",
      "source": [
        "### Fairness evaluation - fairness metrics by group (equalized odds, demographic parity difference & ratio, false negative rate difference)"
      ],
      "metadata": {
        "id": "2e4yEBybwKyc"
      }
    },
    {
      "cell_type": "code",
      "execution_count": 37,
      "metadata": {
        "id": "17eQQs7UhThR",
        "colab": {
          "base_uri": "https://localhost:8080/"
        },
        "outputId": "2407a6ed-2d1f-4ac5-e1d1-f5088d3a6188"
      },
      "outputs": [
        {
          "output_type": "stream",
          "name": "stdout",
          "text": [
            "Age:\n",
            "RandomForestClassifier(): \n",
            "                                Unmitigated\n",
            "Equalized_odds_difference         0.334615\n",
            "False negative rate difference    0.157895\n",
            "Balanced error rate difference    0.089367\n",
            " ------                                   \n",
            "Demographic parity difference     0.267806\n",
            "  ------                                  \n",
            "Overall AUC                       0.953715\n",
            "AUC difference                    0.073171 \n",
            "\n",
            "Age:\n",
            "LogisticRegression(C=1000000, random_state=42, solver='newton-cg'): \n",
            "                                Unmitigated\n",
            "Equalized_odds_difference         0.423529\n",
            "False negative rate difference    0.199248\n",
            "Balanced error rate difference    0.122721\n",
            " ------                                   \n",
            "Demographic parity difference     0.295414\n",
            "  ------                                  \n",
            "Overall AUC                       0.794222\n",
            "AUC difference                    0.171174 \n",
            "\n",
            "Age:\n",
            "SVC(C=64, class_weight='balanced', gamma=0.01, probability=True): \n",
            "                                Unmitigated\n",
            "Equalized_odds_difference         0.346154\n",
            "False negative rate difference    0.090226\n",
            "Balanced error rate difference     0.21819\n",
            " ------                                   \n",
            "Demographic parity difference     0.133903\n",
            "  ------                                  \n",
            "Overall AUC                       0.854707\n",
            "AUC difference                    0.143616 \n",
            "\n"
          ]
        }
      ],
      "source": [
        "# Metrics \n",
        "for model in classifiers:\n",
        "  model.fit(X_train, y_train)\n",
        "  y_pred = model.predict(X_test)\n",
        "\n",
        "  # scores on test set\n",
        "  y_pred = model.predict_proba(X_test)[:, 1]\n",
        "\n",
        "  # predictions (0 or 1) on test set\n",
        "  test_preds = (y_pred >= np.mean(y_train)) * 1\n",
        "\n",
        "  models_dict = {\"Unmitigated\": (test_preds, y_pred)}\n",
        "\n",
        "  print(f'Age:{chr(10)}{model}: {chr(10)} {get_metrics_df(models_dict, y_test, age)} {chr(10)}')\n"
      ]
    },
    {
      "cell_type": "markdown",
      "source": [
        "##### helper function for visualisation\n"
      ],
      "metadata": {
        "id": "5DzayjL86Y4p"
      }
    },
    {
      "cell_type": "code",
      "source": [
        "# demographic disparity\n",
        "# https://github.com/fairlearn/fairlearn/blob/main/notebooks/Mitigating%20Disparities%20in%20Ranking%20from%20Binary%20Data.ipynb\n",
        "\n",
        "from IPython.display import display, HTML\n",
        "import matplotlib.pyplot as plt\n",
        "from scipy.stats import cumfreq\n",
        "\n",
        "def compare_cdfs(data, A, num_bins=100):\n",
        "    cdfs = {}\n",
        "    assert len(np.unique(A)) == 4 ### change to 4/2 depending on the sensitive attribute (Age vs. task)\n",
        "    \n",
        "    limits = ( min(data), max(data) )\n",
        "    s = 0.5 * (limits[1] - limits[0]) / (num_bins - 1)\n",
        "    limits = ( limits[0]-s, limits[1] + s)\n",
        "    \n",
        "    for a in np.unique(A):\n",
        "        subset = data[A==a]\n",
        "        \n",
        "        cdfs[a] = cumfreq(subset, numbins=num_bins, defaultreallimits=limits)\n",
        "        \n",
        "    lower_limits = [v.lowerlimit for _, v in cdfs.items()]\n",
        "    bin_sizes = [v.binsize for _,v in cdfs.items()]\n",
        "    actual_num_bins = [v.cumcount.size for _,v in cdfs.items()]\n",
        "    \n",
        "    assert len(np.unique(lower_limits)) == 1\n",
        "    assert len(np.unique(bin_sizes)) == 1\n",
        "    assert np.all([num_bins==v.cumcount.size for _,v in cdfs.items()])\n",
        "    \n",
        "    xs = lower_limits[0] + np.linspace(0, bin_sizes[0]*num_bins, num_bins)\n",
        "    \n",
        "    disparities = np.zeros(num_bins)\n",
        "    for i in range(num_bins):\n",
        "        cdf_values = np.clip([v.cumcount[i]/len(data[A==k]) for k,v in cdfs.items()],0,1)\n",
        "        disparities[i] = max(cdf_values)-min(cdf_values)  \n",
        "    \n",
        "    return xs, cdfs, disparities\n",
        "    \n",
        "    \n",
        "def plot_and_compare_cdfs(data, A, num_bins=100, loc='best'):\n",
        "    xs, cdfs, disparities = compare_cdfs(data, A, num_bins)\n",
        "    \n",
        "    for k, v in cdfs.items():\n",
        "        plt.plot(xs, v.cumcount/len(data[A==k]), label=k)\n",
        "    \n",
        "    assert disparities.argmax().size == 1\n",
        "    d_idx = disparities.argmax()\n",
        "    \n",
        "    xs_line = [xs[d_idx],xs[d_idx]]\n",
        "    counts = [v.cumcount[d_idx]/len(data[A==k]) for k, v in cdfs.items()]\n",
        "    ys_line = [min(counts), max(counts)]\n",
        "    \n",
        "    plt.plot(xs_line, ys_line, 'o--')\n",
        "    disparity_label = \"max disparity = {0:.3f}\\nat {1:0.3f}\".format(disparities[d_idx], xs[d_idx])\n",
        "    plt.text(xs[d_idx], 1, disparity_label, ha=\"right\", va=\"top\")\n",
        "    \n",
        "    plt.ylabel(\"cumulative frequency\")\n",
        "    plt.legend(loc=loc)\n",
        "    plt.show()"
      ],
      "metadata": {
        "id": "bGJWGYvj6dp5"
      },
      "execution_count": 95,
      "outputs": []
    },
    {
      "cell_type": "markdown",
      "metadata": {
        "id": "r58R2nMm4yAr"
      },
      "source": [
        "#### Visualisation - performance metric by groups (age)\n",
        "\n",
        "\n",
        "---\n",
        "\n"
      ]
    },
    {
      "cell_type": "code",
      "source": [
        "for model in classifiers:\n",
        "  model.fit(X_train, y_train)\n",
        "  y_pred = model.predict(X_test)\n",
        "\n",
        "  # scores on test set\n",
        "  y_pred = model.predict_proba(X_test)[:, 1]\n",
        "\n",
        "  # predictions (0 or 1) on test set\n",
        "  test_preds = (y_pred >= np.mean(y_train)) * 1\n",
        "\n",
        "\n",
        "  display(HTML('<span id=\"disparity_unmitigated\">'))\n",
        "  plot_and_compare_cdfs(y_pred, task)\n",
        "  display(HTML('</span>'))"
      ],
      "metadata": {
        "id": "qmGXqTbzl0eV",
        "colab": {
          "base_uri": "https://localhost:8080/",
          "height": 381
        },
        "outputId": "63ebf038-4972-4ac4-8852-0b719b3c64e5"
      },
      "execution_count": 96,
      "outputs": [
        {
          "output_type": "display_data",
          "data": {
            "text/plain": [
              "<IPython.core.display.HTML object>"
            ],
            "text/html": [
              "<span id=\"disparity_unmitigated\">"
            ]
          },
          "metadata": {}
        },
        {
          "output_type": "error",
          "ename": "AssertionError",
          "evalue": "ignored",
          "traceback": [
            "\u001b[0;31m---------------------------------------------------------------------------\u001b[0m",
            "\u001b[0;31mAssertionError\u001b[0m                            Traceback (most recent call last)",
            "\u001b[0;32m<ipython-input-96-c02b2711aefe>\u001b[0m in \u001b[0;36m<module>\u001b[0;34m()\u001b[0m\n\u001b[1;32m     11\u001b[0m \u001b[0;34m\u001b[0m\u001b[0m\n\u001b[1;32m     12\u001b[0m   \u001b[0mdisplay\u001b[0m\u001b[0;34m(\u001b[0m\u001b[0mHTML\u001b[0m\u001b[0;34m(\u001b[0m\u001b[0;34m'<span id=\"disparity_unmitigated\">'\u001b[0m\u001b[0;34m)\u001b[0m\u001b[0;34m)\u001b[0m\u001b[0;34m\u001b[0m\u001b[0;34m\u001b[0m\u001b[0m\n\u001b[0;32m---> 13\u001b[0;31m   \u001b[0mplot_and_compare_cdfs\u001b[0m\u001b[0;34m(\u001b[0m\u001b[0my_pred\u001b[0m\u001b[0;34m,\u001b[0m \u001b[0mtask\u001b[0m\u001b[0;34m)\u001b[0m\u001b[0;34m\u001b[0m\u001b[0;34m\u001b[0m\u001b[0m\n\u001b[0m\u001b[1;32m     14\u001b[0m   \u001b[0mdisplay\u001b[0m\u001b[0;34m(\u001b[0m\u001b[0mHTML\u001b[0m\u001b[0;34m(\u001b[0m\u001b[0;34m'</span>'\u001b[0m\u001b[0;34m)\u001b[0m\u001b[0;34m)\u001b[0m\u001b[0;34m\u001b[0m\u001b[0;34m\u001b[0m\u001b[0m\n",
            "\u001b[0;32m<ipython-input-95-8a223a1b476d>\u001b[0m in \u001b[0;36mplot_and_compare_cdfs\u001b[0;34m(data, A, num_bins, loc)\u001b[0m\n\u001b[1;32m     38\u001b[0m \u001b[0;34m\u001b[0m\u001b[0m\n\u001b[1;32m     39\u001b[0m \u001b[0;32mdef\u001b[0m \u001b[0mplot_and_compare_cdfs\u001b[0m\u001b[0;34m(\u001b[0m\u001b[0mdata\u001b[0m\u001b[0;34m,\u001b[0m \u001b[0mA\u001b[0m\u001b[0;34m,\u001b[0m \u001b[0mnum_bins\u001b[0m\u001b[0;34m=\u001b[0m\u001b[0;36m100\u001b[0m\u001b[0;34m,\u001b[0m \u001b[0mloc\u001b[0m\u001b[0;34m=\u001b[0m\u001b[0;34m'best'\u001b[0m\u001b[0;34m)\u001b[0m\u001b[0;34m:\u001b[0m\u001b[0;34m\u001b[0m\u001b[0;34m\u001b[0m\u001b[0m\n\u001b[0;32m---> 40\u001b[0;31m     \u001b[0mxs\u001b[0m\u001b[0;34m,\u001b[0m \u001b[0mcdfs\u001b[0m\u001b[0;34m,\u001b[0m \u001b[0mdisparities\u001b[0m \u001b[0;34m=\u001b[0m \u001b[0mcompare_cdfs\u001b[0m\u001b[0;34m(\u001b[0m\u001b[0mdata\u001b[0m\u001b[0;34m,\u001b[0m \u001b[0mA\u001b[0m\u001b[0;34m,\u001b[0m \u001b[0mnum_bins\u001b[0m\u001b[0;34m)\u001b[0m\u001b[0;34m\u001b[0m\u001b[0;34m\u001b[0m\u001b[0m\n\u001b[0m\u001b[1;32m     41\u001b[0m \u001b[0;34m\u001b[0m\u001b[0m\n\u001b[1;32m     42\u001b[0m     \u001b[0;32mfor\u001b[0m \u001b[0mk\u001b[0m\u001b[0;34m,\u001b[0m \u001b[0mv\u001b[0m \u001b[0;32min\u001b[0m \u001b[0mcdfs\u001b[0m\u001b[0;34m.\u001b[0m\u001b[0mitems\u001b[0m\u001b[0;34m(\u001b[0m\u001b[0;34m)\u001b[0m\u001b[0;34m:\u001b[0m\u001b[0;34m\u001b[0m\u001b[0;34m\u001b[0m\u001b[0m\n",
            "\u001b[0;32m<ipython-input-95-8a223a1b476d>\u001b[0m in \u001b[0;36mcompare_cdfs\u001b[0;34m(data, A, num_bins)\u001b[0m\n\u001b[1;32m      8\u001b[0m \u001b[0;32mdef\u001b[0m \u001b[0mcompare_cdfs\u001b[0m\u001b[0;34m(\u001b[0m\u001b[0mdata\u001b[0m\u001b[0;34m,\u001b[0m \u001b[0mA\u001b[0m\u001b[0;34m,\u001b[0m \u001b[0mnum_bins\u001b[0m\u001b[0;34m=\u001b[0m\u001b[0;36m100\u001b[0m\u001b[0;34m)\u001b[0m\u001b[0;34m:\u001b[0m\u001b[0;34m\u001b[0m\u001b[0;34m\u001b[0m\u001b[0m\n\u001b[1;32m      9\u001b[0m     \u001b[0mcdfs\u001b[0m \u001b[0;34m=\u001b[0m \u001b[0;34m{\u001b[0m\u001b[0;34m}\u001b[0m\u001b[0;34m\u001b[0m\u001b[0;34m\u001b[0m\u001b[0m\n\u001b[0;32m---> 10\u001b[0;31m     \u001b[0;32massert\u001b[0m \u001b[0mlen\u001b[0m\u001b[0;34m(\u001b[0m\u001b[0mnp\u001b[0m\u001b[0;34m.\u001b[0m\u001b[0munique\u001b[0m\u001b[0;34m(\u001b[0m\u001b[0mA\u001b[0m\u001b[0;34m)\u001b[0m\u001b[0;34m)\u001b[0m \u001b[0;34m==\u001b[0m \u001b[0;36m4\u001b[0m \u001b[0;31m### change to 4/2 depending on the sensitive attribute (Age vs. task)\u001b[0m\u001b[0;34m\u001b[0m\u001b[0;34m\u001b[0m\u001b[0m\n\u001b[0m\u001b[1;32m     11\u001b[0m \u001b[0;34m\u001b[0m\u001b[0m\n\u001b[1;32m     12\u001b[0m     \u001b[0mlimits\u001b[0m \u001b[0;34m=\u001b[0m \u001b[0;34m(\u001b[0m \u001b[0mmin\u001b[0m\u001b[0;34m(\u001b[0m\u001b[0mdata\u001b[0m\u001b[0;34m)\u001b[0m\u001b[0;34m,\u001b[0m \u001b[0mmax\u001b[0m\u001b[0;34m(\u001b[0m\u001b[0mdata\u001b[0m\u001b[0;34m)\u001b[0m \u001b[0;34m)\u001b[0m\u001b[0;34m\u001b[0m\u001b[0;34m\u001b[0m\u001b[0m\n",
            "\u001b[0;31mAssertionError\u001b[0m: "
          ]
        }
      ]
    },
    {
      "cell_type": "markdown",
      "metadata": {
        "id": "sf3-XjExIYIF"
      },
      "source": [
        "# Debiasing the model\n",
        "\n",
        "---\n"
      ]
    },
    {
      "cell_type": "markdown",
      "source": [
        "In this part, we aim to mitigate bias (removing the problematic signal) through the addition of inclusion (add signal for desired features for a re-weighted signal to improve fairness)\n",
        "\n",
        "The dataset is not balanced for any of the groups present (different sample numbers) \n",
        "\n",
        "\n",
        "#### Reminder to types of fairness and how to approach them\n",
        "\n",
        "- Demographic parity applies different classification thresholds per group while keeping the same fraction of +ives\n",
        "- Equal opp. uses different classification thresholds per group while keeping the same true positive rate\n",
        "- Equalized odds use different classification thresholds per group while keeping the same true positive&false rate\n",
        "\n",
        "\n",
        "**We aim for equalized odds (EO) and ERP (error rate parity) cross groups.**\n",
        "\n",
        "\n",
        "#### De-biasing methods overview:\n",
        "\n",
        " - pre-processing: reweighing, disparate impact remover\n",
        "\n",
        " - in-process: adversarial debiasing, prejudice remover\n",
        "\n",
        "- post process-process: through reductions: Exponential gradient (for disparity mitigation), Gridsearch,  ThresholdOptimizer, equalized odds/ calibrated offd/ reject option classification\n",
        "\n",
        "\n",
        "> NOTE: fairlearn only supports binary classification \n",
        "\n",
        "\n",
        "\n",
        "STEPS:\n",
        "1. Pre-processing \n",
        "    - reweigh sample \n",
        "    - balance performance metric (already the case equal number of stressed/non-stressed people\n",
        "\n",
        "2. in process \n",
        "    - adversarial debiasing\n",
        "\n",
        "3. post-process \n",
        "    - threshold optimizer, equalized odds\n",
        "\n",
        "\n",
        "\n",
        "\n"
      ],
      "metadata": {
        "id": "B-yF_BL-yDXl"
      }
    },
    {
      "cell_type": "markdown",
      "source": [
        "#### import libraries and helper functions"
      ],
      "metadata": {
        "id": "746t1XpOqESj"
      }
    },
    {
      "cell_type": "code",
      "source": [
        "import aif360\n",
        "\n",
        "from aif360.datasets import StandardDataset\n",
        "from sklearn.pipeline import make_pipeline \n",
        "\n",
        "# Fairness metrics\n",
        "from aif360.metrics import BinaryLabelDatasetMetric\n",
        "from aif360.metrics import DatasetMetric\n",
        "\n",
        "from aif360.metrics import ClassificationMetric\n",
        "\n",
        "# Explainers\n",
        "from aif360.explainers import MetricTextExplainer\n",
        "\n",
        "# Scalers\n",
        "from sklearn.preprocessing import StandardScaler\n",
        "\n",
        "# Bias mitigation techniques\n",
        "from aif360.algorithms.preprocessing import Reweighing\n",
        "from aif360.algorithms.inprocessing import AdversarialDebiasing\n",
        "from aif360.algorithms.inprocessing import PrejudiceRemover\n",
        "\n",
        "# fairlearn libraries\n",
        "from fairlearn.postprocessing import ThresholdOptimizer, plot_threshold_optimizer\n",
        "from fairlearn.postprocessing._interpolated_thresholder import InterpolatedThresholder\n",
        "from fairlearn.postprocessing._threshold_operation import ThresholdOperation\n",
        "\n",
        "from fairlearn.reductions import (ExponentiatedGradient, \n",
        "                                  EqualizedOdds, \n",
        "                                  ErrorRateParity)\n"
      ],
      "metadata": {
        "id": "x1RrNf1e0raQ"
      },
      "execution_count": 97,
      "outputs": []
    },
    {
      "cell_type": "code",
      "source": [
        "# define for the metric frame\n",
        "metrics = {\n",
        "    'accuracy': accuracy_score,\n",
        "    'false positive rate': false_positive_rate,\n",
        "    'false negative rate': false_negative_rate,\n",
        "    'selection rate': selection_rate,\n",
        "    'count': count,\n",
        "    'balanced error rate': balanced_accuracy_score}"
      ],
      "metadata": {
        "id": "WIdimXWz2U7j"
      },
      "execution_count": 98,
      "outputs": []
    },
    {
      "cell_type": "markdown",
      "source": [
        "#### 1. Reweigh samples for age (AIF360)\n",
        "\n",
        "Based on:\n",
        "1. [Correcting Unfair Binary Classification\n",
        "Models](http://arno.uvt.nl/show.cgi?fid=157880)\n",
        "\n",
        "2. [AIF360 example](https://nbviewer.org/github/IBM/AIF360/blob/master/examples/tutorial_credit_scoring.ipynb)\n"
      ],
      "metadata": {
        "id": "QClTGz2ADunB"
      }
    },
    {
      "cell_type": "code",
      "source": [
        "# set dataset in aif360 format\n",
        "ds_aif = aif360.datasets.StandardDataset (df, \n",
        "                                         label_name=\"fatiguestate\",\n",
        "                                         favorable_classes = [1], \n",
        "                                         protected_attribute_names=['Age'], \n",
        "                                         privileged_classes= [lambda x: x >= 39],\n",
        "                                         features_to_drop=['subject'])"
      ],
      "metadata": {
        "id": "TClA0mBrZIzg"
      },
      "execution_count": 99,
      "outputs": []
    },
    {
      "cell_type": "code",
      "source": [
        "# test, train split\n",
        "ds_train, ds_test = ds_aif.split([0.67], shuffle=True)"
      ],
      "metadata": {
        "id": "2a0RE3X1t4sM"
      },
      "execution_count": 100,
      "outputs": []
    },
    {
      "cell_type": "code",
      "source": [
        "# pre-processing - reweighing \n",
        "# define priviledged & unpriviledged groups\n",
        "unpriv = [{'Age': 0}]\n",
        "priv = [{'Age': 1}]\n",
        "\n",
        "# reweigh\n",
        "RW = Reweighing (unprivileged_groups = unpriv, \n",
        "                 privileged_groups = priv)\n",
        "\n",
        "RW_train = RW.fit_transform(ds_train)"
      ],
      "metadata": {
        "id": "mZ4j_QdOhAl4"
      },
      "execution_count": 101,
      "outputs": []
    },
    {
      "cell_type": "code",
      "source": [
        "# check for metric before and after transforming \n",
        "# OG dataset\n",
        "metric_train = BinaryLabelDatasetMetric(ds_train,\n",
        "                                        unprivileged_groups = unpriv,\n",
        "                                        privileged_groups = priv)\n",
        "\n",
        "explainer_train = MetricTextExplainer(metric_train)\n",
        "\n",
        "# transformed dataset\n",
        "metric_transf_train = BinaryLabelDatasetMetric(RW_train,\n",
        "                                               unprivileged_groups=unpriv,\n",
        "                                               privileged_groups=priv)\n",
        "\n",
        "explainer_transf_train = MetricTextExplainer(metric_transf_train)"
      ],
      "metadata": {
        "id": "cuAXatUVvHKF"
      },
      "execution_count": 102,
      "outputs": []
    },
    {
      "cell_type": "code",
      "source": [
        "# refit rfc model & get metrics\n",
        "X_train = RW_train.features\n",
        "y_train = RW_train.labels.ravel()\n",
        "w_train = RW_train.instance_weights\n",
        "\n",
        "X_test = ds_test.features\n",
        "y_test = ds_test.labels.ravel()"
      ],
      "metadata": {
        "id": "r02kb1_j1DFN"
      },
      "execution_count": 103,
      "outputs": []
    },
    {
      "cell_type": "markdown",
      "source": [
        "##### Evaluations"
      ],
      "metadata": {
        "id": "r_JCdbNYOX06"
      }
    },
    {
      "cell_type": "code",
      "source": [
        "# confusion matrix\n",
        "\n",
        "fig, axes = plt.subplots(nrows=2, ncols=2, figsize=(8, 8))\n",
        "\n",
        "for cls, ax in zip(classifiers, axes.flatten()):\n",
        "    # train models with reweighted data\n",
        "    dataset = RW_train\n",
        "    cls.fit(dataset.features, dataset.labels.ravel(), sample_weight = dataset.instance_weights)\n",
        "    \n",
        "    # plot\n",
        "    plot_confusion_matrix(cls, \n",
        "                          X_test, \n",
        "                          y_test, \n",
        "                          ax=ax, \n",
        "                          cmap='YlGnBu')\n",
        "    ax.title.set_text(type(cls).__name__)\n",
        "\n",
        "plt.tight_layout()\n",
        "plt.show()"
      ],
      "metadata": {
        "id": "hoQDEH_uMMTe",
        "colab": {
          "base_uri": "https://localhost:8080/",
          "height": 657
        },
        "outputId": "faedbf7a-05f5-4cab-e296-8d2b6249fb82"
      },
      "execution_count": 104,
      "outputs": [
        {
          "output_type": "stream",
          "name": "stderr",
          "text": [
            "Function plot_confusion_matrix is deprecated; Function `plot_confusion_matrix` is deprecated in 1.0 and will be removed in 1.2. Use one of the class methods: ConfusionMatrixDisplay.from_predictions or ConfusionMatrixDisplay.from_estimator.\n",
            "Function plot_confusion_matrix is deprecated; Function `plot_confusion_matrix` is deprecated in 1.0 and will be removed in 1.2. Use one of the class methods: ConfusionMatrixDisplay.from_predictions or ConfusionMatrixDisplay.from_estimator.\n",
            "Function plot_confusion_matrix is deprecated; Function `plot_confusion_matrix` is deprecated in 1.0 and will be removed in 1.2. Use one of the class methods: ConfusionMatrixDisplay.from_predictions or ConfusionMatrixDisplay.from_estimator.\n"
          ]
        },
        {
          "output_type": "display_data",
          "data": {
            "text/plain": [
              "<Figure size 576x576 with 7 Axes>"
            ],
            "image/png": "[encoded data removed]"
          },
          "metadata": {
            "needs_background": "light"
          }
        }
      ]
    },
    {
      "cell_type": "code",
      "source": [
        "# double check with train set\n",
        "fig, axes = plt.subplots(nrows=2, ncols=2, figsize=(8, 8))\n",
        "\n",
        "for cls, ax in zip(classifiers, axes.flatten()):\n",
        "    dataset = RW_train\n",
        "    cls.fit(dataset.features, dataset.labels.ravel(), sample_weight = dataset.instance_weights)\n",
        "    plot_confusion_matrix(cls, \n",
        "                          X_train, \n",
        "                          y_train, \n",
        "                          ax=ax, \n",
        "                          cmap='YlGnBu')\n",
        "    ax.title.set_text(type(cls).__name__)\n",
        "plt.tight_layout()\n",
        "plt.show()"
      ],
      "metadata": {
        "id": "TlGpTZSgM44Q",
        "colab": {
          "base_uri": "https://localhost:8080/",
          "height": 657
        },
        "outputId": "5ef7a496-aea2-4f85-acf9-5faaf46032af"
      },
      "execution_count": 105,
      "outputs": [
        {
          "output_type": "stream",
          "name": "stderr",
          "text": [
            "Function plot_confusion_matrix is deprecated; Function `plot_confusion_matrix` is deprecated in 1.0 and will be removed in 1.2. Use one of the class methods: ConfusionMatrixDisplay.from_predictions or ConfusionMatrixDisplay.from_estimator.\n",
            "Function plot_confusion_matrix is deprecated; Function `plot_confusion_matrix` is deprecated in 1.0 and will be removed in 1.2. Use one of the class methods: ConfusionMatrixDisplay.from_predictions or ConfusionMatrixDisplay.from_estimator.\n",
            "Function plot_confusion_matrix is deprecated; Function `plot_confusion_matrix` is deprecated in 1.0 and will be removed in 1.2. Use one of the class methods: ConfusionMatrixDisplay.from_predictions or ConfusionMatrixDisplay.from_estimator.\n"
          ]
        },
        {
          "output_type": "display_data",
          "data": {
            "text/plain": [
              "<Figure size 576x576 with 7 Axes>"
            ],
            "image/png": "[encoded data removed]"
          },
          "metadata": {
            "needs_background": "light"
          }
        }
      ]
    },
    {
      "cell_type": "code",
      "source": [
        "# get classification reports\n",
        "for cls in classifiers:\n",
        "  cls.fit(dataset.features, dataset.labels.ravel(), sample_weight = dataset.instance_weights)\n",
        "  y_pred = cls.predict(X_test)\n",
        "  \n",
        "  print(f'{cls}: {chr(10)} {classification_report(y_test, y_pred)}')"
      ],
      "metadata": {
        "id": "qcXJggyrNSxR",
        "colab": {
          "base_uri": "https://localhost:8080/"
        },
        "outputId": "5e4ee24c-fcbf-47f3-9c53-eeae39d57ec3"
      },
      "execution_count": 106,
      "outputs": [
        {
          "output_type": "stream",
          "name": "stdout",
          "text": [
            "RandomForestClassifier(): \n",
            "               precision    recall  f1-score   support\n",
            "\n",
            "         0.0       0.92      0.83      0.88        84\n",
            "         1.0       0.84      0.93      0.88        82\n",
            "\n",
            "    accuracy                           0.88       166\n",
            "   macro avg       0.88      0.88      0.88       166\n",
            "weighted avg       0.88      0.88      0.88       166\n",
            "\n",
            "LogisticRegression(C=1000000, random_state=42, solver='newton-cg'): \n",
            "               precision    recall  f1-score   support\n",
            "\n",
            "         0.0       0.67      0.73      0.70        84\n",
            "         1.0       0.69      0.63      0.66        82\n",
            "\n",
            "    accuracy                           0.68       166\n",
            "   macro avg       0.68      0.68      0.68       166\n",
            "weighted avg       0.68      0.68      0.68       166\n",
            "\n",
            "SVC(C=64, class_weight='balanced', gamma=0.01, probability=True): \n",
            "               precision    recall  f1-score   support\n",
            "\n",
            "         0.0       0.85      0.42      0.56        84\n",
            "         1.0       0.61      0.93      0.73        82\n",
            "\n",
            "    accuracy                           0.67       166\n",
            "   macro avg       0.73      0.67      0.65       166\n",
            "weighted avg       0.73      0.67      0.65       166\n",
            "\n"
          ]
        }
      ]
    },
    {
      "cell_type": "markdown",
      "source": [
        "##### Fairness evaluations"
      ],
      "metadata": {
        "id": "d-6CDSP_Ob2M"
      }
    },
    {
      "cell_type": "code",
      "source": [
        "# define test \n",
        "ds_test_pred = ds_test.copy(deepcopy=True)"
      ],
      "metadata": {
        "id": "1kOnsSj5E77j"
      },
      "execution_count": 107,
      "outputs": []
    },
    {
      "cell_type": "code",
      "source": [
        "for cls in classifiers:\n",
        "  dataset = RW_train\n",
        "  cls.fit(dataset.features, dataset.labels.ravel(), sample_weight = instance_weights)\n",
        "  y_pred = cls.predict(X_test)\n",
        "  \n",
        "  # scores on test set\n",
        "  ds_test_pred.scores = cls.predict_proba(X_test)[:1]\n",
        "\n",
        "  # predictions (0 or 1) on test set\n",
        "  y_train_pred = cls.predict(X_train)\n",
        "  test_preds = (y_pred >= np.mean(y_train)) * 1\n",
        "\n",
        "  models_dict = {\"mitigated_pre-processing\": (test_preds, y_pred)}\n",
        "\n",
        "  print(f'Gender:{chr(10)}{cls}: {chr(10)} {get_metrics_df(models_dict, y_test, age)} {chr(10)}') # change age<> gender\n",
        "  print(f'Gender:{chr(10)}{cls}: {chr(10)} {metric_frame (age)} {chr(10)}') # change age<> gender\n",
        "\n",
        "\n",
        "  mf1 = MetricFrame(metrics=metrics,\n",
        "                    y_true=y_test,\n",
        "                    y_pred=y_pred,\n",
        "                    sensitive_features=age)\n",
        "\n",
        "# The disaggregated metrics are stored in a pandas Series mf1.by_group:\n",
        "  print(f\"{cls}:\\n {mf1.by_group}\\n\")\n",
        "  print(f\"{cls} difference:\\n {mf1.difference(method='between_groups')}\\n\")"
      ],
      "metadata": {
        "id": "wS_RSJNEjnzU",
        "colab": {
          "base_uri": "https://localhost:8080/",
          "height": 433
        },
        "outputId": "6e549bc2-d692-484e-91d6-fa3dd4844397"
      },
      "execution_count": 111,
      "outputs": [
        {
          "output_type": "error",
          "ename": "ValueError",
          "evalue": "ignored",
          "traceback": [
            "\u001b[0;31m---------------------------------------------------------------------------\u001b[0m",
            "\u001b[0;31mValueError\u001b[0m                                Traceback (most recent call last)",
            "\u001b[0;32m<ipython-input-111-43014cefe765>\u001b[0m in \u001b[0;36m<module>\u001b[0;34m()\u001b[0m\n\u001b[1;32m     13\u001b[0m   \u001b[0mmodels_dict\u001b[0m \u001b[0;34m=\u001b[0m \u001b[0;34m{\u001b[0m\u001b[0;34m\"mitigated_pre-processing\"\u001b[0m\u001b[0;34m:\u001b[0m \u001b[0;34m(\u001b[0m\u001b[0mtest_preds\u001b[0m\u001b[0;34m,\u001b[0m \u001b[0my_pred\u001b[0m\u001b[0;34m)\u001b[0m\u001b[0;34m}\u001b[0m\u001b[0;34m\u001b[0m\u001b[0;34m\u001b[0m\u001b[0m\n\u001b[1;32m     14\u001b[0m \u001b[0;34m\u001b[0m\u001b[0m\n\u001b[0;32m---> 15\u001b[0;31m   \u001b[0mprint\u001b[0m\u001b[0;34m(\u001b[0m\u001b[0;34mf'Gender:{chr(10)}{cls}: {chr(10)} {get_metrics_df(models_dict, y_test, age)} {chr(10)}'\u001b[0m\u001b[0;34m)\u001b[0m \u001b[0;31m# change age<> gender\u001b[0m\u001b[0;34m\u001b[0m\u001b[0;34m\u001b[0m\u001b[0m\n\u001b[0m\u001b[1;32m     16\u001b[0m   \u001b[0mprint\u001b[0m\u001b[0;34m(\u001b[0m\u001b[0;34mf'Gender:{chr(10)}{cls}: {chr(10)} {metric_frame (age)} {chr(10)}'\u001b[0m\u001b[0;34m)\u001b[0m \u001b[0;31m# change age<> gender\u001b[0m\u001b[0;34m\u001b[0m\u001b[0;34m\u001b[0m\u001b[0m\n\u001b[1;32m     17\u001b[0m \u001b[0;34m\u001b[0m\u001b[0m\n",
            "\u001b[0;32m<ipython-input-35-7c0d7849e02a>\u001b[0m in \u001b[0;36mget_metrics_df\u001b[0;34m(models_dict, y_true, group)\u001b[0m\n\u001b[1;32m     20\u001b[0m     \u001b[0;32mfor\u001b[0m \u001b[0mmetric_name\u001b[0m\u001b[0;34m,\u001b[0m \u001b[0;34m(\u001b[0m\u001b[0mmetric_func\u001b[0m\u001b[0;34m,\u001b[0m \u001b[0muse_preds\u001b[0m\u001b[0;34m)\u001b[0m \u001b[0;32min\u001b[0m \u001b[0mmetrics_dict\u001b[0m\u001b[0;34m.\u001b[0m\u001b[0mitems\u001b[0m\u001b[0;34m(\u001b[0m\u001b[0;34m)\u001b[0m\u001b[0;34m:\u001b[0m\u001b[0;34m\u001b[0m\u001b[0;34m\u001b[0m\u001b[0m\n\u001b[1;32m     21\u001b[0m         df_dict[metric_name] = [metric_func(preds) if use_preds else metric_func(scores) \n\u001b[0;32m---> 22\u001b[0;31m                                 for model_name, (preds, scores) in models_dict.items()]\n\u001b[0m\u001b[1;32m     23\u001b[0m     \u001b[0;32mreturn\u001b[0m \u001b[0mpd\u001b[0m\u001b[0;34m.\u001b[0m\u001b[0mDataFrame\u001b[0m\u001b[0;34m.\u001b[0m\u001b[0mfrom_dict\u001b[0m\u001b[0;34m(\u001b[0m\u001b[0mdf_dict\u001b[0m\u001b[0;34m,\u001b[0m \u001b[0morient\u001b[0m\u001b[0;34m=\u001b[0m\u001b[0;34m\"index\"\u001b[0m\u001b[0;34m,\u001b[0m \u001b[0mcolumns\u001b[0m\u001b[0;34m=\u001b[0m\u001b[0mmodels_dict\u001b[0m\u001b[0;34m.\u001b[0m\u001b[0mkeys\u001b[0m\u001b[0;34m(\u001b[0m\u001b[0;34m)\u001b[0m\u001b[0;34m)\u001b[0m\u001b[0;34m\u001b[0m\u001b[0;34m\u001b[0m\u001b[0m\n\u001b[1;32m     24\u001b[0m \u001b[0;34m\u001b[0m\u001b[0m\n",
            "\u001b[0;32m<ipython-input-35-7c0d7849e02a>\u001b[0m in \u001b[0;36m<listcomp>\u001b[0;34m(.0)\u001b[0m\n\u001b[1;32m     20\u001b[0m     \u001b[0;32mfor\u001b[0m \u001b[0mmetric_name\u001b[0m\u001b[0;34m,\u001b[0m \u001b[0;34m(\u001b[0m\u001b[0mmetric_func\u001b[0m\u001b[0;34m,\u001b[0m \u001b[0muse_preds\u001b[0m\u001b[0;34m)\u001b[0m \u001b[0;32min\u001b[0m \u001b[0mmetrics_dict\u001b[0m\u001b[0;34m.\u001b[0m\u001b[0mitems\u001b[0m\u001b[0;34m(\u001b[0m\u001b[0;34m)\u001b[0m\u001b[0;34m:\u001b[0m\u001b[0;34m\u001b[0m\u001b[0;34m\u001b[0m\u001b[0m\n\u001b[1;32m     21\u001b[0m         df_dict[metric_name] = [metric_func(preds) if use_preds else metric_func(scores) \n\u001b[0;32m---> 22\u001b[0;31m                                 for model_name, (preds, scores) in models_dict.items()]\n\u001b[0m\u001b[1;32m     23\u001b[0m     \u001b[0;32mreturn\u001b[0m \u001b[0mpd\u001b[0m\u001b[0;34m.\u001b[0m\u001b[0mDataFrame\u001b[0m\u001b[0;34m.\u001b[0m\u001b[0mfrom_dict\u001b[0m\u001b[0;34m(\u001b[0m\u001b[0mdf_dict\u001b[0m\u001b[0;34m,\u001b[0m \u001b[0morient\u001b[0m\u001b[0;34m=\u001b[0m\u001b[0;34m\"index\"\u001b[0m\u001b[0;34m,\u001b[0m \u001b[0mcolumns\u001b[0m\u001b[0;34m=\u001b[0m\u001b[0mmodels_dict\u001b[0m\u001b[0;34m.\u001b[0m\u001b[0mkeys\u001b[0m\u001b[0;34m(\u001b[0m\u001b[0;34m)\u001b[0m\u001b[0;34m)\u001b[0m\u001b[0;34m\u001b[0m\u001b[0;34m\u001b[0m\u001b[0m\n\u001b[1;32m     24\u001b[0m \u001b[0;34m\u001b[0m\u001b[0m\n",
            "\u001b[0;32m<ipython-input-35-7c0d7849e02a>\u001b[0m in \u001b[0;36m<lambda>\u001b[0;34m(x)\u001b[0m\n\u001b[1;32m      3\u001b[0m     metrics_dict = {\n\u001b[1;32m      4\u001b[0m         \"Equalized_odds_difference\": (\n\u001b[0;32m----> 5\u001b[0;31m             lambda x: equalized_odds_difference(y_true, x, sensitive_features=group), True),\n\u001b[0m\u001b[1;32m      6\u001b[0m         \"False negative rate difference\": (\n\u001b[1;32m      7\u001b[0m             lambda x: false_negative_rate_difference(y_true, x, sensitive_features=group), True),\n",
            "\u001b[0;32m/usr/local/lib/python3.7/dist-packages/fairlearn/metrics/_disparities.py\u001b[0m in \u001b[0;36mequalized_odds_difference\u001b[0;34m(y_true, y_pred, sensitive_features, method, sample_weight)\u001b[0m\n\u001b[1;32m    140\u001b[0m         \u001b[0mThe\u001b[0m \u001b[0mequalized\u001b[0m \u001b[0modds\u001b[0m \u001b[0mdifference\u001b[0m\u001b[0;34m\u001b[0m\u001b[0;34m\u001b[0m\u001b[0m\n\u001b[1;32m    141\u001b[0m     \"\"\"\n\u001b[0;32m--> 142\u001b[0;31m     \u001b[0meo\u001b[0m \u001b[0;34m=\u001b[0m \u001b[0m_get_eo_frame\u001b[0m\u001b[0;34m(\u001b[0m\u001b[0my_true\u001b[0m\u001b[0;34m,\u001b[0m \u001b[0my_pred\u001b[0m\u001b[0;34m,\u001b[0m \u001b[0msensitive_features\u001b[0m\u001b[0;34m,\u001b[0m \u001b[0msample_weight\u001b[0m\u001b[0;34m)\u001b[0m\u001b[0;34m\u001b[0m\u001b[0;34m\u001b[0m\u001b[0m\n\u001b[0m\u001b[1;32m    143\u001b[0m \u001b[0;34m\u001b[0m\u001b[0m\n\u001b[1;32m    144\u001b[0m     \u001b[0;32mreturn\u001b[0m \u001b[0mmax\u001b[0m\u001b[0;34m(\u001b[0m\u001b[0meo\u001b[0m\u001b[0;34m.\u001b[0m\u001b[0mdifference\u001b[0m\u001b[0;34m(\u001b[0m\u001b[0mmethod\u001b[0m\u001b[0;34m=\u001b[0m\u001b[0mmethod\u001b[0m\u001b[0;34m)\u001b[0m\u001b[0;34m)\u001b[0m\u001b[0;34m\u001b[0m\u001b[0;34m\u001b[0m\u001b[0m\n",
            "\u001b[0;32m/usr/local/lib/python3.7/dist-packages/fairlearn/metrics/_disparities.py\u001b[0m in \u001b[0;36m_get_eo_frame\u001b[0;34m(y_true, y_pred, sensitive_features, sample_weight)\u001b[0m\n\u001b[1;32m    198\u001b[0m                      \u001b[0my_pred\u001b[0m\u001b[0;34m=\u001b[0m\u001b[0my_pred\u001b[0m\u001b[0;34m,\u001b[0m\u001b[0;34m\u001b[0m\u001b[0;34m\u001b[0m\u001b[0m\n\u001b[1;32m    199\u001b[0m                      \u001b[0msensitive_features\u001b[0m\u001b[0;34m=\u001b[0m\u001b[0msensitive_features\u001b[0m\u001b[0;34m,\u001b[0m\u001b[0;34m\u001b[0m\u001b[0;34m\u001b[0m\u001b[0m\n\u001b[0;32m--> 200\u001b[0;31m                      sample_params=sp)\n\u001b[0m\u001b[1;32m    201\u001b[0m     \u001b[0;32mreturn\u001b[0m \u001b[0meo\u001b[0m\u001b[0;34m\u001b[0m\u001b[0;34m\u001b[0m\u001b[0m\n",
            "\u001b[0;32m/usr/local/lib/python3.7/dist-packages/fairlearn/metrics/_metric_frame.py\u001b[0m in \u001b[0;36mcompatible_metric_frame_init\u001b[0;34m(self, metric, *args, **kwargs)\u001b[0m\n\u001b[1;32m     82\u001b[0m                               \u001b[0;34m**\u001b[0m\u001b[0mmetric_arg_dict\u001b[0m\u001b[0;34m,\u001b[0m\u001b[0;34m\u001b[0m\u001b[0;34m\u001b[0m\u001b[0m\n\u001b[1;32m     83\u001b[0m                               \u001b[0;34m**\u001b[0m\u001b[0mpositional_dict\u001b[0m\u001b[0;34m,\u001b[0m\u001b[0;34m\u001b[0m\u001b[0;34m\u001b[0m\u001b[0m\n\u001b[0;32m---> 84\u001b[0;31m                               **kwargs)\n\u001b[0m\u001b[1;32m     85\u001b[0m \u001b[0;34m\u001b[0m\u001b[0m\n\u001b[1;32m     86\u001b[0m     \u001b[0;32mreturn\u001b[0m \u001b[0mcompatible_metric_frame_init\u001b[0m\u001b[0;34m\u001b[0m\u001b[0;34m\u001b[0m\u001b[0m\n",
            "\u001b[0;32m/usr/local/lib/python3.7/dist-packages/fairlearn/metrics/_metric_frame.py\u001b[0m in \u001b[0;36m__init__\u001b[0;34m(self, metrics, y_true, y_pred, sensitive_features, control_features, sample_params)\u001b[0m\n\u001b[1;32m    204\u001b[0m \u001b[0;34m\u001b[0m\u001b[0m\n\u001b[1;32m    205\u001b[0m         \u001b[0;31m# Now, prepare the sensitive features\u001b[0m\u001b[0;34m\u001b[0m\u001b[0;34m\u001b[0m\u001b[0;34m\u001b[0m\u001b[0m\n\u001b[0;32m--> 206\u001b[0;31m         \u001b[0msf_list\u001b[0m \u001b[0;34m=\u001b[0m \u001b[0mself\u001b[0m\u001b[0;34m.\u001b[0m\u001b[0m_process_features\u001b[0m\u001b[0;34m(\u001b[0m\u001b[0;34m\"sensitive_feature_\"\u001b[0m\u001b[0;34m,\u001b[0m \u001b[0msensitive_features\u001b[0m\u001b[0;34m,\u001b[0m \u001b[0my_t\u001b[0m\u001b[0;34m)\u001b[0m\u001b[0;34m\u001b[0m\u001b[0;34m\u001b[0m\u001b[0m\n\u001b[0m\u001b[1;32m    207\u001b[0m         \u001b[0mself\u001b[0m\u001b[0;34m.\u001b[0m\u001b[0m_sf_names\u001b[0m \u001b[0;34m=\u001b[0m \u001b[0;34m[\u001b[0m\u001b[0mx\u001b[0m\u001b[0;34m.\u001b[0m\u001b[0mname\u001b[0m \u001b[0;32mfor\u001b[0m \u001b[0mx\u001b[0m \u001b[0;32min\u001b[0m \u001b[0msf_list\u001b[0m\u001b[0;34m]\u001b[0m\u001b[0;34m\u001b[0m\u001b[0;34m\u001b[0m\u001b[0m\n\u001b[1;32m    208\u001b[0m \u001b[0;34m\u001b[0m\u001b[0m\n",
            "\u001b[0;32m/usr/local/lib/python3.7/dist-packages/fairlearn/metrics/_metric_frame.py\u001b[0m in \u001b[0;36m_process_features\u001b[0;34m(self, base_name, features, sample_array)\u001b[0m\n\u001b[1;32m    577\u001b[0m \u001b[0;34m\u001b[0m\u001b[0m\n\u001b[1;32m    578\u001b[0m         \u001b[0;32mif\u001b[0m \u001b[0misinstance\u001b[0m\u001b[0;34m(\u001b[0m\u001b[0mfeatures\u001b[0m\u001b[0;34m,\u001b[0m \u001b[0mpd\u001b[0m\u001b[0;34m.\u001b[0m\u001b[0mSeries\u001b[0m\u001b[0;34m)\u001b[0m\u001b[0;34m:\u001b[0m\u001b[0;34m\u001b[0m\u001b[0;34m\u001b[0m\u001b[0m\n\u001b[0;32m--> 579\u001b[0;31m             \u001b[0mcheck_consistent_length\u001b[0m\u001b[0;34m(\u001b[0m\u001b[0mfeatures\u001b[0m\u001b[0;34m,\u001b[0m \u001b[0msample_array\u001b[0m\u001b[0;34m)\u001b[0m\u001b[0;34m\u001b[0m\u001b[0;34m\u001b[0m\u001b[0m\n\u001b[0m\u001b[1;32m    580\u001b[0m             \u001b[0mresult\u001b[0m\u001b[0;34m.\u001b[0m\u001b[0mappend\u001b[0m\u001b[0;34m(\u001b[0m\u001b[0mGroupFeature\u001b[0m\u001b[0;34m(\u001b[0m\u001b[0mbase_name\u001b[0m\u001b[0;34m,\u001b[0m \u001b[0mfeatures\u001b[0m\u001b[0;34m,\u001b[0m \u001b[0;36m0\u001b[0m\u001b[0;34m,\u001b[0m \u001b[0;32mNone\u001b[0m\u001b[0;34m)\u001b[0m\u001b[0;34m)\u001b[0m\u001b[0;34m\u001b[0m\u001b[0;34m\u001b[0m\u001b[0m\n\u001b[1;32m    581\u001b[0m         \u001b[0;32melif\u001b[0m \u001b[0misinstance\u001b[0m\u001b[0;34m(\u001b[0m\u001b[0mfeatures\u001b[0m\u001b[0;34m,\u001b[0m \u001b[0mpd\u001b[0m\u001b[0;34m.\u001b[0m\u001b[0mDataFrame\u001b[0m\u001b[0;34m)\u001b[0m\u001b[0;34m:\u001b[0m\u001b[0;34m\u001b[0m\u001b[0;34m\u001b[0m\u001b[0m\n",
            "\u001b[0;32m/usr/local/lib/python3.7/dist-packages/sklearn/utils/validation.py\u001b[0m in \u001b[0;36mcheck_consistent_length\u001b[0;34m(*arrays)\u001b[0m\n\u001b[1;32m    332\u001b[0m         raise ValueError(\n\u001b[1;32m    333\u001b[0m             \u001b[0;34m\"Found input variables with inconsistent numbers of samples: %r\"\u001b[0m\u001b[0;34m\u001b[0m\u001b[0;34m\u001b[0m\u001b[0m\n\u001b[0;32m--> 334\u001b[0;31m             \u001b[0;34m%\u001b[0m \u001b[0;34m[\u001b[0m\u001b[0mint\u001b[0m\u001b[0;34m(\u001b[0m\u001b[0ml\u001b[0m\u001b[0;34m)\u001b[0m \u001b[0;32mfor\u001b[0m \u001b[0ml\u001b[0m \u001b[0;32min\u001b[0m \u001b[0mlengths\u001b[0m\u001b[0;34m]\u001b[0m\u001b[0;34m\u001b[0m\u001b[0;34m\u001b[0m\u001b[0m\n\u001b[0m\u001b[1;32m    335\u001b[0m         )\n\u001b[1;32m    336\u001b[0m \u001b[0;34m\u001b[0m\u001b[0m\n",
            "\u001b[0;31mValueError\u001b[0m: Found input variables with inconsistent numbers of samples: [202, 166]"
          ]
        }
      ]
    },
    {
      "cell_type": "markdown",
      "source": [
        "#### 2. Adverserial debiasing (AIF360)\n",
        "Not used for report - needs to be further analyzed for the correct use/integration "
      ],
      "metadata": {
        "id": "4JU4oe4oz-c-"
      }
    },
    {
      "cell_type": "code",
      "source": [
        "metric_orig_train = BinaryLabelDatasetMetric(ds_train, \n",
        "                                            unprivileged_groups = unpriv,\n",
        "                                            privileged_groups = priv)\n",
        "display(Markdown(\"#### Original training dataset\"))\n",
        "print(\"Train set: Difference in mean outcomes between unprivileged and privileged groups = %f\" % metric_orig_train.mean_difference())\n",
        "metric_orig_test = BinaryLabelDatasetMetric(ds_test, \n",
        "                                            unprivileged_groups = unpriv,\n",
        "                                            privileged_groups = priv)\n",
        "print(\"Test set: Difference in mean outcomes between unprivileged and privileged groups = %f\" % metric_orig_test.mean_difference())"
      ],
      "metadata": {
        "id": "2zAX-HgoQO6-",
        "colab": {
          "base_uri": "https://localhost:8080/",
          "height": 92
        },
        "outputId": "b95829ff-c0d3-4a1d-d902-4dfa091bb5e0"
      },
      "execution_count": 112,
      "outputs": [
        {
          "output_type": "display_data",
          "data": {
            "text/plain": [
              "<IPython.core.display.Markdown object>"
            ],
            "text/markdown": "#### Original training dataset"
          },
          "metadata": {}
        },
        {
          "output_type": "stream",
          "name": "stdout",
          "text": [
            "Train set: Difference in mean outcomes between unprivileged and privileged groups = -0.062346\n",
            "Test set: Difference in mean outcomes between unprivileged and privileged groups = 0.120261\n"
          ]
        }
      ]
    },
    {
      "cell_type": "code",
      "source": [
        "# Load post-processing algorithm that equalizes the odds\n",
        "# Learn parameters with debias set to False\n",
        "import tensorflow.compat.v1 as tf\n",
        "\n",
        "tf.disable_eager_execution()\n",
        "\n",
        "sess = tf.Session()\n",
        "sess.close()\n",
        "\n",
        "tf.reset_default_graph()\n",
        "sess = tf.Session()\n",
        "\n",
        "debiased_model = AdversarialDebiasing(privileged_groups = priv,\n",
        "                                                   unprivileged_groups = unpriv,\n",
        "                                                   scope_name = 'plain_classifier',\n",
        "                                                   debias = True,\n",
        "                                                   sess=sess)\n",
        "\n",
        "debiased_model.fit(ds_train)"
      ],
      "metadata": {
        "id": "MlYnPMw-RGvY"
      },
      "execution_count": null,
      "outputs": []
    },
    {
      "cell_type": "code",
      "source": [
        "# Apply the plain model to test data\n",
        "ds_debiasing_train = debiased_model.predict(ds_train)\n",
        "ds_debiasing_test = debiased_model.predict(ds_test)"
      ],
      "metadata": {
        "id": "Qy7dq_zjSyth"
      },
      "execution_count": null,
      "outputs": []
    },
    {
      "cell_type": "code",
      "source": [
        "# Metrics for the dataset from model with debiasing\n",
        "display(Markdown(\"#### Model - with debiasing - dataset metrics\"))\n",
        "metric_dataset_debiasing_train = BinaryLabelDatasetMetric(ds_debiasing_train, \n",
        "                                                          privileged_groups = priv,\n",
        "                                                          unprivileged_groups = unpriv,)\n",
        "\n",
        "print(\"Train set: Difference in mean outcomes between unprivileged and privileged groups = %f\" % metric_dataset_debiasing_train.mean_difference())\n",
        "\n",
        "metric_dataset_debiasing_test = BinaryLabelDatasetMetric(ds_debiasing_test, \n",
        "                                                         privileged_groups = priv,\n",
        "                                                         unprivileged_groups = unpriv,)\n",
        "\n",
        "print(\"Test set: Difference in mean outcomes between unprivileged and privileged groups = %f\" % metric_dataset_debiasing_test.mean_difference())\n",
        "\n"
      ],
      "metadata": {
        "id": "i9yxtyU3Uzur"
      },
      "execution_count": null,
      "outputs": []
    },
    {
      "cell_type": "markdown",
      "source": [
        "https://nbviewer.org/github/Trusted-AI/AIF360/blob/master/examples/tutorial_medical_expenditure.ipynb#3.-Training-models-on-original-2015-Panel-19-data"
      ],
      "metadata": {
        "id": "XjmNWjB7laWz"
      }
    },
    {
      "cell_type": "markdown",
      "source": [
        "### Fair learn - post processign methods\n",
        "\n"
      ],
      "metadata": {
        "id": "NPQBrt0BBtH9"
      }
    },
    {
      "cell_type": "code",
      "source": [
        "# set test & train data & defining age as sensitive attribute\n",
        "X = df.drop(columns=['Age', 'task', 'fatiguestate'])\n",
        "y = df['fatiguestate']\n",
        "\n",
        "A = df[['Age']]\n",
        "\n",
        "\n",
        "# for fairnes measures (inlc. A for group classification, drop age to make it unaware to other senstive attributes (fairnes through unawarenes)) - AGE \n",
        "X_train, X_test, y_train, y_test, A_train, A_test, A_str_train, A_str_test = train_test_split(\n",
        "    X, \n",
        "    y, \n",
        "    A, \n",
        "    task_str,\n",
        "    test_size = 0.33, # increse number for more fairness \n",
        "    random_state=42)\n"
      ],
      "metadata": {
        "id": "xszIwx4z4BCN"
      },
      "execution_count": 113,
      "outputs": []
    },
    {
      "cell_type": "markdown",
      "source": [
        "#### 3. ExponentiatedGradient - reduction (fair learn)\n",
        "\n",
        "\n",
        "---\n"
      ],
      "metadata": {
        "id": "2gTxoeNgn1Jx"
      }
    },
    {
      "cell_type": "code",
      "source": [
        "# train exponentialgradient for each classifier\n",
        "# get metrics resuts\n",
        "\n",
        "for cls in classifiers:\n",
        "  expgrad_est = ExponentiatedGradient(estimator=cls,\n",
        "                                    constraints=ErrorRateParity(difference_bound=0.01)) # for FNR 1-TPR\n",
        "  \n",
        "  expgrad_est.fit(X_train, y_train, sensitive_features=A_train)\n",
        "  \n",
        "  y_pred_reductions = expgrad_est.predict(X_test)\n",
        "  \n",
        "  \n",
        "  mf_eg =  MetricFrame(metrics=metrics,\n",
        "                                       y_true=y_test,\n",
        "                                       y_pred=y_pred_reductions,\n",
        "                                       sensitive_features=A_test\n",
        "                                       )\n",
        "  \n",
        "  df_results = pd.concat([mf_eg.by_group],\n",
        "                          keys=['ExponentiatedGradient'],\n",
        "                          axis=1)\n",
        "  \n",
        "  print (f'{cls}:{chr(10)} {df_results}{chr(10)}')\n",
        "  print(f\"{cls} difference:\\n {mf_eg.difference(method='between_groups')}\\n\")\n",
        "\n",
        "\n",
        "  # visualize mitigated\n",
        "  mf_eg.by_group.plot(\n",
        "      kind=\"bar\",\n",
        "  #    ylim=[0, 1],\n",
        "      subplots=True,\n",
        "      layout=[3, 3],\n",
        "      legend=False,\n",
        "      figsize=[12, 8],\n",
        "      title=f'Show all metrics WESAD - exponentiated gradiant - {cls}',\n",
        "  )\n",
        "\n",
        "\n",
        "\n",
        "  y_train_pred = cls.predict(X_train)\n",
        "  test_preds = (y_pred_reductions >= np.mean(y_train)) * 1\n",
        "\n",
        "  models_dict = {\"mitigated_pre-processing\": (test_preds, y_pred)}\n",
        "\n",
        "  print(f':{chr(10)}{cls}: {chr(10)} {get_metrics_df(models_dict, y_test, A_test)} {chr(10)}') # change age<> gender"
      ],
      "metadata": {
        "id": "IiK-YEdgyDCm",
        "colab": {
          "base_uri": "https://localhost:8080/"
        },
        "outputId": "67ffcfda-3733-47d9-f10e-3d63bb0ff0c6"
      },
      "execution_count": null,
      "outputs": [
        {
          "output_type": "stream",
          "name": "stderr",
          "text": [
            "Using the level keyword in DataFrame and Series aggregations is deprecated and will be removed in a future version. Use groupby instead. df.sum(level=1) should use df.groupby(level=1).sum().\n",
            "Using the level keyword in DataFrame and Series aggregations is deprecated and will be removed in a future version. Use groupby instead. df.sum(level=1) should use df.groupby(level=1).sum().\n",
            "Using the level keyword in DataFrame and Series aggregations is deprecated and will be removed in a future version. Use groupby instead. df.sum(level=1) should use df.groupby(level=1).sum().\n",
            "Using the level keyword in DataFrame and Series aggregations is deprecated and will be removed in a future version. Use groupby instead. df.sum(level=1) should use df.groupby(level=1).sum().\n",
            "Using the level keyword in DataFrame and Series aggregations is deprecated and will be removed in a future version. Use groupby instead. df.sum(level=1) should use df.groupby(level=1).sum().\n",
            "Using the level keyword in DataFrame and Series aggregations is deprecated and will be removed in a future version. Use groupby instead. df.sum(level=1) should use df.groupby(level=1).sum().\n",
            "Using the level keyword in DataFrame and Series aggregations is deprecated and will be removed in a future version. Use groupby instead. df.sum(level=1) should use df.groupby(level=1).sum().\n",
            "Using the level keyword in DataFrame and Series aggregations is deprecated and will be removed in a future version. Use groupby instead. df.sum(level=1) should use df.groupby(level=1).sum().\n",
            "Using the level keyword in DataFrame and Series aggregations is deprecated and will be removed in a future version. Use groupby instead. df.sum(level=1) should use df.groupby(level=1).sum().\n",
            "Using the level keyword in DataFrame and Series aggregations is deprecated and will be removed in a future version. Use groupby instead. df.sum(level=1) should use df.groupby(level=1).sum().\n",
            "Using the level keyword in DataFrame and Series aggregations is deprecated and will be removed in a future version. Use groupby instead. df.sum(level=1) should use df.groupby(level=1).sum().\n",
            "Using the level keyword in DataFrame and Series aggregations is deprecated and will be removed in a future version. Use groupby instead. df.sum(level=1) should use df.groupby(level=1).sum().\n",
            "Using the level keyword in DataFrame and Series aggregations is deprecated and will be removed in a future version. Use groupby instead. df.sum(level=1) should use df.groupby(level=1).sum().\n",
            "Using the level keyword in DataFrame and Series aggregations is deprecated and will be removed in a future version. Use groupby instead. df.sum(level=1) should use df.groupby(level=1).sum().\n",
            "Using the level keyword in DataFrame and Series aggregations is deprecated and will be removed in a future version. Use groupby instead. df.sum(level=1) should use df.groupby(level=1).sum().\n",
            "Using the level keyword in DataFrame and Series aggregations is deprecated and will be removed in a future version. Use groupby instead. df.sum(level=1) should use df.groupby(level=1).sum().\n",
            "Using the level keyword in DataFrame and Series aggregations is deprecated and will be removed in a future version. Use groupby instead. df.sum(level=1) should use df.groupby(level=1).sum().\n",
            "Using the level keyword in DataFrame and Series aggregations is deprecated and will be removed in a future version. Use groupby instead. df.sum(level=1) should use df.groupby(level=1).sum().\n",
            "Using the level keyword in DataFrame and Series aggregations is deprecated and will be removed in a future version. Use groupby instead. df.sum(level=1) should use df.groupby(level=1).sum().\n",
            "Using the level keyword in DataFrame and Series aggregations is deprecated and will be removed in a future version. Use groupby instead. df.sum(level=1) should use df.groupby(level=1).sum().\n",
            "Using the level keyword in DataFrame and Series aggregations is deprecated and will be removed in a future version. Use groupby instead. df.sum(level=1) should use df.groupby(level=1).sum().\n",
            "Using the level keyword in DataFrame and Series aggregations is deprecated and will be removed in a future version. Use groupby instead. df.sum(level=1) should use df.groupby(level=1).sum().\n",
            "Using the level keyword in DataFrame and Series aggregations is deprecated and will be removed in a future version. Use groupby instead. df.sum(level=1) should use df.groupby(level=1).sum().\n",
            "Using the level keyword in DataFrame and Series aggregations is deprecated and will be removed in a future version. Use groupby instead. df.sum(level=1) should use df.groupby(level=1).sum().\n",
            "Using the level keyword in DataFrame and Series aggregations is deprecated and will be removed in a future version. Use groupby instead. df.sum(level=1) should use df.groupby(level=1).sum().\n",
            "Using the level keyword in DataFrame and Series aggregations is deprecated and will be removed in a future version. Use groupby instead. df.sum(level=1) should use df.groupby(level=1).sum().\n",
            "Using the level keyword in DataFrame and Series aggregations is deprecated and will be removed in a future version. Use groupby instead. df.sum(level=1) should use df.groupby(level=1).sum().\n",
            "Using the level keyword in DataFrame and Series aggregations is deprecated and will be removed in a future version. Use groupby instead. df.sum(level=1) should use df.groupby(level=1).sum().\n",
            "Using the level keyword in DataFrame and Series aggregations is deprecated and will be removed in a future version. Use groupby instead. df.sum(level=1) should use df.groupby(level=1).sum().\n",
            "Using the level keyword in DataFrame and Series aggregations is deprecated and will be removed in a future version. Use groupby instead. df.sum(level=1) should use df.groupby(level=1).sum().\n",
            "Using the level keyword in DataFrame and Series aggregations is deprecated and will be removed in a future version. Use groupby instead. df.sum(level=1) should use df.groupby(level=1).sum().\n",
            "Using the level keyword in DataFrame and Series aggregations is deprecated and will be removed in a future version. Use groupby instead. df.sum(level=1) should use df.groupby(level=1).sum().\n",
            "Using the level keyword in DataFrame and Series aggregations is deprecated and will be removed in a future version. Use groupby instead. df.sum(level=1) should use df.groupby(level=1).sum().\n",
            "Using the level keyword in DataFrame and Series aggregations is deprecated and will be removed in a future version. Use groupby instead. df.sum(level=1) should use df.groupby(level=1).sum().\n",
            "Using the level keyword in DataFrame and Series aggregations is deprecated and will be removed in a future version. Use groupby instead. df.sum(level=1) should use df.groupby(level=1).sum().\n",
            "Using the level keyword in DataFrame and Series aggregations is deprecated and will be removed in a future version. Use groupby instead. df.sum(level=1) should use df.groupby(level=1).sum().\n",
            "Using the level keyword in DataFrame and Series aggregations is deprecated and will be removed in a future version. Use groupby instead. df.sum(level=1) should use df.groupby(level=1).sum().\n",
            "Using the level keyword in DataFrame and Series aggregations is deprecated and will be removed in a future version. Use groupby instead. df.sum(level=1) should use df.groupby(level=1).sum().\n",
            "Using the level keyword in DataFrame and Series aggregations is deprecated and will be removed in a future version. Use groupby instead. df.sum(level=1) should use df.groupby(level=1).sum().\n",
            "Using the level keyword in DataFrame and Series aggregations is deprecated and will be removed in a future version. Use groupby instead. df.sum(level=1) should use df.groupby(level=1).sum().\n",
            "Using the level keyword in DataFrame and Series aggregations is deprecated and will be removed in a future version. Use groupby instead. df.sum(level=1) should use df.groupby(level=1).sum().\n",
            "Using the level keyword in DataFrame and Series aggregations is deprecated and will be removed in a future version. Use groupby instead. df.sum(level=1) should use df.groupby(level=1).sum().\n",
            "Using the level keyword in DataFrame and Series aggregations is deprecated and will be removed in a future version. Use groupby instead. df.sum(level=1) should use df.groupby(level=1).sum().\n",
            "Using the level keyword in DataFrame and Series aggregations is deprecated and will be removed in a future version. Use groupby instead. df.sum(level=1) should use df.groupby(level=1).sum().\n"
          ]
        }
      ]
    },
    {
      "cell_type": "markdown",
      "source": [
        "#### 4. Thresholdoptimizer (fair learn - post processing)"
      ],
      "metadata": {
        "id": "PSX6PquRyG-v"
      }
    },
    {
      "cell_type": "markdown",
      "source": [
        "ThresholdOptimizer takes in an exisiting (possibly pre-fit) machine learning model whose predictions act as a scoring function and identifies a separate thrceshold for each group in order to optimize some specified objective metric (such as balanced accuracy) subject to specified fairness constraints (such as false negative rate parity). Thus, the resulting classifier is just a suitably thresholded version of the underlying machinelearning model."
      ],
      "metadata": {
        "id": "0gDoOpHZBtvB"
      }
    },
    {
      "cell_type": "code",
      "source": [
        "# fit thesholdoptimizer for each classifier and return mitigated resutls\n",
        "for cls in classifiers: \n",
        "    unmitigated_pipeline = Pipeline(steps=[(\"model\", cls)])\n",
        "\n",
        "    unmitigated_pipeline.fit(X_train, y_train)\n",
        "    \n",
        "    postprocess_est = ThresholdOptimizer(estimator=unmitigated_pipeline,\n",
        "                                        constraints=\"equalized_odds\",\n",
        "                                        objective=\"balanced_accuracy_score\",\n",
        "                                        prefit=True,\n",
        "                                        predict_method='predict_proba')\n",
        "    \n",
        "    postprocess_est.fit(X_train, y_train, sensitive_features=A_train) # change a test in train/ test sample\n",
        "\n",
        "    y_pred_postprocess = postprocess_est.predict(X_test, sensitive_features=A_test) \n",
        "\n",
        "    mf_to = MetricFrame(metrics=metrics,\n",
        "                                          y_true=y_test,\n",
        "                                          y_pred=y_pred_postprocess,\n",
        "                                          sensitive_features=A_test) \n",
        "    \n",
        "    df_results = pd.concat([mf_to.by_group],\n",
        "                            keys=['ThresholdOptimizer'],\n",
        "                            axis=1)\n",
        "\n",
        "    print (f'{cls}:{chr(10)} {df_results}{chr(10)}')\n",
        "\n",
        "    print(f\"{cls} difference:\\n {mf_to.difference(method='between_groups')}\\n\")\n",
        "    \n",
        "    y_train_pred = cls.predict(X_train)\n",
        "    test_preds = (y_pred_postprocess >= np.mean(y_train)) * 1\n",
        "\n",
        "    models_dict = {\"mitigated_pre-processing\": (test_preds, y_pred)}\n",
        "\n",
        "    print(f':{chr(10)}{cls}: {chr(10)} {get_metrics_df(models_dict, y_test, A_test)} {chr(10)}') \n",
        "\n",
        "    # visualize mitigated\n",
        "    mf_to.by_group.plot(\n",
        "        kind=\"bar\",\n",
        "    #    ylim=[0, 1],\n",
        "        subplots=True,\n",
        "        layout=[3, 3],\n",
        "        legend=False,\n",
        "        figsize=[12, 8],\n",
        "        title=f'Show all metrics WESAD - thresholdoptimizer - {cls}',\n",
        "    )"
      ],
      "metadata": {
        "id": "eX1oFDap6y4O"
      },
      "execution_count": null,
      "outputs": []
    },
    {
      "cell_type": "code",
      "source": [
        ""
      ],
      "metadata": {
        "id": "hqZ_PeNL6YpQ"
      },
      "execution_count": null,
      "outputs": []
    }
  ],
  "metadata": {
    "colab": {
      "collapsed_sections": [
        "zM2IN5-5nw0b",
        "VLxCfPjUVX7A",
        "9wWNnWsNm9g4",
        "Ir5-ry5VxVdh",
        "ll-yVqLPprKr",
        "evypBHEzQXOf",
        "hDRBvHmZQcc6",
        "F7Uh8cAyQcFE",
        "e7c6sUh3xFeQ",
        "5JttfxDoxAX3",
        "4UGDE8RSw6K_",
        "AbDywt6eIVhd",
        "QClTGz2ADunB",
        "d-6CDSP_Ob2M",
        "4JU4oe4oz-c-"
      ],
      "name": "WLK + MMH - Debiasing Classification Algorithms 1.0 - AGE.ipynb",
      "provenance": [],
      "mount_file_id": "1Xo5TrZHHPByGzAI0Kww6NF6Y-m8mjBla",
      "authorship_tag": "ABX9TyP2DCx5YLgypkFI03B86TlJ",
      "include_colab_link": true
    },
    "kernelspec": {
      "display_name": "Python 3",
      "name": "python3"
    },
    "language_info": {
      "name": "python"
    }
  },
  "nbformat": 4,
  "nbformat_minor": 0
}