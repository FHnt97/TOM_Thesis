{
  "cells": [
    {
      "cell_type": "markdown",
      "metadata": {
        "id": "view-in-github",
        "colab_type": "text"
      },
      "source": [
        "<a href=\"https://colab.research.google.com/github/FHnt97/TOM_Thesis/blob/main/WLK_%2B_MMH_Debiasing_Classification_Algorithms.ipynb\" target=\"_parent\"><img src=\"https://colab.research.google.com/assets/colab-badge.svg\" alt=\"Open In Colab\"/></a>"
      ]
    },
    {
      "cell_type": "markdown",
      "metadata": {
        "id": "k47uXogQN7DK"
      },
      "source": [
        "# Fairness in Occupational Fatigue Detection\n",
        "    "
      ]
    },
    {
      "cell_type": "markdown",
      "source": [
        "# Content\n",
        "\n",
        "---"
      ],
      "metadata": {
        "id": "-iJiVuckU0TU"
      }
    },
    {
      "cell_type": "markdown",
      "metadata": {
        "id": "wUpGt6kungQT"
      },
      "source": [
        "\n",
        "- **Dataset**\n",
        "    - MMH & WLK datasets (merged)\n",
        "    - **Sensitive attribute**: age (in buckets of 10 years) & task\n",
        "    - The dataset has an unqeual sample size for both age and task groups. \n",
        "- **Domain**\n",
        "    - Operations management - fatigue detection \n",
        "- **ML task**\n",
        "    - SVM (rbf)\n",
        "    - RFC \n",
        "    - Linear regression\n",
        "- **Fairness tasks**\n",
        "    - Assessment of unfairness \n",
        "    - Mitigation of unfairness with a focus on equal **FALSE NEGATIVE RATE** and **SELECTION RATE**\n",
        "\n",
        "\n",
        "- **Model performance metrics**:\n",
        "    - Confusion matrix\n",
        "    - Recall, accuracy & precision\n",
        "    - ROC curve\n",
        "\n",
        "- **Model fairness metrics**:\n",
        "    - Equalized odds\n",
        "    - False negatives and False negative rate\n",
        "\n",
        "- **Mitigation algorithms**:\n",
        "*the objective is to reduce false negatives / make them equal (avoid burn out of employees)*\n",
        "    - Reweighting (aif360)\n",
        "    - Exponential gradient (\n",
        "    - ThresholdOptimizer\n",
        "\n",
        "> NOTE: all models are trained unawarene of the sensitive attribue -- sensitive attributes are not inlcuded in training data: \n",
        "\n",
        "```\n",
        "    C=c(x, A) = c(X)\n",
        "```\n",
        "\n",
        "\n",
        "\n",
        "> HOWEVER: in Operations management, and especially in the measure of fatigue, physiological data is used for each participant, this can act as a proxy to the sensitive attribute. \n",
        "\n",
        "\n",
        "For ths final representation of the model a **MODEL CARD** will be presented. \n",
        "\n",
        "\n",
        "\n",
        "    \n"
      ]
    },
    {
      "cell_type": "markdown",
      "metadata": {
        "id": "0z-RLPyx_2tk"
      },
      "source": [
        "# Introduction\n",
        "\n",
        "---\n"
      ]
    },
    {
      "cell_type": "markdown",
      "metadata": {
        "id": "OV57OGdcnp1S"
      },
      "source": [
        "In this notebook, we use algorithmic models to detect fatigue in an occupational setting. \n",
        "\n",
        "The objective of the algorithm is to detect (through a classification algorithm) the state of the employee to better accomodate their working conditions and allow for more productive work. \n",
        "\n",
        "\n",
        "The notebook emulates the problem presented in Maman et. al.'s (2020) work. In this notebook, we take the analysis a step further, looking at how fair the proposed algorithm is on an group level. \n",
        "\n",
        "We train a fairness-unaware algortihm on the presented dataset, with the aim to porve that there is a underlying bias in the methodology, and then proceed in applying de-biasing tecchniques."
      ]
    },
    {
      "cell_type": "markdown",
      "metadata": {
        "id": "zM2IN5-5nw0b"
      },
      "source": [
        "## What is fairness?\n",
        "---"
      ]
    },
    {
      "cell_type": "markdown",
      "metadata": {
        "id": "TAhrsDdKoB9A"
      },
      "source": [
        "Fairness is complex & contextual, there is no one-size fits all appraoch. Additioanlly, we often have to make cost/benefit decisions, as models that have higher overall perfromance metrics are not necessarily fair towards minority groups. \n",
        "\n",
        "In Operations Management, the question arises:\n",
        "\n",
        "\n",
        "> *Can we create generalised models (vs. personalised ones) without these disciminitaing towards minority groups?* \n",
        "\n",
        "This is an important question as personalized models are significantly more expensive to set up.\n",
        "\n",
        "\n",
        "Furthermore, when creating general codes for people, it is important to consider: \n",
        "\n",
        "1. who will the product empower/service and who will be left out? The objectives have to be clear\n",
        "\n",
        "2. who is writing the code & is the team aware of diverse and inclusive practices\n",
        "\n",
        "3. whose data is inlcuded in the process, and how this is collected. Topics to consider include: - historical patterns, consent, privarcy, exclusion of specific gorups, etc. \n",
        "\n",
        "4. who can monitor the outcome and how? Is the model transparent & has it been well documented?\n",
        "\n",
        "5. does the outcome have a disciminatory impact? and, if so, how can the negative impact be rectified?\n",
        "\n",
        "\n",
        "We also have to consider the taxonomy of possible bias sources:\n",
        "1. Selection bias, reporting bias, sampling bias\n",
        "2. Interpretation bias - correlation falacy (correlation =! causation); overgeneralization, automation bias\n",
        "\n",
        "\n",
        "These questions will be covered by the moel card and the written report to this code. \n",
        "\n",
        "---"
      ]
    },
    {
      "cell_type": "markdown",
      "source": [
        "##  The Dataset:  MMA + WLK data\n",
        "---"
      ],
      "metadata": {
        "id": "91mazMeZUf0k"
      }
    },
    {
      "cell_type": "markdown",
      "source": [
        "\n",
        "\n",
        "The MMA& WLK datasets has been provided by -----, with the main use to detect and predict fatigue in employees doing manual material handling activities. \n",
        "\n",
        "The first present a simulated manual material handling (MMH) task, and the second is a supply pick-up and insertion (SI) task.\n",
        "\n",
        "Twenty four participants (9 females, 15 males; mean age 36.37 years with the standard deviation of 16.67 years) partook in the test. All participants reported that they were in good physical and mental health. Participants completed one three-hour experimental session for the simulated MMH task and another for the SI task. The order\n",
        "of the two experiments was randomized and participants had to complete the experiments in different days. As a result, we ended up with 15 participants whose data were deemed reliable for analysis. \n",
        "\n",
        "Note that the data has been cleaned, and the needed parameters for the model have been calculated by the owner of the dataset (sensor selection, data preprocessing and feature generation (HRR, jerk, etc)), and unchaged features have been removed.\n",
        "\n",
        "Fatigue is measured through HR and INN data. \n",
        "\n",
        "The age of participants will be rounded to the closest 10 years, in order to group participants into groups.\n",
        "\n",
        "The columns contain mostly boolean and categorical data (including age and various test results).\n"
      ],
      "metadata": {
        "id": "CxERpAQcUkZz"
      }
    },
    {
      "cell_type": "markdown",
      "source": [
        "# Base code\n",
        "------"
      ],
      "metadata": {
        "id": "uDZdIJtAUx70"
      }
    },
    {
      "cell_type": "markdown",
      "source": [
        "### Libraries"
      ],
      "metadata": {
        "id": "VLxCfPjUVX7A"
      }
    },
    {
      "cell_type": "code",
      "execution_count": null,
      "metadata": {
        "id": "vPdszu9IF3a4"
      },
      "outputs": [],
      "source": [
        "# importing general libraries\n",
        "import pandas as pd\n",
        "import numpy as np\n",
        "import matplotlib.pyplot as plt\n",
        "import seaborn as sns\n",
        "import sys\n",
        "from IPython import display\n",
        "from datetime import date"
      ]
    },
    {
      "cell_type": "code",
      "source": [
        "# !pip install model-card-toolkit\n",
        "!pip install --upgrade fairlearn==0.7.0\n",
        "!pip install fairml\n",
        "!pip install aif360"
      ],
      "metadata": {
        "id": "E7Q3FVI6nC9L",
        "colab": {
          "base_uri": "https://localhost:8080/"
        },
        "outputId": "1de84a5e-04ed-4184-dc93-5d4f755612d6"
      },
      "execution_count": null,
      "outputs": [
        {
          "output_type": "stream",
          "name": "stdout",
          "text": [
            "Looking in indexes: https://pypi.org/simple, https://us-python.pkg.dev/colab-wheels/public/simple/\n",
            "Collecting fairlearn==0.7.0\n",
            "  Downloading fairlearn-0.7.0-py3-none-any.whl (177 kB)\n",
            "\u001b[K     |████████████████████████████████| 177 kB 7.2 MB/s \n",
            "\u001b[?25hRequirement already satisfied: numpy>=1.17.2 in /usr/local/lib/python3.7/dist-packages (from fairlearn==0.7.0) (1.21.6)\n",
            "Requirement already satisfied: scikit-learn>=0.22.1 in /usr/local/lib/python3.7/dist-packages (from fairlearn==0.7.0) (1.0.2)\n",
            "Requirement already satisfied: scipy>=1.4.1 in /usr/local/lib/python3.7/dist-packages (from fairlearn==0.7.0) (1.4.1)\n",
            "Requirement already satisfied: pandas>=0.25.1 in /usr/local/lib/python3.7/dist-packages (from fairlearn==0.7.0) (1.3.5)\n",
            "Requirement already satisfied: python-dateutil>=2.7.3 in /usr/local/lib/python3.7/dist-packages (from pandas>=0.25.1->fairlearn==0.7.0) (2.8.2)\n",
            "Requirement already satisfied: pytz>=2017.3 in /usr/local/lib/python3.7/dist-packages (from pandas>=0.25.1->fairlearn==0.7.0) (2022.1)\n",
            "Requirement already satisfied: six>=1.5 in /usr/local/lib/python3.7/dist-packages (from python-dateutil>=2.7.3->pandas>=0.25.1->fairlearn==0.7.0) (1.15.0)\n",
            "Requirement already satisfied: joblib>=0.11 in /usr/local/lib/python3.7/dist-packages (from scikit-learn>=0.22.1->fairlearn==0.7.0) (1.1.0)\n",
            "Requirement already satisfied: threadpoolctl>=2.0.0 in /usr/local/lib/python3.7/dist-packages (from scikit-learn>=0.22.1->fairlearn==0.7.0) (3.1.0)\n",
            "Installing collected packages: fairlearn\n",
            "Successfully installed fairlearn-0.7.0\n",
            "Looking in indexes: https://pypi.org/simple, https://us-python.pkg.dev/colab-wheels/public/simple/\n",
            "Collecting fairml\n",
            "  Downloading fairml-0.1.1.5rc8.tar.gz (9.8 kB)\n",
            "\u001b[33mWARNING: Discarding https://files.pythonhosted.org/packages/92/c7/99bd6a7e9398913a3b12acabc450b0890408d8f363600e59c0b952f94769/fairml-0.1.1.5rc8.tar.gz#sha256=5e55a49df4d298b641d0d71618dbc5293b46d13aeeca9828d4d52611c19ac367 (from https://pypi.org/simple/fairml/). Command errored out with exit status 1: python setup.py egg_info Check the logs for full command output.\u001b[0m\n",
            "  Downloading fairml-0.1.1.5rc7.tar.gz (9.8 kB)\n",
            "\u001b[33mWARNING: Discarding https://files.pythonhosted.org/packages/83/3b/5f4470d64025962bf5ebc3865a4599baeaaf3ef2452d4578ece419d6bf16/fairml-0.1.1.5rc7.tar.gz#sha256=0d292efd3d3ae2da1c19aaac5acc43db95f5368e5d26ed2d1a6228f319c35ac9 (from https://pypi.org/simple/fairml/). Command errored out with exit status 1: python setup.py egg_info Check the logs for full command output.\u001b[0m\n",
            "  Downloading fairml-0.1.1.5rc6.tar.gz (9.8 kB)\n",
            "\u001b[33mWARNING: Discarding https://files.pythonhosted.org/packages/47/a4/a3e6bd6d413134dd8f96ac68a0e8f3c97bb88d933bf0fa5abdba7061a17c/fairml-0.1.1.5rc6.tar.gz#sha256=a87c83aeeddc40f64d8f0e7866ff8f901507b76023ec69f3bb11b58f32b151c5 (from https://pypi.org/simple/fairml/). Command errored out with exit status 1: python setup.py egg_info Check the logs for full command output.\u001b[0m\n",
            "  Downloading fairml-0.1.1.5rc5.tar.gz (9.8 kB)\n",
            "\u001b[33mWARNING: Discarding https://files.pythonhosted.org/packages/a7/e5/31bcd49c40121e12d5aa12707da59535a81e72ef0e7cb871fc188e7c1283/fairml-0.1.1.5rc5.tar.gz#sha256=23266ddf5bfb829762045e928c03aeb9c03feb916f3c23395300fa935568542f (from https://pypi.org/simple/fairml/). Command errored out with exit status 1: python setup.py egg_info Check the logs for full command output.\u001b[0m\n",
            "  Downloading fairml-0.1.1.5rc4.tar.gz (9.8 kB)\n",
            "\u001b[33mWARNING: Discarding https://files.pythonhosted.org/packages/f4/5b/e634409081d9c5908d3710244fea0552ea040c44fe26c09c532b02e444a5/fairml-0.1.1.5rc4.tar.gz#sha256=1b9c9cff6b49f318c5070fc09ae9c3431a9e7af375e9e4354aa11d5d13b72677 (from https://pypi.org/simple/fairml/). Command errored out with exit status 1: python setup.py egg_info Check the logs for full command output.\u001b[0m\n",
            "  Downloading fairml-0.1.1.5rc3.tar.gz (10 kB)\n",
            "\u001b[33mWARNING: Discarding https://files.pythonhosted.org/packages/c0/35/d03692cd15a35039919b01ef39fef3d91190f1ea113a28b60f7ed15f9136/fairml-0.1.1.5rc3.tar.gz#sha256=5cacf0218e99806e510d0def78d50a6fab9a6e40dd1fc0847f07e8ac77aac801 (from https://pypi.org/simple/fairml/). Command errored out with exit status 1: python setup.py egg_info Check the logs for full command output.\u001b[0m\n",
            "  Downloading fairml-0.1.1.5rc2.tar.gz (9.7 kB)\n",
            "\u001b[33mWARNING: Discarding https://files.pythonhosted.org/packages/c8/57/101aa038e4242441416f6e371ecc29ada483607f42da4981073f77fd3cdc/fairml-0.1.1.5rc2.tar.gz#sha256=8c00519deb3a57d8a73f3bc14f52e62df076c604e1940f5ddee32390ee2d70d3 (from https://pypi.org/simple/fairml/). Command errored out with exit status 1: python setup.py egg_info Check the logs for full command output.\u001b[0m\n",
            "  Downloading fairml-0.1.1.5rc1.tar.gz (8.8 kB)\n",
            "Requirement already satisfied: numpy in /usr/local/lib/python3.7/dist-packages (from fairml) (1.21.6)\n",
            "Requirement already satisfied: scipy in /usr/local/lib/python3.7/dist-packages (from fairml) (1.4.1)\n",
            "Requirement already satisfied: scikit-learn>=0.18 in /usr/local/lib/python3.7/dist-packages (from fairml) (1.0.2)\n",
            "Requirement already satisfied: matplotlib>=1.5.3 in /usr/local/lib/python3.7/dist-packages (from fairml) (3.2.2)\n",
            "Requirement already satisfied: seaborn>=0.7.1 in /usr/local/lib/python3.7/dist-packages (from fairml) (0.11.2)\n",
            "Requirement already satisfied: pandas>=0.19.0 in /usr/local/lib/python3.7/dist-packages (from fairml) (1.3.5)\n",
            "Requirement already satisfied: cycler>=0.10 in /usr/local/lib/python3.7/dist-packages (from matplotlib>=1.5.3->fairml) (0.11.0)\n",
            "Requirement already satisfied: python-dateutil>=2.1 in /usr/local/lib/python3.7/dist-packages (from matplotlib>=1.5.3->fairml) (2.8.2)\n",
            "Requirement already satisfied: pyparsing!=2.0.4,!=2.1.2,!=2.1.6,>=2.0.1 in /usr/local/lib/python3.7/dist-packages (from matplotlib>=1.5.3->fairml) (3.0.9)\n",
            "Requirement already satisfied: kiwisolver>=1.0.1 in /usr/local/lib/python3.7/dist-packages (from matplotlib>=1.5.3->fairml) (1.4.2)\n",
            "Requirement already satisfied: typing-extensions in /usr/local/lib/python3.7/dist-packages (from kiwisolver>=1.0.1->matplotlib>=1.5.3->fairml) (4.2.0)\n",
            "Requirement already satisfied: pytz>=2017.3 in /usr/local/lib/python3.7/dist-packages (from pandas>=0.19.0->fairml) (2022.1)\n",
            "Requirement already satisfied: six>=1.5 in /usr/local/lib/python3.7/dist-packages (from python-dateutil>=2.1->matplotlib>=1.5.3->fairml) (1.15.0)\n",
            "Requirement already satisfied: threadpoolctl>=2.0.0 in /usr/local/lib/python3.7/dist-packages (from scikit-learn>=0.18->fairml) (3.1.0)\n",
            "Requirement already satisfied: joblib>=0.11 in /usr/local/lib/python3.7/dist-packages (from scikit-learn>=0.18->fairml) (1.1.0)\n",
            "Building wheels for collected packages: fairml\n",
            "  Building wheel for fairml (setup.py) ... \u001b[?25l\u001b[?25hdone\n",
            "  Created wheel for fairml: filename=fairml-0.1.1.5rc1-py3-none-any.whl size=8804 sha256=0a94591912954ccd5b27a273c589f02b03dbbbf241c979f27fc8a8c9968a2b4c\n",
            "  Stored in directory: /root/.cache/pip/wheels/6f/44/b7/07613082ee66d893ca0e252d2a5793cd371fcf5107c477234d\n",
            "Successfully built fairml\n",
            "Installing collected packages: fairml\n",
            "Successfully installed fairml-0.1.1.5rc1\n",
            "Looking in indexes: https://pypi.org/simple, https://us-python.pkg.dev/colab-wheels/public/simple/\n",
            "Collecting aif360\n",
            "  Downloading aif360-0.4.0-py3-none-any.whl (175 kB)\n",
            "\u001b[K     |████████████████████████████████| 175 kB 4.5 MB/s \n",
            "\u001b[?25hRequirement already satisfied: numpy>=1.16 in /usr/local/lib/python3.7/dist-packages (from aif360) (1.21.6)\n",
            "Requirement already satisfied: scikit-learn>=0.22.1 in /usr/local/lib/python3.7/dist-packages (from aif360) (1.0.2)\n",
            "Requirement already satisfied: pandas>=0.24.0 in /usr/local/lib/python3.7/dist-packages (from aif360) (1.3.5)\n",
            "Requirement already satisfied: matplotlib in /usr/local/lib/python3.7/dist-packages (from aif360) (3.2.2)\n",
            "Requirement already satisfied: scipy<1.6.0,>=1.2.0 in /usr/local/lib/python3.7/dist-packages (from aif360) (1.4.1)\n",
            "Collecting tempeh\n",
            "  Downloading tempeh-0.1.12-py3-none-any.whl (39 kB)\n",
            "Requirement already satisfied: python-dateutil>=2.7.3 in /usr/local/lib/python3.7/dist-packages (from pandas>=0.24.0->aif360) (2.8.2)\n",
            "Requirement already satisfied: pytz>=2017.3 in /usr/local/lib/python3.7/dist-packages (from pandas>=0.24.0->aif360) (2022.1)\n",
            "Requirement already satisfied: six>=1.5 in /usr/local/lib/python3.7/dist-packages (from python-dateutil>=2.7.3->pandas>=0.24.0->aif360) (1.15.0)\n",
            "Requirement already satisfied: joblib>=0.11 in /usr/local/lib/python3.7/dist-packages (from scikit-learn>=0.22.1->aif360) (1.1.0)\n",
            "Requirement already satisfied: threadpoolctl>=2.0.0 in /usr/local/lib/python3.7/dist-packages (from scikit-learn>=0.22.1->aif360) (3.1.0)\n",
            "Requirement already satisfied: pyparsing!=2.0.4,!=2.1.2,!=2.1.6,>=2.0.1 in /usr/local/lib/python3.7/dist-packages (from matplotlib->aif360) (3.0.9)\n",
            "Requirement already satisfied: cycler>=0.10 in /usr/local/lib/python3.7/dist-packages (from matplotlib->aif360) (0.11.0)\n",
            "Requirement already satisfied: kiwisolver>=1.0.1 in /usr/local/lib/python3.7/dist-packages (from matplotlib->aif360) (1.4.2)\n",
            "Requirement already satisfied: typing-extensions in /usr/local/lib/python3.7/dist-packages (from kiwisolver>=1.0.1->matplotlib->aif360) (4.2.0)\n",
            "Requirement already satisfied: requests in /usr/local/lib/python3.7/dist-packages (from tempeh->aif360) (2.23.0)\n",
            "Collecting memory-profiler\n",
            "  Downloading memory_profiler-0.60.0.tar.gz (38 kB)\n",
            "Requirement already satisfied: pytest in /usr/local/lib/python3.7/dist-packages (from tempeh->aif360) (3.6.4)\n",
            "Collecting shap\n",
            "  Downloading shap-0.40.0-cp37-cp37m-manylinux2010_x86_64.whl (564 kB)\n",
            "\u001b[K     |████████████████████████████████| 564 kB 38.6 MB/s \n",
            "\u001b[?25hRequirement already satisfied: psutil in /usr/local/lib/python3.7/dist-packages (from memory-profiler->tempeh->aif360) (5.4.8)\n",
            "Requirement already satisfied: attrs>=17.4.0 in /usr/local/lib/python3.7/dist-packages (from pytest->tempeh->aif360) (21.4.0)\n",
            "Requirement already satisfied: setuptools in /usr/local/lib/python3.7/dist-packages (from pytest->tempeh->aif360) (57.4.0)\n",
            "Requirement already satisfied: more-itertools>=4.0.0 in /usr/local/lib/python3.7/dist-packages (from pytest->tempeh->aif360) (8.13.0)\n",
            "Requirement already satisfied: atomicwrites>=1.0 in /usr/local/lib/python3.7/dist-packages (from pytest->tempeh->aif360) (1.4.0)\n",
            "Requirement already satisfied: pluggy<0.8,>=0.5 in /usr/local/lib/python3.7/dist-packages (from pytest->tempeh->aif360) (0.7.1)\n",
            "Requirement already satisfied: py>=1.5.0 in /usr/local/lib/python3.7/dist-packages (from pytest->tempeh->aif360) (1.11.0)\n",
            "Requirement already satisfied: idna<3,>=2.5 in /usr/local/lib/python3.7/dist-packages (from requests->tempeh->aif360) (2.10)\n",
            "Requirement already satisfied: chardet<4,>=3.0.2 in /usr/local/lib/python3.7/dist-packages (from requests->tempeh->aif360) (3.0.4)\n",
            "Requirement already satisfied: certifi>=2017.4.17 in /usr/local/lib/python3.7/dist-packages (from requests->tempeh->aif360) (2022.5.18.1)\n",
            "Requirement already satisfied: urllib3!=1.25.0,!=1.25.1,<1.26,>=1.21.1 in /usr/local/lib/python3.7/dist-packages (from requests->tempeh->aif360) (1.24.3)\n",
            "Requirement already satisfied: numba in /usr/local/lib/python3.7/dist-packages (from shap->tempeh->aif360) (0.51.2)\n",
            "Requirement already satisfied: tqdm>4.25.0 in /usr/local/lib/python3.7/dist-packages (from shap->tempeh->aif360) (4.64.0)\n",
            "Collecting slicer==0.0.7\n",
            "  Downloading slicer-0.0.7-py3-none-any.whl (14 kB)\n",
            "Requirement already satisfied: packaging>20.9 in /usr/local/lib/python3.7/dist-packages (from shap->tempeh->aif360) (21.3)\n",
            "Requirement already satisfied: cloudpickle in /usr/local/lib/python3.7/dist-packages (from shap->tempeh->aif360) (1.3.0)\n",
            "Requirement already satisfied: llvmlite<0.35,>=0.34.0.dev0 in /usr/local/lib/python3.7/dist-packages (from numba->shap->tempeh->aif360) (0.34.0)\n",
            "Building wheels for collected packages: memory-profiler\n",
            "  Building wheel for memory-profiler (setup.py) ... \u001b[?25l\u001b[?25hdone\n",
            "  Created wheel for memory-profiler: filename=memory_profiler-0.60.0-py3-none-any.whl size=31284 sha256=3bf57e013a8bd8051f04e4bfdc473100cdd942fb838223265f3019fe01018f8b\n",
            "  Stored in directory: /root/.cache/pip/wheels/67/2b/fb/326e30d638c538e69a5eb0aa47f4223d979f502bbdb403950f\n",
            "Successfully built memory-profiler\n",
            "Installing collected packages: slicer, shap, memory-profiler, tempeh, aif360\n",
            "Successfully installed aif360-0.4.0 memory-profiler-0.60.0 shap-0.40.0 slicer-0.0.7 tempeh-0.1.12\n"
          ]
        }
      ]
    },
    {
      "cell_type": "markdown",
      "metadata": {
        "id": "9wWNnWsNm9g4"
      },
      "source": [
        "### Data load and wrangling"
      ]
    },
    {
      "cell_type": "code",
      "execution_count": null,
      "metadata": {
        "colab": {
          "base_uri": "https://localhost:8080/"
        },
        "id": "GfGiVocLTLJH",
        "outputId": "7bedd427-711d-4174-d768-714b667eba57"
      },
      "outputs": [
        {
          "output_type": "stream",
          "name": "stdout",
          "text": [
            "Mounted at /content/drive\n"
          ]
        }
      ],
      "source": [
        "# connect to drive\n",
        "from google.colab import drive\n",
        "drive.mount('/content/drive')"
      ]
    },
    {
      "cell_type": "code",
      "execution_count": null,
      "metadata": {
        "id": "VSOXk2MLWi6Y"
      },
      "outputs": [],
      "source": [
        "# open csv MMH dataset\n",
        "df_MMH = pd.read_csv('/content/drive/MyDrive/00 - thesis/Code/Datasets/Fatigue-modeling-master/MMH_15p.csv', sep=',')\n",
        "df_WLK = pd.read_csv('/content/drive/MyDrive/00 - thesis/Code/Datasets/Fatigue-modeling-master/WLK_13p.csv', sep=',')"
      ]
    },
    {
      "cell_type": "code",
      "source": [
        "# make column names the same for both dfs\n",
        "df_MMH['fatiguestate'] = df_MMH['fatiguestate1']\n",
        "df_WLK['fatiguestate'] = df_WLK['Fatigue state']\n",
        "df_WLK['subject'] = df_WLK['subject'].apply(lambda x: x+'00')\n",
        "\n",
        "df_MMH.rename(columns = {'age':'Age', 'HRR-Mean': 'HRR.Mean', 'HRR-CV':'HRR.CV'}, inplace = True)\n",
        "df_MMH.columns = df_MMH.columns.str.replace('coefficient.of.variation', 'CV')\n",
        "\n",
        "df_MMH = df_MMH.drop(['fatiguestate1'], 1)\n",
        "df_WLK = df_WLK.drop(['Fatigue state'], 1)"
      ],
      "metadata": {
        "colab": {
          "base_uri": "https://localhost:8080/"
        },
        "id": "ZhItIWDC1oY0",
        "outputId": "568ed390-eec6-4f84-9126-92da52475b7e"
      },
      "execution_count": null,
      "outputs": [
        {
          "output_type": "stream",
          "name": "stderr",
          "text": [
            "/usr/local/lib/python3.7/dist-packages/ipykernel_launcher.py:7: FutureWarning: The default value of regex will change from True to False in a future version.\n",
            "  import sys\n",
            "/usr/local/lib/python3.7/dist-packages/ipykernel_launcher.py:9: FutureWarning: In a future version of pandas all arguments of DataFrame.drop except for the argument 'labels' will be keyword-only\n",
            "  if __name__ == '__main__':\n",
            "/usr/local/lib/python3.7/dist-packages/ipykernel_launcher.py:10: FutureWarning: In a future version of pandas all arguments of DataFrame.drop except for the argument 'labels' will be keyword-only\n",
            "  # Remove the CWD from sys.path while we load stuff.\n"
          ]
        }
      ]
    },
    {
      "cell_type": "code",
      "source": [
        "# merge datasets\n",
        "df = pd.concat([df_MMH, df_WLK])"
      ],
      "metadata": {
        "id": "RPlZG32S02j5"
      },
      "execution_count": null,
      "outputs": []
    },
    {
      "cell_type": "code",
      "source": [
        "df = df.dropna(axis='columns')"
      ],
      "metadata": {
        "id": "RAaDZSL12317"
      },
      "execution_count": null,
      "outputs": []
    },
    {
      "cell_type": "code",
      "execution_count": null,
      "metadata": {
        "colab": {
          "base_uri": "https://localhost:8080/"
        },
        "id": "fRfQRkZIn_ZG",
        "outputId": "6c4cd12f-7783-4d47-c6af-4f6aadfb2c98"
      },
      "outputs": [
        {
          "output_type": "stream",
          "name": "stderr",
          "text": [
            "/usr/local/lib/python3.7/dist-packages/ipykernel_launcher.py:3: FutureWarning: In a future version of pandas all arguments of DataFrame.drop except for the argument 'labels' will be keyword-only\n",
            "  This is separate from the ipykernel package so we can avoid doing imports until\n"
          ]
        }
      ],
      "source": [
        "# delete:\n",
        "## fatiguestate (already in fatiguestate1); Unnamed (no critical information); gender (only available in one dataset)\n",
        "df = df.drop(['Unnamed: 0'],1)"
      ]
    },
    {
      "cell_type": "code",
      "source": [
        "df.task.unique()"
      ],
      "metadata": {
        "colab": {
          "base_uri": "https://localhost:8080/"
        },
        "id": "U4KB3YfR1gBo",
        "outputId": "348eca32-094d-42c9-a674-8ab4ce8b6059"
      },
      "execution_count": null,
      "outputs": [
        {
          "output_type": "execute_result",
          "data": {
            "text/plain": [
              "array(['MMH', 'WLK'], dtype=object)"
            ]
          },
          "metadata": {},
          "execution_count": 11
        }
      ]
    },
    {
      "cell_type": "code",
      "execution_count": null,
      "metadata": {
        "id": "wiV9scuJmelF"
      },
      "outputs": [],
      "source": [
        "# convert subject & task to numerical values \n",
        "df['subject'] = df['subject'].str.replace('P','')\n",
        "df['task'] = df['task'].str.replace('MMH', '1')\n",
        "df['task'] = df['task'].str.replace('WLK', '2')"
      ]
    },
    {
      "cell_type": "code",
      "execution_count": null,
      "metadata": {
        "id": "R3UnJP0yvQ78",
        "colab": {
          "base_uri": "https://localhost:8080/"
        },
        "outputId": "9776fe35-b5f4-4170-b28d-a6ad09da2f7e"
      },
      "outputs": [
        {
          "output_type": "execute_result",
          "data": {
            "text/plain": [
              "task\n",
              "1    AxesSubplot(0.125,0.125;0.775x0.755)\n",
              "2    AxesSubplot(0.125,0.125;0.775x0.755)\n",
              "Name: Age, dtype: object"
            ]
          },
          "metadata": {},
          "execution_count": 13
        },
        {
          "output_type": "display_data",
          "data": {
            "text/plain": [
              "<Figure size 432x288 with 1 Axes>"
            ],
            "image/png": "[encoded data removed]"
          },
          "metadata": {
            "needs_background": "light"
          }
        }
      ],
      "source": [
        "# check gender & age representation \n",
        "df.groupby('task').Age.plot(kind='kde')"
      ]
    },
    {
      "cell_type": "code",
      "execution_count": null,
      "metadata": {
        "id": "O2wKJTlanhAH"
      },
      "outputs": [],
      "source": [
        "# bin age into groups to noramlize\n",
        "def custom_round(x, base):\n",
        "    return base * round(float(x)/10)\n",
        "\n",
        "df['Age'] = df.Age.apply(lambda x: custom_round(x, 10))"
      ]
    },
    {
      "cell_type": "code",
      "execution_count": null,
      "metadata": {
        "colab": {
          "base_uri": "https://localhost:8080/"
        },
        "id": "RPHQDIBHeTfu",
        "outputId": "4966b53d-7fdc-4b2f-8d57-9323704cde45"
      },
      "outputs": [
        {
          "output_type": "execute_result",
          "data": {
            "text/plain": [
              "'https://stackoverflow.com/questions/26414913/normalize-columns-of-pandas-data-frame'"
            ],
            "application/vnd.google.colaboratory.intrinsic+json": {
              "type": "string"
            }
          },
          "metadata": {},
          "execution_count": 15
        }
      ],
      "source": [
        "# for this dataset features are NOT normalised, as preprocessing of data has already peen carried out by the owners of the dataset. How this is done is described in detail in their code & paper cited above. \n",
        "# in case of wanting to normalise, I would suggest normalising only mean values - variation has already been pre-calculated, and so is the HHR values (% of total possible HR)\n",
        "# you can use (pandas or sklearn library 'preprocessing.MinMaxScaler'): \n",
        "# normalized_df=(df-df.min())/(df.max()-df.min())\n",
        "# normalized_df=(df-df.mean())/df.std()\n",
        "\n",
        "\n",
        "'''https://stackoverflow.com/questions/26414913/normalize-columns-of-pandas-data-frame'''"
      ]
    },
    {
      "cell_type": "markdown",
      "metadata": {
        "id": "oCarilhlnGei"
      },
      "source": [
        "### Exploratory analysis "
      ]
    },
    {
      "cell_type": "code",
      "source": [
        "# there is 18 entries per subject\n",
        "\n",
        "# for i in categorical_values:\n",
        "#  print (f'counts for {i}: {chr(10)} {df[i].value_counts()/18} {chr(10)} frequency for {i}: {chr(10)} {df[i].value_counts(normalize=True)}')"
      ],
      "metadata": {
        "id": "eS2WwJojrZKZ"
      },
      "execution_count": null,
      "outputs": []
    },
    {
      "cell_type": "code",
      "source": [
        "df[\"Age\"].value_counts().plot(kind='bar', rot=45)"
      ],
      "metadata": {
        "colab": {
          "base_uri": "https://localhost:8080/",
          "height": 289
        },
        "id": "3vP4xF_ercaa",
        "outputId": "1eb72ca9-0e26-4a24-fa26-881bc3805a5c"
      },
      "execution_count": null,
      "outputs": [
        {
          "output_type": "execute_result",
          "data": {
            "text/plain": [
              "<matplotlib.axes._subplots.AxesSubplot at 0x7fb1a09de750>"
            ]
          },
          "metadata": {},
          "execution_count": 17
        },
        {
          "output_type": "display_data",
          "data": {
            "text/plain": [
              "<Figure size 432x288 with 1 Axes>"
            ],
            "image/png": "[encoded data removed]"
          },
          "metadata": {
            "needs_background": "light"
          }
        }
      ]
    },
    {
      "cell_type": "code",
      "execution_count": null,
      "metadata": {
        "id": "XyhGUjGcnFY5",
        "colab": {
          "base_uri": "https://localhost:8080/"
        },
        "outputId": "9054c73d-7ccd-4e1d-a58e-ab888eb70bbe"
      },
      "outputs": [
        {
          "output_type": "stream",
          "name": "stderr",
          "text": [
            "/usr/local/lib/python3.7/dist-packages/ipykernel_launcher.py:2: FutureWarning: In a future version of pandas all arguments of DataFrame.drop except for the argument 'labels' will be keyword-only\n",
            "  \n"
          ]
        }
      ],
      "source": [
        "# drop subject as it is not relevant for analysis\n",
        "df_1 = df.drop(['subject'],1)"
      ]
    },
    {
      "cell_type": "code",
      "execution_count": null,
      "metadata": {
        "id": "GbKhxFNDoeQG",
        "colab": {
          "base_uri": "https://localhost:8080/",
          "height": 606
        },
        "outputId": "ceec8778-5fd9-4ddb-9f3d-8c885404bef1"
      },
      "outputs": [
        {
          "output_type": "stream",
          "name": "stderr",
          "text": [
            "/usr/local/lib/python3.7/dist-packages/seaborn/_decorators.py:43: FutureWarning: Pass the following variable as a keyword arg: x. From version 0.12, the only valid positional argument will be `data`, and passing other arguments without an explicit keyword will result in an error or misinterpretation.\n",
            "  FutureWarning\n",
            "/usr/local/lib/python3.7/dist-packages/seaborn/_decorators.py:43: FutureWarning: Pass the following variable as a keyword arg: x. From version 0.12, the only valid positional argument will be `data`, and passing other arguments without an explicit keyword will result in an error or misinterpretation.\n",
            "  FutureWarning\n",
            "/usr/local/lib/python3.7/dist-packages/seaborn/_decorators.py:43: FutureWarning: Pass the following variable as a keyword arg: x. From version 0.12, the only valid positional argument will be `data`, and passing other arguments without an explicit keyword will result in an error or misinterpretation.\n",
            "  FutureWarning\n"
          ]
        },
        {
          "output_type": "display_data",
          "data": {
            "text/plain": [
              "<Figure size 792x576 with 3 Axes>"
            ],
            "image/png": "[encoded data removed]"
          },
          "metadata": {
            "needs_background": "light"
          }
        }
      ],
      "source": [
        "# check sample distributions\n",
        "fig, ax = plt.subplots(1,3)\n",
        "fig.set_size_inches(11, 8)\n",
        "sns.countplot(df_1['Age'], ax=ax[0], hue=df_1.task)\n",
        "sns.countplot(df_1['task'], ax=ax[1])\n",
        "sns.countplot(df_1['fatiguestate'], ax=ax[2], hue=df_1.task)\n",
        "fig.show()"
      ]
    },
    {
      "cell_type": "markdown",
      "source": [
        "Task and fatigue state is well distributes in sample; age is not (1 participant has about 18 entries, there are only 2 participants in their 30s)"
      ],
      "metadata": {
        "id": "gSctVd9LPRUi"
      }
    },
    {
      "cell_type": "markdown",
      "metadata": {
        "id": "ntmFzgIE5VDP"
      },
      "source": [
        "Pairplots analysis not appropiate with the high number of attributes therefore deleted.\n"
      ]
    },
    {
      "cell_type": "code",
      "source": [
        "df.columns\n",
        "cols = ['subject', 'task', 'Age', 'fatiguestate',  \n",
        "        'HRR.Mean', 'HRR.CV',\n",
        "        'Wrist.jerk.Mean', \n",
        "        'Ankle.jerk.Mean', 'Ankle.ACC.Mean', 'Ankle.xposture.Mean',\n",
        "        'number of steps', 'average step time', 'average step distance',\n",
        "        'time bent', \n",
        "        'mean hip osicllation', 'mean foot osicllation', \n",
        "        'leg rotational velocity sag plane', 'leg rotational position sag plane', \n",
        "        'Wrist.jerk.CV', 'Wrist.ACC.CV',\n",
        "        'Hip.jerk.CV', 'Hip.ACC.CV', 'Hip.yposture.CV']\n",
        "\n",
        "cols_rfc = ['subject', 'task', 'Age', 'fatiguestate', \n",
        "            'HRR.Mean', 'HRR.CV', \n",
        "            'Wrist.jerk.Mean', 'Ankle.xposture.Mean',\n",
        "            'average step time', \n",
        "            'leg rotational velocity sag plane',\n",
        "            'leg rotational position sag plane',\n",
        "            'Wrist.jerk.CV', 'Wrist.ACC.CV', \n",
        "            'Hip.ACC.CV']\n",
        "\n",
        "# for cross validation, we get better refults if we don't implement the rfc attributes only \n",
        "\n",
        "df = df[cols]"
      ],
      "metadata": {
        "id": "u9nzAW9-pfLk"
      },
      "execution_count": null,
      "outputs": []
    },
    {
      "cell_type": "code",
      "source": [
        "# correlation analysis \n",
        "df_corr = pd.concat([df.drop('fatiguestate', axis=1), pd.get_dummies(df['fatiguestate'])], axis=1)\n",
        "corr = df_corr.corr()\n",
        "plt.figure(figsize=(16,10))\n",
        "sns.heatmap(corr,  cmap=\"YlGnBu\")"
      ],
      "metadata": {
        "colab": {
          "base_uri": "https://localhost:8080/",
          "height": 498
        },
        "id": "qVCBJVkZWx33",
        "outputId": "1ec5e924-bf18-4608-e59e-b2b3462281d6"
      },
      "execution_count": null,
      "outputs": [
        {
          "output_type": "execute_result",
          "data": {
            "text/plain": [
              "<matplotlib.axes._subplots.AxesSubplot at 0x7fb1a09dc590>"
            ]
          },
          "metadata": {},
          "execution_count": 21
        },
        {
          "output_type": "display_data",
          "data": {
            "text/plain": [
              "<Figure size 1152x720 with 2 Axes>"
            ],
            "image/png": "[encoded data removed]"
          },
          "metadata": {
            "needs_background": "light"
          }
        }
      ]
    },
    {
      "cell_type": "code",
      "source": [
        "# all features with a corr. under |0.05| are removed\n",
        "feats = df.columns[1:]\n",
        "\n",
        "df_corr = pd.concat([df[feats].drop('fatiguestate', axis=1), pd.get_dummies(df[feats]['fatiguestate'])], axis=1)\n",
        "corr = df_corr.corr()\n",
        "plt.figure(figsize=(10,8))\n",
        "sns.heatmap(corr[[0,1]], annot=True, cmap=\"YlGnBu\")"
      ],
      "metadata": {
        "colab": {
          "base_uri": "https://localhost:8080/",
          "height": 455
        },
        "id": "CgPkH8owXTrU",
        "outputId": "1ef70fa2-7586-4012-e803-84736e90d83c"
      },
      "execution_count": null,
      "outputs": [
        {
          "output_type": "execute_result",
          "data": {
            "text/plain": [
              "<matplotlib.axes._subplots.AxesSubplot at 0x7fb19da51210>"
            ]
          },
          "metadata": {},
          "execution_count": 22
        },
        {
          "output_type": "display_data",
          "data": {
            "text/plain": [
              "<Figure size 720x576 with 2 Axes>"
            ],
            "image/png": "[encoded data removed]"
          },
          "metadata": {
            "needs_background": "light"
          }
        }
      ]
    },
    {
      "cell_type": "markdown",
      "metadata": {
        "id": "Qm0kRPE6IQ3U"
      },
      "source": [
        "## Stress Model\n",
        "\n",
        "---\n"
      ]
    },
    {
      "cell_type": "markdown",
      "metadata": {
        "id": "ES-X24ZLpD5I"
      },
      "source": [
        "Using the work by Maman et al. (2020) as a base, we apply a fairness unaware model, namely **SVM (circular kernel), RF and a a generic lgm model (logistic regression).** \n",
        "\n",
        "\n",
        "> Note - decision trees are non-parametric supervised learning models for classigfication \n",
        "\n",
        "\n",
        "Lasso/ best subset selection methods were applied for feature selection, following the combinations with the highest accuracy in the report by Maman et al. (2020).\n",
        "Cross validation scores were taken to ensure the performance of the generic model for all participants.   \n",
        "\n",
        "**Evaluations:**\n",
        "\n",
        "With the goal of obtianing a fair model in mind, the models are evaluated on:\n",
        "- their overall scores (confusion matrix, recall & precision)\n",
        "- their performance by groups, false negatives rates & false negative rate (age & task)\n",
        "\n",
        "<br> \n",
        "\n",
        "\n",
        "---\n",
        "\n",
        "\n",
        "<br> \n",
        " \n",
        "\n",
        "\n",
        "Sources: https://www.sciencedirect.com/science/article/pii/S0957417420302293 & https://zahrame.github.io/FatigueManagement.github.io/ (code in R) \n"
      ]
    },
    {
      "cell_type": "markdown",
      "source": [
        "### Model set-up: libraries & helper functions"
      ],
      "metadata": {
        "id": "Tg5z9IXlxOiA"
      }
    },
    {
      "cell_type": "code",
      "execution_count": null,
      "metadata": {
        "id": "IOt0wv0I2fxk"
      },
      "outputs": [],
      "source": [
        "# libraries for model selection \n",
        "from sklearn.model_selection import train_test_split\n",
        "\n",
        "from sklearn.model_selection import GridSearchCV\n",
        "from sklearn.model_selection import cross_val_score\n",
        "from sklearn.model_selection import GroupKFold\n",
        "from sklearn.model_selection import StratifiedShuffleSplit\n",
        "\n",
        "# models\n",
        "from sklearn.ensemble import RandomForestClassifier\n",
        "from sklearn.linear_model import LogisticRegression\n",
        "from sklearn.svm import SVC\n",
        "\n",
        "\n",
        "# libraries for feature selection\n",
        "from sklearn.feature_selection import SelectFromModel\n",
        "from sklearn.pipeline import Pipeline\n",
        "from sklearn.linear_model import Lasso\n",
        "from sklearn.preprocessing import StandardScaler\n",
        "from sklearn.utils import Bunch\n",
        "\n",
        "# libraries for metrics of models\n",
        "import sklearn.metrics as skm\n",
        "from sklearn.metrics import (\n",
        "    accuracy_score,\n",
        "    roc_curve, \n",
        "    auc,\n",
        "    plot_confusion_matrix,\n",
        "    classification_report,\n",
        "    balanced_accuracy_score,  \n",
        "    PrecisionRecallDisplay,\n",
        "    balanced_accuracy_score,\n",
        "    roc_auc_score,\n",
        "    recall_score,\n",
        "    confusion_matrix, ConfusionMatrixDisplay,\n",
        "    plot_roc_curve)\n",
        "\n",
        "from sklearn import set_config\n",
        "\n",
        "set_config(display=\"diagram\")"
      ]
    },
    {
      "cell_type": "markdown",
      "source": [
        "### Model set-up: test/train split "
      ],
      "metadata": {
        "id": "Ir5-ry5VxVdh"
      }
    },
    {
      "cell_type": "code",
      "execution_count": null,
      "metadata": {
        "id": "kKRAgeAzpmMp"
      },
      "outputs": [],
      "source": [
        "# set test & train data & defining age as sensitive attribute\n",
        "X = df.drop(columns=['task', 'Age', 'fatiguestate'])\n",
        "y = df['fatiguestate']\n",
        "\n",
        "A = df[['Age', 'task']]\n",
        "task_str = A['task'].map({ 1:\"MMK\", 2:\"WLK\"})"
      ]
    },
    {
      "cell_type": "code",
      "execution_count": null,
      "metadata": {
        "id": "ITQ86O3LeL7d"
      },
      "outputs": [],
      "source": [
        "# for fairnes measures (inlc. A for group classification, drop age to make it unaware to other senstive attributes (fairnes through unawarenes)) - AGE \n",
        "X_train, X_test, y_train, y_test, A_train, A_test, task_str_train, task_str_test = train_test_split(\n",
        "    X, \n",
        "    y, \n",
        "    A, \n",
        "    task_str,\n",
        "    test_size = 0.4, # increse number for more fairness \n",
        "    random_state=42)\n"
      ]
    },
    {
      "cell_type": "markdown",
      "metadata": {
        "id": "ll-yVqLPprKr"
      },
      "source": [
        "### Model set-up: defining classifiers"
      ]
    },
    {
      "cell_type": "code",
      "execution_count": null,
      "metadata": {
        "id": "zyJx0HniBRDJ"
      },
      "outputs": [],
      "source": [
        "from numpy import random \n",
        "# set up model:\n",
        "classifiers = [RandomForestClassifier(n_estimators = 100, random_state = random.seed(123)),\n",
        "               LogisticRegression(random_state = 42),\n",
        "               SVC(kernel='rbf', C = 1000, gamma = 0.01, probability = True)]"
      ]
    },
    {
      "cell_type": "markdown",
      "source": [
        "#### RF feature selection - best subset"
      ],
      "metadata": {
        "id": "M5xAFGzqQT5x"
      }
    },
    {
      "cell_type": "code",
      "source": [
        "# feature selection Random Forest\n",
        "## 1. Best subset selection\n",
        "sel = SelectFromModel(RandomForestClassifier(n_estimators = 100))\n",
        "sel.fit(X_train, y_train)\n",
        "\n",
        "sel.get_support()\n",
        "\n",
        "selected_feat= X_train.columns[(sel.get_support())]\n",
        "print(len(selected_feat)) # --> provides 10 - in line with previous paper\n",
        "print(selected_feat)\n"
      ],
      "metadata": {
        "colab": {
          "base_uri": "https://localhost:8080/"
        },
        "id": "ATVVxhn3P8yn",
        "outputId": "2e1d43ad-feea-4099-b0e2-d10d3a812a5c"
      },
      "execution_count": null,
      "outputs": [
        {
          "output_type": "stream",
          "name": "stdout",
          "text": [
            "8\n",
            "Index(['HRR.Mean', 'HRR.CV', 'Wrist.jerk.Mean', 'average step time',\n",
            "       'leg rotational velocity sag plane', 'Wrist.jerk.CV', 'Wrist.ACC.CV',\n",
            "       'Hip.ACC.CV'],\n",
            "      dtype='object')\n"
          ]
        }
      ]
    },
    {
      "cell_type": "code",
      "source": [
        "rfc = RandomForestClassifier(n_estimators=100, random_state=42)\n",
        "\n",
        "rfc.fit(X_train, y_train)\n",
        "\n",
        "features = list(X)\n",
        "\n",
        "pd.Series(rfc.feature_importances_, index=features).plot(kind='barh')"
      ],
      "metadata": {
        "colab": {
          "base_uri": "https://localhost:8080/"
        },
        "id": "R7Q910r1QM-j",
        "outputId": "b81f82a2-4fca-44bc-845d-c95dfa3d20bb"
      },
      "execution_count": null,
      "outputs": [
        {
          "output_type": "execute_result",
          "data": {
            "text/plain": [
              "<matplotlib.axes._subplots.AxesSubplot at 0x7fb19a83ef90>"
            ]
          },
          "metadata": {},
          "execution_count": 28
        },
        {
          "output_type": "display_data",
          "data": {
            "text/plain": [
              "<Figure size 432x288 with 1 Axes>"
            ],
            "image/png": "[encoded data removed]"
          },
          "metadata": {
            "needs_background": "light"
          }
        }
      ]
    },
    {
      "cell_type": "markdown",
      "source": [
        "#### log reg feature selection - LASSO"
      ],
      "metadata": {
        "id": "evypBHEzQXOf"
      }
    },
    {
      "cell_type": "code",
      "source": [
        "# feature selection using LASSO - based on https://towardsdatascience.com/feature-selection-in-machine-learning-using-lasso-regression-7809c7c2771a#:~:text=How%20can%20we%20use%20it,its%20coefficient%20equal%20to%200.\n",
        "pipeline = Pipeline([('scaler',StandardScaler()),\n",
        "                     ('model',Lasso())\n",
        "                     ])\n",
        "\n",
        "search = GridSearchCV(pipeline,\n",
        "                      {'model__alpha':np.arange(0.1,10,0.1)},\n",
        "                      cv = 5, scoring=\"neg_mean_squared_error\",verbose=3\n",
        "                      )\n",
        "\n",
        "# search.fit(X_train,y_train)\n",
        "# search.best_params_\n",
        "# coefficients = search.best_estimator_.named_steps['model'].coef_\n",
        "\n",
        "# 'model__alpha': 0.2"
      ],
      "metadata": {
        "id": "30Lk2PQIQhg3"
      },
      "execution_count": null,
      "outputs": []
    },
    {
      "cell_type": "code",
      "source": [
        "# importance = np.abs(coefficients)\n",
        "# np.array(features)[importance > 0]"
      ],
      "metadata": {
        "id": "wD9NdLxZTR1x"
      },
      "execution_count": null,
      "outputs": []
    },
    {
      "cell_type": "markdown",
      "source": [
        "#### SVM param. selection"
      ],
      "metadata": {
        "id": "hDRBvHmZQcc6"
      }
    },
    {
      "cell_type": "code",
      "source": [
        "'''C_range = np.logspace(-2, 10, 13)\n",
        "gamma_range = np.logspace(-9, 3, 13)\n",
        "param_grid = dict(gamma=gamma_range, C=C_range)\n",
        "cv = StratifiedShuffleSplit(n_splits=5, test_size=0.2, random_state=42)\n",
        "grid = GridSearchCV(SVC(), param_grid=param_grid, cv=cv)\n",
        "grid.fit(X, y)\n",
        "\n",
        "print(\"The best parameters are %s with a score of %0.2f\" \n",
        "      % (grid.best_params_, grid.best_score_))\n",
        "'''\n",
        "\n",
        "# The best parameters are {'C': 1000.0, 'gamma': 1e-05} with a score of 0.86"
      ],
      "metadata": {
        "id": "ClaD2MdUQiCa",
        "colab": {
          "base_uri": "https://localhost:8080/"
        },
        "outputId": "d14676b7-fb28-4de5-b622-175a4e34f526"
      },
      "execution_count": null,
      "outputs": [
        {
          "output_type": "execute_result",
          "data": {
            "text/plain": [
              "'C_range = np.logspace(-2, 10, 13)\\ngamma_range = np.logspace(-9, 3, 13)\\nparam_grid = dict(gamma=gamma_range, C=C_range)\\ncv = StratifiedShuffleSplit(n_splits=5, test_size=0.2, random_state=42)\\ngrid = GridSearchCV(SVC(), param_grid=param_grid, cv=cv)\\ngrid.fit(X, y)\\n\\nprint(\"The best parameters are %s with a score of %0.2f\" \\n      % (grid.best_params_, grid.best_score_))\\n'"
            ],
            "application/vnd.google.colaboratory.intrinsic+json": {
              "type": "string"
            }
          },
          "metadata": {},
          "execution_count": 31
        }
      ]
    },
    {
      "cell_type": "markdown",
      "source": [
        "## Model evaluation\n",
        "-----"
      ],
      "metadata": {
        "id": "F7Uh8cAyQcFE"
      }
    },
    {
      "cell_type": "markdown",
      "source": [
        "### Model evaluation - confusion matrix test & train"
      ],
      "metadata": {
        "id": "e7c6sUh3xFeQ"
      }
    },
    {
      "cell_type": "code",
      "source": [
        "# test set\n",
        "fig, axes = plt.subplots(nrows=2, ncols=2, figsize=(8, 8))\n",
        "\n",
        "for cls, ax in zip(classifiers, axes.flatten()):\n",
        "    cls.fit(X_train, y_train)\n",
        "    plot_confusion_matrix(cls, \n",
        "                          X_test, \n",
        "                          y_test, \n",
        "                          ax=ax, \n",
        "                          cmap='YlGnBu')\n",
        "    ax.title.set_text(type(cls).__name__)\n",
        "plt.tight_layout()\n",
        "plt.show()"
      ],
      "metadata": {
        "id": "LVlaODtC6MW_",
        "colab": {
          "base_uri": "https://localhost:8080/"
        },
        "outputId": "bd0edf87-5d06-4ece-f0cb-644f06e622d6"
      },
      "execution_count": null,
      "outputs": [
        {
          "output_type": "stream",
          "name": "stderr",
          "text": [
            "/usr/local/lib/python3.7/dist-packages/sklearn/utils/deprecation.py:87: FutureWarning: Function plot_confusion_matrix is deprecated; Function `plot_confusion_matrix` is deprecated in 1.0 and will be removed in 1.2. Use one of the class methods: ConfusionMatrixDisplay.from_predictions or ConfusionMatrixDisplay.from_estimator.\n",
            "  warnings.warn(msg, category=FutureWarning)\n",
            "/usr/local/lib/python3.7/dist-packages/sklearn/linear_model/_logistic.py:818: ConvergenceWarning: lbfgs failed to converge (status=1):\n",
            "STOP: TOTAL NO. of ITERATIONS REACHED LIMIT.\n",
            "\n",
            "Increase the number of iterations (max_iter) or scale the data as shown in:\n",
            "    https://scikit-learn.org/stable/modules/preprocessing.html\n",
            "Please also refer to the documentation for alternative solver options:\n",
            "    https://scikit-learn.org/stable/modules/linear_model.html#logistic-regression\n",
            "  extra_warning_msg=_LOGISTIC_SOLVER_CONVERGENCE_MSG,\n",
            "/usr/local/lib/python3.7/dist-packages/sklearn/utils/deprecation.py:87: FutureWarning: Function plot_confusion_matrix is deprecated; Function `plot_confusion_matrix` is deprecated in 1.0 and will be removed in 1.2. Use one of the class methods: ConfusionMatrixDisplay.from_predictions or ConfusionMatrixDisplay.from_estimator.\n",
            "  warnings.warn(msg, category=FutureWarning)\n",
            "/usr/local/lib/python3.7/dist-packages/sklearn/utils/deprecation.py:87: FutureWarning: Function plot_confusion_matrix is deprecated; Function `plot_confusion_matrix` is deprecated in 1.0 and will be removed in 1.2. Use one of the class methods: ConfusionMatrixDisplay.from_predictions or ConfusionMatrixDisplay.from_estimator.\n",
            "  warnings.warn(msg, category=FutureWarning)\n"
          ]
        },
        {
          "output_type": "display_data",
          "data": {
            "text/plain": [
              "<Figure size 576x576 with 7 Axes>"
            ],
            "image/png": "[encoded data removed]"
          },
          "metadata": {
            "needs_background": "light"
          }
        }
      ]
    },
    {
      "cell_type": "code",
      "source": [
        "# double check with train set\n",
        "fig, axes = plt.subplots(nrows=2, ncols=2, figsize=(8, 8))\n",
        "\n",
        "for cls, ax in zip(classifiers, axes.flatten()):\n",
        "    cls.fit(X_train, y_train)\n",
        "    plot_confusion_matrix(cls, \n",
        "                          X_train, \n",
        "                          y_train, \n",
        "                          ax=ax, \n",
        "                          cmap='YlGnBu')\n",
        "    ax.title.set_text(type(cls).__name__)\n",
        "plt.tight_layout()\n",
        "plt.show()"
      ],
      "metadata": {
        "id": "AGwwhVgJ6tgH",
        "colab": {
          "base_uri": "https://localhost:8080/"
        },
        "outputId": "1080adf8-4968-4c0d-9693-c0832f8479d7"
      },
      "execution_count": null,
      "outputs": [
        {
          "output_type": "stream",
          "name": "stderr",
          "text": [
            "/usr/local/lib/python3.7/dist-packages/sklearn/utils/deprecation.py:87: FutureWarning: Function plot_confusion_matrix is deprecated; Function `plot_confusion_matrix` is deprecated in 1.0 and will be removed in 1.2. Use one of the class methods: ConfusionMatrixDisplay.from_predictions or ConfusionMatrixDisplay.from_estimator.\n",
            "  warnings.warn(msg, category=FutureWarning)\n",
            "/usr/local/lib/python3.7/dist-packages/sklearn/linear_model/_logistic.py:818: ConvergenceWarning: lbfgs failed to converge (status=1):\n",
            "STOP: TOTAL NO. of ITERATIONS REACHED LIMIT.\n",
            "\n",
            "Increase the number of iterations (max_iter) or scale the data as shown in:\n",
            "    https://scikit-learn.org/stable/modules/preprocessing.html\n",
            "Please also refer to the documentation for alternative solver options:\n",
            "    https://scikit-learn.org/stable/modules/linear_model.html#logistic-regression\n",
            "  extra_warning_msg=_LOGISTIC_SOLVER_CONVERGENCE_MSG,\n",
            "/usr/local/lib/python3.7/dist-packages/sklearn/utils/deprecation.py:87: FutureWarning: Function plot_confusion_matrix is deprecated; Function `plot_confusion_matrix` is deprecated in 1.0 and will be removed in 1.2. Use one of the class methods: ConfusionMatrixDisplay.from_predictions or ConfusionMatrixDisplay.from_estimator.\n",
            "  warnings.warn(msg, category=FutureWarning)\n",
            "/usr/local/lib/python3.7/dist-packages/sklearn/utils/deprecation.py:87: FutureWarning: Function plot_confusion_matrix is deprecated; Function `plot_confusion_matrix` is deprecated in 1.0 and will be removed in 1.2. Use one of the class methods: ConfusionMatrixDisplay.from_predictions or ConfusionMatrixDisplay.from_estimator.\n",
            "  warnings.warn(msg, category=FutureWarning)\n"
          ]
        },
        {
          "output_type": "display_data",
          "data": {
            "text/plain": [
              "<Figure size 576x576 with 7 Axes>"
            ],
            "image/png": "[encoded data removed]"
          },
          "metadata": {
            "needs_background": "light"
          }
        }
      ]
    },
    {
      "cell_type": "markdown",
      "source": [
        "### Model evaluation - cross validation scores"
      ],
      "metadata": {
        "id": "5JttfxDoxAX3"
      }
    },
    {
      "cell_type": "code",
      "execution_count": null,
      "metadata": {
        "id": "jVIZ9WUepzOS",
        "colab": {
          "base_uri": "https://localhost:8080/"
        },
        "outputId": "8c0646fa-9674-4c6f-8c74-30fba48f008f"
      },
      "outputs": [
        {
          "output_type": "stream",
          "name": "stdout",
          "text": [
            "RandomForestClassifier()  \n",
            " CV: 0.6637630662020906 \n",
            "\n",
            "LogisticRegression(random_state=42)  \n",
            " CV: 0.6686991869918699 \n",
            "\n"
          ]
        },
        {
          "output_type": "stream",
          "name": "stderr",
          "text": [
            "/usr/local/lib/python3.7/dist-packages/sklearn/linear_model/_logistic.py:818: ConvergenceWarning: lbfgs failed to converge (status=1):\n",
            "STOP: TOTAL NO. of ITERATIONS REACHED LIMIT.\n",
            "\n",
            "Increase the number of iterations (max_iter) or scale the data as shown in:\n",
            "    https://scikit-learn.org/stable/modules/preprocessing.html\n",
            "Please also refer to the documentation for alternative solver options:\n",
            "    https://scikit-learn.org/stable/modules/linear_model.html#logistic-regression\n",
            "  extra_warning_msg=_LOGISTIC_SOLVER_CONVERGENCE_MSG,\n",
            "/usr/local/lib/python3.7/dist-packages/sklearn/linear_model/_logistic.py:818: ConvergenceWarning: lbfgs failed to converge (status=1):\n",
            "STOP: TOTAL NO. of ITERATIONS REACHED LIMIT.\n",
            "\n",
            "Increase the number of iterations (max_iter) or scale the data as shown in:\n",
            "    https://scikit-learn.org/stable/modules/preprocessing.html\n",
            "Please also refer to the documentation for alternative solver options:\n",
            "    https://scikit-learn.org/stable/modules/linear_model.html#logistic-regression\n",
            "  extra_warning_msg=_LOGISTIC_SOLVER_CONVERGENCE_MSG,\n",
            "/usr/local/lib/python3.7/dist-packages/sklearn/linear_model/_logistic.py:818: ConvergenceWarning: lbfgs failed to converge (status=1):\n",
            "STOP: TOTAL NO. of ITERATIONS REACHED LIMIT.\n",
            "\n",
            "Increase the number of iterations (max_iter) or scale the data as shown in:\n",
            "    https://scikit-learn.org/stable/modules/preprocessing.html\n",
            "Please also refer to the documentation for alternative solver options:\n",
            "    https://scikit-learn.org/stable/modules/linear_model.html#logistic-regression\n",
            "  extra_warning_msg=_LOGISTIC_SOLVER_CONVERGENCE_MSG,\n",
            "/usr/local/lib/python3.7/dist-packages/sklearn/linear_model/_logistic.py:818: ConvergenceWarning: lbfgs failed to converge (status=1):\n",
            "STOP: TOTAL NO. of ITERATIONS REACHED LIMIT.\n",
            "\n",
            "Increase the number of iterations (max_iter) or scale the data as shown in:\n",
            "    https://scikit-learn.org/stable/modules/preprocessing.html\n",
            "Please also refer to the documentation for alternative solver options:\n",
            "    https://scikit-learn.org/stable/modules/linear_model.html#logistic-regression\n",
            "  extra_warning_msg=_LOGISTIC_SOLVER_CONVERGENCE_MSG,\n",
            "/usr/local/lib/python3.7/dist-packages/sklearn/linear_model/_logistic.py:818: ConvergenceWarning: lbfgs failed to converge (status=1):\n",
            "STOP: TOTAL NO. of ITERATIONS REACHED LIMIT.\n",
            "\n",
            "Increase the number of iterations (max_iter) or scale the data as shown in:\n",
            "    https://scikit-learn.org/stable/modules/preprocessing.html\n",
            "Please also refer to the documentation for alternative solver options:\n",
            "    https://scikit-learn.org/stable/modules/linear_model.html#logistic-regression\n",
            "  extra_warning_msg=_LOGISTIC_SOLVER_CONVERGENCE_MSG,\n"
          ]
        },
        {
          "output_type": "stream",
          "name": "stdout",
          "text": [
            "SVC(C=1000, gamma=0.01, probability=True)  \n",
            " CV: 0.5360046457607434 \n",
            "\n"
          ]
        }
      ],
      "source": [
        "# train model, get accuracies and CV\n",
        "groups = X_test['subject']\n",
        "gkf = GroupKFold(n_splits=4)\n",
        "\n",
        "for model in classifiers:\n",
        "  model.fit(X_train, y_train)\n",
        "  y_pred = model.predict(X_test)\n",
        "  scores = cross_val_score(model, X_test, y_test, cv=gkf, groups=groups, scoring='accuracy')\n",
        "  print (f'{model}  {chr(10)} CV: {scores.mean()} {chr(10)}')"
      ]
    },
    {
      "cell_type": "markdown",
      "source": [
        "### Model evaluation - classification report (precision, recall, f1, support, accuracy)"
      ],
      "metadata": {
        "id": "4UGDE8RSw6K_"
      }
    },
    {
      "cell_type": "code",
      "source": [
        "for model in classifiers:\n",
        "  model.fit(X_train, y_train)\n",
        "  y_pred = model.predict(X_test)\n",
        "  print(f'{model}: {chr(10)} {classification_report(y_test, y_pred)}')"
      ],
      "metadata": {
        "id": "6C4yNdlw60hP",
        "colab": {
          "base_uri": "https://localhost:8080/"
        },
        "outputId": "b79c3386-2c34-4268-d030-1b2bfa01c4cf"
      },
      "execution_count": null,
      "outputs": [
        {
          "output_type": "stream",
          "name": "stdout",
          "text": [
            "RandomForestClassifier(): \n",
            "               precision    recall  f1-score   support\n",
            "\n",
            "           0       0.88      0.87      0.87        76\n",
            "           1       0.89      0.90      0.90        90\n",
            "\n",
            "    accuracy                           0.89       166\n",
            "   macro avg       0.89      0.88      0.88       166\n",
            "weighted avg       0.89      0.89      0.89       166\n",
            "\n",
            "LogisticRegression(random_state=42): \n",
            "               precision    recall  f1-score   support\n",
            "\n",
            "           0       0.65      0.79      0.71        76\n",
            "           1       0.78      0.63      0.70        90\n",
            "\n",
            "    accuracy                           0.70       166\n",
            "   macro avg       0.71      0.71      0.70       166\n",
            "weighted avg       0.72      0.70      0.70       166\n",
            "\n",
            "SVC(C=1000, gamma=0.01, probability=True): \n",
            "               precision    recall  f1-score   support\n",
            "\n",
            "           0       0.53      0.92      0.67        76\n",
            "           1       0.82      0.31      0.45        90\n",
            "\n",
            "    accuracy                           0.59       166\n",
            "   macro avg       0.68      0.62      0.56       166\n",
            "weighted avg       0.69      0.59      0.55       166\n",
            "\n"
          ]
        },
        {
          "output_type": "stream",
          "name": "stderr",
          "text": [
            "/usr/local/lib/python3.7/dist-packages/sklearn/linear_model/_logistic.py:818: ConvergenceWarning: lbfgs failed to converge (status=1):\n",
            "STOP: TOTAL NO. of ITERATIONS REACHED LIMIT.\n",
            "\n",
            "Increase the number of iterations (max_iter) or scale the data as shown in:\n",
            "    https://scikit-learn.org/stable/modules/preprocessing.html\n",
            "Please also refer to the documentation for alternative solver options:\n",
            "    https://scikit-learn.org/stable/modules/linear_model.html#logistic-regression\n",
            "  extra_warning_msg=_LOGISTIC_SOLVER_CONVERGENCE_MSG,\n"
          ]
        }
      ]
    },
    {
      "cell_type": "markdown",
      "source": [
        "### Model evaluation - precision/ recall"
      ],
      "metadata": {
        "id": "7qdM9s_Vw2x_"
      }
    },
    {
      "cell_type": "code",
      "source": [
        "for model in classifiers:\n",
        "  model.fit(X_train, y_train)\n",
        "  y_pred = model.predict(X_test)\n",
        "  display = PrecisionRecallDisplay.from_estimator(model, X_test, y_test, name=\"rfc\")\n",
        "  _ = display.ax_.set_title(f'Precision-Recall curve: {model}')"
      ],
      "metadata": {
        "id": "KZgnhiVjnfpX",
        "colab": {
          "base_uri": "https://localhost:8080/"
        },
        "outputId": "e0b3e83d-bc4f-46a5-83ee-fb003a6f07eb"
      },
      "execution_count": null,
      "outputs": [
        {
          "output_type": "stream",
          "name": "stderr",
          "text": [
            "/usr/local/lib/python3.7/dist-packages/sklearn/linear_model/_logistic.py:818: ConvergenceWarning: lbfgs failed to converge (status=1):\n",
            "STOP: TOTAL NO. of ITERATIONS REACHED LIMIT.\n",
            "\n",
            "Increase the number of iterations (max_iter) or scale the data as shown in:\n",
            "    https://scikit-learn.org/stable/modules/preprocessing.html\n",
            "Please also refer to the documentation for alternative solver options:\n",
            "    https://scikit-learn.org/stable/modules/linear_model.html#logistic-regression\n",
            "  extra_warning_msg=_LOGISTIC_SOLVER_CONVERGENCE_MSG,\n"
          ]
        },
        {
          "output_type": "display_data",
          "data": {
            "text/plain": [
              "<Figure size 432x288 with 1 Axes>"
            ],
            "image/png": "[encoded data removed]"
          },
          "metadata": {
            "needs_background": "light"
          }
        },
        {
          "output_type": "display_data",
          "data": {
            "text/plain": [
              "<Figure size 432x288 with 1 Axes>"
            ],
            "image/png": "[encoded data removed]"
          },
          "metadata": {
            "needs_background": "light"
          }
        },
        {
          "output_type": "display_data",
          "data": {
            "text/plain": [
              "<Figure size 432x288 with 1 Axes>"
            ],
            "image/png": "[encoded data removed]"
          },
          "metadata": {
            "needs_background": "light"
          }
        }
      ]
    },
    {
      "cell_type": "markdown",
      "source": [
        "### Model evaluation - ROC"
      ],
      "metadata": {
        "id": "opSvMxP4wxm4"
      }
    },
    {
      "cell_type": "code",
      "source": [
        "# scores on test set\n",
        "for model in classifiers:\n",
        "  model.fit(X_train, y_train)\n",
        "  y_pred = model.predict(X_test)\n",
        "\n",
        "  # scores on test set\n",
        "  y_pred = model.predict_proba(X_test)[:, 1]\n",
        "  fpr, tpr, _ = roc_curve(y_test,  y_pred)\n",
        "  ax = (\n",
        "      pd.DataFrame(tpr, index=fpr)\n",
        "      .plot(legend=False, title=('ROC Curve: %f' % auc(fpr, tpr)))\n",
        "  )\n",
        "  ax.plot([(0,0), (1,1)], 'r--')\n",
        "  ax.set_xlabel('FPR')\n",
        "  ax.set_ylabel('TPR')"
      ],
      "metadata": {
        "id": "AVLgQlDqf1W3",
        "colab": {
          "base_uri": "https://localhost:8080/"
        },
        "outputId": "38684146-8761-4b48-a20c-34117472150a"
      },
      "execution_count": null,
      "outputs": [
        {
          "output_type": "stream",
          "name": "stderr",
          "text": [
            "/usr/local/lib/python3.7/dist-packages/sklearn/linear_model/_logistic.py:818: ConvergenceWarning: lbfgs failed to converge (status=1):\n",
            "STOP: TOTAL NO. of ITERATIONS REACHED LIMIT.\n",
            "\n",
            "Increase the number of iterations (max_iter) or scale the data as shown in:\n",
            "    https://scikit-learn.org/stable/modules/preprocessing.html\n",
            "Please also refer to the documentation for alternative solver options:\n",
            "    https://scikit-learn.org/stable/modules/linear_model.html#logistic-regression\n",
            "  extra_warning_msg=_LOGISTIC_SOLVER_CONVERGENCE_MSG,\n"
          ]
        },
        {
          "output_type": "display_data",
          "data": {
            "text/plain": [
              "<Figure size 432x288 with 1 Axes>"
            ],
            "image/png": "[encoded data removed]"
          },
          "metadata": {
            "needs_background": "light"
          }
        },
        {
          "output_type": "display_data",
          "data": {
            "text/plain": [
              "<Figure size 432x288 with 1 Axes>"
            ],
            "image/png": "[encoded data removed]"
          },
          "metadata": {
            "needs_background": "light"
          }
        },
        {
          "output_type": "display_data",
          "data": {
            "text/plain": [
              "<Figure size 432x288 with 1 Axes>"
            ],
            "image/png": "[encoded data removed]"
          },
          "metadata": {
            "needs_background": "light"
          }
        }
      ]
    },
    {
      "cell_type": "markdown",
      "metadata": {
        "id": "AbDywt6eIVhd"
      },
      "source": [
        "## Fairness Measure\n",
        "\n",
        "---\n",
        "\n"
      ]
    },
    {
      "cell_type": "markdown",
      "source": [
        "Check for confusion matrix\n",
        "\n",
        "\n",
        "> Note: Accuracy, recall & precision are not called for when usign Decision Tree models.\n",
        "\n",
        "\n",
        "**Equalised odds** (we want to ensure that the number of false negatives is equally low; we need to reduce false positives which can be costly (variable is not subjective anyways)) -- balance for negative class\n",
        "\n",
        "also check AUC unmitigated & dispartities between exact groups.\n",
        "\n",
        "\n",
        "We aim for group fairness - participants with similar characteristics should be treated similarily\n",
        "\n",
        "\n",
        "\n",
        "\n",
        "CONSIDER:\n",
        "1. disaggregated evaluations - evaluating perfromance with respect to different subgroups (age/ task)\n",
        "\n",
        "\n",
        "\n",
        "---\n",
        "<br>\n",
        "\n",
        "For supervised classification --> output should be the same accross sensitive characterisitcs - bias if the decision changes after beig exposed to additioanl sensitve feature inputs \n",
        "<br>\n",
        "\n",
        "Sources: \n",
        "- https://www.ibm.com/docs/en/cloud-paks/cp-data/3.5.0?topic=openscale-fairness-metrics-overview\n",
        "\n",
        "\n",
        "- https://github.com/fairlearn/fairlearn\n",
        "\n",
        "\n",
        "\n",
        "- https://towardsdatascience.com/how-to-define-fairness-to-detect-and-prevent-discriminatory-outcomes-in-machine-learning-ef23fd408ef2#:~:text=Demographic%20Parity%20states%20that%20the,%E2%80%9Cbeing%20shown%20the%20ad%E2%80%9D\n",
        "\n",
        "- https://github.com/valeria-io/bias-in-credit-models/blob/master/model_analysis/model_fairness_interventions.ipynb"
      ],
      "metadata": {
        "id": "Kau438ceyUgD"
      }
    },
    {
      "cell_type": "markdown",
      "metadata": {
        "id": "hkSjdO44m9D7"
      },
      "source": [
        "### Install libraries & helper functions"
      ]
    },
    {
      "cell_type": "code",
      "source": [
        "# libraries for fairness metrics\n",
        "from fairlearn.metrics import (\n",
        "    MetricFrame,\n",
        "    selection_rate, \n",
        "    demographic_parity_difference, \n",
        "    demographic_parity_ratio,\n",
        "    false_positive_rate, \n",
        "    false_negative_rate,\n",
        "    false_positive_rate_difference, \n",
        "    false_negative_rate_difference, \n",
        "    true_positive_rate, \n",
        "    true_negative_rate,\n",
        "    selection_rate,\n",
        "    count,\n",
        "    equalized_odds_difference)"
      ],
      "metadata": {
        "id": "HgZfhHRjpGuj"
      },
      "execution_count": null,
      "outputs": []
    },
    {
      "cell_type": "code",
      "source": [
        "# Helper functions metrics\n",
        "def get_metrics_df(models_dict, y_true, group):\n",
        "    metrics_dict = {\n",
        "        \"Equalized_odds_difference\": (\n",
        "            lambda x: equalized_odds_difference(y_true, x, sensitive_features=group), True),\n",
        "        \"Demographic parity difference\": (\n",
        "            lambda x: demographic_parity_difference(y_true, x, sensitive_features=group), True),\n",
        "        \"Demographic parity ratio\": (\n",
        "            lambda x: demographic_parity_ratio(y_true, x, sensitive_features=group), True),\n",
        "        \"------\": (lambda x: \"\", True),\n",
        "        \"Overall balanced error rate\": (\n",
        "            lambda x: 1-balanced_accuracy_score(y_true, x), True),\n",
        "        \"Balanced error rate difference\": (\n",
        "            lambda x: MetricFrame(metrics=balanced_accuracy_score, y_true=y_true, y_pred=x, sensitive_features=group).difference(method='between_groups'), True),\n",
        "        \" ------\": (lambda x: \"\", True),\n",
        "        \"False positive rate difference\": (\n",
        "            lambda x: false_positive_rate_difference(y_true, x, sensitive_features=group), True),\n",
        "        \"False negative rate difference\": (\n",
        "            lambda x: false_negative_rate_difference(y_true, x, sensitive_features=group), True),\n",
        "        \"Equalized odds difference\": (\n",
        "            lambda x: equalized_odds_difference(y_true, x, sensitive_features=group), True),\n",
        "        \"  ------\": (lambda x: \"\", True),\n",
        "        \"Overall AUC\": (\n",
        "            lambda x: roc_auc_score(y_true, x), False),\n",
        "        \"AUC difference\": (\n",
        "            lambda x: MetricFrame(metrics=roc_auc_score, y_true=y_true, y_pred=x, sensitive_features=group).difference(method='between_groups'), False),\n",
        "    }\n",
        "    df_dict = {}\n",
        "    for metric_name, (metric_func, use_preds) in metrics_dict.items():\n",
        "        df_dict[metric_name] = [metric_func(preds) if use_preds else metric_func(scores) \n",
        "                                for model_name, (preds, scores) in models_dict.items()]\n",
        "    return pd.DataFrame.from_dict(df_dict, orient=\"index\", columns=models_dict.keys())\n",
        "\n",
        "def metric_frame (feature):\n",
        "    mf = MetricFrame({\n",
        "        'FPR': false_positive_rate,\n",
        "        'FNR': false_negative_rate,\n",
        "        'TPR': true_positive_rate,\n",
        "        'TNR': true_negative_rate},\n",
        "        y_test, test_preds, sensitive_features = feature)\n",
        "    return mf.by_group\n",
        "  \n",
        "def summary_as_df(name, summary):\n",
        "    a = summary.by_group\n",
        "    a['overall'] = summary.overall\n",
        "    return pd.DataFrame({name: a})\n",
        "  \n"
      ],
      "metadata": {
        "id": "M7X3bMfyJXsl"
      },
      "execution_count": null,
      "outputs": []
    },
    {
      "cell_type": "markdown",
      "metadata": {
        "id": "luklqpM1luCQ"
      },
      "source": [
        "### Fairness evaluation - confusion matrix by group\n"
      ]
    },
    {
      "cell_type": "code",
      "execution_count": null,
      "metadata": {
        "id": "r_yUWHewc1wo",
        "colab": {
          "base_uri": "https://localhost:8080/"
        },
        "outputId": "b5f1d829-275b-4ffc-9199-bc8f1c94bcd9"
      },
      "outputs": [
        {
          "output_type": "stream",
          "name": "stderr",
          "text": [
            "/usr/local/lib/python3.7/dist-packages/fairlearn/metrics/_metric_frame.py:67: FutureWarning: You have provided 'metrics', 'y_true', 'y_pred' as positional arguments. Please pass them as keyword arguments. From version 0.10.0 passing them as positional arguments will result in an error.\n",
            "  FutureWarning)\n",
            "/usr/local/lib/python3.7/dist-packages/fairlearn/metrics/_metric_frame.py:67: FutureWarning: You have provided 'metrics', 'y_true', 'y_pred' as positional arguments. Please pass them as keyword arguments. From version 0.10.0 passing them as positional arguments will result in an error.\n",
            "  FutureWarning)\n",
            "/usr/local/lib/python3.7/dist-packages/sklearn/linear_model/_logistic.py:818: ConvergenceWarning: lbfgs failed to converge (status=1):\n",
            "STOP: TOTAL NO. of ITERATIONS REACHED LIMIT.\n",
            "\n",
            "Increase the number of iterations (max_iter) or scale the data as shown in:\n",
            "    https://scikit-learn.org/stable/modules/preprocessing.html\n",
            "Please also refer to the documentation for alternative solver options:\n",
            "    https://scikit-learn.org/stable/modules/linear_model.html#logistic-regression\n",
            "  extra_warning_msg=_LOGISTIC_SOLVER_CONVERGENCE_MSG,\n",
            "/usr/local/lib/python3.7/dist-packages/fairlearn/metrics/_metric_frame.py:67: FutureWarning: You have provided 'metrics', 'y_true', 'y_pred' as positional arguments. Please pass them as keyword arguments. From version 0.10.0 passing them as positional arguments will result in an error.\n",
            "  FutureWarning)\n",
            "/usr/local/lib/python3.7/dist-packages/fairlearn/metrics/_metric_frame.py:67: FutureWarning: You have provided 'metrics', 'y_true', 'y_pred' as positional arguments. Please pass them as keyword arguments. From version 0.10.0 passing them as positional arguments will result in an error.\n",
            "  FutureWarning)\n",
            "/usr/local/lib/python3.7/dist-packages/fairlearn/metrics/_metric_frame.py:67: FutureWarning: You have provided 'metrics', 'y_true', 'y_pred' as positional arguments. Please pass them as keyword arguments. From version 0.10.0 passing them as positional arguments will result in an error.\n",
            "  FutureWarning)\n",
            "/usr/local/lib/python3.7/dist-packages/fairlearn/metrics/_metric_frame.py:67: FutureWarning: You have provided 'metrics', 'y_true', 'y_pred' as positional arguments. Please pass them as keyword arguments. From version 0.10.0 passing them as positional arguments will result in an error.\n",
            "  FutureWarning)\n"
          ]
        },
        {
          "output_type": "stream",
          "name": "stdout",
          "text": [
            "Age:\n",
            "RandomForestClassifier(): \n",
            "           FPR       FNR       TPR       TNR\n",
            "Age                                        \n",
            "20   0.233333  0.032258  0.967742  0.766667\n",
            "30        0.3       0.0       1.0       0.7\n",
            "40        0.0  0.066667  0.933333       1.0\n",
            "60   0.043478     0.125     0.875  0.956522 \n",
            "\n",
            "Task:\n",
            "RandomForestClassifier(): \n",
            "            FPR       FNR       TPR       TNR\n",
            "task                                        \n",
            "1     0.209302  0.042553  0.957447  0.790698\n",
            "2     0.060606  0.093023  0.906977  0.939394 \n",
            "\n",
            "Age:\n",
            "LogisticRegression(random_state=42): \n",
            "           FPR       FNR       TPR       TNR\n",
            "Age                                        \n",
            "20   0.166667  0.483871  0.516129  0.833333\n",
            "30        0.5  0.083333  0.916667       0.5\n",
            "40   0.461538       0.2       0.8  0.538462\n",
            "60   0.130435     0.375     0.625  0.869565 \n",
            "\n",
            "Task:\n",
            "LogisticRegression(random_state=42): \n",
            "            FPR       FNR       TPR       TNR\n",
            "task                                        \n",
            "1     0.255814  0.404255  0.595745  0.744186\n",
            "2     0.242424   0.27907   0.72093  0.757576 \n",
            "\n",
            "Age:\n",
            "SVC(C=1000, gamma=0.01, probability=True): \n",
            "           FPR       FNR       TPR       TNR\n",
            "Age                                        \n",
            "20   0.533333  0.032258  0.967742  0.466667\n",
            "30        0.9       0.0       1.0       0.1\n",
            "40   0.230769       0.0       1.0  0.769231\n",
            "60   0.521739   0.09375   0.90625  0.478261 \n",
            "\n",
            "Task:\n",
            "SVC(C=1000, gamma=0.01, probability=True): \n",
            "            FPR       FNR       TPR       TNR\n",
            "task                                        \n",
            "1     0.488372  0.042553  0.957447  0.511628\n",
            "2     0.575758  0.046512  0.953488  0.424242 \n",
            "\n"
          ]
        }
      ],
      "source": [
        "# define sensitive attributes\n",
        "task = A_test['task']\n",
        "age =  A_test['Age']\n",
        "\n",
        "\n",
        "for model in classifiers:\n",
        "  model.fit(X_train, y_train)\n",
        "  y_pred = model.predict(X_test)\n",
        "\n",
        "  # scores on test set\n",
        "  y_pred = model.predict_proba(X_test)[:, 1]\n",
        "\n",
        "  # predictions (0 or 1) on test set\n",
        "  test_preds = (y_pred >= np.mean(y_train)) * 1\n",
        "\n",
        "  print(f'Age:{chr(10)}{model}: {chr(10)} {metric_frame (age)} {chr(10)}')\n",
        "  print(f'Task:{chr(10)}{model}: {chr(10)} {metric_frame (task)} {chr(10)}')\n",
        "\n"
      ]
    },
    {
      "cell_type": "markdown",
      "source": [
        "### Fairness evaluation - fairness metrics by group (equalized odds, demographic parity difference & ratio, false negative rate difference)"
      ],
      "metadata": {
        "id": "2e4yEBybwKyc"
      }
    },
    {
      "cell_type": "code",
      "execution_count": null,
      "metadata": {
        "id": "17eQQs7UhThR",
        "colab": {
          "base_uri": "https://localhost:8080/"
        },
        "outputId": "e4c333d1-03be-4d48-d3fe-e5920ee113b0"
      },
      "outputs": [
        {
          "output_type": "stream",
          "name": "stdout",
          "text": [
            "Age:\n",
            "RandomForestClassifier(): \n",
            "                                Unmitigated\n",
            "Equalized_odds_difference              0.3\n",
            "Demographic parity difference     0.190909\n",
            "Demographic parity ratio              0.72\n",
            "------                                    \n",
            "Overall balanced error rate       0.111257\n",
            "Balanced error rate difference        0.15\n",
            " ------                                   \n",
            "False positive rate difference         0.3\n",
            "False negative rate difference      0.1875\n",
            "Equalized odds difference              0.3\n",
            "  ------                                  \n",
            "Overall AUC                       0.958699\n",
            "AUC difference                    0.044086 \n",
            "\n",
            "Age:\n",
            "LogisticRegression(random_state=42): \n",
            "                                Unmitigated\n",
            "Equalized_odds_difference         0.400538\n",
            "Demographic parity difference      0.38301\n",
            "Demographic parity ratio          0.473361\n",
            "------                                    \n",
            "Overall balanced error rate       0.297222\n",
            "Balanced error rate difference    0.078052\n",
            " ------                                   \n",
            "False positive rate difference    0.369565\n",
            "False negative rate difference    0.400538\n",
            "Equalized odds difference         0.400538\n",
            "  ------                                  \n",
            "Overall AUC                       0.789181\n",
            "AUC difference                    0.153846 \n",
            "\n"
          ]
        },
        {
          "output_type": "stream",
          "name": "stderr",
          "text": [
            "/usr/local/lib/python3.7/dist-packages/sklearn/linear_model/_logistic.py:818: ConvergenceWarning: lbfgs failed to converge (status=1):\n",
            "STOP: TOTAL NO. of ITERATIONS REACHED LIMIT.\n",
            "\n",
            "Increase the number of iterations (max_iter) or scale the data as shown in:\n",
            "    https://scikit-learn.org/stable/modules/preprocessing.html\n",
            "Please also refer to the documentation for alternative solver options:\n",
            "    https://scikit-learn.org/stable/modules/linear_model.html#logistic-regression\n",
            "  extra_warning_msg=_LOGISTIC_SOLVER_CONVERGENCE_MSG,\n"
          ]
        },
        {
          "output_type": "stream",
          "name": "stdout",
          "text": [
            "Age:\n",
            "SVC(C=1000, gamma=0.01, probability=True): \n",
            "                                Unmitigated\n",
            "Equalized_odds_difference         0.669231\n",
            "Demographic parity difference     0.311688\n",
            "Demographic parity ratio          0.673469\n",
            "------                                    \n",
            "Overall balanced error rate       0.311696\n",
            "Balanced error rate difference    0.334615\n",
            " ------                                   \n",
            "False positive rate difference    0.669231\n",
            "False negative rate difference     0.09375\n",
            "Equalized odds difference         0.669231\n",
            "  ------                                  \n",
            "Overall AUC                       0.874708\n",
            "AUC difference                    0.156863 \n",
            "\n"
          ]
        }
      ],
      "source": [
        "# Metrics \n",
        "for model in classifiers:\n",
        "  model.fit(X_train, y_train)\n",
        "  y_pred = model.predict(X_test)\n",
        "\n",
        "  # scores on test set\n",
        "  y_pred = model.predict_proba(X_test)[:, 1]\n",
        "\n",
        "  # predictions (0 or 1) on test set\n",
        "  test_preds = (y_pred >= np.mean(y_train)) * 1\n",
        "\n",
        "  models_dict = {\"Unmitigated\": (test_preds, y_pred)}\n",
        "\n",
        "  print(f'Age:{chr(10)}{model}: {chr(10)} {get_metrics_df(models_dict, y_test, age)} {chr(10)}')\n"
      ]
    },
    {
      "cell_type": "code",
      "source": [
        "for model in classifiers:\n",
        "  model.fit(X_train, y_train)\n",
        "  y_pred = model.predict(X_test)\n",
        "\n",
        "  # scores on test set\n",
        "  y_pred = model.predict_proba(X_test)[:, 1]\n",
        "\n",
        "  # predictions (0 or 1) on test set\n",
        "  test_preds = (y_pred >= np.mean(y_train)) * 1\n",
        "\n",
        "  models_dict = {\"Unmitigated\": (test_preds, y_pred)}\n",
        "\n",
        "  print(f'Task:{chr(10)}{model}: {chr(10)} {get_metrics_df(models_dict, y_test, task)} {chr(10)}')"
      ],
      "metadata": {
        "id": "_GRT_N1FWO3e"
      },
      "execution_count": null,
      "outputs": []
    },
    {
      "cell_type": "markdown",
      "source": [
        "### Fairness evaluation - AUC by group"
      ],
      "metadata": {
        "id": "8bozz6Q3wgd1"
      }
    },
    {
      "cell_type": "code",
      "source": [
        "# AUC curve \n",
        "\n",
        "for model in classifiers:\n",
        "  model.fit(X_train, y_train)\n",
        "  y_pred = model.predict(X_test)\n",
        "\n",
        "  # scores on test set\n",
        "  y_pred = model.predict_proba(X_test)[:, 1]\n",
        "\n",
        "  # predictions (0 or 1) on test set\n",
        "  test_preds = (y_pred >= np.mean(y_train)) * 1\n",
        "\n",
        "  metric_frame_unmitigated_age = MetricFrame(roc_auc_score, y_test, y_pred, sensitive_features=age)\n",
        "\n",
        "  auc_unmitigated_age = summary_as_df(\"auc_unmitigated\", metric_frame_unmitigated_age)\n",
        "  auc_unmitigated_age\n",
        "\n",
        "  metric_frame_unmitigated_task = MetricFrame(roc_auc_score, y_test, y_pred, sensitive_features=task)\n",
        "\n",
        "  auc_unmitigated_task = summary_as_df(\"auc_unmitigated\", metric_frame_unmitigated_task)\n",
        "  auc_unmitigated_task\n",
        "\n",
        "  print(f'Age:{chr(10)}{model}: {chr(10)} {auc_unmitigated_age} {chr(10)}')\n",
        "  print(f'Task:{chr(10)}{model}: {chr(10)} {auc_unmitigated_task} {chr(10)}')"
      ],
      "metadata": {
        "id": "uJadhUBhiP76"
      },
      "execution_count": null,
      "outputs": []
    },
    {
      "cell_type": "markdown",
      "source": [
        "##### helper function for visualisation\n"
      ],
      "metadata": {
        "id": "5DzayjL86Y4p"
      }
    },
    {
      "cell_type": "code",
      "source": [
        "# demographic disparity\n",
        "# https://github.com/fairlearn/fairlearn/blob/main/notebooks/Mitigating%20Disparities%20in%20Ranking%20from%20Binary%20Data.ipynb\n",
        "\n",
        "from IPython.display import display, HTML\n",
        "import matplotlib.pyplot as plt\n",
        "from scipy.stats import cumfreq\n",
        "\n",
        "def compare_cdfs(data, A, num_bins=100):\n",
        "    cdfs = {}\n",
        "    assert len(np.unique(A)) == 2 ### change to 4/2 depending on the sensitive attribute (Age vs. task)\n",
        "    \n",
        "    limits = ( min(data), max(data) )\n",
        "    s = 0.5 * (limits[1] - limits[0]) / (num_bins - 1)\n",
        "    limits = ( limits[0]-s, limits[1] + s)\n",
        "    \n",
        "    for a in np.unique(A):\n",
        "        subset = data[A==a]\n",
        "        \n",
        "        cdfs[a] = cumfreq(subset, numbins=num_bins, defaultreallimits=limits)\n",
        "        \n",
        "    lower_limits = [v.lowerlimit for _, v in cdfs.items()]\n",
        "    bin_sizes = [v.binsize for _,v in cdfs.items()]\n",
        "    actual_num_bins = [v.cumcount.size for _,v in cdfs.items()]\n",
        "    \n",
        "    assert len(np.unique(lower_limits)) == 1\n",
        "    assert len(np.unique(bin_sizes)) == 1\n",
        "    assert np.all([num_bins==v.cumcount.size for _,v in cdfs.items()])\n",
        "    \n",
        "    xs = lower_limits[0] + np.linspace(0, bin_sizes[0]*num_bins, num_bins)\n",
        "    \n",
        "    disparities = np.zeros(num_bins)\n",
        "    for i in range(num_bins):\n",
        "        cdf_values = np.clip([v.cumcount[i]/len(data[A==k]) for k,v in cdfs.items()],0,1)\n",
        "        disparities[i] = max(cdf_values)-min(cdf_values)  \n",
        "    \n",
        "    return xs, cdfs, disparities\n",
        "    \n",
        "    \n",
        "def plot_and_compare_cdfs(data, A, num_bins=100, loc='best'):\n",
        "    xs, cdfs, disparities = compare_cdfs(data, A, num_bins)\n",
        "    \n",
        "    for k, v in cdfs.items():\n",
        "        plt.plot(xs, v.cumcount/len(data[A==k]), label=k)\n",
        "    \n",
        "    assert disparities.argmax().size == 1\n",
        "    d_idx = disparities.argmax()\n",
        "    \n",
        "    xs_line = [xs[d_idx],xs[d_idx]]\n",
        "    counts = [v.cumcount[d_idx]/len(data[A==k]) for k, v in cdfs.items()]\n",
        "    ys_line = [min(counts), max(counts)]\n",
        "    \n",
        "    plt.plot(xs_line, ys_line, 'o--')\n",
        "    disparity_label = \"max disparity = {0:.3f}\\nat {1:0.3f}\".format(disparities[d_idx], xs[d_idx])\n",
        "    plt.text(xs[d_idx], 1, disparity_label, ha=\"right\", va=\"top\")\n",
        "    \n",
        "    plt.ylabel(\"cumulative frequency\")\n",
        "    plt.legend(loc=loc)\n",
        "    plt.show()"
      ],
      "metadata": {
        "id": "bGJWGYvj6dp5"
      },
      "execution_count": null,
      "outputs": []
    },
    {
      "cell_type": "markdown",
      "metadata": {
        "id": "r58R2nMm4yAr"
      },
      "source": [
        "#### Visualisation - performance metric by groups (age)\n",
        "\n",
        "\n",
        "---\n",
        "\n",
        "check code from paper on visual identification\n"
      ]
    },
    {
      "cell_type": "code",
      "source": [
        "%matplotlib inline\n",
        "\n",
        "for model in classifiers:\n",
        "  model.fit(X_train, y_train)\n",
        "  y_pred = model.predict(X_test)\n",
        "\n",
        "  # scores on test set\n",
        "  y_pred = model.predict_proba(X_test)[:, 1]\n",
        "\n",
        "  # predictions (0 or 1) on test set\n",
        "  test_preds = (y_pred >= np.mean(y_train)) * 1\n",
        "\n",
        "\n",
        "  display(HTML('<span id=\"disparity_unmitigated\">'))\n",
        "  plot_and_compare_cdfs(y_pred, task)\n",
        "  display(HTML('</span>'))"
      ],
      "metadata": {
        "id": "qmGXqTbzl0eV",
        "colab": {
          "base_uri": "https://localhost:8080/"
        },
        "outputId": "86ead9e2-6d4e-4e0f-905e-02a6b5794cec"
      },
      "execution_count": null,
      "outputs": [
        {
          "output_type": "display_data",
          "data": {
            "text/plain": [
              "<IPython.core.display.HTML object>"
            ],
            "text/html": [
              "<span id=\"disparity_unmitigated\">"
            ]
          },
          "metadata": {}
        },
        {
          "output_type": "display_data",
          "data": {
            "text/plain": [
              "<Figure size 432x288 with 1 Axes>"
            ],
            "image/png": "[encoded data removed]"
          },
          "metadata": {
            "needs_background": "light"
          }
        },
        {
          "output_type": "display_data",
          "data": {
            "text/plain": [
              "<IPython.core.display.HTML object>"
            ],
            "text/html": [
              "</span>"
            ]
          },
          "metadata": {}
        },
        {
          "output_type": "stream",
          "name": "stderr",
          "text": [
            "/usr/local/lib/python3.7/dist-packages/sklearn/linear_model/_logistic.py:818: ConvergenceWarning: lbfgs failed to converge (status=1):\n",
            "STOP: TOTAL NO. of ITERATIONS REACHED LIMIT.\n",
            "\n",
            "Increase the number of iterations (max_iter) or scale the data as shown in:\n",
            "    https://scikit-learn.org/stable/modules/preprocessing.html\n",
            "Please also refer to the documentation for alternative solver options:\n",
            "    https://scikit-learn.org/stable/modules/linear_model.html#logistic-regression\n",
            "  extra_warning_msg=_LOGISTIC_SOLVER_CONVERGENCE_MSG,\n"
          ]
        },
        {
          "output_type": "display_data",
          "data": {
            "text/plain": [
              "<IPython.core.display.HTML object>"
            ],
            "text/html": [
              "<span id=\"disparity_unmitigated\">"
            ]
          },
          "metadata": {}
        },
        {
          "output_type": "display_data",
          "data": {
            "text/plain": [
              "<Figure size 432x288 with 1 Axes>"
            ],
            "image/png": "[encoded data removed]"
          },
          "metadata": {
            "needs_background": "light"
          }
        },
        {
          "output_type": "display_data",
          "data": {
            "text/plain": [
              "<IPython.core.display.HTML object>"
            ],
            "text/html": [
              "</span>"
            ]
          },
          "metadata": {}
        },
        {
          "output_type": "display_data",
          "data": {
            "text/plain": [
              "<IPython.core.display.HTML object>"
            ],
            "text/html": [
              "<span id=\"disparity_unmitigated\">"
            ]
          },
          "metadata": {}
        },
        {
          "output_type": "display_data",
          "data": {
            "text/plain": [
              "<Figure size 432x288 with 1 Axes>"
            ],
            "image/png": "[encoded data removed]"
          },
          "metadata": {
            "needs_background": "light"
          }
        },
        {
          "output_type": "display_data",
          "data": {
            "text/plain": [
              "<IPython.core.display.HTML object>"
            ],
            "text/html": [
              "</span>"
            ]
          },
          "metadata": {}
        }
      ]
    },
    {
      "cell_type": "code",
      "source": [
        "%matplotlib inline\n",
        "\n",
        "for model in classifiers:\n",
        "  model.fit(X_train, y_train)\n",
        "  y_pred = model.predict(X_test)\n",
        "\n",
        "  # scores on test set\n",
        "  y_pred = model.predict_proba(X_test)[:, 1]\n",
        "\n",
        "  # predictions (0 or 1) on test set\n",
        "  test_preds = (y_pred >= np.mean(y_train)) * 1\n",
        "\n",
        "\n",
        "  display(HTML('<span id=\"disparity_unmitigated\">'))\n",
        "  plot_and_compare_cdfs(y_pred, age)\n",
        "  display(HTML('</span>'))"
      ],
      "metadata": {
        "id": "9-wzh2zLEaS9",
        "colab": {
          "base_uri": "https://localhost:8080/"
        },
        "outputId": "b6ae5f9a-63eb-47ad-d4fe-e9847f5b8211"
      },
      "execution_count": null,
      "outputs": [
        {
          "output_type": "display_data",
          "data": {
            "text/plain": [
              "<IPython.core.display.HTML object>"
            ],
            "text/html": [
              "<span id=\"disparity_unmitigated\">"
            ]
          },
          "metadata": {}
        },
        {
          "output_type": "error",
          "ename": "AssertionError",
          "evalue": "ignored",
          "traceback": [
            "\u001b[0;31m---------------------------------------------------------------------------\u001b[0m",
            "\u001b[0;31mAssertionError\u001b[0m                            Traceback (most recent call last)",
            "\u001b[0;32m<ipython-input-47-81cdef028909>\u001b[0m in \u001b[0;36m<module>\u001b[0;34m()\u001b[0m\n\u001b[1;32m     13\u001b[0m \u001b[0;34m\u001b[0m\u001b[0m\n\u001b[1;32m     14\u001b[0m   \u001b[0mdisplay\u001b[0m\u001b[0;34m(\u001b[0m\u001b[0mHTML\u001b[0m\u001b[0;34m(\u001b[0m\u001b[0;34m'<span id=\"disparity_unmitigated\">'\u001b[0m\u001b[0;34m)\u001b[0m\u001b[0;34m)\u001b[0m\u001b[0;34m\u001b[0m\u001b[0;34m\u001b[0m\u001b[0m\n\u001b[0;32m---> 15\u001b[0;31m   \u001b[0mplot_and_compare_cdfs\u001b[0m\u001b[0;34m(\u001b[0m\u001b[0my_pred\u001b[0m\u001b[0;34m,\u001b[0m \u001b[0mage\u001b[0m\u001b[0;34m)\u001b[0m\u001b[0;34m\u001b[0m\u001b[0;34m\u001b[0m\u001b[0m\n\u001b[0m\u001b[1;32m     16\u001b[0m   \u001b[0mdisplay\u001b[0m\u001b[0;34m(\u001b[0m\u001b[0mHTML\u001b[0m\u001b[0;34m(\u001b[0m\u001b[0;34m'</span>'\u001b[0m\u001b[0;34m)\u001b[0m\u001b[0;34m)\u001b[0m\u001b[0;34m\u001b[0m\u001b[0;34m\u001b[0m\u001b[0m\n",
            "\u001b[0;32m<ipython-input-44-863b93320faf>\u001b[0m in \u001b[0;36mplot_and_compare_cdfs\u001b[0;34m(data, A, num_bins, loc)\u001b[0m\n\u001b[1;32m     38\u001b[0m \u001b[0;34m\u001b[0m\u001b[0m\n\u001b[1;32m     39\u001b[0m \u001b[0;32mdef\u001b[0m \u001b[0mplot_and_compare_cdfs\u001b[0m\u001b[0;34m(\u001b[0m\u001b[0mdata\u001b[0m\u001b[0;34m,\u001b[0m \u001b[0mA\u001b[0m\u001b[0;34m,\u001b[0m \u001b[0mnum_bins\u001b[0m\u001b[0;34m=\u001b[0m\u001b[0;36m100\u001b[0m\u001b[0;34m,\u001b[0m \u001b[0mloc\u001b[0m\u001b[0;34m=\u001b[0m\u001b[0;34m'best'\u001b[0m\u001b[0;34m)\u001b[0m\u001b[0;34m:\u001b[0m\u001b[0;34m\u001b[0m\u001b[0;34m\u001b[0m\u001b[0m\n\u001b[0;32m---> 40\u001b[0;31m     \u001b[0mxs\u001b[0m\u001b[0;34m,\u001b[0m \u001b[0mcdfs\u001b[0m\u001b[0;34m,\u001b[0m \u001b[0mdisparities\u001b[0m \u001b[0;34m=\u001b[0m \u001b[0mcompare_cdfs\u001b[0m\u001b[0;34m(\u001b[0m\u001b[0mdata\u001b[0m\u001b[0;34m,\u001b[0m \u001b[0mA\u001b[0m\u001b[0;34m,\u001b[0m \u001b[0mnum_bins\u001b[0m\u001b[0;34m)\u001b[0m\u001b[0;34m\u001b[0m\u001b[0;34m\u001b[0m\u001b[0m\n\u001b[0m\u001b[1;32m     41\u001b[0m \u001b[0;34m\u001b[0m\u001b[0m\n\u001b[1;32m     42\u001b[0m     \u001b[0;32mfor\u001b[0m \u001b[0mk\u001b[0m\u001b[0;34m,\u001b[0m \u001b[0mv\u001b[0m \u001b[0;32min\u001b[0m \u001b[0mcdfs\u001b[0m\u001b[0;34m.\u001b[0m\u001b[0mitems\u001b[0m\u001b[0;34m(\u001b[0m\u001b[0;34m)\u001b[0m\u001b[0;34m:\u001b[0m\u001b[0;34m\u001b[0m\u001b[0;34m\u001b[0m\u001b[0m\n",
            "\u001b[0;32m<ipython-input-44-863b93320faf>\u001b[0m in \u001b[0;36mcompare_cdfs\u001b[0;34m(data, A, num_bins)\u001b[0m\n\u001b[1;32m      8\u001b[0m \u001b[0;32mdef\u001b[0m \u001b[0mcompare_cdfs\u001b[0m\u001b[0;34m(\u001b[0m\u001b[0mdata\u001b[0m\u001b[0;34m,\u001b[0m \u001b[0mA\u001b[0m\u001b[0;34m,\u001b[0m \u001b[0mnum_bins\u001b[0m\u001b[0;34m=\u001b[0m\u001b[0;36m100\u001b[0m\u001b[0;34m)\u001b[0m\u001b[0;34m:\u001b[0m\u001b[0;34m\u001b[0m\u001b[0;34m\u001b[0m\u001b[0m\n\u001b[1;32m      9\u001b[0m     \u001b[0mcdfs\u001b[0m \u001b[0;34m=\u001b[0m \u001b[0;34m{\u001b[0m\u001b[0;34m}\u001b[0m\u001b[0;34m\u001b[0m\u001b[0;34m\u001b[0m\u001b[0m\n\u001b[0;32m---> 10\u001b[0;31m     \u001b[0;32massert\u001b[0m \u001b[0mlen\u001b[0m\u001b[0;34m(\u001b[0m\u001b[0mnp\u001b[0m\u001b[0;34m.\u001b[0m\u001b[0munique\u001b[0m\u001b[0;34m(\u001b[0m\u001b[0mA\u001b[0m\u001b[0;34m)\u001b[0m\u001b[0;34m)\u001b[0m \u001b[0;34m==\u001b[0m \u001b[0;36m2\u001b[0m \u001b[0;31m### change to 4/2 depending on the sensitive attribute (Age vs. task)\u001b[0m\u001b[0;34m\u001b[0m\u001b[0;34m\u001b[0m\u001b[0m\n\u001b[0m\u001b[1;32m     11\u001b[0m \u001b[0;34m\u001b[0m\u001b[0m\n\u001b[1;32m     12\u001b[0m     \u001b[0mlimits\u001b[0m \u001b[0;34m=\u001b[0m \u001b[0;34m(\u001b[0m \u001b[0mmin\u001b[0m\u001b[0;34m(\u001b[0m\u001b[0mdata\u001b[0m\u001b[0;34m)\u001b[0m\u001b[0;34m,\u001b[0m \u001b[0mmax\u001b[0m\u001b[0;34m(\u001b[0m\u001b[0mdata\u001b[0m\u001b[0;34m)\u001b[0m \u001b[0;34m)\u001b[0m\u001b[0;34m\u001b[0m\u001b[0;34m\u001b[0m\u001b[0m\n",
            "\u001b[0;31mAssertionError\u001b[0m: "
          ]
        }
      ]
    },
    {
      "cell_type": "markdown",
      "metadata": {
        "id": "sf3-XjExIYIF"
      },
      "source": [
        "# Debiasing the model\n",
        "\n",
        "---\n"
      ]
    },
    {
      "cell_type": "markdown",
      "source": [
        "In this part we aim to mitigate bias (removing the problematic signal) through the addition of inclusion (add singal for deasired features for a re-weighted singal to improved fairness)\n",
        "\n",
        "The dataset is not balanced for any of the groups present (different sample numbers) \n",
        "\n",
        "\n",
        "> NOTE: Bias can come from the acutal data or the algorithm (this includes technical bias from data processing & amplified bias from the feedback loops)\n",
        "\n",
        "\n",
        "#### Reminder to types of fairness and how to approach them\n",
        "\n",
        "- Demographic parity applies different classifciaiton thresholds per group while keeping the same fraction of +ives\n",
        "- Equal opp. uses different classifciaiton thresholds per group while keeping the same true positive rate\n",
        "- Equalized odds uses different classifciaiton thresholds per group while keeping the same true positive&false rate\n",
        "\n",
        "\n",
        "**We aim for equalized odds (EO) and ERP (error rate parity) cross groups.**\n",
        "\n",
        "\n",
        "\n",
        "#### De-biasing methods overview:\n",
        "\n",
        " - pre-processing: reweighing, disparate impact remover\n",
        " (data transportation, database reparis, data augmentation)\n",
        "\n",
        " - in-process: adversarial debiasing, prejudice remover\n",
        "\n",
        "- post process-process: through reductions: Exponential gradient (for disparity mitigation), Gridsearch,  ThresholdOptimizer, equalized odds/ calibrated offd/ reject option classification\n",
        "\n",
        "\n",
        "> NOTE: fairlearn only supports binary classificaiton \n",
        "\n",
        "\n",
        "\n",
        "STEPS:\n",
        "1. Pre-processing --> reweigh sample \n",
        "                  --> balance perfromance metric (already the case equal number of stressed/ non stressed people\n",
        "\n",
        "2. in process --> adversarial debiasing\n",
        "\n",
        "3. post process --> exponentiatedgradient, threshold optimizer, equalizedodds\n",
        "\n",
        "\n",
        "\n",
        "\n",
        "> Note: the base model already use **bias mitigation through unawareness** (this is standard practice), the sensitive attriabute IS NOT included in the training data -->  C=c(x, A) = c(X)\n",
        "\n",
        "\n",
        "\n",
        "\n",
        "https://proceedings.neurips.cc/paper/2020/file/03593ce517feac573fdaafa6dcedef61-Paper.pdf\n",
        "\n",
        "https://proceedings.neurips.cc/paper/2021/file/43c656628a4a479e108ed86f7a28a010-Paper.pdf\n",
        "\n",
        "\n",
        "https://arxiv.org/pdf/1810.01943.pdf\n",
        "\n"
      ],
      "metadata": {
        "id": "B-yF_BL-yDXl"
      }
    },
    {
      "cell_type": "markdown",
      "source": [
        "#### import libraries and helper functions"
      ],
      "metadata": {
        "id": "746t1XpOqESj"
      }
    },
    {
      "cell_type": "code",
      "source": [
        "import aif360\n",
        "\n",
        "from aif360.datasets import StandardDataset\n",
        "from sklearn.pipeline import make_pipeline \n",
        "\n",
        "# Fairness metrics\n",
        "from aif360.metrics import BinaryLabelDatasetMetric\n",
        "from aif360.metrics import DatasetMetric\n",
        "\n",
        "from aif360.metrics import ClassificationMetric\n",
        "\n",
        "# Explainers\n",
        "from aif360.explainers import MetricTextExplainer\n",
        "\n",
        "# Scalers\n",
        "from sklearn.preprocessing import StandardScaler\n",
        "\n",
        "# Bias mitigation techniques\n",
        "from aif360.algorithms.preprocessing import Reweighing\n",
        "from aif360.algorithms.inprocessing import AdversarialDebiasing\n",
        "from aif360.algorithms.inprocessing import PrejudiceRemover\n",
        "\n",
        "# fairlearn libraries\n",
        "from fairlearn.postprocessing import ThresholdOptimizer, plot_threshold_optimizer\n",
        "from fairlearn.postprocessing._interpolated_thresholder import InterpolatedThresholder\n",
        "from fairlearn.postprocessing._threshold_operation import ThresholdOperation\n",
        "\n",
        "from fairlearn.reductions import (ExponentiatedGradient, \n",
        "                                  EqualizedOdds, \n",
        "                                  TruePositiveRateParity,\n",
        "                                  GridSearch)\n",
        "\n",
        "from fairlearn.metrics import (MetricFrame,\n",
        "                               true_positive_rate,\n",
        "                               false_positive_rate,\n",
        "                               false_negative_rate,\n",
        "                               selection_rate,\n",
        "                               count,\n",
        "                               false_negative_rate_difference)\n",
        "\n",
        "\n",
        "\n",
        "from IPython.display import Markdown, display\n",
        "import matplotlib.pyplot as plt"
      ],
      "metadata": {
        "id": "x1RrNf1e0raQ"
      },
      "execution_count": null,
      "outputs": []
    },
    {
      "cell_type": "markdown",
      "source": [
        "#### 1. Reweigh samples for age (AIF360)\n",
        "\n",
        "http://arno.uvt.nl/show.cgi?fid=157880\n",
        "\n",
        "https://nbviewer.org/github/IBM/AIF360/blob/master/examples/tutorial_credit_scoring.ipynb\n"
      ],
      "metadata": {
        "id": "QClTGz2ADunB"
      }
    },
    {
      "cell_type": "code",
      "source": [
        "# set dataset in aif360 format\n",
        "ds_aif = aif360.datasets.StandardDataset (df, \n",
        "                                         label_name=\"fatiguestate\",\n",
        "                                         favorable_classes = [1], \n",
        "                                         protected_attribute_names=['Age', 'task'], \n",
        "                                         privileged_classes= [lambda x: x >= 31],\n",
        "                                         features_to_drop=['subject'])"
      ],
      "metadata": {
        "id": "TClA0mBrZIzg"
      },
      "execution_count": null,
      "outputs": []
    },
    {
      "cell_type": "code",
      "source": [
        "# test, train split\n",
        "\n",
        "ds_train, ds_test = ds_aif.split([0.7], shuffle=True)\n",
        "\n",
        "display(Markdown(\"#### Original training dataset\"))\n",
        "print(\"Difference in mean outcomes between unprivileged and privileged groups = %f\" % metric_orig_train.mean_difference())"
      ],
      "metadata": {
        "colab": {
          "base_uri": "https://localhost:8080/",
          "height": 75
        },
        "id": "2a0RE3X1t4sM",
        "outputId": "78b73ac2-9290-4583-fdca-3b25624b6489"
      },
      "execution_count": null,
      "outputs": [
        {
          "output_type": "display_data",
          "data": {
            "text/plain": [
              "<IPython.core.display.Markdown object>"
            ],
            "text/markdown": "#### Original training dataset"
          },
          "metadata": {}
        },
        {
          "output_type": "stream",
          "name": "stdout",
          "text": [
            "Difference in mean outcomes between unprivileged and privileged groups = 0.030549\n"
          ]
        }
      ]
    },
    {
      "cell_type": "code",
      "source": [
        "# pre-processing - reweighing \n",
        "# define priviledged & unpriviledged groups\n",
        "unpriv = [{'Age': 0}]\n",
        "priv = [{'Age': 1}]\n",
        "\n",
        "# reweigh\n",
        "RW = Reweighing (unprivileged_groups = unpriv, \n",
        "                               privileged_groups = priv)\n",
        "\n",
        "RW_train = RW.fit_transform(ds_train)"
      ],
      "metadata": {
        "id": "mZ4j_QdOhAl4"
      },
      "execution_count": null,
      "outputs": []
    },
    {
      "cell_type": "code",
      "source": [
        "# check for metric before and after transforming \n",
        "metric_train = BinaryLabelDatasetMetric(ds_train,\n",
        "                                        unprivileged_groups = unpriv,\n",
        "                                        privileged_groups = priv)\n",
        "\n",
        "explainer_train = MetricTextExplainer(metric_train)\n",
        "\n",
        "metric_transf_train = BinaryLabelDatasetMetric(RW_train,\n",
        "                                               unprivileged_groups=unpriv,\n",
        "                                               privileged_groups=priv)\n",
        "\n",
        "explainer_transf_train = MetricTextExplainer(metric_transf_train)\n",
        "\n",
        "print(f'Before reweighing {explainer_train.disparate_impact()}')\n",
        "print(f'After reweighing {explainer_transf_train.disparate_impact()}')"
      ],
      "metadata": {
        "colab": {
          "base_uri": "https://localhost:8080/"
        },
        "id": "cuAXatUVvHKF",
        "outputId": "54e5d28c-d343-47cc-83ad-b999b9d1f2f8"
      },
      "execution_count": null,
      "outputs": [
        {
          "output_type": "stream",
          "name": "stdout",
          "text": [
            "Before reweighing Disparate impact (probability of favorable outcome for unprivileged instances / probability of favorable outcome for privileged instances): 0.967032967032967\n",
            "After reweighing Disparate impact (probability of favorable outcome for unprivileged instances / probability of favorable outcome for privileged instances): 1.0000000000000004\n"
          ]
        }
      ]
    },
    {
      "cell_type": "code",
      "source": [
        "# refit rfc model & get metrics\n",
        "X_train = RW_train.features\n",
        "y_train = RW_train.labels.ravel()\n",
        "w_train = RW_train.instance_weights\n",
        "\n",
        "X_test = ds_test.features\n",
        "y_test = ds_test.labels.ravel()"
      ],
      "metadata": {
        "id": "r02kb1_j1DFN"
      },
      "execution_count": null,
      "outputs": []
    },
    {
      "cell_type": "markdown",
      "source": [
        "###### evaluations"
      ],
      "metadata": {
        "id": "r_JCdbNYOX06"
      }
    },
    {
      "cell_type": "code",
      "source": [
        "# train models with reweighted data\n",
        "fig, axes = plt.subplots(nrows=2, ncols=2, figsize=(8, 8))\n",
        "\n",
        "for cls, ax in zip(classifiers, axes.flatten()):\n",
        "    dataset = RW_train\n",
        "    cls.fit(dataset.features, dataset.labels.ravel(), sample_weight = dataset.instance_weights)\n",
        "    \n",
        "    plot_confusion_matrix(cls, \n",
        "                          X_test, \n",
        "                          y_test, \n",
        "                          ax=ax, \n",
        "                          cmap='YlGnBu')\n",
        "    ax.title.set_text(type(cls).__name__)\n",
        "\n",
        "plt.tight_layout()\n",
        "plt.show()"
      ],
      "metadata": {
        "colab": {
          "base_uri": "https://localhost:8080/",
          "height": 790
        },
        "id": "hoQDEH_uMMTe",
        "outputId": "a817126a-e594-4c0d-e8f9-b0d3440d3a76"
      },
      "execution_count": null,
      "outputs": [
        {
          "output_type": "stream",
          "name": "stderr",
          "text": [
            "Function plot_confusion_matrix is deprecated; Function `plot_confusion_matrix` is deprecated in 1.0 and will be removed in 1.2. Use one of the class methods: ConfusionMatrixDisplay.from_predictions or ConfusionMatrixDisplay.from_estimator.\n",
            "lbfgs failed to converge (status=1):\n",
            "STOP: TOTAL NO. of ITERATIONS REACHED LIMIT.\n",
            "\n",
            "Increase the number of iterations (max_iter) or scale the data as shown in:\n",
            "    https://scikit-learn.org/stable/modules/preprocessing.html\n",
            "Please also refer to the documentation for alternative solver options:\n",
            "    https://scikit-learn.org/stable/modules/linear_model.html#logistic-regression\n",
            "Function plot_confusion_matrix is deprecated; Function `plot_confusion_matrix` is deprecated in 1.0 and will be removed in 1.2. Use one of the class methods: ConfusionMatrixDisplay.from_predictions or ConfusionMatrixDisplay.from_estimator.\n",
            "Function plot_confusion_matrix is deprecated; Function `plot_confusion_matrix` is deprecated in 1.0 and will be removed in 1.2. Use one of the class methods: ConfusionMatrixDisplay.from_predictions or ConfusionMatrixDisplay.from_estimator.\n"
          ]
        },
        {
          "output_type": "display_data",
          "data": {
            "text/plain": [
              "<Figure size 576x576 with 7 Axes>"
            ],
            "image/png": "[encoded data removed]"
          },
          "metadata": {
            "needs_background": "light"
          }
        }
      ]
    },
    {
      "cell_type": "code",
      "source": [
        "# double check with train set\n",
        "fig, axes = plt.subplots(nrows=2, ncols=2, figsize=(8, 8))\n",
        "\n",
        "for cls, ax in zip(classifiers, axes.flatten()):\n",
        "    dataset = RW_train\n",
        "    cls.fit(dataset.features, dataset.labels.ravel(), sample_weight = dataset.instance_weights)\n",
        "    plot_confusion_matrix(cls, \n",
        "                          X_train, \n",
        "                          y_train, \n",
        "                          ax=ax, \n",
        "                          cmap='YlGnBu')\n",
        "    ax.title.set_text(type(cls).__name__)\n",
        "plt.tight_layout()\n",
        "plt.show()"
      ],
      "metadata": {
        "colab": {
          "base_uri": "https://localhost:8080/",
          "height": 790
        },
        "id": "TlGpTZSgM44Q",
        "outputId": "b82c7119-5b17-4f6f-d22a-de98752bd685"
      },
      "execution_count": null,
      "outputs": [
        {
          "output_type": "stream",
          "name": "stderr",
          "text": [
            "Function plot_confusion_matrix is deprecated; Function `plot_confusion_matrix` is deprecated in 1.0 and will be removed in 1.2. Use one of the class methods: ConfusionMatrixDisplay.from_predictions or ConfusionMatrixDisplay.from_estimator.\n",
            "lbfgs failed to converge (status=1):\n",
            "STOP: TOTAL NO. of ITERATIONS REACHED LIMIT.\n",
            "\n",
            "Increase the number of iterations (max_iter) or scale the data as shown in:\n",
            "    https://scikit-learn.org/stable/modules/preprocessing.html\n",
            "Please also refer to the documentation for alternative solver options:\n",
            "    https://scikit-learn.org/stable/modules/linear_model.html#logistic-regression\n",
            "Function plot_confusion_matrix is deprecated; Function `plot_confusion_matrix` is deprecated in 1.0 and will be removed in 1.2. Use one of the class methods: ConfusionMatrixDisplay.from_predictions or ConfusionMatrixDisplay.from_estimator.\n",
            "Function plot_confusion_matrix is deprecated; Function `plot_confusion_matrix` is deprecated in 1.0 and will be removed in 1.2. Use one of the class methods: ConfusionMatrixDisplay.from_predictions or ConfusionMatrixDisplay.from_estimator.\n"
          ]
        },
        {
          "output_type": "display_data",
          "data": {
            "text/plain": [
              "<Figure size 576x576 with 7 Axes>"
            ],
            "image/png": "[encoded data removed]"
          },
          "metadata": {
            "needs_background": "light"
          }
        }
      ]
    },
    {
      "cell_type": "code",
      "source": [
        "for cls in classifiers:\n",
        "  dataset = RW_train\n",
        "  cls.fit(dataset.features, dataset.labels.ravel(), sample_weight = dataset.instance_weights)\n",
        "  y_pred = cls.predict(X_test)\n",
        "  \n",
        "  print(f'{cls}: {chr(10)} {classification_report(y_test, y_pred)}')"
      ],
      "metadata": {
        "id": "qcXJggyrNSxR",
        "colab": {
          "base_uri": "https://localhost:8080/",
          "height": 253
        },
        "outputId": "08b4740a-61c9-434b-fba7-12020d532b17"
      },
      "execution_count": null,
      "outputs": [
        {
          "output_type": "error",
          "ename": "NameError",
          "evalue": "ignored",
          "traceback": [
            "\u001b[0;31m---------------------------------------------------------------------------\u001b[0m",
            "\u001b[0;31mNameError\u001b[0m                                 Traceback (most recent call last)",
            "\u001b[0;32m<ipython-input-1-7c3e222f80b8>\u001b[0m in \u001b[0;36m<module>\u001b[0;34m()\u001b[0m\n\u001b[0;32m----> 1\u001b[0;31m \u001b[0;32mfor\u001b[0m \u001b[0mcls\u001b[0m \u001b[0;32min\u001b[0m \u001b[0mclassifiers\u001b[0m\u001b[0;34m:\u001b[0m\u001b[0;34m\u001b[0m\u001b[0;34m\u001b[0m\u001b[0m\n\u001b[0m\u001b[1;32m      2\u001b[0m   \u001b[0mdataset\u001b[0m \u001b[0;34m=\u001b[0m \u001b[0mRW_train\u001b[0m\u001b[0;34m\u001b[0m\u001b[0;34m\u001b[0m\u001b[0m\n\u001b[1;32m      3\u001b[0m   \u001b[0mcls\u001b[0m\u001b[0;34m.\u001b[0m\u001b[0mfit\u001b[0m\u001b[0;34m(\u001b[0m\u001b[0mdataset\u001b[0m\u001b[0;34m.\u001b[0m\u001b[0mfeatures\u001b[0m\u001b[0;34m,\u001b[0m \u001b[0mdataset\u001b[0m\u001b[0;34m.\u001b[0m\u001b[0mlabels\u001b[0m\u001b[0;34m.\u001b[0m\u001b[0mravel\u001b[0m\u001b[0;34m(\u001b[0m\u001b[0;34m)\u001b[0m\u001b[0;34m,\u001b[0m \u001b[0msample_weight\u001b[0m \u001b[0;34m=\u001b[0m \u001b[0mdataset\u001b[0m\u001b[0;34m.\u001b[0m\u001b[0minstance_weights\u001b[0m\u001b[0;34m)\u001b[0m\u001b[0;34m\u001b[0m\u001b[0;34m\u001b[0m\u001b[0m\n\u001b[1;32m      4\u001b[0m   \u001b[0my_pred\u001b[0m \u001b[0;34m=\u001b[0m \u001b[0mmodel\u001b[0m\u001b[0;34m.\u001b[0m\u001b[0mpredict\u001b[0m\u001b[0;34m(\u001b[0m\u001b[0mX_test\u001b[0m\u001b[0;34m)\u001b[0m\u001b[0;34m\u001b[0m\u001b[0;34m\u001b[0m\u001b[0m\n\u001b[1;32m      5\u001b[0m \u001b[0;34m\u001b[0m\u001b[0m\n",
            "\u001b[0;31mNameError\u001b[0m: name 'classifiers' is not defined"
          ]
        }
      ]
    },
    {
      "cell_type": "markdown",
      "source": [
        "###### fairness evaluations"
      ],
      "metadata": {
        "id": "d-6CDSP_Ob2M"
      }
    },
    {
      "cell_type": "code",
      "source": [
        "# define test \n",
        "ds_test_pred = ds_test.copy(deepcopy=True)"
      ],
      "metadata": {
        "id": "1kOnsSj5E77j"
      },
      "execution_count": null,
      "outputs": []
    },
    {
      "cell_type": "code",
      "source": [
        "for model in classifiers:\n",
        "\n",
        "  model.fit(RW_train.features, RW_train.labels.ravel(), sample_weight = dataset.instance_weights)\n",
        "  y_pred = model.predict(X_test)\n",
        "  \n",
        "  # scores on test set\n",
        "  ds_test_pred.scores = model.predict_proba(X_test)[:1]\n",
        "\n",
        "  # predictions (0 or 1) on test set\n",
        "  y_train_pred = model.predict(X_train)\n",
        "  test_preds = (y_pred >= np.mean(y_train)) * 1\n",
        "\n",
        "  models_dict = {\"Unmitigated\": (test_preds, y_pred)}\n",
        "\n",
        "  print(f'Age:{chr(10)}{model}: {chr(10)} {get_metrics_df(models_dict, y_test, age)} {chr(10)}')\n",
        "  \n",
        "  print(f'Age:{chr(10)}{model}: {chr(10)} {metric_frame (age)} {chr(10)}')"
      ],
      "metadata": {
        "id": "wS_RSJNEjnzU",
        "colab": {
          "base_uri": "https://localhost:8080/"
        },
        "outputId": "1ebabfd8-af77-4890-d1c3-6282081c5f1d"
      },
      "execution_count": null,
      "outputs": [
        {
          "output_type": "error",
          "ename": "ValueError",
          "evalue": "ignored",
          "traceback": [
            "\u001b[0;31m---------------------------------------------------------------------------\u001b[0m",
            "\u001b[0;31mValueError\u001b[0m                                Traceback (most recent call last)",
            "\u001b[0;32m<ipython-input-187-72983d594c0c>\u001b[0m in \u001b[0;36m<module>\u001b[0;34m()\u001b[0m\n\u001b[1;32m     13\u001b[0m   \u001b[0mmodels_dict\u001b[0m \u001b[0;34m=\u001b[0m \u001b[0;34m{\u001b[0m\u001b[0;34m\"Unmitigated\"\u001b[0m\u001b[0;34m:\u001b[0m \u001b[0;34m(\u001b[0m\u001b[0mtest_preds\u001b[0m\u001b[0;34m,\u001b[0m \u001b[0my_pred\u001b[0m\u001b[0;34m)\u001b[0m\u001b[0;34m}\u001b[0m\u001b[0;34m\u001b[0m\u001b[0;34m\u001b[0m\u001b[0m\n\u001b[1;32m     14\u001b[0m \u001b[0;34m\u001b[0m\u001b[0m\n\u001b[0;32m---> 15\u001b[0;31m   \u001b[0mprint\u001b[0m\u001b[0;34m(\u001b[0m\u001b[0;34mf'Age:{chr(10)}{model}: {chr(10)} {get_metrics_df(models_dict, y_test, age)} {chr(10)}'\u001b[0m\u001b[0;34m)\u001b[0m\u001b[0;34m\u001b[0m\u001b[0;34m\u001b[0m\u001b[0m\n\u001b[0m\u001b[1;32m     16\u001b[0m \u001b[0;34m\u001b[0m\u001b[0m\n\u001b[1;32m     17\u001b[0m   \u001b[0mprint\u001b[0m\u001b[0;34m(\u001b[0m\u001b[0;34mf'Age:{chr(10)}{model}: {chr(10)} {metric_frame (age)} {chr(10)}'\u001b[0m\u001b[0;34m)\u001b[0m\u001b[0;34m\u001b[0m\u001b[0;34m\u001b[0m\u001b[0m\n",
            "\u001b[0;32m<ipython-input-39-3bbfbd76e08e>\u001b[0m in \u001b[0;36mget_metrics_df\u001b[0;34m(models_dict, y_true, group)\u001b[0m\n\u001b[1;32m     29\u001b[0m     \u001b[0;32mfor\u001b[0m \u001b[0mmetric_name\u001b[0m\u001b[0;34m,\u001b[0m \u001b[0;34m(\u001b[0m\u001b[0mmetric_func\u001b[0m\u001b[0;34m,\u001b[0m \u001b[0muse_preds\u001b[0m\u001b[0;34m)\u001b[0m \u001b[0;32min\u001b[0m \u001b[0mmetrics_dict\u001b[0m\u001b[0;34m.\u001b[0m\u001b[0mitems\u001b[0m\u001b[0;34m(\u001b[0m\u001b[0;34m)\u001b[0m\u001b[0;34m:\u001b[0m\u001b[0;34m\u001b[0m\u001b[0;34m\u001b[0m\u001b[0m\n\u001b[1;32m     30\u001b[0m         df_dict[metric_name] = [metric_func(preds) if use_preds else metric_func(scores) \n\u001b[0;32m---> 31\u001b[0;31m                                 for model_name, (preds, scores) in models_dict.items()]\n\u001b[0m\u001b[1;32m     32\u001b[0m     \u001b[0;32mreturn\u001b[0m \u001b[0mpd\u001b[0m\u001b[0;34m.\u001b[0m\u001b[0mDataFrame\u001b[0m\u001b[0;34m.\u001b[0m\u001b[0mfrom_dict\u001b[0m\u001b[0;34m(\u001b[0m\u001b[0mdf_dict\u001b[0m\u001b[0;34m,\u001b[0m \u001b[0morient\u001b[0m\u001b[0;34m=\u001b[0m\u001b[0;34m\"index\"\u001b[0m\u001b[0;34m,\u001b[0m \u001b[0mcolumns\u001b[0m\u001b[0;34m=\u001b[0m\u001b[0mmodels_dict\u001b[0m\u001b[0;34m.\u001b[0m\u001b[0mkeys\u001b[0m\u001b[0;34m(\u001b[0m\u001b[0;34m)\u001b[0m\u001b[0;34m)\u001b[0m\u001b[0;34m\u001b[0m\u001b[0;34m\u001b[0m\u001b[0m\n\u001b[1;32m     33\u001b[0m \u001b[0;34m\u001b[0m\u001b[0m\n",
            "\u001b[0;32m<ipython-input-39-3bbfbd76e08e>\u001b[0m in \u001b[0;36m<listcomp>\u001b[0;34m(.0)\u001b[0m\n\u001b[1;32m     29\u001b[0m     \u001b[0;32mfor\u001b[0m \u001b[0mmetric_name\u001b[0m\u001b[0;34m,\u001b[0m \u001b[0;34m(\u001b[0m\u001b[0mmetric_func\u001b[0m\u001b[0;34m,\u001b[0m \u001b[0muse_preds\u001b[0m\u001b[0;34m)\u001b[0m \u001b[0;32min\u001b[0m \u001b[0mmetrics_dict\u001b[0m\u001b[0;34m.\u001b[0m\u001b[0mitems\u001b[0m\u001b[0;34m(\u001b[0m\u001b[0;34m)\u001b[0m\u001b[0;34m:\u001b[0m\u001b[0;34m\u001b[0m\u001b[0;34m\u001b[0m\u001b[0m\n\u001b[1;32m     30\u001b[0m         df_dict[metric_name] = [metric_func(preds) if use_preds else metric_func(scores) \n\u001b[0;32m---> 31\u001b[0;31m                                 for model_name, (preds, scores) in models_dict.items()]\n\u001b[0m\u001b[1;32m     32\u001b[0m     \u001b[0;32mreturn\u001b[0m \u001b[0mpd\u001b[0m\u001b[0;34m.\u001b[0m\u001b[0mDataFrame\u001b[0m\u001b[0;34m.\u001b[0m\u001b[0mfrom_dict\u001b[0m\u001b[0;34m(\u001b[0m\u001b[0mdf_dict\u001b[0m\u001b[0;34m,\u001b[0m \u001b[0morient\u001b[0m\u001b[0;34m=\u001b[0m\u001b[0;34m\"index\"\u001b[0m\u001b[0;34m,\u001b[0m \u001b[0mcolumns\u001b[0m\u001b[0;34m=\u001b[0m\u001b[0mmodels_dict\u001b[0m\u001b[0;34m.\u001b[0m\u001b[0mkeys\u001b[0m\u001b[0;34m(\u001b[0m\u001b[0;34m)\u001b[0m\u001b[0;34m)\u001b[0m\u001b[0;34m\u001b[0m\u001b[0;34m\u001b[0m\u001b[0m\n\u001b[1;32m     33\u001b[0m \u001b[0;34m\u001b[0m\u001b[0m\n",
            "\u001b[0;32m<ipython-input-39-3bbfbd76e08e>\u001b[0m in \u001b[0;36m<lambda>\u001b[0;34m(x)\u001b[0m\n\u001b[1;32m      3\u001b[0m     metrics_dict = {\n\u001b[1;32m      4\u001b[0m         \"Equalized_odds_difference\": (\n\u001b[0;32m----> 5\u001b[0;31m             lambda x: equalized_odds_difference(y_true, x, sensitive_features=group), True),\n\u001b[0m\u001b[1;32m      6\u001b[0m         \"Demographic parity difference\": (\n\u001b[1;32m      7\u001b[0m             lambda x: demographic_parity_difference(y_true, x, sensitive_features=group), True),\n",
            "\u001b[0;32m/usr/local/lib/python3.7/dist-packages/fairlearn/metrics/_disparities.py\u001b[0m in \u001b[0;36mequalized_odds_difference\u001b[0;34m(y_true, y_pred, sensitive_features, method, sample_weight)\u001b[0m\n\u001b[1;32m    140\u001b[0m         \u001b[0mThe\u001b[0m \u001b[0mequalized\u001b[0m \u001b[0modds\u001b[0m \u001b[0mdifference\u001b[0m\u001b[0;34m\u001b[0m\u001b[0;34m\u001b[0m\u001b[0m\n\u001b[1;32m    141\u001b[0m     \"\"\"\n\u001b[0;32m--> 142\u001b[0;31m     \u001b[0meo\u001b[0m \u001b[0;34m=\u001b[0m \u001b[0m_get_eo_frame\u001b[0m\u001b[0;34m(\u001b[0m\u001b[0my_true\u001b[0m\u001b[0;34m,\u001b[0m \u001b[0my_pred\u001b[0m\u001b[0;34m,\u001b[0m \u001b[0msensitive_features\u001b[0m\u001b[0;34m,\u001b[0m \u001b[0msample_weight\u001b[0m\u001b[0;34m)\u001b[0m\u001b[0;34m\u001b[0m\u001b[0;34m\u001b[0m\u001b[0m\n\u001b[0m\u001b[1;32m    143\u001b[0m \u001b[0;34m\u001b[0m\u001b[0m\n\u001b[1;32m    144\u001b[0m     \u001b[0;32mreturn\u001b[0m \u001b[0mmax\u001b[0m\u001b[0;34m(\u001b[0m\u001b[0meo\u001b[0m\u001b[0;34m.\u001b[0m\u001b[0mdifference\u001b[0m\u001b[0;34m(\u001b[0m\u001b[0mmethod\u001b[0m\u001b[0;34m=\u001b[0m\u001b[0mmethod\u001b[0m\u001b[0;34m)\u001b[0m\u001b[0;34m)\u001b[0m\u001b[0;34m\u001b[0m\u001b[0;34m\u001b[0m\u001b[0m\n",
            "\u001b[0;32m/usr/local/lib/python3.7/dist-packages/fairlearn/metrics/_disparities.py\u001b[0m in \u001b[0;36m_get_eo_frame\u001b[0;34m(y_true, y_pred, sensitive_features, sample_weight)\u001b[0m\n\u001b[1;32m    198\u001b[0m                      \u001b[0my_pred\u001b[0m\u001b[0;34m=\u001b[0m\u001b[0my_pred\u001b[0m\u001b[0;34m,\u001b[0m\u001b[0;34m\u001b[0m\u001b[0;34m\u001b[0m\u001b[0m\n\u001b[1;32m    199\u001b[0m                      \u001b[0msensitive_features\u001b[0m\u001b[0;34m=\u001b[0m\u001b[0msensitive_features\u001b[0m\u001b[0;34m,\u001b[0m\u001b[0;34m\u001b[0m\u001b[0;34m\u001b[0m\u001b[0m\n\u001b[0;32m--> 200\u001b[0;31m                      sample_params=sp)\n\u001b[0m\u001b[1;32m    201\u001b[0m     \u001b[0;32mreturn\u001b[0m \u001b[0meo\u001b[0m\u001b[0;34m\u001b[0m\u001b[0;34m\u001b[0m\u001b[0m\n",
            "\u001b[0;32m/usr/local/lib/python3.7/dist-packages/fairlearn/metrics/_metric_frame.py\u001b[0m in \u001b[0;36mcompatible_metric_frame_init\u001b[0;34m(self, metric, *args, **kwargs)\u001b[0m\n\u001b[1;32m     82\u001b[0m                               \u001b[0;34m**\u001b[0m\u001b[0mmetric_arg_dict\u001b[0m\u001b[0;34m,\u001b[0m\u001b[0;34m\u001b[0m\u001b[0;34m\u001b[0m\u001b[0m\n\u001b[1;32m     83\u001b[0m                               \u001b[0;34m**\u001b[0m\u001b[0mpositional_dict\u001b[0m\u001b[0;34m,\u001b[0m\u001b[0;34m\u001b[0m\u001b[0;34m\u001b[0m\u001b[0m\n\u001b[0;32m---> 84\u001b[0;31m                               **kwargs)\n\u001b[0m\u001b[1;32m     85\u001b[0m \u001b[0;34m\u001b[0m\u001b[0m\n\u001b[1;32m     86\u001b[0m     \u001b[0;32mreturn\u001b[0m \u001b[0mcompatible_metric_frame_init\u001b[0m\u001b[0;34m\u001b[0m\u001b[0;34m\u001b[0m\u001b[0m\n",
            "\u001b[0;32m/usr/local/lib/python3.7/dist-packages/fairlearn/metrics/_metric_frame.py\u001b[0m in \u001b[0;36m__init__\u001b[0;34m(self, metrics, y_true, y_pred, sensitive_features, control_features, sample_params)\u001b[0m\n\u001b[1;32m    204\u001b[0m \u001b[0;34m\u001b[0m\u001b[0m\n\u001b[1;32m    205\u001b[0m         \u001b[0;31m# Now, prepare the sensitive features\u001b[0m\u001b[0;34m\u001b[0m\u001b[0;34m\u001b[0m\u001b[0;34m\u001b[0m\u001b[0m\n\u001b[0;32m--> 206\u001b[0;31m         \u001b[0msf_list\u001b[0m \u001b[0;34m=\u001b[0m \u001b[0mself\u001b[0m\u001b[0;34m.\u001b[0m\u001b[0m_process_features\u001b[0m\u001b[0;34m(\u001b[0m\u001b[0;34m\"sensitive_feature_\"\u001b[0m\u001b[0;34m,\u001b[0m \u001b[0msensitive_features\u001b[0m\u001b[0;34m,\u001b[0m \u001b[0my_t\u001b[0m\u001b[0;34m)\u001b[0m\u001b[0;34m\u001b[0m\u001b[0;34m\u001b[0m\u001b[0m\n\u001b[0m\u001b[1;32m    207\u001b[0m         \u001b[0mself\u001b[0m\u001b[0;34m.\u001b[0m\u001b[0m_sf_names\u001b[0m \u001b[0;34m=\u001b[0m \u001b[0;34m[\u001b[0m\u001b[0mx\u001b[0m\u001b[0;34m.\u001b[0m\u001b[0mname\u001b[0m \u001b[0;32mfor\u001b[0m \u001b[0mx\u001b[0m \u001b[0;32min\u001b[0m \u001b[0msf_list\u001b[0m\u001b[0;34m]\u001b[0m\u001b[0;34m\u001b[0m\u001b[0;34m\u001b[0m\u001b[0m\n\u001b[1;32m    208\u001b[0m \u001b[0;34m\u001b[0m\u001b[0m\n",
            "\u001b[0;32m/usr/local/lib/python3.7/dist-packages/fairlearn/metrics/_metric_frame.py\u001b[0m in \u001b[0;36m_process_features\u001b[0;34m(self, base_name, features, sample_array)\u001b[0m\n\u001b[1;32m    577\u001b[0m \u001b[0;34m\u001b[0m\u001b[0m\n\u001b[1;32m    578\u001b[0m         \u001b[0;32mif\u001b[0m \u001b[0misinstance\u001b[0m\u001b[0;34m(\u001b[0m\u001b[0mfeatures\u001b[0m\u001b[0;34m,\u001b[0m \u001b[0mpd\u001b[0m\u001b[0;34m.\u001b[0m\u001b[0mSeries\u001b[0m\u001b[0;34m)\u001b[0m\u001b[0;34m:\u001b[0m\u001b[0;34m\u001b[0m\u001b[0;34m\u001b[0m\u001b[0m\n\u001b[0;32m--> 579\u001b[0;31m             \u001b[0mcheck_consistent_length\u001b[0m\u001b[0;34m(\u001b[0m\u001b[0mfeatures\u001b[0m\u001b[0;34m,\u001b[0m \u001b[0msample_array\u001b[0m\u001b[0;34m)\u001b[0m\u001b[0;34m\u001b[0m\u001b[0;34m\u001b[0m\u001b[0m\n\u001b[0m\u001b[1;32m    580\u001b[0m             \u001b[0mresult\u001b[0m\u001b[0;34m.\u001b[0m\u001b[0mappend\u001b[0m\u001b[0;34m(\u001b[0m\u001b[0mGroupFeature\u001b[0m\u001b[0;34m(\u001b[0m\u001b[0mbase_name\u001b[0m\u001b[0;34m,\u001b[0m \u001b[0mfeatures\u001b[0m\u001b[0;34m,\u001b[0m \u001b[0;36m0\u001b[0m\u001b[0;34m,\u001b[0m \u001b[0;32mNone\u001b[0m\u001b[0;34m)\u001b[0m\u001b[0;34m)\u001b[0m\u001b[0;34m\u001b[0m\u001b[0;34m\u001b[0m\u001b[0m\n\u001b[1;32m    581\u001b[0m         \u001b[0;32melif\u001b[0m \u001b[0misinstance\u001b[0m\u001b[0;34m(\u001b[0m\u001b[0mfeatures\u001b[0m\u001b[0;34m,\u001b[0m \u001b[0mpd\u001b[0m\u001b[0;34m.\u001b[0m\u001b[0mDataFrame\u001b[0m\u001b[0;34m)\u001b[0m\u001b[0;34m:\u001b[0m\u001b[0;34m\u001b[0m\u001b[0;34m\u001b[0m\u001b[0m\n",
            "\u001b[0;32m/usr/local/lib/python3.7/dist-packages/sklearn/utils/validation.py\u001b[0m in \u001b[0;36mcheck_consistent_length\u001b[0;34m(*arrays)\u001b[0m\n\u001b[1;32m    332\u001b[0m         raise ValueError(\n\u001b[1;32m    333\u001b[0m             \u001b[0;34m\"Found input variables with inconsistent numbers of samples: %r\"\u001b[0m\u001b[0;34m\u001b[0m\u001b[0;34m\u001b[0m\u001b[0m\n\u001b[0;32m--> 334\u001b[0;31m             \u001b[0;34m%\u001b[0m \u001b[0;34m[\u001b[0m\u001b[0mint\u001b[0m\u001b[0;34m(\u001b[0m\u001b[0ml\u001b[0m\u001b[0;34m)\u001b[0m \u001b[0;32mfor\u001b[0m \u001b[0ml\u001b[0m \u001b[0;32min\u001b[0m \u001b[0mlengths\u001b[0m\u001b[0;34m]\u001b[0m\u001b[0;34m\u001b[0m\u001b[0;34m\u001b[0m\u001b[0m\n\u001b[0m\u001b[1;32m    335\u001b[0m         )\n\u001b[1;32m    336\u001b[0m \u001b[0;34m\u001b[0m\u001b[0m\n",
            "\u001b[0;31mValueError\u001b[0m: Found input variables with inconsistent numbers of samples: [166, 151]"
          ]
        }
      ]
    },
    {
      "cell_type": "markdown",
      "source": [
        "#### 2. Adverserial debiasing (AIF360)\n"
      ],
      "metadata": {
        "id": "4JU4oe4oz-c-"
      }
    },
    {
      "cell_type": "code",
      "source": [
        "metric_orig_train = BinaryLabelDatasetMetric(ds_train, \n",
        "                                            unprivileged_groups = unpriv,\n",
        "                                            privileged_groups = priv)\n",
        "display(Markdown(\"#### Original training dataset\"))\n",
        "print(\"Train set: Difference in mean outcomes between unprivileged and privileged groups = %f\" % metric_orig_train.mean_difference())\n",
        "metric_orig_test = BinaryLabelDatasetMetric(ds_test, \n",
        "                                            unprivileged_groups = unpriv,\n",
        "                                            privileged_groups = priv)\n",
        "print(\"Test set: Difference in mean outcomes between unprivileged and privileged groups = %f\" % metric_orig_test.mean_difference())"
      ],
      "metadata": {
        "colab": {
          "base_uri": "https://localhost:8080/",
          "height": 114
        },
        "id": "2zAX-HgoQO6-",
        "outputId": "b1e1d013-cbf4-403c-bed3-ac79bce7d083"
      },
      "execution_count": null,
      "outputs": [
        {
          "output_type": "display_data",
          "data": {
            "text/plain": [
              "<IPython.core.display.Markdown object>"
            ],
            "text/markdown": "#### Original training dataset"
          },
          "metadata": {}
        },
        {
          "output_type": "stream",
          "name": "stdout",
          "text": [
            "Train set: Difference in mean outcomes between unprivileged and privileged groups = 0.030549\n",
            "Test set: Difference in mean outcomes between unprivileged and privileged groups = -0.059775\n"
          ]
        }
      ]
    },
    {
      "cell_type": "code",
      "source": [
        "# Load post-processing algorithm that equalizes the odds\n",
        "# Learn parameters with debias set to False\n",
        "import tensorflow.compat.v1 as tf\n",
        "\n",
        "tf.disable_eager_execution()\n",
        "\n",
        "sess = tf.Session()\n",
        "sess.close()\n",
        "\n",
        "tf.reset_default_graph()\n",
        "sess = tf.Session()\n",
        "\n",
        "debiased_model = AdversarialDebiasing(privileged_groups = priv,\n",
        "                                                   unprivileged_groups = unpriv,\n",
        "                                                   scope_name = 'plain_classifier',\n",
        "                                                   debias = True,\n",
        "                                                   sess=sess)\n",
        "\n",
        "debiased_model.fit(ds_train)"
      ],
      "metadata": {
        "id": "MlYnPMw-RGvY"
      },
      "execution_count": null,
      "outputs": []
    },
    {
      "cell_type": "code",
      "source": [
        "# Apply the plain model to test data\n",
        "ds_debiasing_train = debiased_model.predict(ds_train)\n",
        "ds_debiasing_test = debiased_model.predict(ds_test)"
      ],
      "metadata": {
        "id": "Qy7dq_zjSyth"
      },
      "execution_count": null,
      "outputs": []
    },
    {
      "cell_type": "code",
      "source": [
        "# Metrics for the dataset from model with debiasing\n",
        "display(Markdown(\"#### Model - with debiasing - dataset metrics\"))\n",
        "metric_dataset_debiasing_train = BinaryLabelDatasetMetric(ds_debiasing_train, \n",
        "                                                          privileged_groups = priv,\n",
        "                                                          unprivileged_groups = unpriv,)\n",
        "\n",
        "print(\"Train set: Difference in mean outcomes between unprivileged and privileged groups = %f\" % metric_dataset_debiasing_train.mean_difference())\n",
        "\n",
        "metric_dataset_debiasing_test = BinaryLabelDatasetMetric(ds_debiasing_test, \n",
        "                                                         privileged_groups = priv,\n",
        "                                                         unprivileged_groups = unpriv,)\n",
        "\n",
        "print(\"Test set: Difference in mean outcomes between unprivileged and privileged groups = %f\" % metric_dataset_debiasing_test.mean_difference())\n",
        "\n"
      ],
      "metadata": {
        "colab": {
          "base_uri": "https://localhost:8080/",
          "height": 114
        },
        "id": "i9yxtyU3Uzur",
        "outputId": "cff94a36-009c-49a6-c34d-7bd9c96eebbe"
      },
      "execution_count": null,
      "outputs": [
        {
          "output_type": "display_data",
          "data": {
            "text/plain": [
              "<IPython.core.display.Markdown object>"
            ],
            "text/markdown": "#### Model - with debiasing - dataset metrics"
          },
          "metadata": {}
        },
        {
          "output_type": "stream",
          "name": "stdout",
          "text": [
            "Train set: Difference in mean outcomes between unprivileged and privileged groups = -0.033197\n",
            "Test set: Difference in mean outcomes between unprivileged and privileged groups = -0.034986\n"
          ]
        }
      ]
    },
    {
      "cell_type": "markdown",
      "source": [
        "https://nbviewer.org/github/Trusted-AI/AIF360/blob/master/examples/tutorial_medical_expenditure.ipynb#3.-Training-models-on-original-2015-Panel-19-data"
      ],
      "metadata": {
        "id": "XjmNWjB7laWz"
      }
    },
    {
      "cell_type": "markdown",
      "source": [
        "##### model evaluation\n"
      ],
      "metadata": {
        "id": "weKTkXl2Vy98"
      }
    },
    {
      "cell_type": "code",
      "source": [
        ""
      ],
      "metadata": {
        "id": "6vjc4ggCViZj"
      },
      "execution_count": null,
      "outputs": []
    },
    {
      "cell_type": "code",
      "source": [
        ""
      ],
      "metadata": {
        "id": "KHCyYOoLctcP"
      },
      "execution_count": null,
      "outputs": []
    },
    {
      "cell_type": "markdown",
      "source": [
        "#### Fair learn - post processign methods -- wrappers\n",
        "\n"
      ],
      "metadata": {
        "id": "NPQBrt0BBtH9"
      }
    },
    {
      "cell_type": "code",
      "source": [
        "# set test & train data & defining age as sensitive attribute\n",
        "X = df.drop(columns=['Age', 'fatiguestate'])\n",
        "y = df['fatiguestate']\n",
        "\n",
        "A = df[['Age']]\n",
        "\n",
        "# for fairnes measures (inlc. A for group classification, drop age to make it unaware to other senstive attributes (fairnes through unawarenes)) - AGE \n",
        "X_train, X_test, y_train, y_test, A_train, A_test, A_str_train, A_str_test = train_test_split(\n",
        "    X, \n",
        "    y, \n",
        "    A, \n",
        "    task_str,\n",
        "    test_size = 0.4, # increse number for more fairness \n",
        "    random_state=42)\n"
      ],
      "metadata": {
        "id": "xszIwx4z4BCN"
      },
      "execution_count": null,
      "outputs": []
    },
    {
      "cell_type": "code",
      "source": [
        "metrics_dict = {\"false_negative_rate\": false_negative_rate,         \n",
        "                \"selection_rate\": selection_rate,\n",
        "                \"balanced_accuracy\": balanced_accuracy_score\n",
        "                ,}"
      ],
      "metadata": {
        "id": "UhkgUbY-5SJn"
      },
      "execution_count": null,
      "outputs": []
    },
    {
      "cell_type": "code",
      "source": [
        "for cls in classifiers:\n",
        "  unmitigated_pipeline = Pipeline(steps=[(\"model\", cls)])\n",
        "\n",
        "  unmitigated_pipeline.fit(X_train, y_train)\n",
        "\n",
        "  Y_pred = unmitigated_pipeline.predict(X_test)\n",
        "\n",
        "  mf1 = MetricFrame(metrics=false_negative_rate,\n",
        "                    y_true=y_test,\n",
        "                    y_pred=Y_pred,\n",
        "                    sensitive_features=A_test)\n",
        "\n",
        "# The disaggregated metrics are stored in a pandas Series mf1.by_group:\n",
        "\n",
        "  print(f\"{cls}:\\n {mf1.by_group}\\n\"\n",
        "        f\"difference: {mf1.difference():.3}\\n\"\n",
        "        f\"ratio: {mf1.ratio():.3}\\n\"\n",
        "        f\"max across groups: {mf1.group_max():.3}\\n\"\n",
        "         f\"balanced_accuracy_score: {balanced_accuracy_score(y_test, Y_pred)}\\n\\n\")"
      ],
      "metadata": {
        "id": "v-KZK5x6Do7m"
      },
      "execution_count": null,
      "outputs": []
    },
    {
      "cell_type": "markdown",
      "source": [
        "#### 3. ExponentiatedGradient - reduction (fair learn)"
      ],
      "metadata": {
        "id": "2gTxoeNgn1Jx"
      }
    },
    {
      "cell_type": "code",
      "source": [
        "for cls in classifiers:\n",
        "  expgrad_est = ExponentiatedGradient(estimator=cls,\n",
        "                                    constraints=TruePositiveRateParity(difference_bound=0.07)) # for FNR 1-TPR\n",
        "  \n",
        "  expgrad_est.fit(X_train, y_train, sensitive_features=A_train)\n",
        "  \n",
        "  Y_pred_reductions = expgrad_est.predict(X_test, random_state=42)\n",
        "  \n",
        "  metricframe_reductions = MetricFrame(metrics=metrics_dict,\n",
        "                                       y_true=y_test,\n",
        "                                       y_pred=Y_pred_reductions,\n",
        "                                       sensitive_features=A_test)\n",
        "  metricframe_reductions.by_group\n",
        "\n",
        "  # Evaluate the difference between the largest and smallest value of each metric\n",
        "  print(f'{cls}:\\n',\n",
        "        f'{metricframe_reductions.difference()} \\n\\n')\n"
      ],
      "metadata": {
        "id": "IiK-YEdgyDCm"
      },
      "execution_count": null,
      "outputs": []
    },
    {
      "cell_type": "markdown",
      "source": [
        "#### 4. Thresholdoptimizer (fair learn - post processing)"
      ],
      "metadata": {
        "id": "PSX6PquRyG-v"
      }
    },
    {
      "cell_type": "markdown",
      "source": [
        "ThresholdOptimizer takes in an exisiting (possibly pre-fit) machine learning model whose predictions act as a scoring function and identifies a separate thrceshold for each group in order to optimize some specified objective metric (such as balanced accuracy) subject to specified fairness constraints (such as false negative rate parity). Thus, the resulting classifier is just a suitably thresholded version of the underlying machinelearning model."
      ],
      "metadata": {
        "id": "0gDoOpHZBtvB"
      }
    },
    {
      "cell_type": "code",
      "source": [
        "for cls in classifiers:\n",
        "  unmitigated_pipeline = Pipeline(steps=[(\"model\", cls)])\n",
        "\n",
        "  unmitigated_pipeline.fit(X_train, y_train)\n",
        "\n",
        "  Y_pred = unmitigated_pipeline.predict(X_test)\n",
        "\n",
        "  metricframe_unmitigated = MetricFrame(metrics=metrics_dict,\n",
        "                                      y_true=y_test,\n",
        "                                      y_pred=Y_pred,\n",
        "                                      sensitive_features=A_test)\n",
        "  \n",
        "  postprocess_est = ThresholdOptimizer(estimator=unmitigated_pipeline,\n",
        "                                       constraints=\"false_negative_rate_parity\",\n",
        "                                       objective=\"balanced_accuracy_score\",\n",
        "                                       prefit=True,\n",
        "                                       predict_method='predict_proba')\n",
        "  \n",
        "  postprocess_est.fit(X_train, y_train, sensitive_features=A_train)\n",
        "\n",
        "  Y_pred_postprocess = postprocess_est.predict(X_test, sensitive_features=A_test)\n",
        "\n",
        "  metricframe_postprocess = MetricFrame(metrics=metrics_dict,\n",
        "                                        y_true=y_test,\n",
        "                                        y_pred=Y_pred_postprocess,\n",
        "                                        sensitive_features=A_test)\n",
        "  \n",
        "  df_results = pd.concat([metricframe_unmitigated.by_group,\n",
        "                          metricframe_postprocess.by_group],\n",
        "                          keys=['Unmitigated', 'ThresholdOptimizer'],\n",
        "                          axis=1)\n",
        "  \n",
        "  print (f'{cls} - Age:{chr(10)} {df_results}{chr(10)}')\n",
        "  "
      ],
      "metadata": {
        "colab": {
          "base_uri": "https://localhost:8080/",
          "height": 235
        },
        "id": "eX1oFDap6y4O",
        "outputId": "dd709855-f535-49d3-e1db-0dc42572fcc2"
      },
      "execution_count": null,
      "outputs": [
        {
          "output_type": "error",
          "ename": "NameError",
          "evalue": "ignored",
          "traceback": [
            "\u001b[0;31m---------------------------------------------------------------------------\u001b[0m",
            "\u001b[0;31mNameError\u001b[0m                                 Traceback (most recent call last)",
            "\u001b[0;32m<ipython-input-2-2d569703c47c>\u001b[0m in \u001b[0;36m<module>\u001b[0;34m()\u001b[0m\n\u001b[0;32m----> 1\u001b[0;31m \u001b[0;32mfor\u001b[0m \u001b[0mcls\u001b[0m \u001b[0;32min\u001b[0m \u001b[0mclassifiers\u001b[0m\u001b[0;34m:\u001b[0m\u001b[0;34m\u001b[0m\u001b[0;34m\u001b[0m\u001b[0m\n\u001b[0m\u001b[1;32m      2\u001b[0m   \u001b[0munmitigated_pipeline\u001b[0m \u001b[0;34m=\u001b[0m \u001b[0mPipeline\u001b[0m\u001b[0;34m(\u001b[0m\u001b[0msteps\u001b[0m\u001b[0;34m=\u001b[0m\u001b[0;34m[\u001b[0m\u001b[0;34m(\u001b[0m\u001b[0;34m\"model\"\u001b[0m\u001b[0;34m,\u001b[0m \u001b[0mcls\u001b[0m\u001b[0;34m)\u001b[0m\u001b[0;34m]\u001b[0m\u001b[0;34m)\u001b[0m\u001b[0;34m\u001b[0m\u001b[0;34m\u001b[0m\u001b[0m\n\u001b[1;32m      3\u001b[0m \u001b[0;34m\u001b[0m\u001b[0m\n\u001b[1;32m      4\u001b[0m   \u001b[0munmitigated_pipeline\u001b[0m\u001b[0;34m.\u001b[0m\u001b[0mfit\u001b[0m\u001b[0;34m(\u001b[0m\u001b[0mX_train\u001b[0m\u001b[0;34m,\u001b[0m \u001b[0my_train\u001b[0m\u001b[0;34m)\u001b[0m\u001b[0;34m\u001b[0m\u001b[0;34m\u001b[0m\u001b[0m\n\u001b[1;32m      5\u001b[0m \u001b[0;34m\u001b[0m\u001b[0m\n",
            "\u001b[0;31mNameError\u001b[0m: name 'classifiers' is not defined"
          ]
        }
      ]
    },
    {
      "cell_type": "markdown",
      "metadata": {
        "id": "mdATOrW-FG_n"
      },
      "source": [
        "# ML fairness - summary and future considerations (for report)\n",
        "\n",
        "\n",
        "---\n",
        "\n",
        "\n",
        "\n"
      ]
    },
    {
      "cell_type": "markdown",
      "source": [
        "Best practices:\n",
        "  - dataset documentation\n",
        "  -  model reporting and curation\n",
        "  - reproducibility and transparency\n",
        "\n",
        "\n",
        "\n",
        "The Model Card Toolkit (MCT) will be used to ensure the correct documentation, model reporting, and transaparency of the set-up model\n",
        "\n",
        "https://github.com/tensorflow/model-card-toolkit\n",
        "\n",
        "https://github.com/fairlearn/talks/blob/main/2021_scipy_tutorial/fairness-in-AI-systems-instructors.ipynb\n",
        "\n",
        "\n",
        "\n",
        "https://github.com/fairlearn/talks/blob/main/2022_pycon/pycon-2022-instructors.ipynb"
      ],
      "metadata": {
        "id": "1vOW3ikYyGE0"
      }
    },
    {
      "cell_type": "code",
      "source": [
        "# ! pip install model-card-toolkit"
      ],
      "metadata": {
        "id": "eKCNUSxx0Gyu"
      },
      "execution_count": null,
      "outputs": []
    },
    {
      "cell_type": "code",
      "source": [
        "try:\n",
        "    from model_card_toolkit import ModelCardToolkit\n",
        "    from model_card_toolkit.utils.graphics import figure_to_base64str\n",
        "    model_card_imported = True\n",
        "except Exception:\n",
        "    model_card_imported = False\n",
        "    def figure_to_base64str(*args):\n",
        "        return None"
      ],
      "metadata": {
        "id": "j8mTZuaBpppU"
      },
      "execution_count": null,
      "outputs": []
    },
    {
      "cell_type": "code",
      "source": [
        "# Initialize the Model Card Toolkit with a path to store generate assets\n",
        "model_card_output_path = ...\n",
        "mct = model_card_toolkit.ModelCardToolkit(model_card_output_path)\n",
        "\n",
        "# Initialize the model_card_toolkit.ModelCard, which can be freely populated\n",
        "model_card = mct.scaffold_assets()\n",
        "model_card.model_details.name = 'My Model'\n",
        "\n",
        "# Write the model card data to a proto file\n",
        "mct.update_model_card(model_card)\n",
        "\n",
        "# Return the model card document as an HTML page\n",
        "html = mct.export_format()"
      ],
      "metadata": {
        "id": "2nSfyL040XVI"
      },
      "execution_count": null,
      "outputs": []
    },
    {
      "cell_type": "code",
      "source": [
        "# for graphics: https://github.com/valeria-io/bias-in-credit-models/blob/master/model_analysis/model_fairness_interventions.ipynb\n",
        "go for negative rate "
      ],
      "metadata": {
        "id": "Yd2Pbh9JzcJ6"
      },
      "execution_count": null,
      "outputs": []
    },
    {
      "cell_type": "code",
      "source": [
        ""
      ],
      "metadata": {
        "id": "ArYnyOdR_pcn"
      },
      "execution_count": null,
      "outputs": []
    },
    {
      "cell_type": "markdown",
      "source": [
        "## archive of code snipplets\n"
      ],
      "metadata": {
        "id": "7c8qYSo6nmE9"
      }
    },
    {
      "cell_type": "code",
      "source": [
        "# proof scaling doesnt mke a difference\n",
        "\n",
        "from sklearn.preprocessing import StandardScaler, MaxAbsScaler\n",
        "\n",
        "min_max_scaler = MaxAbsScaler()\n",
        "ds_train.features = min_max_scaler.fit_transform(ds_train.features)\n",
        "ds_test.features = min_max_scaler.transform(ds_test.features)\n",
        "metric_scaled_train = BinaryLabelDatasetMetric(ds_train, \n",
        "                            unprivileged_groups = unpriv,\n",
        "                                            privileged_groups = priv)\n",
        "display(Markdown(\"#### Scaled dataset - Verify that the scaling does not affect the group label statistics\"))\n",
        "print(\"Train set: Difference in mean outcomes between unprivileged and privileged groups = %f\" % metric_scaled_train.mean_difference())\n",
        "metric_scaled_test = BinaryLabelDatasetMetric(ds_test, \n",
        "                            unprivileged_groups = unpriv,\n",
        "                                            privileged_groups = priv)\n",
        "print(\"Test set: Difference in mean outcomes between unprivileged and privileged groups = %f\" % metric_scaled_test.mean_difference())"
      ],
      "metadata": {
        "id": "QRbNGVK9Q18Y"
      },
      "execution_count": null,
      "outputs": []
    },
    {
      "cell_type": "markdown",
      "source": [
        "check : https://colab.research.google.com/github/fairlearn/talks/blob/main/2021_scipy_tutorial/fairness-in-AI-systems-student.ipynb#scrollTo=HrCelj5_hR6a\n",
        "\n",
        "\n",
        "'''https://fairlearn.org/v0.5.0/quickstart.html\n",
        "\n",
        "https://github.com/fairlearn/talks/blob/main/2021_scipy_tutorial/fairness-in-AI-systems-instructors.ipynb\n",
        "\n",
        "https://github.com/fairlearn/fairlearn/tree/main/notebooks'''\n",
        "\n",
        "\n",
        "\n",
        "\n",
        "https://www.ibm.com/docs/en/cloud-paks/cp-data/3.5.0?topic=functions-watson-machine-learning-overview\n",
        "\n",
        "\n",
        "\n"
      ],
      "metadata": {
        "id": "GTphtdfs_Zjl"
      }
    },
    {
      "cell_type": "code",
      "source": [
        ""
      ],
      "metadata": {
        "id": "Nm88rqoDHCTq"
      },
      "execution_count": null,
      "outputs": []
    }
  ],
  "metadata": {
    "colab": {
      "collapsed_sections": [
        "zM2IN5-5nw0b",
        "VLxCfPjUVX7A",
        "9wWNnWsNm9g4",
        "Ir5-ry5VxVdh",
        "ll-yVqLPprKr",
        "evypBHEzQXOf",
        "hDRBvHmZQcc6",
        "F7Uh8cAyQcFE",
        "e7c6sUh3xFeQ",
        "5JttfxDoxAX3",
        "4UGDE8RSw6K_",
        "AbDywt6eIVhd",
        "QClTGz2ADunB",
        "d-6CDSP_Ob2M",
        "4JU4oe4oz-c-"
      ],
      "name": "13.06.2022 WLK + MMH - Debiasing Classification Algorithms.ipynb",
      "provenance": [],
      "mount_file_id": "1Xo5TrZHHPByGzAI0Kww6NF6Y-m8mjBla",
      "authorship_tag": "ABX9TyO9NbyhcCarXTgmUerQaCvR",
      "include_colab_link": true
    },
    "kernelspec": {
      "display_name": "Python 3",
      "name": "python3"
    },
    "language_info": {
      "name": "python"
    }
  },
  "nbformat": 4,
  "nbformat_minor": 0
}