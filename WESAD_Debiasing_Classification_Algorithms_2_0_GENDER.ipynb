{
  "cells": [
    {
      "cell_type": "markdown",
      "metadata": {
        "id": "view-in-github",
        "colab_type": "text"
      },
      "source": [
        "<a href=\"https://colab.research.google.com/github/FHnt97/TOM_Thesis/blob/main/WESAD_Debiasing_Classification_Algorithms_2_0_GENDER.ipynb\" target=\"_parent\"><img src=\"https://colab.research.google.com/assets/colab-badge.svg\" alt=\"Open In Colab\"/></a>"
      ]
    },
    {
      "cell_type": "markdown",
      "metadata": {
        "id": "k47uXogQN7DK"
      },
      "source": [
        "# Debiasing classification algorithms for Occupational Stress Detection\n",
        "\n",
        "\n",
        "---\n"
      ]
    },
    {
      "cell_type": "markdown",
      "source": [
        "## Content:\n",
        "Find an introduction to the aim and dataset in the README file.\n",
        "This is the second notebook for the wESAD dataset - please refer to the first for insights into the data exploration exercise. "
      ],
      "metadata": {
        "id": "tGvsdbnyphkC"
      }
    },
    {
      "cell_type": "markdown",
      "source": [
        "## BASE CODE"
      ],
      "metadata": {
        "id": "O0Y4pgaSqwAm"
      }
    },
    {
      "cell_type": "markdown",
      "source": [
        "### Libraries"
      ],
      "metadata": {
        "id": "Vm-FuP7Wqx9F"
      }
    },
    {
      "cell_type": "code",
      "execution_count": 1,
      "metadata": {
        "id": "vPdszu9IF3a4"
      },
      "outputs": [],
      "source": [
        "# importing general libraries\n",
        "import pandas as pd\n",
        "import numpy as np\n",
        "import matplotlib.pyplot as plt\n",
        "import seaborn as sns\n",
        "%matplotlib inline\n",
        "\n",
        "from IPython.display import Markdown, display\n",
        "\n",
        "# libraries for data processing\n",
        "from sklearn import preprocessing\n",
        "from sklearn.model_selection import train_test_split"
      ]
    },
    {
      "cell_type": "code",
      "execution_count": 2,
      "metadata": {
        "colab": {
          "base_uri": "https://localhost:8080/"
        },
        "id": "1Zfbz1UpIvwF",
        "outputId": "faa043ef-bfba-4ba3-d5df-45726356fee5"
      },
      "outputs": [
        {
          "output_type": "stream",
          "name": "stdout",
          "text": [
            "Looking in indexes: https://pypi.org/simple, https://us-python.pkg.dev/colab-wheels/public/simple/\n",
            "Collecting fairlearn\n",
            "  Downloading fairlearn-0.7.0-py3-none-any.whl (177 kB)\n",
            "\u001b[K     |████████████████████████████████| 177 kB 7.3 MB/s \n",
            "\u001b[?25hRequirement already satisfied: scikit-learn>=0.22.1 in /usr/local/lib/python3.7/dist-packages (from fairlearn) (1.0.2)\n",
            "Requirement already satisfied: pandas>=0.25.1 in /usr/local/lib/python3.7/dist-packages (from fairlearn) (1.3.5)\n",
            "Requirement already satisfied: numpy>=1.17.2 in /usr/local/lib/python3.7/dist-packages (from fairlearn) (1.21.6)\n",
            "Requirement already satisfied: scipy>=1.4.1 in /usr/local/lib/python3.7/dist-packages (from fairlearn) (1.4.1)\n",
            "Requirement already satisfied: pytz>=2017.3 in /usr/local/lib/python3.7/dist-packages (from pandas>=0.25.1->fairlearn) (2022.1)\n",
            "Requirement already satisfied: python-dateutil>=2.7.3 in /usr/local/lib/python3.7/dist-packages (from pandas>=0.25.1->fairlearn) (2.8.2)\n",
            "Requirement already satisfied: six>=1.5 in /usr/local/lib/python3.7/dist-packages (from python-dateutil>=2.7.3->pandas>=0.25.1->fairlearn) (1.15.0)\n",
            "Requirement already satisfied: threadpoolctl>=2.0.0 in /usr/local/lib/python3.7/dist-packages (from scikit-learn>=0.22.1->fairlearn) (3.1.0)\n",
            "Requirement already satisfied: joblib>=0.11 in /usr/local/lib/python3.7/dist-packages (from scikit-learn>=0.22.1->fairlearn) (1.1.0)\n",
            "Installing collected packages: fairlearn\n",
            "Successfully installed fairlearn-0.7.0\n",
            "Looking in indexes: https://pypi.org/simple, https://us-python.pkg.dev/colab-wheels/public/simple/\n",
            "Collecting aif360\n",
            "  Downloading aif360-0.4.0-py3-none-any.whl (175 kB)\n",
            "\u001b[K     |████████████████████████████████| 175 kB 4.3 MB/s \n",
            "\u001b[?25hRequirement already satisfied: scikit-learn>=0.22.1 in /usr/local/lib/python3.7/dist-packages (from aif360) (1.0.2)\n",
            "Requirement already satisfied: pandas>=0.24.0 in /usr/local/lib/python3.7/dist-packages (from aif360) (1.3.5)\n",
            "Requirement already satisfied: matplotlib in /usr/local/lib/python3.7/dist-packages (from aif360) (3.2.2)\n",
            "Collecting tempeh\n",
            "  Downloading tempeh-0.1.12-py3-none-any.whl (39 kB)\n",
            "Requirement already satisfied: scipy<1.6.0,>=1.2.0 in /usr/local/lib/python3.7/dist-packages (from aif360) (1.4.1)\n",
            "Requirement already satisfied: numpy>=1.16 in /usr/local/lib/python3.7/dist-packages (from aif360) (1.21.6)\n",
            "Requirement already satisfied: python-dateutil>=2.7.3 in /usr/local/lib/python3.7/dist-packages (from pandas>=0.24.0->aif360) (2.8.2)\n",
            "Requirement already satisfied: pytz>=2017.3 in /usr/local/lib/python3.7/dist-packages (from pandas>=0.24.0->aif360) (2022.1)\n",
            "Requirement already satisfied: six>=1.5 in /usr/local/lib/python3.7/dist-packages (from python-dateutil>=2.7.3->pandas>=0.24.0->aif360) (1.15.0)\n",
            "Requirement already satisfied: joblib>=0.11 in /usr/local/lib/python3.7/dist-packages (from scikit-learn>=0.22.1->aif360) (1.1.0)\n",
            "Requirement already satisfied: threadpoolctl>=2.0.0 in /usr/local/lib/python3.7/dist-packages (from scikit-learn>=0.22.1->aif360) (3.1.0)\n",
            "Requirement already satisfied: pyparsing!=2.0.4,!=2.1.2,!=2.1.6,>=2.0.1 in /usr/local/lib/python3.7/dist-packages (from matplotlib->aif360) (3.0.9)\n",
            "Requirement already satisfied: cycler>=0.10 in /usr/local/lib/python3.7/dist-packages (from matplotlib->aif360) (0.11.0)\n",
            "Requirement already satisfied: kiwisolver>=1.0.1 in /usr/local/lib/python3.7/dist-packages (from matplotlib->aif360) (1.4.3)\n",
            "Requirement already satisfied: typing-extensions in /usr/local/lib/python3.7/dist-packages (from kiwisolver>=1.0.1->matplotlib->aif360) (4.1.1)\n",
            "Requirement already satisfied: requests in /usr/local/lib/python3.7/dist-packages (from tempeh->aif360) (2.23.0)\n",
            "Requirement already satisfied: pytest in /usr/local/lib/python3.7/dist-packages (from tempeh->aif360) (3.6.4)\n",
            "Collecting memory-profiler\n",
            "  Downloading memory_profiler-0.60.0.tar.gz (38 kB)\n",
            "Collecting shap\n",
            "  Downloading shap-0.41.0-cp37-cp37m-manylinux_2_12_x86_64.manylinux2010_x86_64.whl (569 kB)\n",
            "\u001b[K     |████████████████████████████████| 569 kB 7.8 MB/s \n",
            "\u001b[?25hRequirement already satisfied: psutil in /usr/local/lib/python3.7/dist-packages (from memory-profiler->tempeh->aif360) (5.4.8)\n",
            "Requirement already satisfied: more-itertools>=4.0.0 in /usr/local/lib/python3.7/dist-packages (from pytest->tempeh->aif360) (8.13.0)\n",
            "Requirement already satisfied: attrs>=17.4.0 in /usr/local/lib/python3.7/dist-packages (from pytest->tempeh->aif360) (21.4.0)\n",
            "Requirement already satisfied: setuptools in /usr/local/lib/python3.7/dist-packages (from pytest->tempeh->aif360) (57.4.0)\n",
            "Requirement already satisfied: pluggy<0.8,>=0.5 in /usr/local/lib/python3.7/dist-packages (from pytest->tempeh->aif360) (0.7.1)\n",
            "Requirement already satisfied: atomicwrites>=1.0 in /usr/local/lib/python3.7/dist-packages (from pytest->tempeh->aif360) (1.4.0)\n",
            "Requirement already satisfied: py>=1.5.0 in /usr/local/lib/python3.7/dist-packages (from pytest->tempeh->aif360) (1.11.0)\n",
            "Requirement already satisfied: certifi>=2017.4.17 in /usr/local/lib/python3.7/dist-packages (from requests->tempeh->aif360) (2022.6.15)\n",
            "Requirement already satisfied: urllib3!=1.25.0,!=1.25.1,<1.26,>=1.21.1 in /usr/local/lib/python3.7/dist-packages (from requests->tempeh->aif360) (1.24.3)\n",
            "Requirement already satisfied: idna<3,>=2.5 in /usr/local/lib/python3.7/dist-packages (from requests->tempeh->aif360) (2.10)\n",
            "Requirement already satisfied: chardet<4,>=3.0.2 in /usr/local/lib/python3.7/dist-packages (from requests->tempeh->aif360) (3.0.4)\n",
            "Requirement already satisfied: tqdm>4.25.0 in /usr/local/lib/python3.7/dist-packages (from shap->tempeh->aif360) (4.64.0)\n",
            "Requirement already satisfied: numba in /usr/local/lib/python3.7/dist-packages (from shap->tempeh->aif360) (0.51.2)\n",
            "Requirement already satisfied: packaging>20.9 in /usr/local/lib/python3.7/dist-packages (from shap->tempeh->aif360) (21.3)\n",
            "Collecting slicer==0.0.7\n",
            "  Downloading slicer-0.0.7-py3-none-any.whl (14 kB)\n",
            "Requirement already satisfied: cloudpickle in /usr/local/lib/python3.7/dist-packages (from shap->tempeh->aif360) (1.3.0)\n",
            "Requirement already satisfied: llvmlite<0.35,>=0.34.0.dev0 in /usr/local/lib/python3.7/dist-packages (from numba->shap->tempeh->aif360) (0.34.0)\n",
            "Building wheels for collected packages: memory-profiler\n",
            "  Building wheel for memory-profiler (setup.py) ... \u001b[?25l\u001b[?25hdone\n",
            "  Created wheel for memory-profiler: filename=memory_profiler-0.60.0-py3-none-any.whl size=31284 sha256=b19e4dbff709d52ae0562ea7775fb976c03e62a9c012620e598032b8a08507ec\n",
            "  Stored in directory: /root/.cache/pip/wheels/67/2b/fb/326e30d638c538e69a5eb0aa47f4223d979f502bbdb403950f\n",
            "Successfully built memory-profiler\n",
            "Installing collected packages: slicer, shap, memory-profiler, tempeh, aif360\n",
            "Successfully installed aif360-0.4.0 memory-profiler-0.60.0 shap-0.41.0 slicer-0.0.7 tempeh-0.1.12\n"
          ]
        }
      ],
      "source": [
        "! pip install fairlearn\n",
        "! pip install aif360"
      ]
    },
    {
      "cell_type": "markdown",
      "source": [
        "### Data load and wrangling"
      ],
      "metadata": {
        "id": "G0OplJsVq1Uf"
      }
    },
    {
      "cell_type": "code",
      "execution_count": 3,
      "metadata": {
        "colab": {
          "base_uri": "https://localhost:8080/"
        },
        "id": "GfGiVocLTLJH",
        "outputId": "af6f0755-2d1a-46be-969c-12be95bf9655"
      },
      "outputs": [
        {
          "output_type": "stream",
          "name": "stdout",
          "text": [
            "Mounted at /content/drive\n"
          ]
        }
      ],
      "source": [
        "# connect to drive\n",
        "from google.colab import drive\n",
        "drive.mount('/content/drive')"
      ]
    },
    {
      "cell_type": "code",
      "execution_count": 4,
      "metadata": {
        "id": "VSOXk2MLWi6Y"
      },
      "outputs": [],
      "source": [
        "# open csv historical data\n",
        "# if using collab use -->\n",
        "path = '/content/drive/MyDrive/00 - thesis/Thesis - Fabia Höhne/Datasets/WESAD/m14_merged.csv'\n",
        "\n",
        "# if using the GitHub repo use -->\n",
        "# path = './Datasets/WESAD/m14_merged.csv'\n",
        "\n",
        "df = pd.read_csv(path, sep=',', index_col=0)"
      ]
    },
    {
      "cell_type": "code",
      "execution_count": 5,
      "metadata": {
        "id": "2I40K1hnRcfP"
      },
      "outputs": [],
      "source": [
        "# reorder df columns & remove features which will not be used (lifestyle features, 3D data)\n",
        "# remove min, max values, as mean & st. dev are already calculated\n",
        "# remove according to corr analysis --> total of 18 attributes left \n",
        "\n",
        "cols = ['subject', 'label', \n",
        "        'age','gender_ female',\n",
        "        'height', 'weight', \n",
        "        'BVP_std', \n",
        "        'EDA_mean', 'EDA_std', \n",
        "        'EDA_phasic_mean','EDA_phasic_std', \n",
        "        'EDA_smna_mean','EDA_smna_std', \n",
        "        'EDA_tonic_mean','EDA_tonic_std',  \n",
        "        'Resp_std', \n",
        "        'TEMP_mean', 'TEMP_slope']\n",
        "\n",
        "df = df[cols]\n"
      ]
    },
    {
      "cell_type": "code",
      "execution_count": 6,
      "metadata": {
        "id": "u4oiehdkR_66"
      },
      "outputs": [],
      "source": [
        "# rename gender (male:0, female:1)\n",
        "df = df.rename(columns = {'gender_ female':'gender'})"
      ]
    },
    {
      "cell_type": "code",
      "execution_count": 7,
      "metadata": {
        "id": "TrQh8Q_MaCau"
      },
      "outputs": [],
      "source": [
        "# remove amusement state \n",
        "# 1: baseline, 2: stressed\n",
        "df = df.loc[~(df['label'] == 0)]"
      ]
    },
    {
      "cell_type": "code",
      "execution_count": 8,
      "metadata": {
        "id": "f93wZtUBUVI8"
      },
      "outputs": [],
      "source": [
        "# chang 1,2 classification to 0,1 classification to avoid problems down the line\n",
        "# 0: baseline, 1: stressed\n",
        "df['label'] = df['label'].replace({1: 0})\n",
        "df['label'] = df['label'].replace({2: 1})"
      ]
    },
    {
      "cell_type": "code",
      "execution_count": 9,
      "metadata": {
        "id": "fRfQRkZIn_ZG"
      },
      "outputs": [],
      "source": [
        "# bin age into groups to make binary (0: under 27)\n",
        "df['age'] = np.where(df['age']>=28, '1', '0')"
      ]
    },
    {
      "cell_type": "markdown",
      "metadata": {
        "id": "Qm0kRPE6IQ3U"
      },
      "source": [
        "## Stress Model\n",
        "-----\n"
      ]
    },
    {
      "cell_type": "markdown",
      "source": [
        " [Stweard et al. (2020)](https://arxiv.org/pdf/2002.04176.pdf) use the following models to obtain a best- possible generic model for this dataset to detect stress:\n",
        "\n",
        "- svm (gamma 0.0526) \n",
        "- log regression (11 penalization, c=1)\n",
        "- k-nn (n=20)\n"
      ],
      "metadata": {
        "id": "DhQm1KAVrcwq"
      }
    },
    {
      "cell_type": "markdown",
      "metadata": {
        "id": "lOtqxcHmajJ4"
      },
      "source": [
        "#### libraries and helper functions"
      ]
    },
    {
      "cell_type": "code",
      "execution_count": 10,
      "metadata": {
        "id": "IOt0wv0I2fxk"
      },
      "outputs": [],
      "source": [
        "# libraries for models\n",
        "from sklearn.linear_model import LogisticRegression\n",
        "from sklearn.svm import SVC\n",
        "from sklearn.neighbors import KNeighborsClassifier\n",
        "\n",
        "# libraries for data processing\n",
        "from sklearn import preprocessing\n",
        "from sklearn.model_selection import train_test_split\n",
        "\n",
        "# libraries for metrics of models\n",
        "from sklearn.metrics import (\n",
        "    accuracy_score, confusion_matrix,\n",
        "    roc_curve, auc, roc_auc_score,\n",
        "    plot_confusion_matrix,\n",
        "    classification_report,\n",
        "    balanced_accuracy_score,\n",
        "    PrecisionRecallDisplay)\n",
        "\n",
        "from sklearn.model_selection import GroupKFold\n",
        "from sklearn.model_selection import cross_val_score\n",
        "\n",
        "# libraries for fairness\n",
        "from fairlearn.metrics import MetricFrame\n",
        "from fairlearn.postprocessing import ThresholdOptimizer\n",
        "\n",
        "\n",
        "from fairlearn.metrics import (\n",
        "    MetricFrame,\n",
        "    selection_rate, \n",
        "    demographic_parity_difference, \n",
        "    demographic_parity_ratio,\n",
        "    false_positive_rate, \n",
        "    false_negative_rate,\n",
        "    false_positive_rate_difference, \n",
        "    false_negative_rate_difference, \n",
        "    true_positive_rate, \n",
        "    true_negative_rate,\n",
        "    selection_rate,\n",
        "    count,\n",
        "    equalized_odds_difference)"
      ]
    },
    {
      "cell_type": "code",
      "source": [
        "# Helper functions metrics\n",
        "def get_metrics_df(models_dict, y_true, group):\n",
        "    metrics_dict = {\n",
        "        \"Equalized_odds_difference\": (\n",
        "            lambda x: equalized_odds_difference(y_true, x, sensitive_features=group), True),\n",
        "        \"False negative rate difference\": (\n",
        "            lambda x: false_negative_rate_difference(y_true, x, sensitive_features=group), True),\n",
        "        \"Balanced error rate difference\": (\n",
        "            lambda x: MetricFrame(metrics=balanced_accuracy_score, y_true=y_true, y_pred=x, sensitive_features=group).difference(method='between_groups'), True),\n",
        "        \" ------\": (lambda x: \"\", True),\n",
        "        \"Demographic parity difference\": (\n",
        "            lambda x: demographic_parity_difference(y_true, x, sensitive_features=group), True),\n",
        "        \"  ------\": (lambda x: \"\", True),\n",
        "        \"Overall AUC\": (\n",
        "            lambda x: roc_auc_score(y_true, x), False),\n",
        "        \"AUC difference\": (\n",
        "            lambda x: MetricFrame(metrics=roc_auc_score, y_true=y_true, y_pred=x, sensitive_features=group).difference(method='between_groups'), False),\n",
        "    }\n",
        "    df_dict = {}\n",
        "    for metric_name, (metric_func, use_preds) in metrics_dict.items():\n",
        "        df_dict[metric_name] = [metric_func(preds) if use_preds else metric_func(scores) \n",
        "                                for model_name, (preds, scores) in models_dict.items()]\n",
        "    return pd.DataFrame.from_dict(df_dict, orient=\"index\", columns=models_dict.keys())\n",
        "\n",
        "def metric_frame (feature):\n",
        "    mf = MetricFrame({\n",
        "        'FPR': false_positive_rate,\n",
        "        'FNR': false_negative_rate,\n",
        "        'TPR': true_positive_rate,\n",
        "        'TNR': true_negative_rate, },\n",
        "        y_test, test_preds, sensitive_features = feature)\n",
        "    return mf.by_group\n",
        "\n",
        "\n",
        "def summary_as_df(name, summary):\n",
        "    a = summary.by_group\n",
        "    a['overall'] = summary.overall\n",
        "    return pd.DataFrame({name: a})"
      ],
      "metadata": {
        "id": "0RJSCUCOGcr8"
      },
      "execution_count": 11,
      "outputs": []
    },
    {
      "cell_type": "markdown",
      "metadata": {
        "id": "Xwa_Y3owA_CQ"
      },
      "source": [
        "### Models set-up: test/train split"
      ]
    },
    {
      "cell_type": "code",
      "execution_count": 45,
      "metadata": {
        "id": "z4Mbl0pfB3NK"
      },
      "outputs": [],
      "source": [
        "# simple model - aware (inlc. proxies)\n",
        "# set test & train data & defining age as sensitive attribute\n",
        "\n",
        "# unaware: X = df.drop(columns=['gender', 'age', 'label', 'height', 'weight'])\n",
        "\n",
        "X = df.drop(columns=['label'])\n",
        "y = df['label']\n",
        "\n",
        "A = df[['age', 'gender']]\n",
        "Gender_str = A['gender'].map({ 1:\"female\", 0:\"male\"})\n",
        "\n",
        "# for fairnes measures (inlc. A for group classification, drop age to make it unaware to other senstive attributes (fairnes through unawarenes)) - AGE \n",
        "X_train, X_test, y_train, y_test, A_train, A_test, Gender_str_train, Gender_str_test = train_test_split(\n",
        "    X, \n",
        "    y, \n",
        "    A, \n",
        "    Gender_str,\n",
        "    test_size = 0.33, \n",
        "    random_state=42)"
      ]
    },
    {
      "cell_type": "markdown",
      "source": [
        "### Model set-up & definition"
      ],
      "metadata": {
        "id": "ed7f7mKMHwSM"
      }
    },
    {
      "cell_type": "code",
      "execution_count": 13,
      "metadata": {
        "id": "8hw7M_iZqCEW"
      },
      "outputs": [],
      "source": [
        "# set up model:\n",
        "classifiers = [LogisticRegression(C=1),\n",
        "               SVC(kernel='rbf', gamma = 0.0526, probability = True),\n",
        "               KNeighborsClassifier(n_neighbors=20),]\n"
      ]
    },
    {
      "cell_type": "markdown",
      "source": [
        "### Model fairness evaluation - Gender\n",
        "\n"
      ],
      "metadata": {
        "id": "PmWXH8gtJ1kU"
      }
    },
    {
      "cell_type": "code",
      "source": [
        "  "
      ],
      "metadata": {
        "id": "yNLIZlxorNVI"
      },
      "execution_count": null,
      "outputs": []
    },
    {
      "cell_type": "markdown",
      "source": [
        "##### Metric Frames"
      ],
      "metadata": {
        "id": "eGUJBAucemTQ"
      }
    },
    {
      "cell_type": "code",
      "execution_count": 52,
      "metadata": {
        "id": "wt3zUA7tSa6s",
        "colab": {
          "base_uri": "https://localhost:8080/"
        },
        "outputId": "5db49bfb-1d5d-4de7-dff3-a42f42b553aa"
      },
      "outputs": [
        {
          "output_type": "stream",
          "name": "stderr",
          "text": [
            "lbfgs failed to converge (status=1):\n",
            "STOP: TOTAL NO. of ITERATIONS REACHED LIMIT.\n",
            "\n",
            "Increase the number of iterations (max_iter) or scale the data as shown in:\n",
            "    https://scikit-learn.org/stable/modules/preprocessing.html\n",
            "Please also refer to the documentation for alternative solver options:\n",
            "    https://scikit-learn.org/stable/modules/linear_model.html#logistic-regression\n",
            "You have provided 'metrics', 'y_true', 'y_pred' as positional arguments. Please pass them as keyword arguments. From version 0.10.0 passing them as positional arguments will result in an error.\n"
          ]
        },
        {
          "output_type": "stream",
          "name": "stdout",
          "text": [
            "Gender:\n",
            "LogisticRegression(C=1): \n",
            "              FPR       FNR       TPR       TNR\n",
            "gender                                        \n",
            "0       0.083333  0.172414  0.827586  0.916667\n",
            "1       0.085106  0.086957  0.913043  0.914894 \n",
            "\n",
            "Gender:\n",
            "SVC(gamma=0.0526, probability=True): \n",
            "              FPR       FNR       TPR       TNR\n",
            "gender                                        \n",
            "0       0.172619  0.126437  0.873563  0.827381\n",
            "1       0.212766  0.043478  0.956522  0.787234 \n",
            "\n",
            "Gender:\n",
            "KNeighborsClassifier(n_neighbors=20): \n",
            "              FPR       FNR       TPR       TNR\n",
            "gender                                        \n",
            "0       0.261905  0.402299  0.597701  0.738095\n",
            "1       0.255319  0.391304  0.608696  0.744681 \n",
            "\n"
          ]
        },
        {
          "output_type": "stream",
          "name": "stderr",
          "text": [
            "You have provided 'metrics', 'y_true', 'y_pred' as positional arguments. Please pass them as keyword arguments. From version 0.10.0 passing them as positional arguments will result in an error.\n",
            "You have provided 'metrics', 'y_true', 'y_pred' as positional arguments. Please pass them as keyword arguments. From version 0.10.0 passing them as positional arguments will result in an error.\n"
          ]
        }
      ],
      "source": [
        "# define sensitive attributes\n",
        "gender = A_test['gender']\n",
        "\n",
        "for model in classifiers:\n",
        "  model.fit(X_train, y_train)\n",
        "\n",
        "  # scores on test set\n",
        "  y_pred = model.predict_proba(X_test)[:, 1]\n",
        "\n",
        "  # predictions (0 or 1) on test set\n",
        "  test_preds = (y_pred >= np.mean(y_train)) * 1\n",
        "\n",
        "  print(f'Gender:{chr(10)}{model}: {chr(10)} {metric_frame (gender)} {chr(10)}')"
      ]
    },
    {
      "cell_type": "markdown",
      "source": [
        "##### Fairness metrics by group (equalized odds, demographic parity difference & ratio, false negative rate difference)"
      ],
      "metadata": {
        "id": "h5MntdKYev6H"
      }
    },
    {
      "cell_type": "code",
      "execution_count": 15,
      "metadata": {
        "id": "Eq_lqK5bW6Um",
        "colab": {
          "base_uri": "https://localhost:8080/"
        },
        "outputId": "50a611f5-1c01-4b06-9d60-00caf7f392b5"
      },
      "outputs": [
        {
          "output_type": "stream",
          "name": "stderr",
          "text": [
            "/usr/local/lib/python3.7/dist-packages/sklearn/linear_model/_logistic.py:818: ConvergenceWarning: lbfgs failed to converge (status=1):\n",
            "STOP: TOTAL NO. of ITERATIONS REACHED LIMIT.\n",
            "\n",
            "Increase the number of iterations (max_iter) or scale the data as shown in:\n",
            "    https://scikit-learn.org/stable/modules/preprocessing.html\n",
            "Please also refer to the documentation for alternative solver options:\n",
            "    https://scikit-learn.org/stable/modules/linear_model.html#logistic-regression\n",
            "  extra_warning_msg=_LOGISTIC_SOLVER_CONVERGENCE_MSG,\n"
          ]
        },
        {
          "output_type": "stream",
          "name": "stdout",
          "text": [
            "Gender:\n",
            "LogisticRegression(C=1): \n",
            "                                Unmitigated\n",
            "Equalized_odds_difference         0.398778\n",
            "False negative rate difference    0.398778\n",
            "Balanced error rate difference    0.312841\n",
            " ------                                   \n",
            "Demographic parity difference     0.089916\n",
            "  ------                                  \n",
            "Overall AUC                       0.951419\n",
            "AUC difference                    0.194279 \n",
            "\n",
            "Gender:\n",
            "SVC(gamma=0.0526, probability=True): \n",
            "                                Unmitigated\n",
            "Equalized_odds_difference         0.157372\n",
            "False negative rate difference    0.157372\n",
            "Balanced error rate difference    0.052625\n",
            " ------                                   \n",
            "Demographic parity difference     0.031092\n",
            "  ------                                  \n",
            "Overall AUC                       0.919761\n",
            "AUC difference                    0.044179 \n",
            "\n",
            "Gender:\n",
            "KNeighborsClassifier(n_neighbors=20): \n",
            "                                Unmitigated\n",
            "Equalized_odds_difference         0.286517\n",
            "False negative rate difference    0.224599\n",
            "Balanced error rate difference    0.030959\n",
            " ------                                   \n",
            "Demographic parity difference     0.192157\n",
            "  ------                                  \n",
            "Overall AUC                        0.74198\n",
            "AUC difference                    0.024011 \n",
            "\n"
          ]
        }
      ],
      "source": [
        "# Metrics \n",
        "for model in classifiers:\n",
        "  model.fit(X_train, y_train)\n",
        "  y_pred = model.predict(X_test)\n",
        "\n",
        "  # scores on test set\n",
        "  y_pred = model.predict_proba(X_test)[:, 1]\n",
        "\n",
        "  # predictions (0 or 1) on test set\n",
        "  test_preds = (y_pred >= np.mean(y_train)) * 1\n",
        "\n",
        "  models_dict = {\"Unmitigated\": (test_preds, y_pred)}\n",
        "\n",
        "  print(f'Gender:{chr(10)}{model}: {chr(10)} {get_metrics_df(models_dict, y_test, gender)} {chr(10)}')"
      ]
    },
    {
      "cell_type": "markdown",
      "source": [
        "##### visualisation help"
      ],
      "metadata": {
        "id": "mY9QOqzxfZOQ"
      }
    },
    {
      "cell_type": "code",
      "source": [
        "# demographic disparity\n",
        "# https://github.com/fairlearn/fairlearn/blob/main/notebooks/Mitigating%20Disparities%20in%20Ranking%20from%20Binary%20Data.ipynb\n",
        "\n",
        "from IPython.display import display, HTML\n",
        "import matplotlib.pyplot as plt\n",
        "from scipy.stats import cumfreq\n",
        "\n",
        "def compare_cdfs(data, A, num_bins=100):\n",
        "    cdfs = {}\n",
        "    assert len(np.unique(A)) == 2 \n",
        "    \n",
        "    limits = ( min(data), max(data) )\n",
        "    s = 0.5 * (limits[1] - limits[0]) / (num_bins - 1)\n",
        "    limits = ( limits[0]-s, limits[1] + s)\n",
        "    \n",
        "    for a in np.unique(A):\n",
        "        subset = data[A==a]\n",
        "        \n",
        "        cdfs[a] = cumfreq(subset, numbins=num_bins, defaultreallimits=limits)\n",
        "        \n",
        "    lower_limits = [v.lowerlimit for _, v in cdfs.items()]\n",
        "    bin_sizes = [v.binsize for _,v in cdfs.items()]\n",
        "    actual_num_bins = [v.cumcount.size for _,v in cdfs.items()]\n",
        "    \n",
        "    assert len(np.unique(lower_limits)) == 1\n",
        "    assert len(np.unique(bin_sizes)) == 1\n",
        "    assert np.all([num_bins==v.cumcount.size for _,v in cdfs.items()])\n",
        "    \n",
        "    xs = lower_limits[0] + np.linspace(0, bin_sizes[0]*num_bins, num_bins)\n",
        "    \n",
        "    disparities = np.zeros(num_bins)\n",
        "    for i in range(num_bins):\n",
        "        cdf_values = np.clip([v.cumcount[i]/len(data[A==k]) for k,v in cdfs.items()],0,1)\n",
        "        disparities[i] = max(cdf_values)-min(cdf_values)  \n",
        "    \n",
        "    return xs, cdfs, disparities\n",
        "    \n",
        "    \n",
        "def plot_and_compare_cdfs(data, A, num_bins=100, loc='best'):\n",
        "    xs, cdfs, disparities = compare_cdfs(data, A, num_bins)\n",
        "    \n",
        "    for k, v in cdfs.items():\n",
        "        plt.plot(xs, v.cumcount/len(data[A==k]), label=k)\n",
        "    \n",
        "    assert disparities.argmax().size == 1\n",
        "    d_idx = disparities.argmax()\n",
        "    \n",
        "    xs_line = [xs[d_idx],xs[d_idx]]\n",
        "    counts = [v.cumcount[d_idx]/len(data[A==k]) for k, v in cdfs.items()]\n",
        "    ys_line = [min(counts), max(counts)]\n",
        "    \n",
        "    plt.plot(xs_line, ys_line, 'o--')\n",
        "    disparity_label = \"max disparity = {0:.3f}\\nat {1:0.3f}\".format(disparities[d_idx], xs[d_idx])\n",
        "    plt.text(xs[d_idx], 1, disparity_label, ha=\"right\", va=\"top\")\n",
        "    \n",
        "    plt.ylabel(\"cumulative frequency\")\n",
        "    plt.legend(loc=loc)\n",
        "    plt.show()"
      ],
      "metadata": {
        "id": "hyzvB_ESfNgl"
      },
      "execution_count": 16,
      "outputs": []
    },
    {
      "cell_type": "markdown",
      "source": [
        "#### visualisation"
      ],
      "metadata": {
        "id": "iNo2PK3_fcBf"
      }
    },
    {
      "cell_type": "code",
      "source": [
        "%matplotlib inline\n",
        "\n",
        "for model in classifiers:\n",
        "  model.fit(X_train, y_train)\n",
        "  y_pred = model.predict(X_test)\n",
        "\n",
        "  # scores on test set\n",
        "  y_pred = model.predict_proba(X_test)[:, 1]\n",
        "\n",
        "  # predictions (0 or 1) on test set\n",
        "  test_preds = (y_pred >= np.mean(y_train)) * 1\n",
        "\n",
        "\n",
        "  display(HTML('<span id=\"disparity_unmitigated\">'))\n",
        "  plot_and_compare_cdfs(y_pred, gender)\n",
        "  display(HTML('</span>'))"
      ],
      "metadata": {
        "colab": {
          "base_uri": "https://localhost:8080/",
          "height": 0
        },
        "id": "jb3fu-SGfkam",
        "outputId": "fbb4beff-cb0a-43c4-e396-14be6879e662"
      },
      "execution_count": 17,
      "outputs": [
        {
          "output_type": "stream",
          "name": "stderr",
          "text": [
            "/usr/local/lib/python3.7/dist-packages/sklearn/linear_model/_logistic.py:818: ConvergenceWarning: lbfgs failed to converge (status=1):\n",
            "STOP: TOTAL NO. of ITERATIONS REACHED LIMIT.\n",
            "\n",
            "Increase the number of iterations (max_iter) or scale the data as shown in:\n",
            "    https://scikit-learn.org/stable/modules/preprocessing.html\n",
            "Please also refer to the documentation for alternative solver options:\n",
            "    https://scikit-learn.org/stable/modules/linear_model.html#logistic-regression\n",
            "  extra_warning_msg=_LOGISTIC_SOLVER_CONVERGENCE_MSG,\n"
          ]
        },
        {
          "output_type": "display_data",
          "data": {
            "text/plain": [
              "<IPython.core.display.HTML object>"
            ],
            "text/html": [
              "<span id=\"disparity_unmitigated\">"
            ]
          },
          "metadata": {}
        },
        {
          "output_type": "display_data",
          "data": {
            "text/plain": [
              "<Figure size 432x288 with 1 Axes>"
            ],
            "image/png": "[encoded data removed]"
          },
          "metadata": {
            "needs_background": "light"
          }
        },
        {
          "output_type": "display_data",
          "data": {
            "text/plain": [
              "<IPython.core.display.HTML object>"
            ],
            "text/html": [
              "</span>"
            ]
          },
          "metadata": {}
        },
        {
          "output_type": "display_data",
          "data": {
            "text/plain": [
              "<IPython.core.display.HTML object>"
            ],
            "text/html": [
              "<span id=\"disparity_unmitigated\">"
            ]
          },
          "metadata": {}
        },
        {
          "output_type": "display_data",
          "data": {
            "text/plain": [
              "<Figure size 432x288 with 1 Axes>"
            ],
            "image/png": "[encoded data removed]"
          },
          "metadata": {
            "needs_background": "light"
          }
        },
        {
          "output_type": "display_data",
          "data": {
            "text/plain": [
              "<IPython.core.display.HTML object>"
            ],
            "text/html": [
              "</span>"
            ]
          },
          "metadata": {}
        },
        {
          "output_type": "display_data",
          "data": {
            "text/plain": [
              "<IPython.core.display.HTML object>"
            ],
            "text/html": [
              "<span id=\"disparity_unmitigated\">"
            ]
          },
          "metadata": {}
        },
        {
          "output_type": "display_data",
          "data": {
            "text/plain": [
              "<Figure size 432x288 with 1 Axes>"
            ],
            "image/png": "[encoded data removed]"
          },
          "metadata": {
            "needs_background": "light"
          }
        },
        {
          "output_type": "display_data",
          "data": {
            "text/plain": [
              "<IPython.core.display.HTML object>"
            ],
            "text/html": [
              "</span>"
            ]
          },
          "metadata": {}
        }
      ]
    },
    {
      "cell_type": "markdown",
      "metadata": {
        "id": "sf3-XjExIYIF"
      },
      "source": [
        "# Debiasing the model\n",
        "\n",
        "---\n",
        "\n",
        "\n"
      ]
    },
    {
      "cell_type": "markdown",
      "source": [
        "Are we minitating bias (removing the problematic signal) - OR adding inclusion (add singal for deasired features for a re-weighted singal improved fairness?\n",
        "\n",
        "\n",
        "Bias can come from the acutal data or the algorithm (this includes technical bias from data processing & amplified bias from the feedback loops)\n",
        "\n",
        "\n",
        "\n",
        "pre-processing: suprression, class relabeling, reweighing, data transportation, database reparis, data augmentation\n"
      ],
      "metadata": {
        "id": "dELXeA6fsW5c"
      }
    },
    {
      "cell_type": "markdown",
      "source": [
        "#### libraries and functions"
      ],
      "metadata": {
        "id": "djEADZF-Qwi1"
      }
    },
    {
      "cell_type": "code",
      "source": [
        "import aif360\n",
        "\n",
        "from aif360.datasets import StandardDataset\n",
        "from sklearn.pipeline import make_pipeline \n",
        "from sklearn.pipeline import Pipeline\n",
        "\n",
        "# Fairness metrics\n",
        "from aif360.metrics import BinaryLabelDatasetMetric\n",
        "from aif360.metrics import DatasetMetric\n",
        "\n",
        "from aif360.metrics import ClassificationMetric\n",
        "\n",
        "# Explainers\n",
        "from aif360.explainers import MetricTextExplainer\n",
        "\n",
        "# Scalers\n",
        "from sklearn.preprocessing import StandardScaler\n",
        "\n",
        "# Bias mitigation techniques\n",
        "from aif360.algorithms.preprocessing import Reweighing\n",
        "from aif360.algorithms.inprocessing import AdversarialDebiasing\n",
        "from aif360.algorithms.inprocessing import PrejudiceRemover\n",
        "\n",
        "# fairlearn libraries\n",
        "from fairlearn.postprocessing import ThresholdOptimizer, plot_threshold_optimizer\n",
        "from fairlearn.postprocessing._interpolated_thresholder import InterpolatedThresholder\n",
        "from fairlearn.postprocessing._threshold_operation import ThresholdOperation\n",
        "\n",
        "from fairlearn.reductions import (ExponentiatedGradient, \n",
        "                                  EqualizedOdds, \n",
        "                                  ErrorRateParity)"
      ],
      "metadata": {
        "id": "QYfpCVXr_Nve"
      },
      "execution_count": 18,
      "outputs": []
    },
    {
      "cell_type": "code",
      "source": [
        "metrics = {\n",
        "    'accuracy': accuracy_score,\n",
        "    'false positive rate': false_positive_rate,\n",
        "    'false negative rate': false_negative_rate,\n",
        "    'selection rate': selection_rate,\n",
        "    'count': count,\n",
        "    'balanced error rate': balanced_accuracy_score}"
      ],
      "metadata": {
        "id": "UhkgUbY-5SJn"
      },
      "execution_count": 19,
      "outputs": []
    },
    {
      "cell_type": "markdown",
      "source": [
        "#### 1. Reweigh samples (AIF360)\n",
        "\n",
        "Based on:\n",
        "1. [Correcting Unfair Binary Classification\n",
        "Models](http://arno.uvt.nl/show.cgi?fid=157880)\n",
        "\n",
        "2. [AIF360 example](https://nbviewer.org/github/IBM/AIF360/blob/master/examples/tutorial_credit_scoring.ipynb)\n"
      ],
      "metadata": {
        "id": "QClTGz2ADunB"
      }
    },
    {
      "cell_type": "code",
      "source": [
        "# works only for SVM & log reg (knn doesnt do sample weights)\n",
        "# set dataset in aif360 format\n",
        "ds_aif = aif360.datasets.StandardDataset (df, \n",
        "                                         label_name=\"label\",\n",
        "                                         favorable_classes = [1], \n",
        "                                         protected_attribute_names=['gender'], \n",
        "                                         privileged_classes= [lambda x: x == 0],\n",
        "                                         features_to_drop=['subject'])"
      ],
      "metadata": {
        "id": "TClA0mBrZIzg"
      },
      "execution_count": 20,
      "outputs": []
    },
    {
      "cell_type": "code",
      "source": [
        "# test, train split\n",
        "ds_train, ds_test = ds_aif.split([0.67], shuffle=True)"
      ],
      "metadata": {
        "id": "2a0RE3X1t4sM"
      },
      "execution_count": 37,
      "outputs": []
    },
    {
      "cell_type": "code",
      "source": [
        "# pre-processing - reweighing \n",
        "# define priviledged & unpriviledged groups\n",
        "unpriv = [{'gender': 1}]\n",
        "priv = [{'gender': 0}]\n",
        "\n",
        "\n",
        "# reweigh\n",
        "RW = Reweighing (unprivileged_groups = unpriv, \n",
        "                 privileged_groups = priv)\n",
        "\n",
        "RW_train = RW.fit_transform(ds_train)"
      ],
      "metadata": {
        "id": "mZ4j_QdOhAl4"
      },
      "execution_count": 38,
      "outputs": []
    },
    {
      "cell_type": "code",
      "source": [
        "# check for metric before and after transforming \n",
        "# OG ds\n",
        "metric_train = BinaryLabelDatasetMetric(ds_train,\n",
        "                                        unprivileged_groups = unpriv,\n",
        "                                        privileged_groups = priv)\n",
        "\n",
        "explainer_train = MetricTextExplainer(metric_train)\n",
        "\n",
        "# transpormed ds\n",
        "metric_transf_train = BinaryLabelDatasetMetric(RW_train,\n",
        "                                               unprivileged_groups=unpriv,\n",
        "                                               privileged_groups=priv)\n",
        "\n",
        "explainer_transf_train = MetricTextExplainer(metric_transf_train)"
      ],
      "metadata": {
        "id": "cuAXatUVvHKF"
      },
      "execution_count": 39,
      "outputs": []
    },
    {
      "cell_type": "code",
      "source": [
        "# refit rfc model & get metrics\n",
        "X_train = RW_train.features\n",
        "y_train = RW_train.labels.ravel()\n",
        "w_train = RW_train.instance_weights\n",
        "\n",
        "X_test = ds_test.features\n",
        "y_test = ds_test.labels.ravel()"
      ],
      "metadata": {
        "id": "r02kb1_j1DFN"
      },
      "execution_count": 49,
      "outputs": []
    },
    {
      "cell_type": "markdown",
      "source": [
        "###### evaluations"
      ],
      "metadata": {
        "id": "r_JCdbNYOX06"
      }
    },
    {
      "cell_type": "code",
      "source": [
        "# test models with reweighted data\n",
        "fig, axes = plt.subplots(nrows=1, ncols=2, figsize=(8, 4))\n",
        "\n",
        "for cls, ax in zip(classifiers, axes.flatten()):\n",
        "    dataset = RW_train\n",
        "    cls.fit(dataset.features, dataset.labels.ravel(), sample_weight = dataset.instance_weights)\n",
        "    \n",
        "    plot_confusion_matrix(cls, \n",
        "                          X_test, \n",
        "                          y_test, \n",
        "                          ax=ax, \n",
        "                          cmap='YlGnBu')\n",
        "    ax.title.set_text(type(cls).__name__)\n",
        "\n",
        "plt.tight_layout()\n",
        "plt.show()"
      ],
      "metadata": {
        "colab": {
          "base_uri": "https://localhost:8080/",
          "height": 473
        },
        "id": "hoQDEH_uMMTe",
        "outputId": "18a986bb-3051-459b-8f5f-94c263f1223b"
      },
      "execution_count": 41,
      "outputs": [
        {
          "output_type": "stream",
          "name": "stderr",
          "text": [
            "lbfgs failed to converge (status=1):\n",
            "STOP: TOTAL NO. of ITERATIONS REACHED LIMIT.\n",
            "\n",
            "Increase the number of iterations (max_iter) or scale the data as shown in:\n",
            "    https://scikit-learn.org/stable/modules/preprocessing.html\n",
            "Please also refer to the documentation for alternative solver options:\n",
            "    https://scikit-learn.org/stable/modules/linear_model.html#logistic-regression\n",
            "Function plot_confusion_matrix is deprecated; Function `plot_confusion_matrix` is deprecated in 1.0 and will be removed in 1.2. Use one of the class methods: ConfusionMatrixDisplay.from_predictions or ConfusionMatrixDisplay.from_estimator.\n",
            "Function plot_confusion_matrix is deprecated; Function `plot_confusion_matrix` is deprecated in 1.0 and will be removed in 1.2. Use one of the class methods: ConfusionMatrixDisplay.from_predictions or ConfusionMatrixDisplay.from_estimator.\n"
          ]
        },
        {
          "output_type": "display_data",
          "data": {
            "text/plain": [
              "<Figure size 576x288 with 4 Axes>"
            ],
            "image/png": "[encoded data removed]"
          },
          "metadata": {
            "needs_background": "light"
          }
        }
      ]
    },
    {
      "cell_type": "code",
      "source": [
        "for cls in classifiers:\n",
        "  cls.fit(dataset.features, dataset.labels.ravel(), sample_weight = w_train)\n",
        "  y_pred = cls.predict(X_test)\n",
        "  \n",
        "  print(f'{cls}: {chr(10)} {classification_report(y_test, y_pred)}')"
      ],
      "metadata": {
        "id": "qcXJggyrNSxR",
        "colab": {
          "base_uri": "https://localhost:8080/",
          "height": 704
        },
        "outputId": "38951088-59f4-4fef-e76c-49706a4fccb1"
      },
      "execution_count": 42,
      "outputs": [
        {
          "output_type": "stream",
          "name": "stderr",
          "text": [
            "lbfgs failed to converge (status=1):\n",
            "STOP: TOTAL NO. of ITERATIONS REACHED LIMIT.\n",
            "\n",
            "Increase the number of iterations (max_iter) or scale the data as shown in:\n",
            "    https://scikit-learn.org/stable/modules/preprocessing.html\n",
            "Please also refer to the documentation for alternative solver options:\n",
            "    https://scikit-learn.org/stable/modules/linear_model.html#logistic-regression\n"
          ]
        },
        {
          "output_type": "stream",
          "name": "stdout",
          "text": [
            "LogisticRegression(C=1): \n",
            "               precision    recall  f1-score   support\n",
            "\n",
            "         0.0       0.91      0.95      0.93       215\n",
            "         1.0       0.89      0.82      0.85       110\n",
            "\n",
            "    accuracy                           0.90       325\n",
            "   macro avg       0.90      0.88      0.89       325\n",
            "weighted avg       0.90      0.90      0.90       325\n",
            "\n",
            "SVC(gamma=0.0526, probability=True): \n",
            "               precision    recall  f1-score   support\n",
            "\n",
            "         0.0       0.92      0.91      0.91       215\n",
            "         1.0       0.82      0.84      0.83       110\n",
            "\n",
            "    accuracy                           0.88       325\n",
            "   macro avg       0.87      0.87      0.87       325\n",
            "weighted avg       0.88      0.88      0.88       325\n",
            "\n"
          ]
        },
        {
          "output_type": "error",
          "ename": "TypeError",
          "evalue": "ignored",
          "traceback": [
            "\u001b[0;31m---------------------------------------------------------------------------\u001b[0m",
            "\u001b[0;31mTypeError\u001b[0m                                 Traceback (most recent call last)",
            "\u001b[0;32m<ipython-input-42-9809640dc8ee>\u001b[0m in \u001b[0;36m<module>\u001b[0;34m()\u001b[0m\n\u001b[1;32m      1\u001b[0m \u001b[0;32mfor\u001b[0m \u001b[0mcls\u001b[0m \u001b[0;32min\u001b[0m \u001b[0mclassifiers\u001b[0m\u001b[0;34m:\u001b[0m\u001b[0;34m\u001b[0m\u001b[0;34m\u001b[0m\u001b[0m\n\u001b[0;32m----> 2\u001b[0;31m   \u001b[0mcls\u001b[0m\u001b[0;34m.\u001b[0m\u001b[0mfit\u001b[0m\u001b[0;34m(\u001b[0m\u001b[0mdataset\u001b[0m\u001b[0;34m.\u001b[0m\u001b[0mfeatures\u001b[0m\u001b[0;34m,\u001b[0m \u001b[0mdataset\u001b[0m\u001b[0;34m.\u001b[0m\u001b[0mlabels\u001b[0m\u001b[0;34m.\u001b[0m\u001b[0mravel\u001b[0m\u001b[0;34m(\u001b[0m\u001b[0;34m)\u001b[0m\u001b[0;34m,\u001b[0m \u001b[0msample_weight\u001b[0m \u001b[0;34m=\u001b[0m \u001b[0mw_train\u001b[0m\u001b[0;34m)\u001b[0m\u001b[0;34m\u001b[0m\u001b[0;34m\u001b[0m\u001b[0m\n\u001b[0m\u001b[1;32m      3\u001b[0m   \u001b[0my_pred\u001b[0m \u001b[0;34m=\u001b[0m \u001b[0mcls\u001b[0m\u001b[0;34m.\u001b[0m\u001b[0mpredict\u001b[0m\u001b[0;34m(\u001b[0m\u001b[0mX_test\u001b[0m\u001b[0;34m)\u001b[0m\u001b[0;34m\u001b[0m\u001b[0;34m\u001b[0m\u001b[0m\n\u001b[1;32m      4\u001b[0m \u001b[0;34m\u001b[0m\u001b[0m\n\u001b[1;32m      5\u001b[0m   \u001b[0mprint\u001b[0m\u001b[0;34m(\u001b[0m\u001b[0;34mf'{cls}: {chr(10)} {classification_report(y_test, y_pred)}'\u001b[0m\u001b[0;34m)\u001b[0m\u001b[0;34m\u001b[0m\u001b[0;34m\u001b[0m\u001b[0m\n",
            "\u001b[0;31mTypeError\u001b[0m: fit() got an unexpected keyword argument 'sample_weight'"
          ]
        }
      ]
    },
    {
      "cell_type": "markdown",
      "source": [
        "###### fairness evaluations"
      ],
      "metadata": {
        "id": "d-6CDSP_Ob2M"
      }
    },
    {
      "cell_type": "code",
      "source": [
        "# define test \n",
        "ds_test_pred = ds_test.copy(deepcopy=True)"
      ],
      "metadata": {
        "id": "1kOnsSj5E77j"
      },
      "execution_count": 43,
      "outputs": []
    },
    {
      "cell_type": "code",
      "source": [
        "for cls in classifiers:\n",
        "  dataset = RW_train\n",
        "  cls.fit(dataset.features, dataset.labels.ravel(), sample_weight = dataset.instance_weights)\n",
        "  y_pred = cls.predict(X_test)\n",
        "  \n",
        "  # scores on test set\n",
        "  ds_test_pred.scores = cls.predict_proba(X_test)[:1]\n",
        "\n",
        "  # predictions (0 or 1) on test set\n",
        "  y_train_pred = cls.predict(X_train)\n",
        "  test_preds = (y_pred >= np.mean(y_train)) * 1\n",
        "\n",
        "  models_dict = {\"mitigated_pre-processing\": (test_preds, y_pred)}\n",
        "\n",
        "  print(f'Gender:{chr(10)}{cls}: {chr(10)} {get_metrics_df(models_dict, y_test, gender)} {chr(10)}')\n",
        "  print(f'Gender:{chr(10)}{cls}: {chr(10)} {metric_frame (gender)} {chr(10)}') \n",
        "\n",
        "\n",
        "  mf1 = MetricFrame(metrics=metrics,\n",
        "                    y_true=y_test,\n",
        "                    y_pred=y_pred,\n",
        "                    sensitive_features=gender)\n",
        "\n",
        "# The disaggregated metrics are stored in a pandas Series mf1.by_group:\n",
        "  print(f\"{cls}:\\n {mf1.by_group}\\n\")\n",
        "  print(f\"{cls} difference:\\n {mf1.difference(method='between_groups')}\\n\")\n",
        "\n",
        "\n",
        "\n",
        "  # visualize mitigated\n",
        "  mf1.by_group.plot(kind=\"bar\",\n",
        "                #   ylim=[0, 1],\n",
        "                    subplots=True,\n",
        "                    layout=[3, 3],\n",
        "                    legend=False,\n",
        "                    figsize=[12, 8],\n",
        "                    title=f'Show all metrics WESAD - reweighed - {cls}',\n",
        "                    )"
      ],
      "metadata": {
        "id": "wS_RSJNEjnzU",
        "colab": {
          "base_uri": "https://localhost:8080/",
          "height": 1000
        },
        "outputId": "191977dc-37d9-450e-d7ac-7a97f87dd9a8"
      },
      "execution_count": 51,
      "outputs": [
        {
          "output_type": "stream",
          "name": "stderr",
          "text": [
            "lbfgs failed to converge (status=1):\n",
            "STOP: TOTAL NO. of ITERATIONS REACHED LIMIT.\n",
            "\n",
            "Increase the number of iterations (max_iter) or scale the data as shown in:\n",
            "    https://scikit-learn.org/stable/modules/preprocessing.html\n",
            "Please also refer to the documentation for alternative solver options:\n",
            "    https://scikit-learn.org/stable/modules/linear_model.html#logistic-regression\n",
            "You have provided 'metrics', 'y_true', 'y_pred' as positional arguments. Please pass them as keyword arguments. From version 0.10.0 passing them as positional arguments will result in an error.\n"
          ]
        },
        {
          "output_type": "stream",
          "name": "stdout",
          "text": [
            "Gender:\n",
            "LogisticRegression(C=1): \n",
            "                                mitigated_pre-processing\n",
            "Equalized_odds_difference                      0.016211\n",
            "False negative rate difference                 0.009995\n",
            "Balanced error rate difference                 0.003108\n",
            " ------                                                \n",
            "Demographic parity difference                  0.004482\n",
            "  ------                                               \n",
            "Overall AUC                                     0.88351\n",
            "AUC difference                                 0.003108 \n",
            "\n",
            "Gender:\n",
            "LogisticRegression(C=1): \n",
            "              FPR       FNR       TPR       TNR\n",
            "gender                                        \n",
            "0       0.047619  0.183908  0.816092  0.952381\n",
            "1        0.06383  0.173913  0.826087   0.93617 \n",
            "\n",
            "LogisticRegression(C=1):\n",
            "         accuracy false positive rate false negative rate selection rate count  \\\n",
            "gender                                                                          \n",
            "0       0.905882            0.047619            0.183908       0.309804   255   \n",
            "1            0.9             0.06383            0.173913       0.314286    70   \n",
            "\n",
            "       balanced error rate  \n",
            "gender                      \n",
            "0                 0.884236  \n",
            "1                 0.881129  \n",
            "\n",
            "LogisticRegression(C=1) difference:\n",
            " accuracy               0.005882\n",
            "false positive rate    0.016211\n",
            "false negative rate    0.009995\n",
            "selection rate         0.004482\n",
            "count                       185\n",
            "balanced error rate    0.003108\n",
            "dtype: object\n",
            "\n",
            "Gender:\n",
            "SVC(gamma=0.0526, probability=True): \n",
            "                                mitigated_pre-processing\n",
            "Equalized_odds_difference                      0.096952\n",
            "False negative rate difference                 0.096952\n",
            "Balanced error rate difference                 0.039927\n",
            " ------                                                \n",
            "Demographic parity difference                  0.034174\n",
            "  ------                                               \n",
            "Overall AUC                                     0.87167\n",
            "AUC difference                                 0.039927 \n",
            "\n",
            "Gender:\n",
            "SVC(gamma=0.0526, probability=True): \n",
            "              FPR       FNR       TPR       TNR\n",
            "gender                                        \n",
            "0       0.089286  0.183908  0.816092  0.910714\n",
            "1       0.106383  0.086957  0.913043  0.893617 \n",
            "\n",
            "SVC(gamma=0.0526, probability=True):\n",
            "         accuracy false positive rate false negative rate selection rate count  \\\n",
            "gender                                                                          \n",
            "0       0.878431            0.089286            0.183908       0.337255   255   \n",
            "1            0.9            0.106383            0.086957       0.371429    70   \n",
            "\n",
            "       balanced error rate  \n",
            "gender                      \n",
            "0                 0.863403  \n",
            "1                  0.90333  \n",
            "\n",
            "SVC(gamma=0.0526, probability=True) difference:\n",
            " accuracy               0.021569\n",
            "false positive rate    0.017097\n",
            "false negative rate    0.096952\n",
            "selection rate         0.034174\n",
            "count                       185\n",
            "balanced error rate    0.039927\n",
            "dtype: object\n",
            "\n"
          ]
        },
        {
          "output_type": "stream",
          "name": "stderr",
          "text": [
            "You have provided 'metrics', 'y_true', 'y_pred' as positional arguments. Please pass them as keyword arguments. From version 0.10.0 passing them as positional arguments will result in an error.\n"
          ]
        },
        {
          "output_type": "error",
          "ename": "TypeError",
          "evalue": "ignored",
          "traceback": [
            "\u001b[0;31m---------------------------------------------------------------------------\u001b[0m",
            "\u001b[0;31mTypeError\u001b[0m                                 Traceback (most recent call last)",
            "\u001b[0;32m<ipython-input-51-0bf6ce3b1d50>\u001b[0m in \u001b[0;36m<module>\u001b[0;34m()\u001b[0m\n\u001b[1;32m      1\u001b[0m \u001b[0;32mfor\u001b[0m \u001b[0mcls\u001b[0m \u001b[0;32min\u001b[0m \u001b[0mclassifiers\u001b[0m\u001b[0;34m:\u001b[0m\u001b[0;34m\u001b[0m\u001b[0;34m\u001b[0m\u001b[0m\n\u001b[1;32m      2\u001b[0m   \u001b[0mdataset\u001b[0m \u001b[0;34m=\u001b[0m \u001b[0mRW_train\u001b[0m\u001b[0;34m\u001b[0m\u001b[0;34m\u001b[0m\u001b[0m\n\u001b[0;32m----> 3\u001b[0;31m   \u001b[0mcls\u001b[0m\u001b[0;34m.\u001b[0m\u001b[0mfit\u001b[0m\u001b[0;34m(\u001b[0m\u001b[0mdataset\u001b[0m\u001b[0;34m.\u001b[0m\u001b[0mfeatures\u001b[0m\u001b[0;34m,\u001b[0m \u001b[0mdataset\u001b[0m\u001b[0;34m.\u001b[0m\u001b[0mlabels\u001b[0m\u001b[0;34m.\u001b[0m\u001b[0mravel\u001b[0m\u001b[0;34m(\u001b[0m\u001b[0;34m)\u001b[0m\u001b[0;34m,\u001b[0m \u001b[0msample_weight\u001b[0m \u001b[0;34m=\u001b[0m \u001b[0mdataset\u001b[0m\u001b[0;34m.\u001b[0m\u001b[0minstance_weights\u001b[0m\u001b[0;34m)\u001b[0m\u001b[0;34m\u001b[0m\u001b[0;34m\u001b[0m\u001b[0m\n\u001b[0m\u001b[1;32m      4\u001b[0m   \u001b[0my_pred\u001b[0m \u001b[0;34m=\u001b[0m \u001b[0mcls\u001b[0m\u001b[0;34m.\u001b[0m\u001b[0mpredict\u001b[0m\u001b[0;34m(\u001b[0m\u001b[0mX_test\u001b[0m\u001b[0;34m)\u001b[0m\u001b[0;34m\u001b[0m\u001b[0;34m\u001b[0m\u001b[0m\n\u001b[1;32m      5\u001b[0m \u001b[0;34m\u001b[0m\u001b[0m\n",
            "\u001b[0;31mTypeError\u001b[0m: fit() got an unexpected keyword argument 'sample_weight'"
          ]
        },
        {
          "output_type": "display_data",
          "data": {
            "text/plain": [
              "<Figure size 864x576 with 9 Axes>"
            ],
            "image/png": "[encoded data removed]"
          },
          "metadata": {
            "needs_background": "light"
          }
        },
        {
          "output_type": "display_data",
          "data": {
            "text/plain": [
              "<Figure size 864x576 with 9 Axes>"
            ],
            "image/png": "[encoded data removed]"
          },
          "metadata": {
            "needs_background": "light"
          }
        }
      ]
    },
    {
      "cell_type": "markdown",
      "source": [
        "### Fair learn - post processign methods -- wrappers\n",
        "\n"
      ],
      "metadata": {
        "id": "NPQBrt0BBtH9"
      }
    },
    {
      "cell_type": "code",
      "source": [
        "# set test & train data & defining age as sensitive attribute - UNAWARE\n",
        "\n",
        "X = df.drop(columns=['gender', 'age', 'label', 'height', 'weight'])\n",
        "y = df['label']\n",
        "\n",
        "A = df[['gender']]\n",
        "\n",
        "# for fairnes measures (inlc. A for group classification, drop age to make it unaware to other senstive attributes (fairnes through unawarenes)) - AGE \n",
        "X_train, X_test, y_train, y_test, A_train, A_test, Gender_str_train, Gender_str_test = train_test_split(\n",
        "    X, \n",
        "    y, \n",
        "    A, \n",
        "    Gender_str,\n",
        "    test_size = 0.33, \n",
        "    random_state=42)\n"
      ],
      "metadata": {
        "id": "xszIwx4z4BCN"
      },
      "execution_count": 32,
      "outputs": []
    },
    {
      "cell_type": "markdown",
      "source": [
        "#### 3. ExponentiatedGradient - reduction (fair learn)"
      ],
      "metadata": {
        "id": "2gTxoeNgn1Jx"
      }
    },
    {
      "cell_type": "code",
      "source": [
        "for cls in classifiers:\n",
        "  expgrad_est = ExponentiatedGradient(estimator=cls,\n",
        "                                    constraints=ErrorRateParity(difference_bound=0.01)) \n",
        "  \n",
        "  expgrad_est.fit(X_train, y_train, sensitive_features=A_train)\n",
        "  \n",
        "  y_pred_reductions = expgrad_est.predict(X_test, random_state=42)\n",
        "  \n",
        "  mf_eg =  MetricFrame(metrics=metrics,\n",
        "                                       y_true=y_test,\n",
        "                                       y_pred=y_pred_reductions,\n",
        "                                       sensitive_features=A_test\n",
        "                                       ) \n",
        "  \n",
        "  df_results = pd.concat([mf_eg.by_group],\n",
        "                          keys=['ExponentiatedGradient'],\n",
        "                          axis=1)\n",
        "  \n",
        "  print (f'{cls}:{chr(10)} {df_results}{chr(10)}')\n",
        "  print(f\"{cls} difference:\\n {mf_eg.difference(method='between_groups')}\\n\")\n",
        "\n",
        "\n",
        "  # visualize mitigated\n",
        "  mf_eg.by_group.plot(\n",
        "      kind=\"bar\",\n",
        "  #    ylim=[0, 1],\n",
        "      subplots=True,\n",
        "      layout=[3, 3],\n",
        "      legend=False,\n",
        "      figsize=[12, 8],\n",
        "      title=f'Show all metrics WESAD - exponentiated gradiant - {cls}',\n",
        "  )\n",
        "\n",
        "\n",
        "\n",
        "  y_train_pred = cls.predict(X_train)\n",
        "  test_preds = (y_pred_reductions >= np.mean(y_train)) * 1\n",
        "\n",
        "  models_dict = {\"mitigated_pre-processing\": (test_preds, y_pred)}\n",
        "\n",
        "  print(f':{chr(10)}{cls}: {chr(10)} {get_metrics_df(models_dict, y_test, A_test)} {chr(10)}') "
      ],
      "metadata": {
        "id": "IiK-YEdgyDCm",
        "colab": {
          "base_uri": "https://localhost:8080/",
          "height": 1000
        },
        "outputId": "23d4ee84-fe03-4cc1-9ec9-ec78111e2846"
      },
      "execution_count": 33,
      "outputs": [
        {
          "output_type": "stream",
          "name": "stderr",
          "text": [
            "Using the level keyword in DataFrame and Series aggregations is deprecated and will be removed in a future version. Use groupby instead. df.sum(level=1) should use df.groupby(level=1).sum().\n",
            "lbfgs failed to converge (status=1):\n",
            "STOP: TOTAL NO. of ITERATIONS REACHED LIMIT.\n",
            "\n",
            "Increase the number of iterations (max_iter) or scale the data as shown in:\n",
            "    https://scikit-learn.org/stable/modules/preprocessing.html\n",
            "Please also refer to the documentation for alternative solver options:\n",
            "    https://scikit-learn.org/stable/modules/linear_model.html#logistic-regression\n",
            "Using the level keyword in DataFrame and Series aggregations is deprecated and will be removed in a future version. Use groupby instead. df.sum(level=1) should use df.groupby(level=1).sum().\n",
            "lbfgs failed to converge (status=1):\n",
            "STOP: TOTAL NO. of ITERATIONS REACHED LIMIT.\n",
            "\n",
            "Increase the number of iterations (max_iter) or scale the data as shown in:\n",
            "    https://scikit-learn.org/stable/modules/preprocessing.html\n",
            "Please also refer to the documentation for alternative solver options:\n",
            "    https://scikit-learn.org/stable/modules/linear_model.html#logistic-regression\n",
            "Using the level keyword in DataFrame and Series aggregations is deprecated and will be removed in a future version. Use groupby instead. df.sum(level=1) should use df.groupby(level=1).sum().\n",
            "lbfgs failed to converge (status=1):\n",
            "STOP: TOTAL NO. of ITERATIONS REACHED LIMIT.\n",
            "\n",
            "Increase the number of iterations (max_iter) or scale the data as shown in:\n",
            "    https://scikit-learn.org/stable/modules/preprocessing.html\n",
            "Please also refer to the documentation for alternative solver options:\n",
            "    https://scikit-learn.org/stable/modules/linear_model.html#logistic-regression\n",
            "Using the level keyword in DataFrame and Series aggregations is deprecated and will be removed in a future version. Use groupby instead. df.sum(level=1) should use df.groupby(level=1).sum().\n",
            "lbfgs failed to converge (status=1):\n",
            "STOP: TOTAL NO. of ITERATIONS REACHED LIMIT.\n",
            "\n",
            "Increase the number of iterations (max_iter) or scale the data as shown in:\n",
            "    https://scikit-learn.org/stable/modules/preprocessing.html\n",
            "Please also refer to the documentation for alternative solver options:\n",
            "    https://scikit-learn.org/stable/modules/linear_model.html#logistic-regression\n",
            "Using the level keyword in DataFrame and Series aggregations is deprecated and will be removed in a future version. Use groupby instead. df.sum(level=1) should use df.groupby(level=1).sum().\n",
            "lbfgs failed to converge (status=1):\n",
            "STOP: TOTAL NO. of ITERATIONS REACHED LIMIT.\n",
            "\n",
            "Increase the number of iterations (max_iter) or scale the data as shown in:\n",
            "    https://scikit-learn.org/stable/modules/preprocessing.html\n",
            "Please also refer to the documentation for alternative solver options:\n",
            "    https://scikit-learn.org/stable/modules/linear_model.html#logistic-regression\n",
            "Using the level keyword in DataFrame and Series aggregations is deprecated and will be removed in a future version. Use groupby instead. df.sum(level=1) should use df.groupby(level=1).sum().\n",
            "lbfgs failed to converge (status=1):\n",
            "STOP: TOTAL NO. of ITERATIONS REACHED LIMIT.\n",
            "\n",
            "Increase the number of iterations (max_iter) or scale the data as shown in:\n",
            "    https://scikit-learn.org/stable/modules/preprocessing.html\n",
            "Please also refer to the documentation for alternative solver options:\n",
            "    https://scikit-learn.org/stable/modules/linear_model.html#logistic-regression\n",
            "Using the level keyword in DataFrame and Series aggregations is deprecated and will be removed in a future version. Use groupby instead. df.sum(level=1) should use df.groupby(level=1).sum().\n",
            "lbfgs failed to converge (status=1):\n",
            "STOP: TOTAL NO. of ITERATIONS REACHED LIMIT.\n",
            "\n",
            "Increase the number of iterations (max_iter) or scale the data as shown in:\n",
            "    https://scikit-learn.org/stable/modules/preprocessing.html\n",
            "Please also refer to the documentation for alternative solver options:\n",
            "    https://scikit-learn.org/stable/modules/linear_model.html#logistic-regression\n",
            "Using the level keyword in DataFrame and Series aggregations is deprecated and will be removed in a future version. Use groupby instead. df.sum(level=1) should use df.groupby(level=1).sum().\n",
            "lbfgs failed to converge (status=1):\n",
            "STOP: TOTAL NO. of ITERATIONS REACHED LIMIT.\n",
            "\n",
            "Increase the number of iterations (max_iter) or scale the data as shown in:\n",
            "    https://scikit-learn.org/stable/modules/preprocessing.html\n",
            "Please also refer to the documentation for alternative solver options:\n",
            "    https://scikit-learn.org/stable/modules/linear_model.html#logistic-regression\n",
            "Using the level keyword in DataFrame and Series aggregations is deprecated and will be removed in a future version. Use groupby instead. df.sum(level=1) should use df.groupby(level=1).sum().\n",
            "lbfgs failed to converge (status=1):\n",
            "STOP: TOTAL NO. of ITERATIONS REACHED LIMIT.\n",
            "\n",
            "Increase the number of iterations (max_iter) or scale the data as shown in:\n",
            "    https://scikit-learn.org/stable/modules/preprocessing.html\n",
            "Please also refer to the documentation for alternative solver options:\n",
            "    https://scikit-learn.org/stable/modules/linear_model.html#logistic-regression\n",
            "Using the level keyword in DataFrame and Series aggregations is deprecated and will be removed in a future version. Use groupby instead. df.sum(level=1) should use df.groupby(level=1).sum().\n",
            "lbfgs failed to converge (status=1):\n",
            "STOP: TOTAL NO. of ITERATIONS REACHED LIMIT.\n",
            "\n",
            "Increase the number of iterations (max_iter) or scale the data as shown in:\n",
            "    https://scikit-learn.org/stable/modules/preprocessing.html\n",
            "Please also refer to the documentation for alternative solver options:\n",
            "    https://scikit-learn.org/stable/modules/linear_model.html#logistic-regression\n",
            "Using the level keyword in DataFrame and Series aggregations is deprecated and will be removed in a future version. Use groupby instead. df.sum(level=1) should use df.groupby(level=1).sum().\n",
            "lbfgs failed to converge (status=1):\n",
            "STOP: TOTAL NO. of ITERATIONS REACHED LIMIT.\n",
            "\n",
            "Increase the number of iterations (max_iter) or scale the data as shown in:\n",
            "    https://scikit-learn.org/stable/modules/preprocessing.html\n",
            "Please also refer to the documentation for alternative solver options:\n",
            "    https://scikit-learn.org/stable/modules/linear_model.html#logistic-regression\n",
            "Using the level keyword in DataFrame and Series aggregations is deprecated and will be removed in a future version. Use groupby instead. df.sum(level=1) should use df.groupby(level=1).sum().\n",
            "lbfgs failed to converge (status=1):\n",
            "STOP: TOTAL NO. of ITERATIONS REACHED LIMIT.\n",
            "\n",
            "Increase the number of iterations (max_iter) or scale the data as shown in:\n",
            "    https://scikit-learn.org/stable/modules/preprocessing.html\n",
            "Please also refer to the documentation for alternative solver options:\n",
            "    https://scikit-learn.org/stable/modules/linear_model.html#logistic-regression\n",
            "Using the level keyword in DataFrame and Series aggregations is deprecated and will be removed in a future version. Use groupby instead. df.sum(level=1) should use df.groupby(level=1).sum().\n",
            "lbfgs failed to converge (status=1):\n",
            "STOP: TOTAL NO. of ITERATIONS REACHED LIMIT.\n",
            "\n",
            "Increase the number of iterations (max_iter) or scale the data as shown in:\n",
            "    https://scikit-learn.org/stable/modules/preprocessing.html\n",
            "Please also refer to the documentation for alternative solver options:\n",
            "    https://scikit-learn.org/stable/modules/linear_model.html#logistic-regression\n",
            "Using the level keyword in DataFrame and Series aggregations is deprecated and will be removed in a future version. Use groupby instead. df.sum(level=1) should use df.groupby(level=1).sum().\n",
            "lbfgs failed to converge (status=1):\n",
            "STOP: TOTAL NO. of ITERATIONS REACHED LIMIT.\n",
            "\n",
            "Increase the number of iterations (max_iter) or scale the data as shown in:\n",
            "    https://scikit-learn.org/stable/modules/preprocessing.html\n",
            "Please also refer to the documentation for alternative solver options:\n",
            "    https://scikit-learn.org/stable/modules/linear_model.html#logistic-regression\n",
            "Using the level keyword in DataFrame and Series aggregations is deprecated and will be removed in a future version. Use groupby instead. df.sum(level=1) should use df.groupby(level=1).sum().\n",
            "lbfgs failed to converge (status=1):\n",
            "STOP: TOTAL NO. of ITERATIONS REACHED LIMIT.\n",
            "\n",
            "Increase the number of iterations (max_iter) or scale the data as shown in:\n",
            "    https://scikit-learn.org/stable/modules/preprocessing.html\n",
            "Please also refer to the documentation for alternative solver options:\n",
            "    https://scikit-learn.org/stable/modules/linear_model.html#logistic-regression\n",
            "Using the level keyword in DataFrame and Series aggregations is deprecated and will be removed in a future version. Use groupby instead. df.sum(level=1) should use df.groupby(level=1).sum().\n",
            "lbfgs failed to converge (status=1):\n",
            "STOP: TOTAL NO. of ITERATIONS REACHED LIMIT.\n",
            "\n",
            "Increase the number of iterations (max_iter) or scale the data as shown in:\n",
            "    https://scikit-learn.org/stable/modules/preprocessing.html\n",
            "Please also refer to the documentation for alternative solver options:\n",
            "    https://scikit-learn.org/stable/modules/linear_model.html#logistic-regression\n",
            "Using the level keyword in DataFrame and Series aggregations is deprecated and will be removed in a future version. Use groupby instead. df.sum(level=1) should use df.groupby(level=1).sum().\n",
            "lbfgs failed to converge (status=1):\n",
            "STOP: TOTAL NO. of ITERATIONS REACHED LIMIT.\n",
            "\n",
            "Increase the number of iterations (max_iter) or scale the data as shown in:\n",
            "    https://scikit-learn.org/stable/modules/preprocessing.html\n",
            "Please also refer to the documentation for alternative solver options:\n",
            "    https://scikit-learn.org/stable/modules/linear_model.html#logistic-regression\n",
            "Using the level keyword in DataFrame and Series aggregations is deprecated and will be removed in a future version. Use groupby instead. df.sum(level=1) should use df.groupby(level=1).sum().\n",
            "lbfgs failed to converge (status=1):\n",
            "STOP: TOTAL NO. of ITERATIONS REACHED LIMIT.\n",
            "\n",
            "Increase the number of iterations (max_iter) or scale the data as shown in:\n",
            "    https://scikit-learn.org/stable/modules/preprocessing.html\n",
            "Please also refer to the documentation for alternative solver options:\n",
            "    https://scikit-learn.org/stable/modules/linear_model.html#logistic-regression\n",
            "Using the level keyword in DataFrame and Series aggregations is deprecated and will be removed in a future version. Use groupby instead. df.sum(level=1) should use df.groupby(level=1).sum().\n",
            "lbfgs failed to converge (status=1):\n",
            "STOP: TOTAL NO. of ITERATIONS REACHED LIMIT.\n",
            "\n",
            "Increase the number of iterations (max_iter) or scale the data as shown in:\n",
            "    https://scikit-learn.org/stable/modules/preprocessing.html\n",
            "Please also refer to the documentation for alternative solver options:\n",
            "    https://scikit-learn.org/stable/modules/linear_model.html#logistic-regression\n",
            "Using the level keyword in DataFrame and Series aggregations is deprecated and will be removed in a future version. Use groupby instead. df.sum(level=1) should use df.groupby(level=1).sum().\n",
            "lbfgs failed to converge (status=1):\n",
            "STOP: TOTAL NO. of ITERATIONS REACHED LIMIT.\n",
            "\n",
            "Increase the number of iterations (max_iter) or scale the data as shown in:\n",
            "    https://scikit-learn.org/stable/modules/preprocessing.html\n",
            "Please also refer to the documentation for alternative solver options:\n",
            "    https://scikit-learn.org/stable/modules/linear_model.html#logistic-regression\n",
            "Using the level keyword in DataFrame and Series aggregations is deprecated and will be removed in a future version. Use groupby instead. df.sum(level=1) should use df.groupby(level=1).sum().\n",
            "lbfgs failed to converge (status=1):\n",
            "STOP: TOTAL NO. of ITERATIONS REACHED LIMIT.\n",
            "\n",
            "Increase the number of iterations (max_iter) or scale the data as shown in:\n",
            "    https://scikit-learn.org/stable/modules/preprocessing.html\n",
            "Please also refer to the documentation for alternative solver options:\n",
            "    https://scikit-learn.org/stable/modules/linear_model.html#logistic-regression\n",
            "Using the level keyword in DataFrame and Series aggregations is deprecated and will be removed in a future version. Use groupby instead. df.sum(level=1) should use df.groupby(level=1).sum().\n",
            "lbfgs failed to converge (status=1):\n",
            "STOP: TOTAL NO. of ITERATIONS REACHED LIMIT.\n",
            "\n",
            "Increase the number of iterations (max_iter) or scale the data as shown in:\n",
            "    https://scikit-learn.org/stable/modules/preprocessing.html\n",
            "Please also refer to the documentation for alternative solver options:\n",
            "    https://scikit-learn.org/stable/modules/linear_model.html#logistic-regression\n",
            "Using the level keyword in DataFrame and Series aggregations is deprecated and will be removed in a future version. Use groupby instead. df.sum(level=1) should use df.groupby(level=1).sum().\n",
            "lbfgs failed to converge (status=1):\n",
            "STOP: TOTAL NO. of ITERATIONS REACHED LIMIT.\n",
            "\n",
            "Increase the number of iterations (max_iter) or scale the data as shown in:\n",
            "    https://scikit-learn.org/stable/modules/preprocessing.html\n",
            "Please also refer to the documentation for alternative solver options:\n",
            "    https://scikit-learn.org/stable/modules/linear_model.html#logistic-regression\n",
            "Using the level keyword in DataFrame and Series aggregations is deprecated and will be removed in a future version. Use groupby instead. df.sum(level=1) should use df.groupby(level=1).sum().\n",
            "lbfgs failed to converge (status=1):\n",
            "STOP: TOTAL NO. of ITERATIONS REACHED LIMIT.\n",
            "\n",
            "Increase the number of iterations (max_iter) or scale the data as shown in:\n",
            "    https://scikit-learn.org/stable/modules/preprocessing.html\n",
            "Please also refer to the documentation for alternative solver options:\n",
            "    https://scikit-learn.org/stable/modules/linear_model.html#logistic-regression\n",
            "Using the level keyword in DataFrame and Series aggregations is deprecated and will be removed in a future version. Use groupby instead. df.sum(level=1) should use df.groupby(level=1).sum().\n",
            "lbfgs failed to converge (status=1):\n",
            "STOP: TOTAL NO. of ITERATIONS REACHED LIMIT.\n",
            "\n",
            "Increase the number of iterations (max_iter) or scale the data as shown in:\n",
            "    https://scikit-learn.org/stable/modules/preprocessing.html\n",
            "Please also refer to the documentation for alternative solver options:\n",
            "    https://scikit-learn.org/stable/modules/linear_model.html#logistic-regression\n",
            "Using the level keyword in DataFrame and Series aggregations is deprecated and will be removed in a future version. Use groupby instead. df.sum(level=1) should use df.groupby(level=1).sum().\n",
            "lbfgs failed to converge (status=1):\n",
            "STOP: TOTAL NO. of ITERATIONS REACHED LIMIT.\n",
            "\n",
            "Increase the number of iterations (max_iter) or scale the data as shown in:\n",
            "    https://scikit-learn.org/stable/modules/preprocessing.html\n",
            "Please also refer to the documentation for alternative solver options:\n",
            "    https://scikit-learn.org/stable/modules/linear_model.html#logistic-regression\n",
            "Using the level keyword in DataFrame and Series aggregations is deprecated and will be removed in a future version. Use groupby instead. df.sum(level=1) should use df.groupby(level=1).sum().\n",
            "lbfgs failed to converge (status=1):\n",
            "STOP: TOTAL NO. of ITERATIONS REACHED LIMIT.\n",
            "\n",
            "Increase the number of iterations (max_iter) or scale the data as shown in:\n",
            "    https://scikit-learn.org/stable/modules/preprocessing.html\n",
            "Please also refer to the documentation for alternative solver options:\n",
            "    https://scikit-learn.org/stable/modules/linear_model.html#logistic-regression\n",
            "Using the level keyword in DataFrame and Series aggregations is deprecated and will be removed in a future version. Use groupby instead. df.sum(level=1) should use df.groupby(level=1).sum().\n",
            "lbfgs failed to converge (status=1):\n",
            "STOP: TOTAL NO. of ITERATIONS REACHED LIMIT.\n",
            "\n",
            "Increase the number of iterations (max_iter) or scale the data as shown in:\n",
            "    https://scikit-learn.org/stable/modules/preprocessing.html\n",
            "Please also refer to the documentation for alternative solver options:\n",
            "    https://scikit-learn.org/stable/modules/linear_model.html#logistic-regression\n",
            "Using the level keyword in DataFrame and Series aggregations is deprecated and will be removed in a future version. Use groupby instead. df.sum(level=1) should use df.groupby(level=1).sum().\n",
            "lbfgs failed to converge (status=1):\n",
            "STOP: TOTAL NO. of ITERATIONS REACHED LIMIT.\n",
            "\n",
            "Increase the number of iterations (max_iter) or scale the data as shown in:\n",
            "    https://scikit-learn.org/stable/modules/preprocessing.html\n",
            "Please also refer to the documentation for alternative solver options:\n",
            "    https://scikit-learn.org/stable/modules/linear_model.html#logistic-regression\n",
            "Using the level keyword in DataFrame and Series aggregations is deprecated and will be removed in a future version. Use groupby instead. df.sum(level=1) should use df.groupby(level=1).sum().\n",
            "lbfgs failed to converge (status=1):\n",
            "STOP: TOTAL NO. of ITERATIONS REACHED LIMIT.\n",
            "\n",
            "Increase the number of iterations (max_iter) or scale the data as shown in:\n",
            "    https://scikit-learn.org/stable/modules/preprocessing.html\n",
            "Please also refer to the documentation for alternative solver options:\n",
            "    https://scikit-learn.org/stable/modules/linear_model.html#logistic-regression\n",
            "Using the level keyword in DataFrame and Series aggregations is deprecated and will be removed in a future version. Use groupby instead. df.sum(level=1) should use df.groupby(level=1).sum().\n",
            "lbfgs failed to converge (status=1):\n",
            "STOP: TOTAL NO. of ITERATIONS REACHED LIMIT.\n",
            "\n",
            "Increase the number of iterations (max_iter) or scale the data as shown in:\n",
            "    https://scikit-learn.org/stable/modules/preprocessing.html\n",
            "Please also refer to the documentation for alternative solver options:\n",
            "    https://scikit-learn.org/stable/modules/linear_model.html#logistic-regression\n",
            "Using the level keyword in DataFrame and Series aggregations is deprecated and will be removed in a future version. Use groupby instead. df.sum(level=1) should use df.groupby(level=1).sum().\n",
            "lbfgs failed to converge (status=1):\n",
            "STOP: TOTAL NO. of ITERATIONS REACHED LIMIT.\n",
            "\n",
            "Increase the number of iterations (max_iter) or scale the data as shown in:\n",
            "    https://scikit-learn.org/stable/modules/preprocessing.html\n",
            "Please also refer to the documentation for alternative solver options:\n",
            "    https://scikit-learn.org/stable/modules/linear_model.html#logistic-regression\n"
          ]
        },
        {
          "output_type": "stream",
          "name": "stdout",
          "text": [
            "LogisticRegression(C=1):\n",
            "        ExponentiatedGradient                                          \\\n",
            "                    accuracy false positive rate false negative rate   \n",
            "gender                                                                 \n",
            "0                   0.803922            0.146067            0.311688   \n",
            "1                   0.785714            0.027778            0.411765   \n",
            "\n",
            "                                                 \n",
            "       selection rate count balanced error rate  \n",
            "gender                                           \n",
            "0            0.309804   255            0.771122  \n",
            "1                 0.3    70            0.780229  \n",
            "\n",
            "LogisticRegression(C=1) difference:\n",
            " accuracy               0.018207\n",
            "false positive rate     0.11829\n",
            "false negative rate    0.100076\n",
            "selection rate         0.009804\n",
            "count                       185\n",
            "balanced error rate    0.009107\n",
            "dtype: object\n",
            "\n",
            ":\n",
            "LogisticRegression(C=1): \n",
            "                                mitigated_pre-processing\n",
            "Equalized_odds_difference                       0.11829\n",
            "False negative rate difference                 0.100076\n",
            "Balanced error rate difference                 0.009107\n",
            " ------                                                \n",
            "Demographic parity difference                  0.009804\n",
            "  ------                                               \n",
            "Overall AUC                                    0.555843\n",
            "AUC difference                                 0.000376 \n",
            "\n"
          ]
        },
        {
          "output_type": "stream",
          "name": "stderr",
          "text": [
            "Using the level keyword in DataFrame and Series aggregations is deprecated and will be removed in a future version. Use groupby instead. df.sum(level=1) should use df.groupby(level=1).sum().\n",
            "Using the level keyword in DataFrame and Series aggregations is deprecated and will be removed in a future version. Use groupby instead. df.sum(level=1) should use df.groupby(level=1).sum().\n",
            "Using the level keyword in DataFrame and Series aggregations is deprecated and will be removed in a future version. Use groupby instead. df.sum(level=1) should use df.groupby(level=1).sum().\n",
            "Using the level keyword in DataFrame and Series aggregations is deprecated and will be removed in a future version. Use groupby instead. df.sum(level=1) should use df.groupby(level=1).sum().\n",
            "Using the level keyword in DataFrame and Series aggregations is deprecated and will be removed in a future version. Use groupby instead. df.sum(level=1) should use df.groupby(level=1).sum().\n",
            "Using the level keyword in DataFrame and Series aggregations is deprecated and will be removed in a future version. Use groupby instead. df.sum(level=1) should use df.groupby(level=1).sum().\n",
            "Using the level keyword in DataFrame and Series aggregations is deprecated and will be removed in a future version. Use groupby instead. df.sum(level=1) should use df.groupby(level=1).sum().\n",
            "Using the level keyword in DataFrame and Series aggregations is deprecated and will be removed in a future version. Use groupby instead. df.sum(level=1) should use df.groupby(level=1).sum().\n",
            "Using the level keyword in DataFrame and Series aggregations is deprecated and will be removed in a future version. Use groupby instead. df.sum(level=1) should use df.groupby(level=1).sum().\n",
            "Using the level keyword in DataFrame and Series aggregations is deprecated and will be removed in a future version. Use groupby instead. df.sum(level=1) should use df.groupby(level=1).sum().\n",
            "Using the level keyword in DataFrame and Series aggregations is deprecated and will be removed in a future version. Use groupby instead. df.sum(level=1) should use df.groupby(level=1).sum().\n",
            "Using the level keyword in DataFrame and Series aggregations is deprecated and will be removed in a future version. Use groupby instead. df.sum(level=1) should use df.groupby(level=1).sum().\n",
            "Using the level keyword in DataFrame and Series aggregations is deprecated and will be removed in a future version. Use groupby instead. df.sum(level=1) should use df.groupby(level=1).sum().\n",
            "Using the level keyword in DataFrame and Series aggregations is deprecated and will be removed in a future version. Use groupby instead. df.sum(level=1) should use df.groupby(level=1).sum().\n",
            "Using the level keyword in DataFrame and Series aggregations is deprecated and will be removed in a future version. Use groupby instead. df.sum(level=1) should use df.groupby(level=1).sum().\n",
            "Using the level keyword in DataFrame and Series aggregations is deprecated and will be removed in a future version. Use groupby instead. df.sum(level=1) should use df.groupby(level=1).sum().\n",
            "Using the level keyword in DataFrame and Series aggregations is deprecated and will be removed in a future version. Use groupby instead. df.sum(level=1) should use df.groupby(level=1).sum().\n",
            "Using the level keyword in DataFrame and Series aggregations is deprecated and will be removed in a future version. Use groupby instead. df.sum(level=1) should use df.groupby(level=1).sum().\n",
            "Using the level keyword in DataFrame and Series aggregations is deprecated and will be removed in a future version. Use groupby instead. df.sum(level=1) should use df.groupby(level=1).sum().\n",
            "Using the level keyword in DataFrame and Series aggregations is deprecated and will be removed in a future version. Use groupby instead. df.sum(level=1) should use df.groupby(level=1).sum().\n",
            "Using the level keyword in DataFrame and Series aggregations is deprecated and will be removed in a future version. Use groupby instead. df.sum(level=1) should use df.groupby(level=1).sum().\n",
            "Using the level keyword in DataFrame and Series aggregations is deprecated and will be removed in a future version. Use groupby instead. df.sum(level=1) should use df.groupby(level=1).sum().\n",
            "Using the level keyword in DataFrame and Series aggregations is deprecated and will be removed in a future version. Use groupby instead. df.sum(level=1) should use df.groupby(level=1).sum().\n"
          ]
        },
        {
          "output_type": "stream",
          "name": "stdout",
          "text": [
            "SVC(gamma=0.0526, probability=True):\n",
            "        ExponentiatedGradient                                          \\\n",
            "                    accuracy false positive rate false negative rate   \n",
            "gender                                                                 \n",
            "0                   0.866667            0.129213            0.142857   \n",
            "1                   0.785714            0.111111            0.323529   \n",
            "\n",
            "                                                 \n",
            "       selection rate count balanced error rate  \n",
            "gender                                           \n",
            "0             0.34902   255            0.863965  \n",
            "1            0.385714    70             0.78268  \n",
            "\n",
            "SVC(gamma=0.0526, probability=True) difference:\n",
            " accuracy               0.080952\n",
            "false positive rate    0.018102\n",
            "false negative rate    0.180672\n",
            "selection rate         0.036695\n",
            "count                       185\n",
            "balanced error rate    0.081285\n",
            "dtype: object\n",
            "\n",
            ":\n",
            "SVC(gamma=0.0526, probability=True): \n",
            "                                mitigated_pre-processing\n",
            "Equalized_odds_difference                      0.180672\n",
            "False negative rate difference                 0.180672\n",
            "Balanced error rate difference                 0.081285\n",
            " ------                                                \n",
            "Demographic parity difference                  0.036695\n",
            "  ------                                               \n",
            "Overall AUC                                    0.555843\n",
            "AUC difference                                 0.000376 \n",
            "\n"
          ]
        },
        {
          "output_type": "stream",
          "name": "stderr",
          "text": [
            "Using the level keyword in DataFrame and Series aggregations is deprecated and will be removed in a future version. Use groupby instead. df.sum(level=1) should use df.groupby(level=1).sum().\n"
          ]
        },
        {
          "output_type": "error",
          "ename": "TypeError",
          "evalue": "ignored",
          "traceback": [
            "\u001b[0;31m---------------------------------------------------------------------------\u001b[0m",
            "\u001b[0;31mTypeError\u001b[0m                                 Traceback (most recent call last)",
            "\u001b[0;32m<ipython-input-33-15ba08d4aff1>\u001b[0m in \u001b[0;36m<module>\u001b[0;34m()\u001b[0m\n\u001b[1;32m      3\u001b[0m                                     constraints=ErrorRateParity(difference_bound=0.01)) \n\u001b[1;32m      4\u001b[0m \u001b[0;34m\u001b[0m\u001b[0m\n\u001b[0;32m----> 5\u001b[0;31m   \u001b[0mexpgrad_est\u001b[0m\u001b[0;34m.\u001b[0m\u001b[0mfit\u001b[0m\u001b[0;34m(\u001b[0m\u001b[0mX_train\u001b[0m\u001b[0;34m,\u001b[0m \u001b[0my_train\u001b[0m\u001b[0;34m,\u001b[0m \u001b[0msensitive_features\u001b[0m\u001b[0;34m=\u001b[0m\u001b[0mA_train\u001b[0m\u001b[0;34m)\u001b[0m\u001b[0;34m\u001b[0m\u001b[0;34m\u001b[0m\u001b[0m\n\u001b[0m\u001b[1;32m      6\u001b[0m \u001b[0;34m\u001b[0m\u001b[0m\n\u001b[1;32m      7\u001b[0m   \u001b[0my_pred_reductions\u001b[0m \u001b[0;34m=\u001b[0m \u001b[0mexpgrad_est\u001b[0m\u001b[0;34m.\u001b[0m\u001b[0mpredict\u001b[0m\u001b[0;34m(\u001b[0m\u001b[0mX_test\u001b[0m\u001b[0;34m,\u001b[0m \u001b[0mrandom_state\u001b[0m\u001b[0;34m=\u001b[0m\u001b[0;36m42\u001b[0m\u001b[0;34m)\u001b[0m\u001b[0;34m\u001b[0m\u001b[0;34m\u001b[0m\u001b[0m\n",
            "\u001b[0;32m/usr/local/lib/python3.7/dist-packages/fairlearn/reductions/_exponentiated_gradient/exponentiated_gradient.py\u001b[0m in \u001b[0;36mfit\u001b[0;34m(self, X, y, **kwargs)\u001b[0m\n\u001b[1;32m    108\u001b[0m \u001b[0;34m\u001b[0m\u001b[0m\n\u001b[1;32m    109\u001b[0m             \u001b[0;31m# select classifier according to best_h method\u001b[0m\u001b[0;34m\u001b[0m\u001b[0;34m\u001b[0m\u001b[0;34m\u001b[0m\u001b[0m\n\u001b[0;32m--> 110\u001b[0;31m             \u001b[0mh\u001b[0m\u001b[0;34m,\u001b[0m \u001b[0mh_idx\u001b[0m \u001b[0;34m=\u001b[0m \u001b[0mlagrangian\u001b[0m\u001b[0;34m.\u001b[0m\u001b[0mbest_h\u001b[0m\u001b[0;34m(\u001b[0m\u001b[0mlambda_vec\u001b[0m\u001b[0;34m)\u001b[0m\u001b[0;34m\u001b[0m\u001b[0;34m\u001b[0m\u001b[0m\n\u001b[0m\u001b[1;32m    111\u001b[0m \u001b[0;34m\u001b[0m\u001b[0m\n\u001b[1;32m    112\u001b[0m             \u001b[0;32mif\u001b[0m \u001b[0mt\u001b[0m \u001b[0;34m==\u001b[0m \u001b[0;36m0\u001b[0m\u001b[0;34m:\u001b[0m\u001b[0;34m\u001b[0m\u001b[0;34m\u001b[0m\u001b[0m\n",
            "\u001b[0;32m/usr/local/lib/python3.7/dist-packages/fairlearn/reductions/_exponentiated_gradient/_lagrangian.py\u001b[0m in \u001b[0;36mbest_h\u001b[0;34m(self, lambda_vec)\u001b[0m\n\u001b[1;32m    185\u001b[0m         \u001b[0mthe\u001b[0m \u001b[0mvector\u001b[0m \u001b[0mof\u001b[0m \u001b[0mLagrange\u001b[0m \u001b[0mmultipliers\u001b[0m\u001b[0;31m \u001b[0m\u001b[0;31m`\u001b[0m\u001b[0mlambda_vec\u001b[0m\u001b[0;31m`\u001b[0m\u001b[0;34m.\u001b[0m\u001b[0;34m\u001b[0m\u001b[0;34m\u001b[0m\u001b[0m\n\u001b[1;32m    186\u001b[0m         \"\"\"\n\u001b[0;32m--> 187\u001b[0;31m         \u001b[0mclassifier\u001b[0m \u001b[0;34m=\u001b[0m \u001b[0mself\u001b[0m\u001b[0;34m.\u001b[0m\u001b[0m_call_oracle\u001b[0m\u001b[0;34m(\u001b[0m\u001b[0mlambda_vec\u001b[0m\u001b[0;34m)\u001b[0m\u001b[0;34m\u001b[0m\u001b[0;34m\u001b[0m\u001b[0m\n\u001b[0m\u001b[1;32m    188\u001b[0m \u001b[0;34m\u001b[0m\u001b[0m\n\u001b[1;32m    189\u001b[0m         \u001b[0;32mdef\u001b[0m \u001b[0mh\u001b[0m\u001b[0;34m(\u001b[0m\u001b[0mX\u001b[0m\u001b[0;34m)\u001b[0m\u001b[0;34m:\u001b[0m\u001b[0;34m\u001b[0m\u001b[0;34m\u001b[0m\u001b[0m\n",
            "\u001b[0;32m/usr/local/lib/python3.7/dist-packages/fairlearn/reductions/_exponentiated_gradient/_lagrangian.py\u001b[0m in \u001b[0;36m_call_oracle\u001b[0;34m(self, lambda_vec)\u001b[0m\n\u001b[1;32m    173\u001b[0m \u001b[0;34m\u001b[0m\u001b[0m\n\u001b[1;32m    174\u001b[0m         \u001b[0moracle_call_start_time\u001b[0m \u001b[0;34m=\u001b[0m \u001b[0mtime\u001b[0m\u001b[0;34m(\u001b[0m\u001b[0;34m)\u001b[0m\u001b[0;34m\u001b[0m\u001b[0;34m\u001b[0m\u001b[0m\n\u001b[0;32m--> 175\u001b[0;31m         \u001b[0mestimator\u001b[0m\u001b[0;34m.\u001b[0m\u001b[0mfit\u001b[0m\u001b[0;34m(\u001b[0m\u001b[0mself\u001b[0m\u001b[0;34m.\u001b[0m\u001b[0mconstraints\u001b[0m\u001b[0;34m.\u001b[0m\u001b[0mX\u001b[0m\u001b[0;34m,\u001b[0m \u001b[0mredY\u001b[0m\u001b[0;34m,\u001b[0m \u001b[0;34m**\u001b[0m\u001b[0;34m{\u001b[0m\u001b[0mself\u001b[0m\u001b[0;34m.\u001b[0m\u001b[0msample_weight_name\u001b[0m\u001b[0;34m:\u001b[0m \u001b[0mredW\u001b[0m\u001b[0;34m}\u001b[0m\u001b[0;34m)\u001b[0m\u001b[0;34m\u001b[0m\u001b[0;34m\u001b[0m\u001b[0m\n\u001b[0m\u001b[1;32m    176\u001b[0m         \u001b[0mself\u001b[0m\u001b[0;34m.\u001b[0m\u001b[0moracle_execution_times\u001b[0m\u001b[0;34m.\u001b[0m\u001b[0mappend\u001b[0m\u001b[0;34m(\u001b[0m\u001b[0mtime\u001b[0m\u001b[0;34m(\u001b[0m\u001b[0;34m)\u001b[0m \u001b[0;34m-\u001b[0m \u001b[0moracle_call_start_time\u001b[0m\u001b[0;34m)\u001b[0m\u001b[0;34m\u001b[0m\u001b[0;34m\u001b[0m\u001b[0m\n\u001b[1;32m    177\u001b[0m         \u001b[0mself\u001b[0m\u001b[0;34m.\u001b[0m\u001b[0mn_oracle_calls\u001b[0m \u001b[0;34m+=\u001b[0m \u001b[0;36m1\u001b[0m\u001b[0;34m\u001b[0m\u001b[0;34m\u001b[0m\u001b[0m\n",
            "\u001b[0;31mTypeError\u001b[0m: fit() got an unexpected keyword argument 'sample_weight'"
          ]
        },
        {
          "output_type": "display_data",
          "data": {
            "text/plain": [
              "<Figure size 864x576 with 9 Axes>"
            ],
            "image/png": "[encoded data removed]"
          },
          "metadata": {
            "needs_background": "light"
          }
        },
        {
          "output_type": "display_data",
          "data": {
            "text/plain": [
              "<Figure size 864x576 with 9 Axes>"
            ],
            "image/png": "[encoded data removed]"
          },
          "metadata": {
            "needs_background": "light"
          }
        }
      ]
    },
    {
      "cell_type": "markdown",
      "source": [
        "#### 4. Thresholdoptimizer (fair learn - post processing)"
      ],
      "metadata": {
        "id": "PSX6PquRyG-v"
      }
    },
    {
      "cell_type": "markdown",
      "source": [
        "ThresholdOptimizer takes in an exisiting (possibly pre-fit) machine learning model whose predictions act as a scoring function and identifies a separate thrceshold for each group in order to optimize some specified objective metric (such as balanced accuracy) subject to specified fairness constraints (such as false negative rate parity). Thus, the resulting classifier is just a suitably thresholded version of the underlying machinelearning model."
      ],
      "metadata": {
        "id": "0gDoOpHZBtvB"
      }
    },
    {
      "cell_type": "code",
      "source": [
        "for cls in classifiers:\n",
        "    unmitigated_pipeline = Pipeline(steps=[(\"model\", cls)])\n",
        "\n",
        "    unmitigated_pipeline.fit(X_train, y_train)\n",
        "    \n",
        "    postprocess_est = ThresholdOptimizer(estimator=unmitigated_pipeline,\n",
        "                                        constraints=\"equalized_odds\",\n",
        "                                        objective=\"balanced_accuracy_score\",\n",
        "                                        prefit=True,\n",
        "                                        predict_method='predict_proba')\n",
        "    \n",
        "    postprocess_est.fit(X_train, y_train, sensitive_features=A_train) # change a test in train/ test sample\n",
        "\n",
        "    y_pred_postprocess = postprocess_est.predict(X_test, sensitive_features=A_test) # gender<>age\n",
        "\n",
        "    mf_to = MetricFrame(metrics=metrics,\n",
        "                                          y_true=y_test,\n",
        "                                          y_pred=y_pred_postprocess,\n",
        "                                          sensitive_features=A_test) # gender<>age\n",
        "    \n",
        "    df_results = pd.concat([mf_to.by_group],\n",
        "                            keys=['ThresholdOptimizer'],\n",
        "                            axis=1)\n",
        "\n",
        "    print (f'{cls}:{chr(10)} {df_results}{chr(10)}')\n",
        "\n",
        "    print(f\"{cls} difference:\\n {mf_to.difference(method='between_groups')}\\n\")\n",
        "    \n",
        "    y_train_pred = cls.predict(X_train)\n",
        "    test_preds = (y_pred_postprocess >= np.mean(y_train)) * 1\n",
        "\n",
        "    models_dict = {\"mitigated_pre-processing\": (test_preds, y_pred)}\n",
        "\n",
        "    print(f':{chr(10)}{cls}: {chr(10)} {get_metrics_df(models_dict, y_test, A_test)} {chr(10)}') # change age<> gender\n",
        "\n",
        "    # visualize mitigated\n",
        "    mf_to.by_group.plot(\n",
        "        kind=\"bar\",\n",
        "    #    ylim=[0, 1],\n",
        "        subplots=True,\n",
        "        layout=[3, 3],\n",
        "        legend=False,\n",
        "        figsize=[12, 8],\n",
        "        title=f'Show all metrics WESAD - thresholdoptimizer - {cls}',\n",
        "    )\n",
        "\n",
        "\n",
        "  "
      ],
      "metadata": {
        "id": "eX1oFDap6y4O",
        "colab": {
          "base_uri": "https://localhost:8080/",
          "height": 1000
        },
        "outputId": "44ff4a9e-d1b9-420a-bab2-e4bdf59e7891"
      },
      "execution_count": 31,
      "outputs": [
        {
          "output_type": "stream",
          "name": "stderr",
          "text": [
            "lbfgs failed to converge (status=1):\n",
            "STOP: TOTAL NO. of ITERATIONS REACHED LIMIT.\n",
            "\n",
            "Increase the number of iterations (max_iter) or scale the data as shown in:\n",
            "    https://scikit-learn.org/stable/modules/preprocessing.html\n",
            "Please also refer to the documentation for alternative solver options:\n",
            "    https://scikit-learn.org/stable/modules/linear_model.html#logistic-regression\n"
          ]
        },
        {
          "output_type": "stream",
          "name": "stdout",
          "text": [
            "LogisticRegression(C=1):\n",
            "        ThresholdOptimizer                                          \\\n",
            "                 accuracy false positive rate false negative rate   \n",
            "gender                                                              \n",
            "0                0.709804            0.393258            0.051948   \n",
            "1                0.714286            0.527778            0.029412   \n",
            "\n",
            "                                                 \n",
            "       selection rate count balanced error rate  \n",
            "gender                                           \n",
            "0            0.560784   255            0.777397  \n",
            "1            0.742857    70            0.721405  \n",
            "\n",
            "LogisticRegression(C=1) difference:\n",
            " accuracy               0.004482\n",
            "false positive rate    0.134519\n",
            "false negative rate    0.022536\n",
            "selection rate         0.182073\n",
            "count                       185\n",
            "balanced error rate    0.055992\n",
            "dtype: object\n",
            "\n",
            ":\n",
            "LogisticRegression(C=1): \n",
            "                                mitigated_pre-processing\n",
            "Equalized_odds_difference                      0.134519\n",
            "False negative rate difference                 0.022536\n",
            "Balanced error rate difference                 0.055992\n",
            " ------                                                \n",
            "Demographic parity difference                  0.182073\n",
            "  ------                                               \n",
            "Overall AUC                                    0.555843\n",
            "AUC difference                                 0.000376 \n",
            "\n",
            "SVC(gamma=0.0526, probability=True):\n",
            "        ThresholdOptimizer                                          \\\n",
            "                 accuracy false positive rate false negative rate   \n",
            "gender                                                              \n",
            "0                 0.87451             0.08427            0.220779   \n",
            "1                0.814286            0.166667            0.205882   \n",
            "\n",
            "                                                 \n",
            "       selection rate count balanced error rate  \n",
            "gender                                           \n",
            "0            0.294118   255            0.847476  \n",
            "1            0.471429    70            0.813725  \n",
            "\n",
            "SVC(gamma=0.0526, probability=True) difference:\n",
            " accuracy               0.060224\n",
            "false positive rate    0.082397\n",
            "false negative rate    0.014897\n",
            "selection rate         0.177311\n",
            "count                       185\n",
            "balanced error rate     0.03375\n",
            "dtype: object\n",
            "\n",
            ":\n",
            "SVC(gamma=0.0526, probability=True): \n",
            "                                mitigated_pre-processing\n",
            "Equalized_odds_difference                      0.082397\n",
            "False negative rate difference                 0.014897\n",
            "Balanced error rate difference                  0.03375\n",
            " ------                                                \n",
            "Demographic parity difference                  0.177311\n",
            "  ------                                               \n",
            "Overall AUC                                    0.555843\n",
            "AUC difference                                 0.000376 \n",
            "\n",
            "KNeighborsClassifier(n_neighbors=20):\n",
            "        ThresholdOptimizer                                          \\\n",
            "                 accuracy false positive rate false negative rate   \n",
            "gender                                                              \n",
            "0                0.721569            0.292135            0.246753   \n",
            "1                0.557143            0.472222            0.411765   \n",
            "\n",
            "                                                 \n",
            "       selection rate count balanced error rate  \n",
            "gender                                           \n",
            "0            0.431373   255            0.730556  \n",
            "1            0.528571    70            0.558007  \n",
            "\n",
            "KNeighborsClassifier(n_neighbors=20) difference:\n",
            " accuracy               0.164426\n",
            "false positive rate    0.180087\n",
            "false negative rate    0.165011\n",
            "selection rate         0.097199\n",
            "count                       185\n",
            "balanced error rate    0.172549\n",
            "dtype: object\n",
            "\n",
            ":\n",
            "KNeighborsClassifier(n_neighbors=20): \n",
            "                                mitigated_pre-processing\n",
            "Equalized_odds_difference                      0.180087\n",
            "False negative rate difference                 0.165011\n",
            "Balanced error rate difference                 0.172549\n",
            " ------                                                \n",
            "Demographic parity difference                  0.097199\n",
            "  ------                                               \n",
            "Overall AUC                                    0.555843\n",
            "AUC difference                                 0.000376 \n",
            "\n"
          ]
        },
        {
          "output_type": "display_data",
          "data": {
            "text/plain": [
              "<Figure size 864x576 with 9 Axes>"
            ],
            "image/png": "[encoded data removed]"
          },
          "metadata": {
            "needs_background": "light"
          }
        },
        {
          "output_type": "display_data",
          "data": {
            "text/plain": [
              "<Figure size 864x576 with 9 Axes>"
            ],
            "image/png": "[encoded data removed]"
          },
          "metadata": {
            "needs_background": "light"
          }
        },
        {
          "output_type": "display_data",
          "data": {
            "text/plain": [
              "<Figure size 864x576 with 9 Axes>"
            ],
            "image/png": "[encoded data removed]"
          },
          "metadata": {
            "needs_background": "light"
          }
        }
      ]
    }
  ],
  "metadata": {
    "colab": {
      "collapsed_sections": [
        "Vm-FuP7Wqx9F",
        "G0OplJsVq1Uf",
        "Qm0kRPE6IQ3U",
        "lOtqxcHmajJ4",
        "Xwa_Y3owA_CQ",
        "ed7f7mKMHwSM",
        "eGUJBAucemTQ",
        "h5MntdKYev6H",
        "mY9QOqzxfZOQ",
        "iNo2PK3_fcBf",
        "sf3-XjExIYIF",
        "djEADZF-Qwi1",
        "QClTGz2ADunB",
        "r_JCdbNYOX06",
        "NPQBrt0BBtH9",
        "2gTxoeNgn1Jx"
      ],
      "name": "WESAD - Debiasing Classification Algorithms 2.0 - GENDER.ipynb",
      "provenance": [],
      "mount_file_id": "1Xo5TrZHHPByGzAI0Kww6NF6Y-m8mjBla",
      "authorship_tag": "ABX9TyN7/z7KZ5bZH/WQlWWaazzi",
      "include_colab_link": true
    },
    "kernelspec": {
      "display_name": "Python 3",
      "name": "python3"
    },
    "language_info": {
      "name": "python"
    }
  },
  "nbformat": 4,
  "nbformat_minor": 0
}